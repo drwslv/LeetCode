{
 "cells": [
  {
   "cell_type": "markdown",
   "metadata": {},
   "source": [
    "# Notes"
   ]
  },
  {
   "cell_type": "markdown",
   "metadata": {},
   "source": [
    "## Depth-First Search (DFS)\n",
    "\n",
    "Three types: preorder, inorder, postorder\n",
    "\n",
    "General structure:\n",
    "\n",
    "* Handle the base case(s). Usually, an empty tree (node = null) is a base case.\n",
    "\n",
    "* Do some logic for the current node\n",
    "\n",
    "* Recursively call on the current node's children\n",
    "\n",
    "* Return the answer\n"
   ]
  },
  {
   "cell_type": "markdown",
   "metadata": {},
   "source": [
    "# Trees and Graphs\n",
    "\n"
   ]
  },
  {
   "cell_type": "code",
   "execution_count": 1,
   "metadata": {},
   "outputs": [],
   "source": [
    "from typing import List\n",
    "from typing import Optional"
   ]
  },
  {
   "cell_type": "markdown",
   "metadata": {},
   "source": [
    "## Class Example"
   ]
  },
  {
   "cell_type": "code",
   "execution_count": 3,
   "metadata": {},
   "outputs": [],
   "source": [
    "class TreeNode:\n",
    "    def __init__(self, val, left, right):\n",
    "        self.val = val\n",
    "        self.left = left\n",
    "        self.right = right"
   ]
  },
  {
   "cell_type": "markdown",
   "metadata": {},
   "source": [
    "## Creating a tree"
   ]
  },
  {
   "cell_type": "code",
   "execution_count": 5,
   "metadata": {},
   "outputs": [],
   "source": [
    "class TreeNode:\n",
    "    def __init__(self, val=0, left=None, right=None):\n",
    "        self.val = val\n",
    "        self.left = left\n",
    "        self.right = right\n"
   ]
  },
  {
   "cell_type": "code",
   "execution_count": 18,
   "metadata": {},
   "outputs": [],
   "source": [
    "# curr_node is placeholder for current node, level 0-indexed, index 0-indexed\n",
    "def growTree(curr_node, node_list, level, index):\n",
    "\n",
    "    curr_node.val = node_list[2**level + index - 1]\n",
    "\n",
    "    next_level = level + 1\n",
    "    next_index_l = index*2\n",
    "    next_index_r = next_index_l + 1\n",
    "\n",
    "    if len(node_list) -1 >= 2**next_level + next_index_l - 1 and node_list[2**next_level + next_index_l - 1] != None:\n",
    "        next_node_l = TreeNode()\n",
    "        curr_node.left = growTree(next_node_l, node_list, next_level, next_index_l)\n",
    "    else:\n",
    "        curr_node.left = None\n",
    "\n",
    "    if len(node_list) -1 >= 2**next_level + next_index_r - 1 and node_list[2**next_level + next_index_r - 1] != None:\n",
    "        next_node_r = TreeNode()\n",
    "        curr_node.right = growTree(next_node_r, node_list, next_level, next_index_r)\n",
    "    else:\n",
    "        curr_node.right = None\n",
    "\n",
    "    \n",
    "    return curr_node\n",
    "\n"
   ]
  },
  {
   "cell_type": "code",
   "execution_count": 19,
   "metadata": {},
   "outputs": [],
   "source": [
    "root = growTree(TreeNode(), [3,9,20,None,None,15,7], 0, 0)"
   ]
  },
  {
   "cell_type": "code",
   "execution_count": 30,
   "metadata": {},
   "outputs": [
    {
     "data": {
      "text/plain": [
       "<__main__.TreeNode at 0x103f44210>"
      ]
     },
     "execution_count": 30,
     "metadata": {},
     "output_type": "execute_result"
    }
   ],
   "source": [
    "root.right.right"
   ]
  },
  {
   "cell_type": "markdown",
   "metadata": {},
   "source": [
    "## (104) Maximum Depth of Binary Tree\n",
    "\n",
    "Given the `root` of a binary tree, return its maximum depth.\n",
    "\n",
    "A binary tree's maximum depth is the number of nodes along the longest path from the root node down to the farthest leaf node."
   ]
  },
  {
   "cell_type": "code",
   "execution_count": null,
   "metadata": {},
   "outputs": [],
   "source": [
    "# Definition for a binary tree node.\n",
    "# class TreeNode:\n",
    "#     def __init__(self, val=0, left=None, right=None):\n",
    "#         self.val = val\n",
    "#         self.left = left\n",
    "#         self.right = right\n",
    "class Solution:\n",
    "    def maxDepth(self, root: Optional[TreeNode]) -> int:\n",
    "        "
   ]
  }
 ],
 "metadata": {
  "language_info": {
   "name": "python"
  }
 },
 "nbformat": 4,
 "nbformat_minor": 2
}
