{
 "cells": [
  {
   "cell_type": "markdown",
   "id": "4da52d64",
   "metadata": {},
   "source": [
    "# Practice - September, 2025"
   ]
  },
  {
   "cell_type": "markdown",
   "id": "dfc95057",
   "metadata": {},
   "source": [
    "## Two Pointers"
   ]
  },
  {
   "cell_type": "code",
   "execution_count": null,
   "id": "dcd09531",
   "metadata": {},
   "outputs": [],
   "source": [
    "from typing import List"
   ]
  },
  {
   "cell_type": "markdown",
   "id": "c4b232cc",
   "metadata": {},
   "source": [
    "### 557. Reverse Words in a String III [E]\n",
    "\n",
    "Given a string `s`, reverse the order of characters in each word within a sentence while still preserving whitespace and initial word order.\n"
   ]
  },
  {
   "cell_type": "code",
   "execution_count": null,
   "id": "3ea3cca8",
   "metadata": {},
   "outputs": [],
   "source": [
    "class Solution:\n",
    "    def reverseWords(self, s: str) -> str:\n",
    "        sentence = []\n",
    "        word = []\n",
    "\n",
    "        for i in range(0,len(s)):\n",
    "            if s[i] == ' ':\n",
    "                sentence.append(''.join(word[::-1]))\n",
    "                word = []\n",
    "            elif i == len(s)-1:\n",
    "                word.append(s[i])\n",
    "                sentence.append(''.join(word[::-1]))\n",
    "                word = []\n",
    "            else:\n",
    "                word.append(s[i])\n",
    "\n",
    "        return ' '.join(sentence)\n"
   ]
  },
  {
   "cell_type": "code",
   "execution_count": 36,
   "id": "f17e75e0",
   "metadata": {},
   "outputs": [
    {
     "data": {
      "text/plain": [
       "\"s'teL ekat edoCteeL tsetnoc\""
      ]
     },
     "execution_count": 36,
     "metadata": {},
     "output_type": "execute_result"
    }
   ],
   "source": [
    "sol = Solution()\n",
    "\n",
    "s = \"Let's take LeetCode contest\"\n",
    "sol.reverseWords(s)"
   ]
  }
 ],
 "metadata": {
  "kernelspec": {
   "display_name": "LeetCode",
   "language": "python",
   "name": "python3"
  },
  "language_info": {
   "codemirror_mode": {
    "name": "ipython",
    "version": 3
   },
   "file_extension": ".py",
   "mimetype": "text/x-python",
   "name": "python",
   "nbconvert_exporter": "python",
   "pygments_lexer": "ipython3",
   "version": "3.11.9"
  }
 },
 "nbformat": 4,
 "nbformat_minor": 5
}
