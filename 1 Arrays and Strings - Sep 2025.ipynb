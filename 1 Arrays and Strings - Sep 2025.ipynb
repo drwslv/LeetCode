{
 "cells": [
  {
   "cell_type": "markdown",
   "id": "4da52d64",
   "metadata": {},
   "source": [
    "# Practice - September, 2025"
   ]
  },
  {
   "cell_type": "markdown",
   "id": "dfc95057",
   "metadata": {},
   "source": [
    "## Two Pointers"
   ]
  },
  {
   "cell_type": "code",
   "execution_count": 47,
   "id": "dcd09531",
   "metadata": {},
   "outputs": [],
   "source": [
    "from typing import List"
   ]
  },
  {
   "cell_type": "markdown",
   "id": "c4b232cc",
   "metadata": {},
   "source": [
    "### 557. Reverse Words in a String III [E]\n",
    "\n",
    "Given a string `s`, reverse the order of characters in each word within a sentence while still preserving whitespace and initial word order.\n"
   ]
  },
  {
   "cell_type": "code",
   "execution_count": null,
   "id": "3ea3cca8",
   "metadata": {},
   "outputs": [],
   "source": [
    "class Solution:\n",
    "    def reverseWords(self, s: str) -> str:\n",
    "        sentence = []\n",
    "        word = []\n",
    "\n",
    "        for i in range(0,len(s)):\n",
    "            if s[i] == ' ':\n",
    "                sentence.append(''.join(word[::-1]))\n",
    "                word = []\n",
    "            elif i == len(s)-1:\n",
    "                word.append(s[i])\n",
    "                sentence.append(''.join(word[::-1]))\n",
    "                word = []\n",
    "            else:\n",
    "                word.append(s[i])\n",
    "\n",
    "        return ' '.join(sentence)\n"
   ]
  },
  {
   "cell_type": "code",
   "execution_count": 36,
   "id": "f17e75e0",
   "metadata": {},
   "outputs": [
    {
     "data": {
      "text/plain": [
       "\"s'teL ekat edoCteeL tsetnoc\""
      ]
     },
     "execution_count": 36,
     "metadata": {},
     "output_type": "execute_result"
    }
   ],
   "source": [
    "sol = Solution()\n",
    "\n",
    "s = \"Let's take LeetCode contest\"\n",
    "sol.reverseWords(s)"
   ]
  },
  {
   "cell_type": "markdown",
   "id": "1e396f4e",
   "metadata": {},
   "source": [
    "### 917. Reverse Only Letters [E]\n",
    "\n",
    "Given a string `s`, reverse the string according to the following rules:\n",
    "\n",
    "* All the characters that are not English letters remain in the same position.\n",
    "\n",
    "* All the English letters (lowercase or uppercase) should be reversed.\n",
    "\n",
    "Return `s` after reversing it.\n",
    "\n"
   ]
  },
  {
   "cell_type": "code",
   "execution_count": 42,
   "id": "d48c261c",
   "metadata": {},
   "outputs": [],
   "source": [
    "class Solution:\n",
    "    def reverseOnlyLetters(self, s: str) -> str:\n",
    "        s2 = list(s)\n",
    "        right = len(s)-1\n",
    "        for left in range(0,len(s)):\n",
    "            if ('a' <= s[left] <= 'z') or ('A' <= s[left] <= 'Z'): # If char in s English\n",
    "                # Add to end\n",
    "                while not (('a' <= s2[right] <= 'z') or ('A' <= s2[right] <= 'Z')) and right > 0:\n",
    "                    right -= 1\n",
    "                if ('a' <= s2[right] <= 'z') or ('A' <= s2[right] <= 'Z') and right >= 0:\n",
    "                    s2[right] = s[left]\n",
    "                    right -= 1\n",
    "\n",
    "        return ''.join(s2)\n",
    "\n"
   ]
  },
  {
   "cell_type": "code",
   "execution_count": null,
   "id": "69b86d44",
   "metadata": {},
   "outputs": [
    {
     "data": {
      "text/plain": [
       "'Qedo1ct-eeLg=ntse-T!'"
      ]
     },
     "execution_count": 44,
     "metadata": {},
     "output_type": "execute_result"
    }
   ],
   "source": [
    "sol = Solution()\n",
    "\n",
    "s = \"ab-cd\"\n",
    "s = \"a-bC-dEf-ghIj\"\n",
    "s = \"Test1ng-Leet=code-Q!\"\n",
    "\n",
    "sol.reverseOnlyLetters(s)\n"
   ]
  },
  {
   "cell_type": "markdown",
   "id": "ba24a5f6",
   "metadata": {},
   "source": [
    "### 2540. Minimum Common Value [E]\n",
    "\n",
    "Given two integer arrays `nums1` and `nums2`, sorted in non-decreasing order, return the minimum integer common to both arrays. If there is no common integer amongst `nums1` and `nums2`, return `-1`.\n",
    "\n",
    "Note that an integer is said to be common to `nums1` and `nums2` if both arrays have at least one occurrence of that integer."
   ]
  },
  {
   "cell_type": "code",
   "execution_count": 48,
   "id": "d5b38ece",
   "metadata": {},
   "outputs": [],
   "source": [
    "class Solution:\n",
    "    def getCommon(self, nums1: List[int], nums2: List[int]) -> int:\n",
    "        p1 = 0\n",
    "        p2 = 0\n",
    "\n",
    "        while p1 < len(nums1) and p2 < len(nums2):\n",
    "            if nums1[p1] == nums2[p2]:\n",
    "                return nums1[p1]\n",
    "            elif nums1[p1] > nums2[p2]:\n",
    "                p2 += 1\n",
    "            elif nums1[p1] < nums2[p2]:\n",
    "                p1 += 1\n",
    "        \n",
    "        return -1\n"
   ]
  },
  {
   "cell_type": "code",
   "execution_count": 51,
   "id": "22e33218",
   "metadata": {},
   "outputs": [
    {
     "data": {
      "text/plain": [
       "2"
      ]
     },
     "execution_count": 51,
     "metadata": {},
     "output_type": "execute_result"
    }
   ],
   "source": [
    "sol = Solution()\n",
    "\n",
    "nums1 = [1,2,3]\n",
    "nums2 = [2,4]\n",
    "\n",
    "nums1 = [1,2,3,6]\n",
    "nums2 = [2,3,4,5]\n",
    "\n",
    "sol.getCommon(nums1, nums2)\n"
   ]
  },
  {
   "cell_type": "markdown",
   "id": "517af58d",
   "metadata": {},
   "source": [
    "### 83. Move Zeroes [E]\n",
    "\n",
    "Given an integer array `nums`, move all 0's to the end of it while maintaining the relative order of the non-zero elements.\n",
    "\n",
    "Note that you must do this in-place without making a copy of the array."
   ]
  },
  {
   "cell_type": "code",
   "execution_count": null,
   "id": "944bca3b",
   "metadata": {},
   "outputs": [],
   "source": [
    "class Solution:\n",
    "    def moveZeroes(self, nums: List[int]) -> None:\n",
    "        \"\"\"\n",
    "        Do not return anything, modify nums in-place instead.\n",
    "        \"\"\"\n",
    "        p0 = -1 # position of most recent 0\n",
    "        for p in range(0,len(nums)):\n",
    "            if nums[p] != 0 and p0 != -1:\n",
    "                nums[p0] = nums[p]\n",
    "                nums[p] = 0\n",
    "                p0 += 1\n",
    "            if nums[p] == 0 and p0 == -1:\n",
    "                p0 = p\n",
    "\n",
    "        print(nums)\n",
    "\n"
   ]
  },
  {
   "cell_type": "code",
   "execution_count": 84,
   "id": "a3013d29",
   "metadata": {},
   "outputs": [
    {
     "name": "stdout",
     "output_type": "stream",
     "text": [
      "[1]\n"
     ]
    }
   ],
   "source": [
    "sol = Solution()\n",
    "\n",
    "nums = [0,1,0,3,12]\n",
    "nums = [0]\n",
    "nums = [0,0,0,0,1,0,3,0,12]\n",
    "nums = [1]\n",
    "#            p0        p\n",
    "\n",
    "sol.moveZeroes(nums)"
   ]
  },
  {
   "cell_type": "markdown",
   "id": "a24244c6",
   "metadata": {},
   "source": [
    "### 2000. Reverse Prefix of Word [E]\n",
    "Given a 0-indexed string `word` and a character `ch`, reverse the segment of `word` that starts at index `0` and ends at the index of the first occurrence of `ch` (inclusive). If the character `ch` does not exist in `word`, do nothing.\n",
    "\n",
    "For example, if `word = \"abcdefd\"` and `ch = \"d\"`, then you should reverse the segment that starts at `0` and ends at `3` (inclusive). The resulting string will be `\"dcbaefd\"`.\n",
    "Return the resulting string.\n"
   ]
  },
  {
   "cell_type": "code",
   "execution_count": 113,
   "id": "98ed587f",
   "metadata": {},
   "outputs": [],
   "source": [
    "class Solution:\n",
    "    def reversePrefix(self, word: str, ch: str) -> str:\n",
    "        for right in range(0,len(word)):\n",
    "            if word[right] == ch:\n",
    "                return word[right::-1] + word[right+1:]\n",
    "            \n",
    "        return word\n",
    "            "
   ]
  },
  {
   "cell_type": "code",
   "execution_count": 114,
   "id": "62dad69f",
   "metadata": {},
   "outputs": [
    {
     "data": {
      "text/plain": [
       "'abcd'"
      ]
     },
     "execution_count": 114,
     "metadata": {},
     "output_type": "execute_result"
    }
   ],
   "source": [
    "sol = Solution()\n",
    "\n",
    "word = \"abcdefd\"\n",
    "ch = \"d\"\n",
    "\n",
    "word = \"xyxzxe\"\n",
    "ch = \"z\"\n",
    "\n",
    "word = \"abcd\"\n",
    "ch = \"z\"\n",
    "\n",
    "sol.reversePrefix(word, ch)"
   ]
  },
  {
   "cell_type": "markdown",
   "id": "8518d41f",
   "metadata": {},
   "source": [
    "## Sliding Window"
   ]
  },
  {
   "cell_type": "markdown",
   "id": "04902c39",
   "metadata": {},
   "source": [
    "### 209. Minimum Size Subarray Sum [M]\n",
    "\n",
    "Given an array of positive integers `nums` and a positive integer `target`, return the minimal length of a subarray whose sum is greater than or equal to target. If there is no such subarray, return 0 instead."
   ]
  },
  {
   "cell_type": "code",
   "execution_count": null,
   "id": "122c6e3f",
   "metadata": {},
   "outputs": [],
   "source": [
    "class Solution:\n",
    "    def minSubArrayLen(self, target: int, nums: List[int]) -> int:\n",
    "        left = curr = 0\n",
    "        min_length = float('inf')\n",
    "        for right in range(0,len(nums)):\n",
    "            curr += nums[right]                \n",
    "            \n",
    "            while curr >= target and left <= right:\n",
    "                min_length = min(min_length, right-left+1)\n",
    "                curr -= nums[left]\n",
    "                left += 1\n",
    "\n",
    "        if min_length == float('inf'):\n",
    "            return 0\n",
    "        else:\n",
    "            return min_length\n"
   ]
  },
  {
   "cell_type": "code",
   "execution_count": 132,
   "id": "19d3f7d0",
   "metadata": {},
   "outputs": [
    {
     "data": {
      "text/plain": [
       "0"
      ]
     },
     "execution_count": 132,
     "metadata": {},
     "output_type": "execute_result"
    }
   ],
   "source": [
    "sol = Solution()\n",
    "\n",
    "target = 7\n",
    "nums = [2,3,1,2,4,3]\n",
    "\n",
    "target = 4\n",
    "nums = [1,4,4]\n",
    "\n",
    "target = 11\n",
    "nums = [1,1,1,1,1,1,1,1]\n",
    "\n",
    "sol.minSubArrayLen(target, nums)\n"
   ]
  },
  {
   "cell_type": "markdown",
   "id": "81a128f3",
   "metadata": {},
   "source": [
    "### 1456. Maximum Number of Vowels in a Substring of Given Length [M]\n",
    "\n",
    "Given a string `s` and an integer `k`, return the maximum number of vowel letters in any substring of `s` with length `k`.\n",
    "\n",
    "Vowel letters in English are 'a', 'e', 'i', 'o', and 'u'.\n"
   ]
  },
  {
   "cell_type": "code",
   "execution_count": 162,
   "id": "a06cab49",
   "metadata": {},
   "outputs": [],
   "source": [
    "class Solution:\n",
    "    def maxVowels(self, s: str, k: int) -> int:\n",
    "        left = 0\n",
    "        vcount_max = curr = 0\n",
    "        vowels = {'a', 'e', 'i', 'o', 'u'}\n",
    "\n",
    "        for i in range(0,k): # Initialize first substring\n",
    "            if s[i] in vowels:\n",
    "                curr += 1\n",
    "\n",
    "            vcount_max = max(vcount_max, curr)\n",
    "\n",
    "        for right in range(k,len(s)): # Iterate through remaining substrings\n",
    "            # Subtract left if vowel\n",
    "            if s[left] in vowels:\n",
    "                curr -= 1\n",
    "\n",
    "            left += 1\n",
    "\n",
    "            # Add right if vowel\n",
    "            if s[right] in vowels:\n",
    "                curr += 1\n",
    "\n",
    "            # Update length\n",
    "            vcount_max = max(vcount_max, curr)\n",
    "\n",
    "        return vcount_max\n"
   ]
  },
  {
   "cell_type": "code",
   "execution_count": 163,
   "id": "9d195f56",
   "metadata": {},
   "outputs": [
    {
     "data": {
      "text/plain": [
       "1"
      ]
     },
     "execution_count": 163,
     "metadata": {},
     "output_type": "execute_result"
    }
   ],
   "source": [
    "sol = Solution()\n",
    "\n",
    "# 0 1 2 3 4 5 6 7 8 9  len=10, k=4\n",
    "#   b   e\n",
    "s = \"abciiidef\"\n",
    "k = 3\n",
    "\n",
    "s = \"aeiou\"\n",
    "k = 2\n",
    "\n",
    "s = \"leetcode\"\n",
    "k = 3\n",
    "\n",
    "s = \"a\"\n",
    "k = 1\n",
    "\n",
    "sol.maxVowels(s, k)\n",
    "\n"
   ]
  },
  {
   "cell_type": "markdown",
   "id": "8be89aa5",
   "metadata": {},
   "source": [
    "### 1208. Get Equal Substrings Within Budget [M]\n",
    "\n",
    "You are given two strings `s` and `t` of the same length and an integer `maxCost`.\n",
    "\n",
    "You want to change `s` to `t`. Changing the `ith` character of `s` to `ith` character of `t` costs `|s[i] - t[i]|` (i.e., the absolute difference between the ASCII values of the characters).\n",
    "\n",
    "Return the maximum length of a substring of `s` that can be changed to be the same as the corresponding substring of `t` with a cost less than or equal to `maxCost`. If there is no substring from `s` that can be changed to its corresponding substring from `t`, return 0."
   ]
  },
  {
   "cell_type": "code",
   "execution_count": null,
   "id": "082fbf33",
   "metadata": {},
   "outputs": [],
   "source": [
    "class Solution:\n",
    "    def equalSubstring(self, s: str, t: str, maxCost: int) -> int:\n",
    "        left = curr = max_length = 0\n",
    "        for right in range(0,len(s)):\n",
    "            curr += abs( ord(s[right]) - ord(t[right]) )\n",
    "\n",
    "            while curr > maxCost and left < right:\n",
    "                curr -= abs( ord(s[left]) - ord(t[left]) )\n",
    "                left += 1\n",
    "\n",
    "            max_length = max(max_length, right - left + 1)\n",
    "\n",
    "        return max_length\n"
   ]
  },
  {
   "cell_type": "code",
   "execution_count": 171,
   "id": "88f8094a",
   "metadata": {},
   "outputs": [
    {
     "data": {
      "text/plain": [
       "1"
      ]
     },
     "execution_count": 171,
     "metadata": {},
     "output_type": "execute_result"
    }
   ],
   "source": [
    "sol = Solution()\n",
    "\n",
    "s = \"abcd\"\n",
    "t = \"bcdf\"\n",
    "maxCost = 3\n",
    "\n",
    "s = \"abcd\"\n",
    "t = \"cdef\"\n",
    "maxCost = 3\n",
    "\n",
    "s = \"abcd\"\n",
    "t = \"acde\"\n",
    "maxCost = 0\n",
    "\n",
    "sol.equalSubstring(s, t, maxCost)"
   ]
  }
 ],
 "metadata": {
  "kernelspec": {
   "display_name": "LeetCode",
   "language": "python",
   "name": "python3"
  },
  "language_info": {
   "codemirror_mode": {
    "name": "ipython",
    "version": 3
   },
   "file_extension": ".py",
   "mimetype": "text/x-python",
   "name": "python",
   "nbconvert_exporter": "python",
   "pygments_lexer": "ipython3",
   "version": "3.11.9"
  }
 },
 "nbformat": 4,
 "nbformat_minor": 5
}
