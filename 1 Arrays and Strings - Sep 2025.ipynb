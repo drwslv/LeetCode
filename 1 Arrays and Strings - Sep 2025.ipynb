{
 "cells": [
  {
   "cell_type": "markdown",
   "id": "4da52d64",
   "metadata": {},
   "source": [
    "# Practice - September, 2025"
   ]
  },
  {
   "cell_type": "markdown",
   "id": "dfc95057",
   "metadata": {},
   "source": [
    "## Two Pointers"
   ]
  },
  {
   "cell_type": "code",
   "execution_count": 47,
   "id": "dcd09531",
   "metadata": {},
   "outputs": [],
   "source": [
    "from typing import List"
   ]
  },
  {
   "cell_type": "markdown",
   "id": "c4b232cc",
   "metadata": {},
   "source": [
    "### 557. Reverse Words in a String III [E]\n",
    "\n",
    "Given a string `s`, reverse the order of characters in each word within a sentence while still preserving whitespace and initial word order.\n"
   ]
  },
  {
   "cell_type": "code",
   "execution_count": null,
   "id": "3ea3cca8",
   "metadata": {},
   "outputs": [],
   "source": [
    "class Solution:\n",
    "    def reverseWords(self, s: str) -> str:\n",
    "        sentence = []\n",
    "        word = []\n",
    "\n",
    "        for i in range(0,len(s)):\n",
    "            if s[i] == ' ':\n",
    "                sentence.append(''.join(word[::-1]))\n",
    "                word = []\n",
    "            elif i == len(s)-1:\n",
    "                word.append(s[i])\n",
    "                sentence.append(''.join(word[::-1]))\n",
    "                word = []\n",
    "            else:\n",
    "                word.append(s[i])\n",
    "\n",
    "        return ' '.join(sentence)\n"
   ]
  },
  {
   "cell_type": "code",
   "execution_count": 36,
   "id": "f17e75e0",
   "metadata": {},
   "outputs": [
    {
     "data": {
      "text/plain": [
       "\"s'teL ekat edoCteeL tsetnoc\""
      ]
     },
     "execution_count": 36,
     "metadata": {},
     "output_type": "execute_result"
    }
   ],
   "source": [
    "sol = Solution()\n",
    "\n",
    "s = \"Let's take LeetCode contest\"\n",
    "sol.reverseWords(s)"
   ]
  },
  {
   "cell_type": "markdown",
   "id": "1e396f4e",
   "metadata": {},
   "source": [
    "### 917. Reverse Only Letters [E]\n",
    "\n",
    "Given a string `s`, reverse the string according to the following rules:\n",
    "\n",
    "* All the characters that are not English letters remain in the same position.\n",
    "\n",
    "* All the English letters (lowercase or uppercase) should be reversed.\n",
    "\n",
    "Return `s` after reversing it.\n",
    "\n"
   ]
  },
  {
   "cell_type": "code",
   "execution_count": 42,
   "id": "d48c261c",
   "metadata": {},
   "outputs": [],
   "source": [
    "class Solution:\n",
    "    def reverseOnlyLetters(self, s: str) -> str:\n",
    "        s2 = list(s)\n",
    "        right = len(s)-1\n",
    "        for left in range(0,len(s)):\n",
    "            if ('a' <= s[left] <= 'z') or ('A' <= s[left] <= 'Z'): # If char in s English\n",
    "                # Add to end\n",
    "                while not (('a' <= s2[right] <= 'z') or ('A' <= s2[right] <= 'Z')) and right > 0:\n",
    "                    right -= 1\n",
    "                if ('a' <= s2[right] <= 'z') or ('A' <= s2[right] <= 'Z') and right >= 0:\n",
    "                    s2[right] = s[left]\n",
    "                    right -= 1\n",
    "\n",
    "        return ''.join(s2)\n",
    "\n"
   ]
  },
  {
   "cell_type": "code",
   "execution_count": null,
   "id": "69b86d44",
   "metadata": {},
   "outputs": [
    {
     "data": {
      "text/plain": [
       "'Qedo1ct-eeLg=ntse-T!'"
      ]
     },
     "execution_count": 44,
     "metadata": {},
     "output_type": "execute_result"
    }
   ],
   "source": [
    "sol = Solution()\n",
    "\n",
    "s = \"ab-cd\"\n",
    "s = \"a-bC-dEf-ghIj\"\n",
    "s = \"Test1ng-Leet=code-Q!\"\n",
    "\n",
    "sol.reverseOnlyLetters(s)\n"
   ]
  },
  {
   "cell_type": "markdown",
   "id": "ba24a5f6",
   "metadata": {},
   "source": [
    "### 2540. Minimum Common Value [E]\n",
    "\n",
    "Given two integer arrays `nums1` and `nums2`, sorted in non-decreasing order, return the minimum integer common to both arrays. If there is no common integer amongst `nums1` and `nums2`, return `-1`.\n",
    "\n",
    "Note that an integer is said to be common to `nums1` and `nums2` if both arrays have at least one occurrence of that integer."
   ]
  },
  {
   "cell_type": "code",
   "execution_count": 48,
   "id": "d5b38ece",
   "metadata": {},
   "outputs": [],
   "source": [
    "class Solution:\n",
    "    def getCommon(self, nums1: List[int], nums2: List[int]) -> int:\n",
    "        p1 = 0\n",
    "        p2 = 0\n",
    "\n",
    "        while p1 < len(nums1) and p2 < len(nums2):\n",
    "            if nums1[p1] == nums2[p2]:\n",
    "                return nums1[p1]\n",
    "            elif nums1[p1] > nums2[p2]:\n",
    "                p2 += 1\n",
    "            elif nums1[p1] < nums2[p2]:\n",
    "                p1 += 1\n",
    "        \n",
    "        return -1\n"
   ]
  },
  {
   "cell_type": "code",
   "execution_count": 51,
   "id": "22e33218",
   "metadata": {},
   "outputs": [
    {
     "data": {
      "text/plain": [
       "2"
      ]
     },
     "execution_count": 51,
     "metadata": {},
     "output_type": "execute_result"
    }
   ],
   "source": [
    "sol = Solution()\n",
    "\n",
    "nums1 = [1,2,3]\n",
    "nums2 = [2,4]\n",
    "\n",
    "nums1 = [1,2,3,6]\n",
    "nums2 = [2,3,4,5]\n",
    "\n",
    "sol.getCommon(nums1, nums2)\n"
   ]
  },
  {
   "cell_type": "markdown",
   "id": "517af58d",
   "metadata": {},
   "source": [
    "### 83. Move Zeroes [E]\n",
    "\n",
    "Given an integer array `nums`, move all 0's to the end of it while maintaining the relative order of the non-zero elements.\n",
    "\n",
    "Note that you must do this in-place without making a copy of the array."
   ]
  },
  {
   "cell_type": "code",
   "execution_count": null,
   "id": "944bca3b",
   "metadata": {},
   "outputs": [],
   "source": [
    "class Solution:\n",
    "    def moveZeroes(self, nums: List[int]) -> None:\n",
    "        \"\"\"\n",
    "        Do not return anything, modify nums in-place instead.\n",
    "        \"\"\"\n",
    "        p0 = -1 # position of most recent 0\n",
    "        for p in range(0,len(nums)):\n",
    "            if nums[p] != 0 and p0 != -1:\n",
    "                nums[p0] = nums[p]\n",
    "                nums[p] = 0\n",
    "                p0 += 1\n",
    "            if nums[p] == 0 and p0 == -1:\n",
    "                p0 = p\n",
    "\n",
    "        print(nums)\n",
    "\n"
   ]
  },
  {
   "cell_type": "code",
   "execution_count": 84,
   "id": "a3013d29",
   "metadata": {},
   "outputs": [
    {
     "name": "stdout",
     "output_type": "stream",
     "text": [
      "[1]\n"
     ]
    }
   ],
   "source": [
    "sol = Solution()\n",
    "\n",
    "nums = [0,1,0,3,12]\n",
    "nums = [0]\n",
    "nums = [0,0,0,0,1,0,3,0,12]\n",
    "nums = [1]\n",
    "#            p0        p\n",
    "\n",
    "sol.moveZeroes(nums)"
   ]
  }
 ],
 "metadata": {
  "kernelspec": {
   "display_name": "LeetCode",
   "language": "python",
   "name": "python3"
  },
  "language_info": {
   "codemirror_mode": {
    "name": "ipython",
    "version": 3
   },
   "file_extension": ".py",
   "mimetype": "text/x-python",
   "name": "python",
   "nbconvert_exporter": "python",
   "pygments_lexer": "ipython3",
   "version": "3.11.9"
  }
 },
 "nbformat": 4,
 "nbformat_minor": 5
}
