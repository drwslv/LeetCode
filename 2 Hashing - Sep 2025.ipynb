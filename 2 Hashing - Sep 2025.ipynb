{
 "cells": [
  {
   "cell_type": "markdown",
   "id": "9746216a",
   "metadata": {},
   "source": [
    "# Practice - September, 2025"
   ]
  },
  {
   "cell_type": "code",
   "execution_count": 2,
   "id": "c6d22f06",
   "metadata": {},
   "outputs": [],
   "source": [
    "from typing import List"
   ]
  },
  {
   "cell_type": "markdown",
   "id": "cf2c77dd",
   "metadata": {},
   "source": [
    "## Checking for Existence"
   ]
  },
  {
   "cell_type": "markdown",
   "id": "0167ab07",
   "metadata": {},
   "source": [
    "### 217. Contains Duplicate [E]\n",
    "\n",
    "Given an integer array `nums`, return `true` if any value appears at least twice in the array, and return `false` if every element is distinct."
   ]
  },
  {
   "cell_type": "code",
   "execution_count": 3,
   "id": "2b197c70",
   "metadata": {},
   "outputs": [],
   "source": [
    "class Solution:\n",
    "    def containsDuplicate(self, nums: List[int]) -> bool:\n",
    "        nums_set = set(nums)\n",
    "        if len(nums) == len(nums_set):\n",
    "            return False\n",
    "        else:\n",
    "            return True"
   ]
  },
  {
   "cell_type": "code",
   "execution_count": 5,
   "id": "7dff45a8",
   "metadata": {},
   "outputs": [
    {
     "data": {
      "text/plain": [
       "False"
      ]
     },
     "execution_count": 5,
     "metadata": {},
     "output_type": "execute_result"
    }
   ],
   "source": [
    "sol = Solution()\n",
    "\n",
    "nums = [1,2,3,1]\n",
    "nums = [1,2,3,4]\n",
    "\n",
    "sol.containsDuplicate(nums)"
   ]
  },
  {
   "cell_type": "markdown",
   "id": "77704439",
   "metadata": {},
   "source": [
    "### 1436. Destination City [E]\n",
    "\n",
    "You are given the array `paths`, where `paths[i] = [cityAi, cityBi]` means there exists a direct path going from `cityAi` to `cityBi`. Return the destination city, that is, the city without any path outgoing to another city.\n",
    "\n",
    "It is guaranteed that the graph of paths forms a line without any loop, therefore, there will be exactly one destination city."
   ]
  },
  {
   "cell_type": "code",
   "execution_count": 16,
   "id": "dfbf8908",
   "metadata": {},
   "outputs": [],
   "source": [
    "class Solution:\n",
    "    def destCity(self, paths: List[List[str]]) -> str:\n",
    "        orig = set()\n",
    "        dest = set()\n",
    "        for trip in paths:\n",
    "            orig.add(trip[0])\n",
    "            dest.add(trip[1])\n",
    "\n",
    "        # for d in dest:\n",
    "        #     if d not in orig:\n",
    "        #         return d\n",
    "\n",
    "        return dest.difference(orig).pop()\n"
   ]
  },
  {
   "cell_type": "code",
   "execution_count": 17,
   "id": "d12c6bd8",
   "metadata": {},
   "outputs": [
    {
     "data": {
      "text/plain": [
       "'Sao Paulo'"
      ]
     },
     "execution_count": 17,
     "metadata": {},
     "output_type": "execute_result"
    }
   ],
   "source": [
    "sol = Solution()\n",
    "\n",
    "paths = [[\"London\",\"New York\"],[\"New York\",\"Lima\"],[\"Lima\",\"Sao Paulo\"]]\n",
    "\n",
    "sol.destCity(paths)"
   ]
  },
  {
   "cell_type": "markdown",
   "id": "faf4dc5c",
   "metadata": {},
   "source": [
    "### 1496. Path Crossing [E]\n",
    "\n",
    "Given a string `path`, where `path[i] = 'N', 'S', 'E' or 'W'`, each representing moving one unit north, south, east, or west, respectively. You start at the origin (0, 0) on a 2D plane and walk on the path specified by path.\n",
    "\n",
    "Return `true` if the path crosses itself at any point, that is, if at any time you are on a location you have previously visited. Return `false` otherwise.\n",
    "\n"
   ]
  },
  {
   "cell_type": "code",
   "execution_count": 36,
   "id": "9d345ee0",
   "metadata": {},
   "outputs": [],
   "source": [
    "class Solution:\n",
    "    def isPathCrossing(self, path: str) -> bool:\n",
    "        x = y = 0\n",
    "        loc = {'N':(0,1), 'S':(0,-1), 'E':(1,0), 'W':(-1,0)}\n",
    "        seen = {(x,y)}\n",
    "        for d in path:\n",
    "            x += loc[d][0]\n",
    "            y += loc[d][1]\n",
    "\n",
    "            print((x,y), seen)\n",
    "            if (x,y) in seen:\n",
    "                return True\n",
    "            else:\n",
    "                seen.add((x,y))\n",
    "            \n",
    "        return False\n"
   ]
  },
  {
   "cell_type": "code",
   "execution_count": 37,
   "id": "dc1714a7",
   "metadata": {},
   "outputs": [
    {
     "name": "stdout",
     "output_type": "stream",
     "text": [
      "(0, 1) {(0, 0)}\n",
      "(1, 1) {(0, 1), (0, 0)}\n",
      "(1, 0) {(0, 1), (1, 1), (0, 0)}\n",
      "(0, 0) {(0, 1), (1, 0), (1, 1), (0, 0)}\n"
     ]
    },
    {
     "data": {
      "text/plain": [
       "True"
      ]
     },
     "execution_count": 37,
     "metadata": {},
     "output_type": "execute_result"
    }
   ],
   "source": [
    "sol = Solution()\n",
    "\n",
    "path = \"NES\"\n",
    "path = \"NESWW\"\n",
    "\n",
    "sol.isPathCrossing(path)"
   ]
  },
  {
   "cell_type": "markdown",
   "id": "a8b6e8f3",
   "metadata": {},
   "source": [
    "## Counting"
   ]
  },
  {
   "cell_type": "markdown",
   "id": "fedd6e7f",
   "metadata": {},
   "source": [
    "### 1748. Sum of Unique Elements [E]\n",
    "\n",
    "You are given an integer array `nums`. The unique elements of an array are the elements that appear exactly once in the array.\n",
    "\n",
    "Return the sum of all the unique elements of `nums`."
   ]
  },
  {
   "cell_type": "code",
   "execution_count": null,
   "id": "e8739887",
   "metadata": {},
   "outputs": [],
   "source": [
    "from collections import defaultdict\n",
    "\n",
    "class Solution:\n",
    "    def sumOfUnique(self, nums: List[int]) -> int:\n",
    "        counter = defaultdict(int)\n",
    "        curr = 0\n",
    "\n",
    "        for num in nums:\n",
    "            counter[num] += 1\n",
    "\n",
    "        for key, value in counter.items():\n",
    "            if value == 1:\n",
    "                curr += key\n",
    "\n",
    "        return curr"
   ]
  },
  {
   "cell_type": "code",
   "execution_count": 41,
   "id": "1a52eea1",
   "metadata": {},
   "outputs": [
    {
     "data": {
      "text/plain": [
       "15"
      ]
     },
     "execution_count": 41,
     "metadata": {},
     "output_type": "execute_result"
    }
   ],
   "source": [
    "sol = Solution()\n",
    "\n",
    "nums = [1,2,3,2]\n",
    "nums = [1,1,1,1,1]\n",
    "nums = [1,2,3,4,5]\n",
    "\n",
    "sol.sumOfUnique(nums)"
   ]
  },
  {
   "cell_type": "markdown",
   "id": "bb9399f8",
   "metadata": {},
   "source": [
    "\n",
    "### 3005. Count Elements With Maximum Frequency [E]\n",
    "\n",
    "You are given an array `nums` consisting of positive integers.\n",
    "\n",
    "Return the total frequencies of elements in `nums` such that those elements all have the maximum frequency.\n",
    "\n",
    "The frequency of an element is the number of occurrences of that element in the array.\n"
   ]
  },
  {
   "cell_type": "code",
   "execution_count": null,
   "id": "68b0fb78",
   "metadata": {},
   "outputs": [],
   "source": [
    "from collections import defaultdict\n",
    "\n",
    "class Solution:\n",
    "    def maxFrequencyElements(self, nums: List[int]) -> int:\n",
    "        counter = defaultdict(int)\n",
    "        for num in nums:\n",
    "            counter[num] += 1\n",
    "\n",
    "        max_freq = max(counter.values())\n",
    "\n",
    "        ans = 0\n",
    "\n",
    "        for key, value in counter.items():\n",
    "            if value == max_freq:\n",
    "                ans += value\n",
    "\n",
    "        return ans\n"
   ]
  },
  {
   "cell_type": "code",
   "execution_count": null,
   "id": "c41911f0",
   "metadata": {},
   "outputs": [
    {
     "data": {
      "text/plain": [
       "5"
      ]
     },
     "execution_count": 46,
     "metadata": {},
     "output_type": "execute_result"
    }
   ],
   "source": [
    "sol = Solution()\n",
    "\n",
    "nums = [1,2,2,3,1,4]\n",
    "nums = [1,2,3,4,5]\n",
    "\n",
    "sol.maxFrequencyElements(nums)"
   ]
  },
  {
   "cell_type": "markdown",
   "id": "cba6a8ff",
   "metadata": {},
   "source": [
    "### 1394. Find Lucky Integer in an Array [E]\n",
    "\n",
    "Given an array of integers `arr`, a lucky integer is an integer that has a frequency in the array equal to its value.\n",
    "\n",
    "Return the largest lucky integer in the array. If there is no lucky integer return -1."
   ]
  },
  {
   "cell_type": "code",
   "execution_count": 50,
   "id": "a0fd955a",
   "metadata": {},
   "outputs": [],
   "source": [
    "from collections import Counter\n",
    "class Solution:\n",
    "    def findLucky(self, arr: List[int]) -> int:\n",
    "        counter = Counter(arr)\n",
    "        ans = [-1]\n",
    "\n",
    "        for key, value in counter.items():\n",
    "            if key == value:\n",
    "                ans.append(key)\n",
    "\n",
    "        return max(ans)\n"
   ]
  },
  {
   "cell_type": "code",
   "execution_count": 52,
   "id": "9645cb51",
   "metadata": {},
   "outputs": [
    {
     "data": {
      "text/plain": [
       "-1"
      ]
     },
     "execution_count": 52,
     "metadata": {},
     "output_type": "execute_result"
    }
   ],
   "source": [
    "sol = Solution()\n",
    "\n",
    "arr = [2,2,3,4]\n",
    "arr = [1,2,2,3,3,3]\n",
    "arr = [2,2,2,3,3]\n",
    "\n",
    "sol.findLucky(arr)"
   ]
  },
  {
   "cell_type": "markdown",
   "id": "da8d82c5",
   "metadata": {},
   "source": [
    "### 1207. Unique Number of Occurrences [E]\n",
    "\n",
    "Given an array of integers `arr`, return `true` if the number of occurrences of each value in the array is unique or `false` otherwise."
   ]
  },
  {
   "cell_type": "code",
   "execution_count": 53,
   "id": "b172aa41",
   "metadata": {},
   "outputs": [],
   "source": [
    "from collections import Counter\n",
    "class Solution:\n",
    "    def uniqueOccurrences(self, arr: List[int]) -> bool:\n",
    "        counter = Counter(arr)\n",
    "        freqs = set(counter.values())\n",
    "        if len(counter.values()) == len(freqs):\n",
    "            return True\n",
    "        else:\n",
    "            return False"
   ]
  },
  {
   "cell_type": "code",
   "execution_count": 56,
   "id": "6c49edc3",
   "metadata": {},
   "outputs": [
    {
     "data": {
      "text/plain": [
       "True"
      ]
     },
     "execution_count": 56,
     "metadata": {},
     "output_type": "execute_result"
    }
   ],
   "source": [
    "sol = Solution()\n",
    "\n",
    "arr = [1,2,2,1,1,3]\n",
    "arr = [1,2]\n",
    "arr = [-3,0,1,-3,1,1,1,-3,10,0]\n",
    "\n",
    "sol.uniqueOccurrences(arr)\n"
   ]
  },
  {
   "cell_type": "markdown",
   "id": "a313862c",
   "metadata": {},
   "source": [
    "### 451. Sort Characters By Frequency [M]\n",
    "\n",
    "Given a string `s`, sort it in decreasing order based on the frequency of the characters. The frequency of a character is the number of times it appears in the string.\n",
    "\n",
    "Return the sorted string. If there are multiple answers, return any of them."
   ]
  },
  {
   "cell_type": "code",
   "execution_count": null,
   "id": "35a447e7",
   "metadata": {},
   "outputs": [],
   "source": [
    "from collections import Counter\n",
    "\n",
    "class Solution:\n",
    "    def frequencySort(self, s: str) -> str:\n",
    "        counter = Counter(s)\n",
    "        ans = []\n",
    "\n",
    "        for freq in sorted(set(counter.values()), reverse=True):\n",
    "            for key, value in counter.items():\n",
    "                if value == freq:\n",
    "                    ans.append(key*value)\n",
    "\n",
    "        return ''.join(ans)\n"
   ]
  },
  {
   "cell_type": "code",
   "execution_count": 81,
   "id": "734c4f0b",
   "metadata": {},
   "outputs": [
    {
     "data": {
      "text/plain": [
       "'bbAa'"
      ]
     },
     "execution_count": 81,
     "metadata": {},
     "output_type": "execute_result"
    }
   ],
   "source": [
    "sol = Solution()\n",
    "\n",
    "s = \"tree\"\n",
    "s = \"cccaaa\"\n",
    "s = \"Aabb\"\n",
    "\n",
    "sol.frequencySort(s)"
   ]
  },
  {
   "cell_type": "markdown",
   "id": "37c19c3f",
   "metadata": {},
   "source": [
    "### 2958. Length of Longest Subarray With at Most K Frequency [M]\n",
    "\n",
    "You are given an integer array `nums` and an integer `k`.\n",
    "\n",
    "The frequency of an element `x` is the number of times it occurs in an array.\n",
    "\n",
    "An array is called good if the frequency of each element in this array is less than or equal to `k`.\n",
    "\n",
    "Return the length of the longest good subarray of `nums`.\n",
    "\n",
    "A subarray is a contiguous non-empty sequence of elements within an array."
   ]
  },
  {
   "cell_type": "code",
   "execution_count": null,
   "id": "3941721d",
   "metadata": {},
   "outputs": [],
   "source": [
    "from collections import defaultdict\n",
    "\n",
    "class Solution:\n",
    "    def maxSubarrayLength(self, nums: List[int], k: int) -> int:\n",
    "        counts = defaultdict(int)\n",
    "\n",
    "        longest = left = 0\n",
    "        \n",
    "        for right in range(0,len(nums)):\n",
    "            counts[nums[right]] += 1\n",
    "\n",
    "            while max(counts.values()) > k:\n",
    "                counts[nums[left]] -= 1\n",
    "                left += 1\n",
    "\n",
    "            longest = max(longest, right-left+1)\n",
    "\n",
    "        return longest"
   ]
  },
  {
   "cell_type": "code",
   "execution_count": null,
   "id": "8cd06ea3",
   "metadata": {},
   "outputs": [],
   "source": [
    "class Solution:\n",
    "    def maxSubarrayLength(self, nums: List[int], k: int) -> int:\n",
    "        counts = defaultdict(int)\n",
    "\n",
    "        longest = left = 0\n",
    "        \n",
    "        for right in range(0,len(nums)):\n",
    "            counts[nums[right]] += 1\n",
    "\n",
    "            while counts[nums[right]] > k: # <- shorter way to do it, do not need to check freq for every key, only most recently added\n",
    "                counts[nums[left]] -= 1\n",
    "                left += 1\n",
    "\n",
    "            longest = max(longest, right-left+1)\n",
    "\n",
    "        return longest\n"
   ]
  },
  {
   "cell_type": "code",
   "execution_count": 92,
   "id": "61a603c1",
   "metadata": {},
   "outputs": [
    {
     "data": {
      "text/plain": [
       "4"
      ]
     },
     "execution_count": 92,
     "metadata": {},
     "output_type": "execute_result"
    }
   ],
   "source": [
    "sol = Solution()\n",
    "\n",
    "nums = [1,2,3,1,2,3,1,2]\n",
    "#                  \n",
    "k = 2\n",
    "\n",
    "nums = [1,2,1,2,1,2,1,2]\n",
    "k = 1\n",
    "\n",
    "nums = [5,5,5,5,5,5,5]\n",
    "k = 4\n",
    "\n",
    "sol.maxSubarrayLength(nums, k)"
   ]
  },
  {
   "cell_type": "markdown",
   "id": "4e89f639",
   "metadata": {},
   "source": [
    "### 1512. Number of Good Pairs [E]\n",
    "\n",
    "Given an array of integers `nums`, return the number of good pairs.\n",
    "\n",
    "A pair `(i, j)` is called good if `nums[i] == nums[j]` and `i < j.`"
   ]
  },
  {
   "cell_type": "code",
   "execution_count": 94,
   "id": "b0645e39",
   "metadata": {},
   "outputs": [],
   "source": [
    "from collections import defaultdict\n",
    "\n",
    "class Solution:\n",
    "    def numIdenticalPairs(self, nums: List[int]) -> int:\n",
    "        counts = defaultdict(int)\n",
    "        ans = 0\n",
    "\n",
    "        for num in nums:\n",
    "            ans += counts[num] # If we've seen num before, add all past occurances to new possible combinations, as they are each i w.r.t. current j\n",
    "            counts[num] += 1\n",
    "\n",
    "        return ans"
   ]
  },
  {
   "cell_type": "code",
   "execution_count": 97,
   "id": "acd9bdb7",
   "metadata": {},
   "outputs": [
    {
     "data": {
      "text/plain": [
       "0"
      ]
     },
     "execution_count": 97,
     "metadata": {},
     "output_type": "execute_result"
    }
   ],
   "source": [
    "sol = Solution()\n",
    "\n",
    "nums = [1,2,3,1,1,3]\n",
    "nums = [1,1,1,1]\n",
    "nums = [1,2,3]\n",
    "\n",
    "sol.numIdenticalPairs(nums)"
   ]
  },
  {
   "cell_type": "markdown",
   "id": "ffa926fc",
   "metadata": {},
   "source": [
    "### 930. Binary Subarrays With Sum [M]\n",
    "\n",
    "Given a binary array `nums` and an integer `goal`, return the number of non-empty subarrays with a sum `goal`.\n",
    "\n",
    "A subarray is a contiguous part of the array."
   ]
  },
  {
   "cell_type": "code",
   "execution_count": 116,
   "id": "21c036bc",
   "metadata": {},
   "outputs": [],
   "source": [
    "from collections import defaultdict\n",
    "\n",
    "class Solution:\n",
    "    def numSubarraysWithSum(self, nums: List[int], goal: int) -> int:\n",
    "        pcounts = defaultdict(int)\n",
    "        pcounts[0] += 1\n",
    "        ans = curr = 0\n",
    "\n",
    "        for num in nums:\n",
    "            curr += num\n",
    "\n",
    "            # print(f'curr-k {curr-goal}, set {pcounts}')\n",
    "            \n",
    "            ans += pcounts[curr-goal]\n",
    "            \n",
    "            pcounts[curr] += 1\n",
    "\n",
    "        return ans\n"
   ]
  },
  {
   "cell_type": "code",
   "execution_count": 117,
   "id": "6e253003",
   "metadata": {},
   "outputs": [
    {
     "data": {
      "text/plain": [
       "15"
      ]
     },
     "execution_count": 117,
     "metadata": {},
     "output_type": "execute_result"
    }
   ],
   "source": [
    "sol = Solution()\n",
    "\n",
    "nums = [1,0,1,0,1]\n",
    "#       1 1 2 2 3  \n",
    "goal = 2\n",
    "\n",
    "nums = [0,0,0,0,0]\n",
    "goal = 0\n",
    "\n",
    "sol.numSubarraysWithSum(nums, goal)"
   ]
  },
  {
   "cell_type": "markdown",
   "id": "b80bb62e",
   "metadata": {},
   "source": [
    "### 1695. Maximum Erasure Value [M]\n",
    "\n",
    "You are given an array of positive integers `nums` and want to erase a subarray containing unique elements. The score you get by erasing the subarray is equal to the sum of its elements.\n",
    "\n",
    "Return the maximum score you can get by erasing exactly one subarray.\n",
    "\n",
    "An array `b` is called to be a subarray of a if it forms a contiguous subsequence of `a`, that is, if it is equal to `a[l],a[l+1],...,a[r]` for some `(l,r)`."
   ]
  },
  {
   "cell_type": "code",
   "execution_count": 118,
   "id": "08596bff",
   "metadata": {},
   "outputs": [],
   "source": [
    "from collections import defaultdict\n",
    "\n",
    "class Solution:\n",
    "    def maximumUniqueSubarray(self, nums: List[int]) -> int:\n",
    "        counts = defaultdict(int)\n",
    "        left = score = 0\n",
    "\n",
    "        prefix = [''] * len(nums)\n",
    "        prefix[0] = nums[0]\n",
    "        for i in range(1,len(nums)):\n",
    "            prefix[i] = prefix[i-1] + nums[i]\n",
    "\n",
    "        for right in range(0,len(nums)):\n",
    "            counts[nums[right]] += 1\n",
    "\n",
    "            while counts[nums[right]] > 1:\n",
    "                counts[nums[left]] -= 1\n",
    "                left += 1\n",
    "\n",
    "            score = max(score, prefix[right]-prefix[left]+nums[left])\n",
    "            \n",
    "        return score\n"
   ]
  },
  {
   "cell_type": "code",
   "execution_count": null,
   "id": "046d4fb5",
   "metadata": {},
   "outputs": [
    {
     "data": {
      "text/plain": [
       "8"
      ]
     },
     "execution_count": 120,
     "metadata": {},
     "output_type": "execute_result"
    }
   ],
   "source": [
    "sol = Solution()\n",
    "\n",
    "nums = [4,2,4,5,6]\n",
    "nums = [5,2,1,2,5,2,1,2,5]\n",
    "\n",
    "sol.maximumUniqueSubarray(nums)\n",
    "\n",
    "# First shot!"
   ]
  },
  {
   "cell_type": "markdown",
   "id": "fc942b70",
   "metadata": {},
   "source": [
    "### 567. Permutation in String [M]\n",
    "\n",
    "Given two strings `s1` and `s2`, return `true` if `s2` contains a permutation of `s1`, or `false` otherwise.\n",
    "\n",
    "In other words, return true if one of `s1`'s permutations is the substring of `s2`."
   ]
  },
  {
   "cell_type": "code",
   "execution_count": null,
   "id": "bcd07d8d",
   "metadata": {},
   "outputs": [],
   "source": [
    "from collections import Counter\n",
    "from collections import defaultdict\n",
    "\n",
    "class Solution:\n",
    "    def checkInclusion(self, s1: str, s2: str) -> bool:\n",
    "        if len(s1) > len(s2):\n",
    "            return False\n",
    "\n",
    "        counts1 = Counter(s1)\n",
    "        counts2 = defaultdict(int)\n",
    "\n",
    "        for i in range(0,len(s1)-1):\n",
    "            counts2[s2[i]] += 1\n",
    "\n",
    "        left = 0\n",
    "        for right in range(len(s1)-1,len(s2)):\n",
    "            counts2[s2[right]] += 1\n",
    "            # print(f'left={left}, {counts2}')\n",
    "\n",
    "            # check same frequencies\n",
    "            found = []\n",
    "            for key, value1 in counts1.items():\n",
    "                if counts2[key] == value1:\n",
    "                    found.append(1)\n",
    "                else:\n",
    "                    found.append(0)\n",
    "\n",
    "            if min(found) == 1:\n",
    "                return True\n",
    "\n",
    "            counts2[s2[left]] -= 1\n",
    "            left += 1\n",
    "\n",
    "            \n",
    "        return False"
   ]
  },
  {
   "cell_type": "code",
   "execution_count": 140,
   "id": "e1f1d95b",
   "metadata": {},
   "outputs": [
    {
     "data": {
      "text/plain": [
       "False"
      ]
     },
     "execution_count": 140,
     "metadata": {},
     "output_type": "execute_result"
    }
   ],
   "source": [
    "sol = Solution()\n",
    "\n",
    "s1 = \"ab\"\n",
    "s2 = \"eidbaooo\"\n",
    "\n",
    "# s1 = \"ab\"\n",
    "# s2 = \"eidboaoo\"\n",
    "\n",
    "sol.checkInclusion(s1, s2)"
   ]
  },
  {
   "cell_type": "markdown",
   "id": "dd89684e",
   "metadata": {},
   "source": [
    "### 205. Isomorphic Strings [E]\n",
    "\n",
    "Given two strings `s` and `t`, determine if they are isomorphic.\n",
    "\n",
    "Two strings `s` and `t` are isomorphic if the characters in `s` can be replaced to get `t`.\n",
    "\n",
    "All occurrences of a character must be replaced with another character while preserving the order of characters. No two characters may map to the same character, but a character may map to itself.\n",
    "\n"
   ]
  },
  {
   "cell_type": "code",
   "execution_count": null,
   "id": "e4f93c5c",
   "metadata": {},
   "outputs": [],
   "source": [
    "from collections import Counter\n",
    "\n",
    "# Wrong\n",
    "class Solution:\n",
    "    def isIsomorphic(self, s: str, t: str) -> bool:\n",
    "        count_s = Counter(s)\n",
    "        count_t = Counter(t)\n",
    "\n",
    "        if sorted(count_s.values()) == sorted(count_t.values()):\n",
    "            return True\n",
    "        else:\n",
    "            return False"
   ]
  },
  {
   "cell_type": "code",
   "execution_count": null,
   "id": "e8bf514e",
   "metadata": {},
   "outputs": [],
   "source": [
    "from collections import defaultdict\n",
    "\n",
    "class Solution:\n",
    "    def isIsomorphic(self, s: str, t: str) -> bool:\n",
    "        if len(s) != len(t):\n",
    "            return False\n",
    "        \n",
    "        count_s = defaultdict(int)\n",
    "        count_t = defaultdict(int)\n",
    "\n",
    "        for i in range(0,len(s)):\n",
    "            count_s[s[i]] += 1\n",
    "            count_t[t[i]] += 1\n",
    "\n",
    "            # print(count_s.values(), count_t.values())\n",
    "            if list(count_s.values()) != list(count_t.values()):\n",
    "                return False\n",
    "            \n",
    "        return True\n"
   ]
  },
  {
   "cell_type": "code",
   "execution_count": 153,
   "id": "cd67d4fb",
   "metadata": {},
   "outputs": [
    {
     "name": "stdout",
     "output_type": "stream",
     "text": [
      "dict_values([1]) dict_values([1])\n",
      "dict_values([1, 1]) dict_values([1, 1])\n",
      "dict_values([2, 1]) dict_values([2, 1])\n",
      "dict_values([2, 1, 1]) dict_values([2, 1, 1])\n",
      "dict_values([2, 1, 1, 1]) dict_values([2, 1, 1, 1])\n"
     ]
    },
    {
     "data": {
      "text/plain": [
       "True"
      ]
     },
     "execution_count": 153,
     "metadata": {},
     "output_type": "execute_result"
    }
   ],
   "source": [
    "sol = Solution()\n",
    "\n",
    "s = \"egg\"\n",
    "t = \"add\"\n",
    "\n",
    "s = \"foo\"\n",
    "t = \"bar\"\n",
    "\n",
    "s = \"paper\"\n",
    "t = \"title\"\n",
    "\n",
    "sol.isIsomorphic(s, t)\n"
   ]
  }
 ],
 "metadata": {
  "kernelspec": {
   "display_name": "LeetCode",
   "language": "python",
   "name": "python3"
  },
  "language_info": {
   "codemirror_mode": {
    "name": "ipython",
    "version": 3
   },
   "file_extension": ".py",
   "mimetype": "text/x-python",
   "name": "python",
   "nbconvert_exporter": "python",
   "pygments_lexer": "ipython3",
   "version": "3.11.9"
  }
 },
 "nbformat": 4,
 "nbformat_minor": 5
}
