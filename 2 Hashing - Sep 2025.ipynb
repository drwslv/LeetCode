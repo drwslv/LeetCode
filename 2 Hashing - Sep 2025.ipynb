{
 "cells": [
  {
   "cell_type": "markdown",
   "id": "9746216a",
   "metadata": {},
   "source": [
    "# Practice - September, 2025"
   ]
  },
  {
   "cell_type": "code",
   "execution_count": 2,
   "id": "c6d22f06",
   "metadata": {},
   "outputs": [],
   "source": [
    "from typing import List"
   ]
  },
  {
   "cell_type": "markdown",
   "id": "cf2c77dd",
   "metadata": {},
   "source": [
    "## Checking for Existence"
   ]
  },
  {
   "cell_type": "markdown",
   "id": "0167ab07",
   "metadata": {},
   "source": [
    "### 217. Contains Duplicate [E]\n",
    "\n",
    "Given an integer array `nums`, return `true` if any value appears at least twice in the array, and return `false` if every element is distinct."
   ]
  },
  {
   "cell_type": "code",
   "execution_count": 3,
   "id": "2b197c70",
   "metadata": {},
   "outputs": [],
   "source": [
    "class Solution:\n",
    "    def containsDuplicate(self, nums: List[int]) -> bool:\n",
    "        nums_set = set(nums)\n",
    "        if len(nums) == len(nums_set):\n",
    "            return False\n",
    "        else:\n",
    "            return True"
   ]
  },
  {
   "cell_type": "code",
   "execution_count": 5,
   "id": "7dff45a8",
   "metadata": {},
   "outputs": [
    {
     "data": {
      "text/plain": [
       "False"
      ]
     },
     "execution_count": 5,
     "metadata": {},
     "output_type": "execute_result"
    }
   ],
   "source": [
    "sol = Solution()\n",
    "\n",
    "nums = [1,2,3,1]\n",
    "nums = [1,2,3,4]\n",
    "\n",
    "sol.containsDuplicate(nums)"
   ]
  },
  {
   "cell_type": "markdown",
   "id": "77704439",
   "metadata": {},
   "source": [
    "### 1436. Destination City [E]\n",
    "\n",
    "You are given the array `paths`, where `paths[i] = [cityAi, cityBi]` means there exists a direct path going from `cityAi` to `cityBi`. Return the destination city, that is, the city without any path outgoing to another city.\n",
    "\n",
    "It is guaranteed that the graph of paths forms a line without any loop, therefore, there will be exactly one destination city."
   ]
  },
  {
   "cell_type": "code",
   "execution_count": 16,
   "id": "dfbf8908",
   "metadata": {},
   "outputs": [],
   "source": [
    "class Solution:\n",
    "    def destCity(self, paths: List[List[str]]) -> str:\n",
    "        orig = set()\n",
    "        dest = set()\n",
    "        for trip in paths:\n",
    "            orig.add(trip[0])\n",
    "            dest.add(trip[1])\n",
    "\n",
    "        # for d in dest:\n",
    "        #     if d not in orig:\n",
    "        #         return d\n",
    "\n",
    "        return dest.difference(orig).pop()\n"
   ]
  },
  {
   "cell_type": "code",
   "execution_count": 17,
   "id": "d12c6bd8",
   "metadata": {},
   "outputs": [
    {
     "data": {
      "text/plain": [
       "'Sao Paulo'"
      ]
     },
     "execution_count": 17,
     "metadata": {},
     "output_type": "execute_result"
    }
   ],
   "source": [
    "sol = Solution()\n",
    "\n",
    "paths = [[\"London\",\"New York\"],[\"New York\",\"Lima\"],[\"Lima\",\"Sao Paulo\"]]\n",
    "\n",
    "sol.destCity(paths)"
   ]
  }
 ],
 "metadata": {
  "kernelspec": {
   "display_name": "LeetCode",
   "language": "python",
   "name": "python3"
  },
  "language_info": {
   "codemirror_mode": {
    "name": "ipython",
    "version": 3
   },
   "file_extension": ".py",
   "mimetype": "text/x-python",
   "name": "python",
   "nbconvert_exporter": "python",
   "pygments_lexer": "ipython3",
   "version": "3.11.9"
  }
 },
 "nbformat": 4,
 "nbformat_minor": 5
}
