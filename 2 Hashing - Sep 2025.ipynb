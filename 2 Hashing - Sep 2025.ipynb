{
 "cells": [
  {
   "cell_type": "markdown",
   "id": "9746216a",
   "metadata": {},
   "source": [
    "# Practice - September, 2025"
   ]
  },
  {
   "cell_type": "code",
   "execution_count": 2,
   "id": "c6d22f06",
   "metadata": {},
   "outputs": [],
   "source": [
    "from typing import List"
   ]
  },
  {
   "cell_type": "markdown",
   "id": "cf2c77dd",
   "metadata": {},
   "source": [
    "## Checking for Existence"
   ]
  },
  {
   "cell_type": "markdown",
   "id": "0167ab07",
   "metadata": {},
   "source": [
    "### 217. Contains Duplicate [E]\n",
    "\n",
    "Given an integer array `nums`, return `true` if any value appears at least twice in the array, and return `false` if every element is distinct."
   ]
  },
  {
   "cell_type": "code",
   "execution_count": 3,
   "id": "2b197c70",
   "metadata": {},
   "outputs": [],
   "source": [
    "class Solution:\n",
    "    def containsDuplicate(self, nums: List[int]) -> bool:\n",
    "        nums_set = set(nums)\n",
    "        if len(nums) == len(nums_set):\n",
    "            return False\n",
    "        else:\n",
    "            return True"
   ]
  },
  {
   "cell_type": "code",
   "execution_count": 5,
   "id": "7dff45a8",
   "metadata": {},
   "outputs": [
    {
     "data": {
      "text/plain": [
       "False"
      ]
     },
     "execution_count": 5,
     "metadata": {},
     "output_type": "execute_result"
    }
   ],
   "source": [
    "sol = Solution()\n",
    "\n",
    "nums = [1,2,3,1]\n",
    "nums = [1,2,3,4]\n",
    "\n",
    "sol.containsDuplicate(nums)"
   ]
  },
  {
   "cell_type": "markdown",
   "id": "77704439",
   "metadata": {},
   "source": [
    "### 1436. Destination City [E]\n",
    "\n",
    "You are given the array `paths`, where `paths[i] = [cityAi, cityBi]` means there exists a direct path going from `cityAi` to `cityBi`. Return the destination city, that is, the city without any path outgoing to another city.\n",
    "\n",
    "It is guaranteed that the graph of paths forms a line without any loop, therefore, there will be exactly one destination city."
   ]
  },
  {
   "cell_type": "code",
   "execution_count": 16,
   "id": "dfbf8908",
   "metadata": {},
   "outputs": [],
   "source": [
    "class Solution:\n",
    "    def destCity(self, paths: List[List[str]]) -> str:\n",
    "        orig = set()\n",
    "        dest = set()\n",
    "        for trip in paths:\n",
    "            orig.add(trip[0])\n",
    "            dest.add(trip[1])\n",
    "\n",
    "        # for d in dest:\n",
    "        #     if d not in orig:\n",
    "        #         return d\n",
    "\n",
    "        return dest.difference(orig).pop()\n"
   ]
  },
  {
   "cell_type": "code",
   "execution_count": 17,
   "id": "d12c6bd8",
   "metadata": {},
   "outputs": [
    {
     "data": {
      "text/plain": [
       "'Sao Paulo'"
      ]
     },
     "execution_count": 17,
     "metadata": {},
     "output_type": "execute_result"
    }
   ],
   "source": [
    "sol = Solution()\n",
    "\n",
    "paths = [[\"London\",\"New York\"],[\"New York\",\"Lima\"],[\"Lima\",\"Sao Paulo\"]]\n",
    "\n",
    "sol.destCity(paths)"
   ]
  },
  {
   "cell_type": "markdown",
   "id": "faf4dc5c",
   "metadata": {},
   "source": [
    "### 1496. Path Crossing [E]\n",
    "\n",
    "Given a string `path`, where `path[i] = 'N', 'S', 'E' or 'W'`, each representing moving one unit north, south, east, or west, respectively. You start at the origin (0, 0) on a 2D plane and walk on the path specified by path.\n",
    "\n",
    "Return `true` if the path crosses itself at any point, that is, if at any time you are on a location you have previously visited. Return `false` otherwise.\n",
    "\n"
   ]
  },
  {
   "cell_type": "code",
   "execution_count": 36,
   "id": "9d345ee0",
   "metadata": {},
   "outputs": [],
   "source": [
    "class Solution:\n",
    "    def isPathCrossing(self, path: str) -> bool:\n",
    "        x = y = 0\n",
    "        loc = {'N':(0,1), 'S':(0,-1), 'E':(1,0), 'W':(-1,0)}\n",
    "        seen = {(x,y)}\n",
    "        for d in path:\n",
    "            x += loc[d][0]\n",
    "            y += loc[d][1]\n",
    "\n",
    "            print((x,y), seen)\n",
    "            if (x,y) in seen:\n",
    "                return True\n",
    "            else:\n",
    "                seen.add((x,y))\n",
    "            \n",
    "        return False\n"
   ]
  },
  {
   "cell_type": "code",
   "execution_count": 37,
   "id": "dc1714a7",
   "metadata": {},
   "outputs": [
    {
     "name": "stdout",
     "output_type": "stream",
     "text": [
      "(0, 1) {(0, 0)}\n",
      "(1, 1) {(0, 1), (0, 0)}\n",
      "(1, 0) {(0, 1), (1, 1), (0, 0)}\n",
      "(0, 0) {(0, 1), (1, 0), (1, 1), (0, 0)}\n"
     ]
    },
    {
     "data": {
      "text/plain": [
       "True"
      ]
     },
     "execution_count": 37,
     "metadata": {},
     "output_type": "execute_result"
    }
   ],
   "source": [
    "sol = Solution()\n",
    "\n",
    "path = \"NES\"\n",
    "path = \"NESWW\"\n",
    "\n",
    "sol.isPathCrossing(path)"
   ]
  },
  {
   "cell_type": "markdown",
   "id": "a8b6e8f3",
   "metadata": {},
   "source": [
    "## Counting"
   ]
  },
  {
   "cell_type": "markdown",
   "id": "fedd6e7f",
   "metadata": {},
   "source": [
    "### 1748. Sum of Unique Elements [E]\n",
    "\n",
    "You are given an integer array `nums`. The unique elements of an array are the elements that appear exactly once in the array.\n",
    "\n",
    "Return the sum of all the unique elements of `nums`."
   ]
  },
  {
   "cell_type": "code",
   "execution_count": null,
   "id": "e8739887",
   "metadata": {},
   "outputs": [],
   "source": [
    "from collections import defaultdict\n",
    "\n",
    "class Solution:\n",
    "    def sumOfUnique(self, nums: List[int]) -> int:\n",
    "        counter = defaultdict(int)\n",
    "        curr = 0\n",
    "\n",
    "        for num in nums:\n",
    "            counter[num] += 1\n",
    "\n",
    "        for key, value in counter.items():\n",
    "            if value == 1:\n",
    "                curr += key\n",
    "\n",
    "        return curr"
   ]
  },
  {
   "cell_type": "code",
   "execution_count": 41,
   "id": "1a52eea1",
   "metadata": {},
   "outputs": [
    {
     "data": {
      "text/plain": [
       "15"
      ]
     },
     "execution_count": 41,
     "metadata": {},
     "output_type": "execute_result"
    }
   ],
   "source": [
    "sol = Solution()\n",
    "\n",
    "nums = [1,2,3,2]\n",
    "nums = [1,1,1,1,1]\n",
    "nums = [1,2,3,4,5]\n",
    "\n",
    "sol.sumOfUnique(nums)"
   ]
  },
  {
   "cell_type": "markdown",
   "id": "bb9399f8",
   "metadata": {},
   "source": [
    "\n",
    "### 3005. Count Elements With Maximum Frequency [E]\n",
    "\n",
    "You are given an array `nums` consisting of positive integers.\n",
    "\n",
    "Return the total frequencies of elements in `nums` such that those elements all have the maximum frequency.\n",
    "\n",
    "The frequency of an element is the number of occurrences of that element in the array.\n"
   ]
  },
  {
   "cell_type": "code",
   "execution_count": null,
   "id": "68b0fb78",
   "metadata": {},
   "outputs": [],
   "source": [
    "from collections import defaultdict\n",
    "\n",
    "class Solution:\n",
    "    def maxFrequencyElements(self, nums: List[int]) -> int:\n",
    "        counter = defaultdict(int)\n",
    "        for num in nums:\n",
    "            counter[num] += 1\n",
    "\n",
    "        max_freq = max(counter.values())\n",
    "\n",
    "        ans = 0\n",
    "\n",
    "        for key, value in counter.items():\n",
    "            if value == max_freq:\n",
    "                ans += value\n",
    "\n",
    "        return ans\n"
   ]
  },
  {
   "cell_type": "code",
   "execution_count": null,
   "id": "c41911f0",
   "metadata": {},
   "outputs": [
    {
     "data": {
      "text/plain": [
       "5"
      ]
     },
     "execution_count": 46,
     "metadata": {},
     "output_type": "execute_result"
    }
   ],
   "source": [
    "sol = Solution()\n",
    "\n",
    "nums = [1,2,2,3,1,4]\n",
    "nums = [1,2,3,4,5]\n",
    "\n",
    "sol.maxFrequencyElements(nums)"
   ]
  },
  {
   "cell_type": "markdown",
   "id": "cba6a8ff",
   "metadata": {},
   "source": [
    "### 1394. Find Lucky Integer in an Array [E]\n",
    "\n",
    "Given an array of integers `arr`, a lucky integer is an integer that has a frequency in the array equal to its value.\n",
    "\n",
    "Return the largest lucky integer in the array. If there is no lucky integer return -1."
   ]
  },
  {
   "cell_type": "code",
   "execution_count": null,
   "id": "a0fd955a",
   "metadata": {},
   "outputs": [],
   "source": [
    "from collections import Counter\n",
    "class Solution:\n",
    "    def findLucky(self, arr: List[int]) -> int:\n",
    "        counter = Counter(arr)\n",
    "        ans = [-1]\n",
    "\n",
    "        for key, value in counter.items():\n",
    "            if key == value:\n",
    "                ans.append(key)\n",
    "\n",
    "        return max(ans)\n"
   ]
  },
  {
   "cell_type": "code",
   "execution_count": 49,
   "id": "9645cb51",
   "metadata": {},
   "outputs": [
    {
     "data": {
      "text/plain": [
       "3"
      ]
     },
     "execution_count": 49,
     "metadata": {},
     "output_type": "execute_result"
    }
   ],
   "source": [
    "sol = Solution()\n",
    "\n",
    "arr = [2,2,3,4]\n",
    "arr = [1,2,2,3,3,3]\n",
    "\n",
    "sol.findLucky(arr)"
   ]
  }
 ],
 "metadata": {
  "kernelspec": {
   "display_name": "LeetCode",
   "language": "python",
   "name": "python3"
  },
  "language_info": {
   "codemirror_mode": {
    "name": "ipython",
    "version": 3
   },
   "file_extension": ".py",
   "mimetype": "text/x-python",
   "name": "python",
   "nbconvert_exporter": "python",
   "pygments_lexer": "ipython3",
   "version": "3.11.9"
  }
 },
 "nbformat": 4,
 "nbformat_minor": 5
}
