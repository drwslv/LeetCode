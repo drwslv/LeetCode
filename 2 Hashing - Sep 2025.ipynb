{
 "cells": [
  {
   "cell_type": "markdown",
   "id": "9746216a",
   "metadata": {},
   "source": [
    "# Practice - September, 2025"
   ]
  },
  {
   "cell_type": "code",
   "execution_count": 2,
   "id": "c6d22f06",
   "metadata": {},
   "outputs": [],
   "source": [
    "from typing import List"
   ]
  },
  {
   "cell_type": "markdown",
   "id": "cf2c77dd",
   "metadata": {},
   "source": [
    "## Checking for Existence"
   ]
  },
  {
   "cell_type": "markdown",
   "id": "0167ab07",
   "metadata": {},
   "source": [
    "### 217. Contains Duplicate [E]\n",
    "\n",
    "Given an integer array `nums`, return `true` if any value appears at least twice in the array, and return `false` if every element is distinct."
   ]
  },
  {
   "cell_type": "code",
   "execution_count": null,
   "id": "2b197c70",
   "metadata": {},
   "outputs": [],
   "source": [
    "class Solution:\n",
    "    def containsDuplicate(self, nums: List[int]) -> bool:\n",
    "        nums_set = set(nums)\n",
    "        if len(nums) == len(nums_set):\n",
    "            return False\n",
    "        else:\n",
    "            return True"
   ]
  },
  {
   "cell_type": "code",
   "execution_count": null,
   "id": "7dff45a8",
   "metadata": {},
   "outputs": [],
   "source": [
    "sol = Solution()\n",
    "\n",
    "nums = [1,2,3,1]\n",
    "\n",
    "sol.containsDuplicate(nums)"
   ]
  }
 ],
 "metadata": {
  "kernelspec": {
   "display_name": "LeetCode",
   "language": "python",
   "name": "python3"
  },
  "language_info": {
   "codemirror_mode": {
    "name": "ipython",
    "version": 3
   },
   "file_extension": ".py",
   "mimetype": "text/x-python",
   "name": "python",
   "nbconvert_exporter": "python",
   "pygments_lexer": "ipython3",
   "version": "3.11.9"
  }
 },
 "nbformat": 4,
 "nbformat_minor": 5
}
