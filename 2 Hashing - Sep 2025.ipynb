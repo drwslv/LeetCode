{
 "cells": [
  {
   "cell_type": "markdown",
   "id": "9746216a",
   "metadata": {},
   "source": [
    "# Practice - September, 2025"
   ]
  },
  {
   "cell_type": "code",
   "execution_count": 136,
   "id": "c6d22f06",
   "metadata": {},
   "outputs": [],
   "source": [
    "from typing import List"
   ]
  },
  {
   "cell_type": "markdown",
   "id": "cf2c77dd",
   "metadata": {},
   "source": [
    "## Checking for Existence"
   ]
  },
  {
   "cell_type": "markdown",
   "id": "0167ab07",
   "metadata": {},
   "source": [
    "### 217. Contains Duplicate [E]\n",
    "\n",
    "Given an integer array `nums`, return `true` if any value appears at least twice in the array, and return `false` if every element is distinct."
   ]
  },
  {
   "cell_type": "code",
   "execution_count": 3,
   "id": "2b197c70",
   "metadata": {},
   "outputs": [],
   "source": [
    "class Solution:\n",
    "    def containsDuplicate(self, nums: List[int]) -> bool:\n",
    "        nums_set = set(nums)\n",
    "        if len(nums) == len(nums_set):\n",
    "            return False\n",
    "        else:\n",
    "            return True"
   ]
  },
  {
   "cell_type": "code",
   "execution_count": 5,
   "id": "7dff45a8",
   "metadata": {},
   "outputs": [
    {
     "data": {
      "text/plain": [
       "False"
      ]
     },
     "execution_count": 5,
     "metadata": {},
     "output_type": "execute_result"
    }
   ],
   "source": [
    "sol = Solution()\n",
    "\n",
    "nums = [1,2,3,1]\n",
    "nums = [1,2,3,4]\n",
    "\n",
    "sol.containsDuplicate(nums)"
   ]
  },
  {
   "cell_type": "markdown",
   "id": "77704439",
   "metadata": {},
   "source": [
    "### 1436. Destination City [E]\n",
    "\n",
    "You are given the array `paths`, where `paths[i] = [cityAi, cityBi]` means there exists a direct path going from `cityAi` to `cityBi`. Return the destination city, that is, the city without any path outgoing to another city.\n",
    "\n",
    "It is guaranteed that the graph of paths forms a line without any loop, therefore, there will be exactly one destination city."
   ]
  },
  {
   "cell_type": "code",
   "execution_count": 16,
   "id": "dfbf8908",
   "metadata": {},
   "outputs": [],
   "source": [
    "class Solution:\n",
    "    def destCity(self, paths: List[List[str]]) -> str:\n",
    "        orig = set()\n",
    "        dest = set()\n",
    "        for trip in paths:\n",
    "            orig.add(trip[0])\n",
    "            dest.add(trip[1])\n",
    "\n",
    "        # for d in dest:\n",
    "        #     if d not in orig:\n",
    "        #         return d\n",
    "\n",
    "        return dest.difference(orig).pop()\n"
   ]
  },
  {
   "cell_type": "code",
   "execution_count": 17,
   "id": "d12c6bd8",
   "metadata": {},
   "outputs": [
    {
     "data": {
      "text/plain": [
       "'Sao Paulo'"
      ]
     },
     "execution_count": 17,
     "metadata": {},
     "output_type": "execute_result"
    }
   ],
   "source": [
    "sol = Solution()\n",
    "\n",
    "paths = [[\"London\",\"New York\"],[\"New York\",\"Lima\"],[\"Lima\",\"Sao Paulo\"]]\n",
    "\n",
    "sol.destCity(paths)"
   ]
  },
  {
   "cell_type": "markdown",
   "id": "faf4dc5c",
   "metadata": {},
   "source": [
    "### 1496. Path Crossing [E]\n",
    "\n",
    "Given a string `path`, where `path[i] = 'N', 'S', 'E' or 'W'`, each representing moving one unit north, south, east, or west, respectively. You start at the origin (0, 0) on a 2D plane and walk on the path specified by path.\n",
    "\n",
    "Return `true` if the path crosses itself at any point, that is, if at any time you are on a location you have previously visited. Return `false` otherwise.\n",
    "\n"
   ]
  },
  {
   "cell_type": "code",
   "execution_count": 36,
   "id": "9d345ee0",
   "metadata": {},
   "outputs": [],
   "source": [
    "class Solution:\n",
    "    def isPathCrossing(self, path: str) -> bool:\n",
    "        x = y = 0\n",
    "        loc = {'N':(0,1), 'S':(0,-1), 'E':(1,0), 'W':(-1,0)}\n",
    "        seen = {(x,y)}\n",
    "        for d in path:\n",
    "            x += loc[d][0]\n",
    "            y += loc[d][1]\n",
    "\n",
    "            print((x,y), seen)\n",
    "            if (x,y) in seen:\n",
    "                return True\n",
    "            else:\n",
    "                seen.add((x,y))\n",
    "            \n",
    "        return False\n"
   ]
  },
  {
   "cell_type": "code",
   "execution_count": 37,
   "id": "dc1714a7",
   "metadata": {},
   "outputs": [
    {
     "name": "stdout",
     "output_type": "stream",
     "text": [
      "(0, 1) {(0, 0)}\n",
      "(1, 1) {(0, 1), (0, 0)}\n",
      "(1, 0) {(0, 1), (1, 1), (0, 0)}\n",
      "(0, 0) {(0, 1), (1, 0), (1, 1), (0, 0)}\n"
     ]
    },
    {
     "data": {
      "text/plain": [
       "True"
      ]
     },
     "execution_count": 37,
     "metadata": {},
     "output_type": "execute_result"
    }
   ],
   "source": [
    "sol = Solution()\n",
    "\n",
    "path = \"NES\"\n",
    "path = \"NESWW\"\n",
    "\n",
    "sol.isPathCrossing(path)"
   ]
  },
  {
   "cell_type": "markdown",
   "id": "a8b6e8f3",
   "metadata": {},
   "source": [
    "## Counting"
   ]
  },
  {
   "cell_type": "markdown",
   "id": "fedd6e7f",
   "metadata": {},
   "source": [
    "### 1748. Sum of Unique Elements [E]\n",
    "\n",
    "You are given an integer array `nums`. The unique elements of an array are the elements that appear exactly once in the array.\n",
    "\n",
    "Return the sum of all the unique elements of `nums`."
   ]
  },
  {
   "cell_type": "code",
   "execution_count": null,
   "id": "e8739887",
   "metadata": {},
   "outputs": [],
   "source": [
    "from collections import defaultdict\n",
    "\n",
    "class Solution:\n",
    "    def sumOfUnique(self, nums: List[int]) -> int:\n",
    "        counter = defaultdict(int)\n",
    "        curr = 0\n",
    "\n",
    "        for num in nums:\n",
    "            counter[num] += 1\n",
    "\n",
    "        for key, value in counter.items():\n",
    "            if value == 1:\n",
    "                curr += key\n",
    "\n",
    "        return curr"
   ]
  },
  {
   "cell_type": "code",
   "execution_count": 41,
   "id": "1a52eea1",
   "metadata": {},
   "outputs": [
    {
     "data": {
      "text/plain": [
       "15"
      ]
     },
     "execution_count": 41,
     "metadata": {},
     "output_type": "execute_result"
    }
   ],
   "source": [
    "sol = Solution()\n",
    "\n",
    "nums = [1,2,3,2]\n",
    "nums = [1,1,1,1,1]\n",
    "nums = [1,2,3,4,5]\n",
    "\n",
    "sol.sumOfUnique(nums)"
   ]
  },
  {
   "cell_type": "markdown",
   "id": "bb9399f8",
   "metadata": {},
   "source": [
    "\n",
    "### 3005. Count Elements With Maximum Frequency [E]\n",
    "\n",
    "You are given an array `nums` consisting of positive integers.\n",
    "\n",
    "Return the total frequencies of elements in `nums` such that those elements all have the maximum frequency.\n",
    "\n",
    "The frequency of an element is the number of occurrences of that element in the array.\n"
   ]
  },
  {
   "cell_type": "code",
   "execution_count": null,
   "id": "68b0fb78",
   "metadata": {},
   "outputs": [],
   "source": [
    "from collections import defaultdict\n",
    "\n",
    "class Solution:\n",
    "    def maxFrequencyElements(self, nums: List[int]) -> int:\n",
    "        counter = defaultdict(int)\n",
    "        for num in nums:\n",
    "            counter[num] += 1\n",
    "\n",
    "        max_freq = max(counter.values())\n",
    "\n",
    "        ans = 0\n",
    "\n",
    "        for key, value in counter.items():\n",
    "            if value == max_freq:\n",
    "                ans += value\n",
    "\n",
    "        return ans\n"
   ]
  },
  {
   "cell_type": "code",
   "execution_count": null,
   "id": "c41911f0",
   "metadata": {},
   "outputs": [
    {
     "data": {
      "text/plain": [
       "5"
      ]
     },
     "execution_count": 46,
     "metadata": {},
     "output_type": "execute_result"
    }
   ],
   "source": [
    "sol = Solution()\n",
    "\n",
    "nums = [1,2,2,3,1,4]\n",
    "nums = [1,2,3,4,5]\n",
    "\n",
    "sol.maxFrequencyElements(nums)"
   ]
  },
  {
   "cell_type": "markdown",
   "id": "cba6a8ff",
   "metadata": {},
   "source": [
    "### 1394. Find Lucky Integer in an Array [E]\n",
    "\n",
    "Given an array of integers `arr`, a lucky integer is an integer that has a frequency in the array equal to its value.\n",
    "\n",
    "Return the largest lucky integer in the array. If there is no lucky integer return -1."
   ]
  },
  {
   "cell_type": "code",
   "execution_count": 50,
   "id": "a0fd955a",
   "metadata": {},
   "outputs": [],
   "source": [
    "from collections import Counter\n",
    "class Solution:\n",
    "    def findLucky(self, arr: List[int]) -> int:\n",
    "        counter = Counter(arr)\n",
    "        ans = [-1]\n",
    "\n",
    "        for key, value in counter.items():\n",
    "            if key == value:\n",
    "                ans.append(key)\n",
    "\n",
    "        return max(ans)\n"
   ]
  },
  {
   "cell_type": "code",
   "execution_count": 52,
   "id": "9645cb51",
   "metadata": {},
   "outputs": [
    {
     "data": {
      "text/plain": [
       "-1"
      ]
     },
     "execution_count": 52,
     "metadata": {},
     "output_type": "execute_result"
    }
   ],
   "source": [
    "sol = Solution()\n",
    "\n",
    "arr = [2,2,3,4]\n",
    "arr = [1,2,2,3,3,3]\n",
    "arr = [2,2,2,3,3]\n",
    "\n",
    "sol.findLucky(arr)"
   ]
  },
  {
   "cell_type": "markdown",
   "id": "da8d82c5",
   "metadata": {},
   "source": [
    "### 1207. Unique Number of Occurrences [E]\n",
    "\n",
    "Given an array of integers `arr`, return `true` if the number of occurrences of each value in the array is unique or `false` otherwise."
   ]
  },
  {
   "cell_type": "code",
   "execution_count": 53,
   "id": "b172aa41",
   "metadata": {},
   "outputs": [],
   "source": [
    "from collections import Counter\n",
    "class Solution:\n",
    "    def uniqueOccurrences(self, arr: List[int]) -> bool:\n",
    "        counter = Counter(arr)\n",
    "        freqs = set(counter.values())\n",
    "        if len(counter.values()) == len(freqs):\n",
    "            return True\n",
    "        else:\n",
    "            return False"
   ]
  },
  {
   "cell_type": "code",
   "execution_count": 56,
   "id": "6c49edc3",
   "metadata": {},
   "outputs": [
    {
     "data": {
      "text/plain": [
       "True"
      ]
     },
     "execution_count": 56,
     "metadata": {},
     "output_type": "execute_result"
    }
   ],
   "source": [
    "sol = Solution()\n",
    "\n",
    "arr = [1,2,2,1,1,3]\n",
    "arr = [1,2]\n",
    "arr = [-3,0,1,-3,1,1,1,-3,10,0]\n",
    "\n",
    "sol.uniqueOccurrences(arr)\n"
   ]
  },
  {
   "cell_type": "markdown",
   "id": "a313862c",
   "metadata": {},
   "source": [
    "### 451. Sort Characters By Frequency [M]\n",
    "\n",
    "Given a string `s`, sort it in decreasing order based on the frequency of the characters. The frequency of a character is the number of times it appears in the string.\n",
    "\n",
    "Return the sorted string. If there are multiple answers, return any of them."
   ]
  },
  {
   "cell_type": "code",
   "execution_count": null,
   "id": "35a447e7",
   "metadata": {},
   "outputs": [],
   "source": [
    "from collections import Counter\n",
    "\n",
    "class Solution:\n",
    "    def frequencySort(self, s: str) -> str:\n",
    "        counter = Counter(s)\n",
    "        ans = []\n",
    "\n",
    "        for freq in sorted(set(counter.values()), reverse=True):\n",
    "            for key, value in counter.items():\n",
    "                if value == freq:\n",
    "                    ans.append(key*value)\n",
    "\n",
    "        return ''.join(ans)\n"
   ]
  },
  {
   "cell_type": "code",
   "execution_count": 81,
   "id": "734c4f0b",
   "metadata": {},
   "outputs": [
    {
     "data": {
      "text/plain": [
       "'bbAa'"
      ]
     },
     "execution_count": 81,
     "metadata": {},
     "output_type": "execute_result"
    }
   ],
   "source": [
    "sol = Solution()\n",
    "\n",
    "s = \"tree\"\n",
    "s = \"cccaaa\"\n",
    "s = \"Aabb\"\n",
    "\n",
    "sol.frequencySort(s)"
   ]
  },
  {
   "cell_type": "markdown",
   "id": "37c19c3f",
   "metadata": {},
   "source": [
    "### 2958. Length of Longest Subarray With at Most K Frequency [M]\n",
    "\n",
    "You are given an integer array `nums` and an integer `k`.\n",
    "\n",
    "The frequency of an element `x` is the number of times it occurs in an array.\n",
    "\n",
    "An array is called good if the frequency of each element in this array is less than or equal to `k`.\n",
    "\n",
    "Return the length of the longest good subarray of `nums`.\n",
    "\n",
    "A subarray is a contiguous non-empty sequence of elements within an array."
   ]
  },
  {
   "cell_type": "code",
   "execution_count": null,
   "id": "3941721d",
   "metadata": {},
   "outputs": [],
   "source": [
    "from collections import defaultdict\n",
    "\n",
    "class Solution:\n",
    "    def maxSubarrayLength(self, nums: List[int], k: int) -> int:\n",
    "        counts = defaultdict(int)\n",
    "\n",
    "        longest = left = 0\n",
    "        \n",
    "        for right in range(0,len(nums)):\n",
    "            counts[nums[right]] += 1\n",
    "\n",
    "            while max(counts.values()) > k:\n",
    "                counts[nums[left]] -= 1\n",
    "                left += 1\n",
    "\n",
    "            longest = max(longest, right-left+1)\n",
    "\n",
    "        return longest"
   ]
  },
  {
   "cell_type": "code",
   "execution_count": null,
   "id": "8cd06ea3",
   "metadata": {},
   "outputs": [],
   "source": [
    "class Solution:\n",
    "    def maxSubarrayLength(self, nums: List[int], k: int) -> int:\n",
    "        counts = defaultdict(int)\n",
    "\n",
    "        longest = left = 0\n",
    "        \n",
    "        for right in range(0,len(nums)):\n",
    "            counts[nums[right]] += 1\n",
    "\n",
    "            while counts[nums[right]] > k: # <- shorter way to do it, do not need to check freq for every key, only most recently added\n",
    "                counts[nums[left]] -= 1\n",
    "                left += 1\n",
    "\n",
    "            longest = max(longest, right-left+1)\n",
    "\n",
    "        return longest\n"
   ]
  },
  {
   "cell_type": "code",
   "execution_count": 92,
   "id": "61a603c1",
   "metadata": {},
   "outputs": [
    {
     "data": {
      "text/plain": [
       "4"
      ]
     },
     "execution_count": 92,
     "metadata": {},
     "output_type": "execute_result"
    }
   ],
   "source": [
    "sol = Solution()\n",
    "\n",
    "nums = [1,2,3,1,2,3,1,2]\n",
    "#                  \n",
    "k = 2\n",
    "\n",
    "nums = [1,2,1,2,1,2,1,2]\n",
    "k = 1\n",
    "\n",
    "nums = [5,5,5,5,5,5,5]\n",
    "k = 4\n",
    "\n",
    "sol.maxSubarrayLength(nums, k)"
   ]
  },
  {
   "cell_type": "markdown",
   "id": "4e89f639",
   "metadata": {},
   "source": [
    "### 1512. Number of Good Pairs [E]\n",
    "\n",
    "Given an array of integers `nums`, return the number of good pairs.\n",
    "\n",
    "A pair `(i, j)` is called good if `nums[i] == nums[j]` and `i < j.`"
   ]
  },
  {
   "cell_type": "code",
   "execution_count": 94,
   "id": "b0645e39",
   "metadata": {},
   "outputs": [],
   "source": [
    "from collections import defaultdict\n",
    "\n",
    "class Solution:\n",
    "    def numIdenticalPairs(self, nums: List[int]) -> int:\n",
    "        counts = defaultdict(int)\n",
    "        ans = 0\n",
    "\n",
    "        for num in nums:\n",
    "            ans += counts[num] # If we've seen num before, add all past occurances to new possible combinations, as they are each i w.r.t. current j\n",
    "            counts[num] += 1\n",
    "\n",
    "        return ans"
   ]
  },
  {
   "cell_type": "code",
   "execution_count": 97,
   "id": "acd9bdb7",
   "metadata": {},
   "outputs": [
    {
     "data": {
      "text/plain": [
       "0"
      ]
     },
     "execution_count": 97,
     "metadata": {},
     "output_type": "execute_result"
    }
   ],
   "source": [
    "sol = Solution()\n",
    "\n",
    "nums = [1,2,3,1,1,3]\n",
    "nums = [1,1,1,1]\n",
    "nums = [1,2,3]\n",
    "\n",
    "sol.numIdenticalPairs(nums)"
   ]
  },
  {
   "cell_type": "markdown",
   "id": "ffa926fc",
   "metadata": {},
   "source": [
    "### 930. Binary Subarrays With Sum [M]\n",
    "\n",
    "Given a binary array `nums` and an integer `goal`, return the number of non-empty subarrays with a sum `goal`.\n",
    "\n",
    "A subarray is a contiguous part of the array."
   ]
  },
  {
   "cell_type": "code",
   "execution_count": 116,
   "id": "21c036bc",
   "metadata": {},
   "outputs": [],
   "source": [
    "from collections import defaultdict\n",
    "\n",
    "class Solution:\n",
    "    def numSubarraysWithSum(self, nums: List[int], goal: int) -> int:\n",
    "        pcounts = defaultdict(int)\n",
    "        pcounts[0] += 1\n",
    "        ans = curr = 0\n",
    "\n",
    "        for num in nums:\n",
    "            curr += num\n",
    "\n",
    "            # print(f'curr-k {curr-goal}, set {pcounts}')\n",
    "            \n",
    "            ans += pcounts[curr-goal]\n",
    "            \n",
    "            pcounts[curr] += 1\n",
    "\n",
    "        return ans\n"
   ]
  },
  {
   "cell_type": "code",
   "execution_count": 117,
   "id": "6e253003",
   "metadata": {},
   "outputs": [
    {
     "data": {
      "text/plain": [
       "15"
      ]
     },
     "execution_count": 117,
     "metadata": {},
     "output_type": "execute_result"
    }
   ],
   "source": [
    "sol = Solution()\n",
    "\n",
    "nums = [1,0,1,0,1]\n",
    "#       1 1 2 2 3  \n",
    "goal = 2\n",
    "\n",
    "nums = [0,0,0,0,0]\n",
    "goal = 0\n",
    "\n",
    "sol.numSubarraysWithSum(nums, goal)"
   ]
  },
  {
   "cell_type": "markdown",
   "id": "b80bb62e",
   "metadata": {},
   "source": [
    "### 1695. Maximum Erasure Value [M]\n",
    "\n",
    "You are given an array of positive integers `nums` and want to erase a subarray containing unique elements. The score you get by erasing the subarray is equal to the sum of its elements.\n",
    "\n",
    "Return the maximum score you can get by erasing exactly one subarray.\n",
    "\n",
    "An array `b` is called to be a subarray of a if it forms a contiguous subsequence of `a`, that is, if it is equal to `a[l],a[l+1],...,a[r]` for some `(l,r)`."
   ]
  },
  {
   "cell_type": "code",
   "execution_count": 118,
   "id": "08596bff",
   "metadata": {},
   "outputs": [],
   "source": [
    "from collections import defaultdict\n",
    "\n",
    "class Solution:\n",
    "    def maximumUniqueSubarray(self, nums: List[int]) -> int:\n",
    "        counts = defaultdict(int)\n",
    "        left = score = 0\n",
    "\n",
    "        prefix = [''] * len(nums)\n",
    "        prefix[0] = nums[0]\n",
    "        for i in range(1,len(nums)):\n",
    "            prefix[i] = prefix[i-1] + nums[i]\n",
    "\n",
    "        for right in range(0,len(nums)):\n",
    "            counts[nums[right]] += 1\n",
    "\n",
    "            while counts[nums[right]] > 1:\n",
    "                counts[nums[left]] -= 1\n",
    "                left += 1\n",
    "\n",
    "            score = max(score, prefix[right]-prefix[left]+nums[left])\n",
    "            \n",
    "        return score\n"
   ]
  },
  {
   "cell_type": "code",
   "execution_count": null,
   "id": "046d4fb5",
   "metadata": {},
   "outputs": [
    {
     "data": {
      "text/plain": [
       "8"
      ]
     },
     "execution_count": 120,
     "metadata": {},
     "output_type": "execute_result"
    }
   ],
   "source": [
    "sol = Solution()\n",
    "\n",
    "nums = [4,2,4,5,6]\n",
    "nums = [5,2,1,2,5,2,1,2,5]\n",
    "\n",
    "sol.maximumUniqueSubarray(nums)\n",
    "\n",
    "# First shot!"
   ]
  },
  {
   "cell_type": "markdown",
   "id": "fc942b70",
   "metadata": {},
   "source": [
    "### 567. Permutation in String [M]\n",
    "\n",
    "Given two strings `s1` and `s2`, return `true` if `s2` contains a permutation of `s1`, or `false` otherwise.\n",
    "\n",
    "In other words, return true if one of `s1`'s permutations is the substring of `s2`."
   ]
  },
  {
   "cell_type": "code",
   "execution_count": null,
   "id": "bcd07d8d",
   "metadata": {},
   "outputs": [],
   "source": [
    "from collections import Counter\n",
    "from collections import defaultdict\n",
    "\n",
    "class Solution:\n",
    "    def checkInclusion(self, s1: str, s2: str) -> bool:\n",
    "        if len(s1) > len(s2):\n",
    "            return False\n",
    "\n",
    "        counts1 = Counter(s1)\n",
    "        counts2 = defaultdict(int)\n",
    "\n",
    "        for i in range(0,len(s1)-1):\n",
    "            counts2[s2[i]] += 1\n",
    "\n",
    "        left = 0\n",
    "        for right in range(len(s1)-1,len(s2)):\n",
    "            counts2[s2[right]] += 1\n",
    "            # print(f'left={left}, {counts2}')\n",
    "\n",
    "            # check same frequencies\n",
    "            found = []\n",
    "            for key, value1 in counts1.items():\n",
    "                if counts2[key] == value1:\n",
    "                    found.append(1)\n",
    "                else:\n",
    "                    found.append(0)\n",
    "\n",
    "            if min(found) == 1:\n",
    "                return True\n",
    "\n",
    "            counts2[s2[left]] -= 1\n",
    "            left += 1\n",
    "\n",
    "            \n",
    "        return False"
   ]
  },
  {
   "cell_type": "code",
   "execution_count": 140,
   "id": "e1f1d95b",
   "metadata": {},
   "outputs": [
    {
     "data": {
      "text/plain": [
       "False"
      ]
     },
     "execution_count": 140,
     "metadata": {},
     "output_type": "execute_result"
    }
   ],
   "source": [
    "sol = Solution()\n",
    "\n",
    "s1 = \"ab\"\n",
    "s2 = \"eidbaooo\"\n",
    "\n",
    "# s1 = \"ab\"\n",
    "# s2 = \"eidboaoo\"\n",
    "\n",
    "sol.checkInclusion(s1, s2)"
   ]
  },
  {
   "cell_type": "markdown",
   "id": "dd89684e",
   "metadata": {},
   "source": [
    "### 205. Isomorphic Strings [E]\n",
    "\n",
    "Given two strings `s` and `t`, determine if they are isomorphic.\n",
    "\n",
    "Two strings `s` and `t` are isomorphic if the characters in `s` can be replaced to get `t`.\n",
    "\n",
    "All occurrences of a character must be replaced with another character while preserving the order of characters. No two characters may map to the same character, but a character may map to itself.\n",
    "\n"
   ]
  },
  {
   "cell_type": "code",
   "execution_count": 154,
   "id": "e8bf514e",
   "metadata": {},
   "outputs": [],
   "source": [
    "from collections import defaultdict\n",
    "\n",
    "class Solution:\n",
    "    def isIsomorphic(self, s: str, t: str) -> bool:\n",
    "        if len(s) != len(t):\n",
    "            return False\n",
    "        \n",
    "        count_s = defaultdict(int)\n",
    "        count_t = defaultdict(int)\n",
    "\n",
    "        for i in range(0,len(s)):\n",
    "            count_s[s[i]] += 1\n",
    "            count_t[t[i]] += 1\n",
    "\n",
    "            # print(count_s.values(), count_t.values())\n",
    "            if list(count_s.values()) != list(count_t.values()):\n",
    "                return False\n",
    "            \n",
    "        return True\n"
   ]
  },
  {
   "cell_type": "code",
   "execution_count": null,
   "id": "d9f3d350",
   "metadata": {},
   "outputs": [],
   "source": [
    "class Solution:\n",
    "    def isIsomorphic(self, s: str, t: str) -> bool:\n",
    "\n",
    "        mapping_s_t = {}\n",
    "        mapping_t_s = {}\n",
    "\n",
    "        for c1, c2 in zip(s, t):\n",
    "\n",
    "            # Case 1: No mapping exists in either of the dictionaries\n",
    "            if (c1 not in mapping_s_t) and (c2 not in mapping_t_s):\n",
    "                mapping_s_t[c1] = c2\n",
    "                mapping_t_s[c2] = c1\n",
    "\n",
    "            # Case 2: Either mapping doesn't exist in one of the dictionaries or Mapping exists and\n",
    "            # it doesn't match in either of the dictionaries or both\n",
    "            elif mapping_s_t.get(c1) != c2 or mapping_t_s.get(c2) != c1:\n",
    "                return False\n",
    "\n",
    "        return True"
   ]
  },
  {
   "cell_type": "code",
   "execution_count": 155,
   "id": "cd67d4fb",
   "metadata": {},
   "outputs": [
    {
     "data": {
      "text/plain": [
       "True"
      ]
     },
     "execution_count": 155,
     "metadata": {},
     "output_type": "execute_result"
    }
   ],
   "source": [
    "sol = Solution()\n",
    "\n",
    "s = \"egg\"\n",
    "t = \"add\"\n",
    "\n",
    "s = \"foo\"\n",
    "t = \"bar\"\n",
    "\n",
    "s = \"paper\"\n",
    "t = \"title\"\n",
    "\n",
    "sol.isIsomorphic(s, t)\n"
   ]
  },
  {
   "cell_type": "markdown",
   "id": "1c1e2537",
   "metadata": {},
   "source": [
    "### 290. Word Pattern [E]\n",
    "\n",
    "Given a `pattern` and a string `s`, find if `s` follows the same pattern.\n",
    "\n",
    "Here follow means a full match, such that there is a bijection between a letter in `pattern` and a non-empty word in `s`. Specifically:\n",
    "\n",
    "* Each letter in `pattern` maps to exactly one unique word in `s`.\n",
    "\n",
    "* Each unique word in `s` maps to exactly one letter in `pattern`.\n",
    "\n",
    "* No two letters map to the same word, and no two words map to the same letter."
   ]
  },
  {
   "cell_type": "code",
   "execution_count": null,
   "id": "d5bc024d",
   "metadata": {},
   "outputs": [],
   "source": [
    "class Solution:\n",
    "    def wordPattern(self, pattern: str, s: str) -> bool:\n",
    "        map_s_p = defaultdict(str)\n",
    "        map_p_s = defaultdict(str)\n",
    "\n",
    "        ss = list(str.split(s, ' '))\n",
    "\n",
    "        if len(pattern) != len(ss):\n",
    "            return False\n",
    "\n",
    "        for i in range(0,len(pattern)):\n",
    "            # If no mapping exists\n",
    "            if (ss[i] not in map_s_p) and (pattern[i] not in map_p_s):\n",
    "                map_s_p[ss[i]] = pattern[i]\n",
    "                map_p_s[pattern[i]] = ss[i]\n",
    "\n",
    "            elif (map_s_p[ss[i]] != pattern[i]) or (map_p_s[pattern[i]] != ss[i]):\n",
    "                return False\n",
    "            \n",
    "        return True\n"
   ]
  },
  {
   "cell_type": "code",
   "execution_count": 170,
   "id": "965995d8",
   "metadata": {},
   "outputs": [
    {
     "data": {
      "text/plain": [
       "False"
      ]
     },
     "execution_count": 170,
     "metadata": {},
     "output_type": "execute_result"
    }
   ],
   "source": [
    "sol = Solution()\n",
    "\n",
    "pattern = \"abba\"\n",
    "s = \"dog cat cat dog\"\n",
    "\n",
    "pattern = \"abba\"\n",
    "s = \"dog cat cat fish\"\n",
    "\n",
    "sol.wordPattern(pattern, s)"
   ]
  },
  {
   "cell_type": "markdown",
   "id": "5915810f",
   "metadata": {},
   "source": [
    "### 791. Custom Sort String [M]\n",
    "\n",
    "You are given two strings `order` and `s`. All the characters of order are `unique` and were sorted in some custom order previously.\n",
    "\n",
    "Permute the characters of `s` so that they match the order that `order` was sorted. More specifically, if a character `x` occurs before a character `y` in `order`, then `x` should occur before `y` in the permuted string.\n",
    "\n",
    "Return any permutation of `s` that satisfies this property."
   ]
  },
  {
   "cell_type": "code",
   "execution_count": null,
   "id": "3e6e0a69",
   "metadata": {},
   "outputs": [],
   "source": [
    "from collections import defaultdict, Counter\n",
    "\n",
    "class Solution:\n",
    "    def customSortString(self, order: str, s: str) -> str:\n",
    "        order_dict = defaultdict(int)\n",
    "        for i in range(0,len(order)):\n",
    "            order_dict[order[i]] = i # holds ordered index of character\n",
    "\n",
    "        s_counter = Counter(s)\n",
    "        \n",
    "        s1 = [''] * len(order) # ch from s found in order\n",
    "        s2 = []                 # ch from s not found order, append to end\n",
    "\n",
    "        for j in range(0,len(s)):\n",
    "            if s[j] in order:\n",
    "                s1[ order_dict[s[j]] ] = s[j]*s_counter[s[j]]\n",
    "            else:\n",
    "                s2.append(s[j])\n",
    "\n",
    "        return ''.join(s1 + s2)\n"
   ]
  },
  {
   "cell_type": "code",
   "execution_count": 199,
   "id": "7f51007c",
   "metadata": {},
   "outputs": [
    {
     "data": {
      "text/plain": [
       "'kqeep'"
      ]
     },
     "execution_count": 199,
     "metadata": {},
     "output_type": "execute_result"
    }
   ],
   "source": [
    "sol = Solution()\n",
    "\n",
    "order = \"cba\"\n",
    "s = \"abcd\"\n",
    "\n",
    "order = \"kqep\"\n",
    "s = \"pekeq\"\n",
    "\n",
    "sol.customSortString(order, s)"
   ]
  },
  {
   "cell_type": "markdown",
   "id": "af5e7af1",
   "metadata": {},
   "source": [
    "### 1657. Determine if Two Strings Are Close [M]\n",
    "\n",
    "Two strings are considered close if you can attain one from the other using the following operations:\n",
    "\n",
    "* Operation 1: Swap any two existing characters.\n",
    "\n",
    "    * For example, abcde -> aecdb\n",
    "\n",
    "* Operation 2: Transform every occurrence of one existing character into another existing character, and do the same with the other character.\n",
    "\n",
    "    * For example, aacabb -> bbcbaa (all a's turn into b's, and all b's turn into a's)\n",
    "\n",
    "You can use the operations on either string as many times as necessary.\n",
    "\n",
    "Given two strings, `word1` and `word2`, return `true` if `word1` and `word2` are close, and `false` otherwise."
   ]
  },
  {
   "cell_type": "code",
   "execution_count": 10,
   "id": "e3c9b86a",
   "metadata": {},
   "outputs": [],
   "source": [
    "from collections import Counter\n",
    "class Solution:\n",
    "    def closeStrings(self, word1: str, word2: str) -> bool:\n",
    "        # i.e. only frequency distribution of characters matter, since character mapping can change, and order can change\n",
    "        c1 = Counter(word1)\n",
    "        c2 = Counter(word2)\n",
    "\n",
    "        s1 = set(word1)\n",
    "        s2 = set(word2)\n",
    "\n",
    "        if (sorted(c1.values()) == sorted(c2.values())) & (s1 == s2):\n",
    "            return True\n",
    "        else:\n",
    "            return False"
   ]
  },
  {
   "cell_type": "code",
   "execution_count": 12,
   "id": "2b315787",
   "metadata": {},
   "outputs": [
    {
     "data": {
      "text/plain": [
       "False"
      ]
     },
     "execution_count": 12,
     "metadata": {},
     "output_type": "execute_result"
    }
   ],
   "source": [
    "sol = Solution()\n",
    "\n",
    "word1 = \"abc\"\n",
    "word2 = \"bca\"\n",
    "\n",
    "word1 = \"a\"\n",
    "word2 = \"aa\"\n",
    "\n",
    "word1 = \"cabbba\"\n",
    "word2 = \"abbccc\"\n",
    "\n",
    "word1 = \"uau\"\n",
    "word2 = \"ssx\"\n",
    "\n",
    "sol.closeStrings(word1, word2)"
   ]
  },
  {
   "cell_type": "markdown",
   "id": "8cf54b52",
   "metadata": {},
   "source": [
    "## Other"
   ]
  },
  {
   "cell_type": "markdown",
   "id": "56e7f932",
   "metadata": {},
   "source": [
    "### 12. Integer to Roman [M]\n",
    "\n",
    "Roman numerals are formed by appending the conversions of decimal place values from highest to lowest. Converting a decimal place value into a Roman numeral has the following rules:\n",
    "\n",
    "* If the value does not start with 4 or 9, select the symbol of the maximal value that can be subtracted from the input, append that symbol to the result, subtract its value, and convert the remainder to a Roman numeral.\n",
    "\n",
    "* If the value starts with 4 or 9 use the subtractive form representing one symbol subtracted from the following symbol, for example, 4 is 1 (I) less than 5 (V): IV and 9 is 1 (I) less than 10 (X): IX. Only the following subtractive forms are used: 4 (IV), 9 (IX), 40 (XL), 90 (XC), 400 (CD) and 900 (CM).\n",
    "\n",
    "* Only powers of 10 (I, X, C, M) can be appended consecutively at most 3 times to represent multiples of 10. You cannot append 5 (V), 50 (L), or 500 (D) multiple times. If you need to append a symbol 4 times use the subtractive form.\n",
    "\n",
    "Given an integer, convert it to a Roman numeral."
   ]
  },
  {
   "cell_type": "code",
   "execution_count": 60,
   "id": "bb8d5038",
   "metadata": {},
   "outputs": [],
   "source": [
    "class Solution:\n",
    "    def intToRoman(self, num: int) -> str:\n",
    "        th = num//1000\n",
    "        th_r = num%1000\n",
    "\n",
    "        hu = th_r//100\n",
    "        hu_r = th_r%100\n",
    "\n",
    "        te = hu_r//10\n",
    "\n",
    "        on = hu_r%10 # te_r\n",
    "\n",
    "        m = 'M'*th\n",
    "\n",
    "        if hu == 9:\n",
    "            c = 'CM'\n",
    "        elif hu == 4:\n",
    "            c = 'CD'\n",
    "        else:\n",
    "            if hu >= 5:\n",
    "                c = 'D' + 'C'*(hu-5)\n",
    "            else:\n",
    "                c = 'C'*hu\n",
    "\n",
    "        if te == 9:\n",
    "            x = 'XC'\n",
    "        elif te == 4:\n",
    "            x = 'XL'\n",
    "        else:\n",
    "            if te >= 5:\n",
    "                x = 'L' + 'X'*(te-5)\n",
    "            else:\n",
    "                x = 'X'*te\n",
    "\n",
    "        if on == 9:\n",
    "            i = 'IX'\n",
    "        elif on == 4:\n",
    "            i = 'IV'\n",
    "        else:\n",
    "            if on >= 5:\n",
    "                i = 'V' + 'I'*(on-5)\n",
    "            else:\n",
    "                i = 'I'*on\n",
    "\n",
    "        return m + c + x + i\n",
    "\n"
   ]
  },
  {
   "cell_type": "code",
   "execution_count": 61,
   "id": "fd6498fb",
   "metadata": {},
   "outputs": [
    {
     "data": {
      "text/plain": [
       "'I'"
      ]
     },
     "execution_count": 61,
     "metadata": {},
     "output_type": "execute_result"
    }
   ],
   "source": [
    "sol = Solution()\n",
    "\n",
    "num = 3749\n",
    "num = 58\n",
    "num = 900\n",
    "num = 1994\n",
    "num = 1\n",
    "\n",
    "sol.intToRoman(num)"
   ]
  },
  {
   "cell_type": "markdown",
   "id": "80b96b1f",
   "metadata": {},
   "source": [
    "### 13. Roman to Integer [E]\n",
    "\n",
    "Roman numerals are represented by seven different symbols: I, V, X, L, C, D and M.\n",
    "\n",
    "Symbol       Value\n",
    "\n",
    "I             1\n",
    "\n",
    "V             5\n",
    "\n",
    "X             10\n",
    "\n",
    "L             50\n",
    "\n",
    "C             100\n",
    "\n",
    "D             500\n",
    "\n",
    "M             1000\n",
    "\n",
    "For example, 2 is written as II in Roman numeral, just two ones added together. 12 is written as XII, which is simply X + II. The number 27 is written as XXVII, which is XX + V + II.\n",
    "\n",
    "Roman numerals are usually written largest to smallest from left to right. However, the numeral for four is not IIII. Instead, the number four is written as IV. Because the one is before the five we subtract it making four. The same principle applies to the number nine, which is written as IX. There are six instances where subtraction is used:\n",
    "\n",
    "* I can be placed before V (5) and X (10) to make 4 and 9.\n",
    "\n",
    "* X can be placed before L (50) and C (100) to make 40 and 90.\n",
    "\n",
    "* C can be placed before D (500) and M (1000) to make 400 and 900.\n",
    "\n",
    "Given a roman numeral, convert it to an integer."
   ]
  },
  {
   "cell_type": "code",
   "execution_count": 132,
   "id": "6e94931e",
   "metadata": {},
   "outputs": [],
   "source": [
    "class Solution:\n",
    "    def romanToInt(self, s: str) -> int:\n",
    "        curr = 0\n",
    "        for i in range(0,len(s)):\n",
    "\n",
    "            if s[i] == 'M':\n",
    "                curr += 1000\n",
    "            elif s[i] == 'D':\n",
    "                curr += 500\n",
    "            elif s[i] == 'C':\n",
    "                if i != len(s)-1:\n",
    "                    if s[i+1] == 'M':\n",
    "                        curr -= 100\n",
    "                    elif s[i+1] == 'D':\n",
    "                        curr -= 100\n",
    "                    else:\n",
    "                        curr += 100\n",
    "                else:\n",
    "                    curr += 100\n",
    "            elif s[i] == 'L':\n",
    "                curr += 50\n",
    "            elif s[i] == 'X':\n",
    "                if i != len(s)-1:\n",
    "                    if s[i+1] == 'L':\n",
    "                        curr -= 10\n",
    "                    elif s[i+1] == 'C':\n",
    "                        curr -= 10\n",
    "                    else:\n",
    "                        curr += 10\n",
    "                else:\n",
    "                    curr += 10\n",
    "            elif s[i] == 'V':\n",
    "                curr += 5\n",
    "            elif s[i] == 'I':\n",
    "                if i != len(s)-1:\n",
    "                    if s[i+1] == 'V':\n",
    "                        curr -= 1\n",
    "                    elif s[i+1] == 'X':\n",
    "                        curr -= 1\n",
    "                    else:\n",
    "                        curr += 1\n",
    "                else:\n",
    "                    curr += 1\n",
    "\n",
    "            # print(f's={i}, curr={curr}')\n",
    "\n",
    "        return curr"
   ]
  },
  {
   "cell_type": "code",
   "execution_count": 133,
   "id": "15af9bfd",
   "metadata": {},
   "outputs": [
    {
     "data": {
      "text/plain": [
       "1476"
      ]
     },
     "execution_count": 133,
     "metadata": {},
     "output_type": "execute_result"
    }
   ],
   "source": [
    "sol = Solution()\n",
    "\n",
    "s = \"III\"\n",
    "s = \"LVIII\"\n",
    "s = \"MCMXCIV\"\n",
    "s = \"MCDLXXVI\"\n",
    "\n",
    "sol.romanToInt(s)\n"
   ]
  },
  {
   "cell_type": "markdown",
   "id": "6fc16a44",
   "metadata": {},
   "source": [
    "### 17. Letter Combinations of a Phone Number [M]\n",
    "\n",
    "Given a string containing digits from 2-9 inclusive, return all possible letter combinations that the number could represent. Return the answer in any order.\n",
    "\n",
    "A mapping of digits to letters (just like on the telephone buttons) is given below. Note that 1 does not map to any letters."
   ]
  },
  {
   "cell_type": "code",
   "execution_count": null,
   "id": "e1469e21",
   "metadata": {},
   "outputs": [],
   "source": [
    "# Ugh, hard! But beats 100%...\n",
    "\n",
    "from collections import defaultdict\n",
    "\n",
    "class Solution:\n",
    "    def letterCombinations(self, digits: str) -> List[str]:\n",
    "        if digits == '':\n",
    "            return []\n",
    "        \n",
    "        d = defaultdict(str)\n",
    "\n",
    "        d['2'] = ['a', 'b', 'c']\n",
    "        d['3'] = ['d', 'e', 'f']\n",
    "        d['4'] = ['g', 'h', 'i']\n",
    "        d['5'] = ['j', 'k', 'l']\n",
    "        d['6'] = ['m', 'n', 'o']\n",
    "        d['7'] = ['p', 'q', 'r', 's']\n",
    "        d['8'] = ['t', 'u', 'v']\n",
    "        d['9'] = ['w', 'x', 'y', 'z']\n",
    "\n",
    "        length = 1\n",
    "        for k in range(0,len(digits)):\n",
    "            length *= len(d[digits[k]])\n",
    "\n",
    "        # print(f'length={length}')\n",
    "        ans = []\n",
    "        # ans = [[] * len(digits) for _ in range(length)] #########\n",
    "\n",
    "        # print(ans)\n",
    "\n",
    "        rep_length = length\n",
    "\n",
    "        for n in range(0,len(digits)): # [2, 3]\n",
    "            # print(f'n={n},{d[digits[n]]}')\n",
    "            rep_length = int(rep_length/len(d[digits[n]])) # How many times to repeat the first character? totoal length / character_length\n",
    "            rep_times = int(length/rep_length/len(d[digits[n]]))\n",
    "            # print(rep_length, rep_times)\n",
    "\n",
    "            for time in range(0, rep_times):\n",
    "\n",
    "                for i in range(0,len(d[digits[n]])): # [a, b c]\n",
    "                    \n",
    "                    for ilen in range(0,rep_length):\n",
    "\n",
    "                        # print(d[digits[n]][i] ) # * rep_length\n",
    "                        ans.append(d[digits[n]][i])\n",
    "\n",
    "        ans2 = [[''] * len(digits) for _ in range(length)] #########\n",
    "        i = 0\n",
    "        for n in range(len(digits)):\n",
    "            for k in range(length):\n",
    "                ans2[k][n] = ans[i]\n",
    "                i += 1\n",
    "\n",
    "        return [''.join(row) for row in ans2]\n"
   ]
  },
  {
   "cell_type": "code",
   "execution_count": 361,
   "id": "78cd35d1",
   "metadata": {},
   "outputs": [
    {
     "data": {
      "text/plain": [
       "[]"
      ]
     },
     "execution_count": 361,
     "metadata": {},
     "output_type": "execute_result"
    }
   ],
   "source": [
    "sol = Solution()\n",
    "\n",
    "digits = \"23\"\n",
    "# digits = \"339\"\n",
    "digits = \"\"\n",
    "# digits = \"2\"\n",
    "\n",
    "\n",
    "sol.letterCombinations(digits)"
   ]
  },
  {
   "cell_type": "markdown",
   "id": "6980dbdd",
   "metadata": {},
   "source": [
    "### 36. Valid Sudoku [M]\n",
    "\n",
    "Determine if a 9 x 9 Sudoku board is valid. Only the filled cells need to be validated according to the following rules:\n",
    "\n",
    "* Each row must contain the digits 1-9 without repetition.\n",
    "\n",
    "* Each column must contain the digits 1-9 without repetition.\n",
    "\n",
    "* Each of the nine 3 x 3 sub-boxes of the grid must contain the digits 1-9 without repetition.\n",
    "\n",
    "Note:\n",
    "\n",
    "* A Sudoku board (partially filled) could be valid but is not necessarily solvable.\n",
    "\n",
    "* Only the filled cells need to be validated according to the mentioned rules."
   ]
  },
  {
   "cell_type": "code",
   "execution_count": 428,
   "id": "b63a159e",
   "metadata": {},
   "outputs": [],
   "source": [
    "from collections import defaultdict, Counter\n",
    "\n",
    "class Solution:\n",
    "    def isValidSudoku(self, board: List[List[str]]) -> bool:\n",
    "        \n",
    "        def checkList(listValues):\n",
    "            c = Counter(listValues)\n",
    "            del c['.']\n",
    "            if len(list(c.values())) == 0:\n",
    "                return True\n",
    "\n",
    "            if max(list(c.values())) > 1:\n",
    "                return False\n",
    "            else:\n",
    "                return True\n",
    "\n",
    "        d = defaultdict(int)\n",
    "\n",
    "        # Check rows\n",
    "        for i in range(0,9):\n",
    "            # print(board[i])\n",
    "            if checkList(board[i]) == False:\n",
    "                return False\n",
    "\n",
    "        # Check columns\n",
    "        for j in range(0,9):\n",
    "            col = []\n",
    "            for i in range(0,9):\n",
    "                col.append(board[i][j])\n",
    "\n",
    "            print(col)\n",
    "            if checkList(col) == False:\n",
    "                return False\n",
    "            print(col)\n",
    "\n",
    "        # Check squares\n",
    "        for j2 in range(0,3):\n",
    "            for i2 in range(0,3):\n",
    "                squ = []\n",
    "                for j in range(0 + (3*j2), 3 + (3*j2)):\n",
    "                    for i in range(0 + (3*i2), 3 + (3*i2)):\n",
    "                        squ.append(board[i][j])\n",
    "\n",
    "                if checkList(squ) == False:\n",
    "                    return False\n",
    "\n",
    "        return True"
   ]
  },
  {
   "cell_type": "code",
   "execution_count": 429,
   "id": "e7dc9a06",
   "metadata": {},
   "outputs": [
    {
     "name": "stdout",
     "output_type": "stream",
     "text": [
      "['.', '.', '5', '.', '4', '.', '.', '.', '.']\n",
      "['.', '.', '5', '.', '4', '.', '.', '.', '.']\n",
      "['.', '.', '.', '.', '.', '.', '.', '.', '.']\n",
      "['.', '.', '.', '.', '.', '.', '.', '.', '.']\n",
      "['4', '.', '.', '.', '3', '.', '.', '.', '.']\n",
      "['4', '.', '.', '.', '3', '.', '.', '.', '.']\n",
      "['.', '.', '.', '5', '.', '7', '5', '.', '.']\n"
     ]
    },
    {
     "data": {
      "text/plain": [
       "False"
      ]
     },
     "execution_count": 429,
     "metadata": {},
     "output_type": "execute_result"
    }
   ],
   "source": [
    "sol = Solution()\n",
    "\n",
    "board = [\n",
    " [\"5\",\"3\",\".\",\".\",\"7\",\".\",\".\",\".\",\".\"]\n",
    ",[\"6\",\".\",\".\",\"1\",\"9\",\"5\",\".\",\".\",\".\"]\n",
    ",[\".\",\"9\",\"8\",\".\",\".\",\".\",\".\",\"6\",\".\"]\n",
    ",[\"8\",\".\",\".\",\".\",\"6\",\".\",\".\",\".\",\"3\"]\n",
    ",[\"4\",\".\",\".\",\"8\",\".\",\"3\",\".\",\".\",\"1\"]\n",
    ",[\"7\",\".\",\".\",\".\",\"2\",\".\",\".\",\".\",\"6\"]\n",
    ",[\".\",\"6\",\".\",\".\",\".\",\".\",\"2\",\"8\",\".\"]\n",
    ",[\".\",\".\",\".\",\"4\",\"1\",\"9\",\".\",\".\",\"5\"]\n",
    ",[\".\",\".\",\".\",\".\",\"8\",\".\",\".\",\"7\",\"9\"]]\n",
    "\n",
    "board = [\n",
    " [\"8\",\"3\",\".\",\".\",\"7\",\".\",\".\",\".\",\".\"]\n",
    ",[\"6\",\".\",\".\",\"1\",\"9\",\"5\",\".\",\".\",\".\"]\n",
    ",[\".\",\"9\",\"8\",\".\",\".\",\".\",\".\",\"6\",\".\"]\n",
    ",[\"8\",\".\",\".\",\".\",\"6\",\".\",\".\",\".\",\"3\"]\n",
    ",[\"4\",\".\",\".\",\"8\",\".\",\"3\",\".\",\".\",\"1\"]\n",
    ",[\"7\",\".\",\".\",\".\",\"2\",\".\",\".\",\".\",\"6\"]\n",
    ",[\".\",\"6\",\".\",\".\",\".\",\".\",\"2\",\"8\",\".\"]\n",
    ",[\".\",\".\",\".\",\"4\",\"1\",\"9\",\".\",\".\",\"5\"]\n",
    ",[\".\",\".\",\".\",\".\",\"8\",\".\",\".\",\"7\",\"9\"]]\n",
    "\n",
    "board = [[\".\",\".\",\".\",\".\",\".\",\".\",\".\",\".\",\".\"],[\".\",\".\",\".\",\".\",\".\",\".\",\".\",\".\",\".\"],[\".\",\".\",\".\",\".\",\".\",\".\",\".\",\".\",\".\"],[\".\",\".\",\".\",\".\",\".\",\".\",\".\",\".\",\".\"],[\".\",\".\",\".\",\".\",\".\",\".\",\".\",\".\",\".\"],[\".\",\".\",\".\",\".\",\".\",\".\",\".\",\".\",\".\"],[\".\",\".\",\".\",\".\",\".\",\".\",\".\",\".\",\".\"],[\".\",\".\",\".\",\".\",\".\",\".\",\".\",\".\",\".\"],[\".\",\".\",\".\",\".\",\".\",\".\",\".\",\".\",\".\"]]\n",
    "\n",
    "board = [[\".\",\".\",\"4\",\".\",\".\",\".\",\"6\",\"3\",\".\"],[\".\",\".\",\".\",\".\",\".\",\".\",\".\",\".\",\".\"],[\"5\",\".\",\".\",\".\",\".\",\".\",\".\",\"9\",\".\"],[\".\",\".\",\".\",\"5\",\"6\",\".\",\".\",\".\",\".\"],[\"4\",\".\",\"3\",\".\",\".\",\".\",\".\",\".\",\"1\"],[\".\",\".\",\".\",\"7\",\".\",\".\",\".\",\".\",\".\"],[\".\",\".\",\".\",\"5\",\".\",\".\",\".\",\".\",\".\"],[\".\",\".\",\".\",\".\",\".\",\".\",\".\",\".\",\".\"],[\".\",\".\",\".\",\".\",\".\",\".\",\".\",\".\",\".\"]]\n",
    "\n",
    "sol.isValidSudoku(board)"
   ]
  },
  {
   "cell_type": "markdown",
   "id": "914682a5",
   "metadata": {},
   "source": [
    "### 438. Find All Anagrams in a String [M]\n",
    "\n",
    "Given two strings `s` and `p`, return an array of all the start indices of `p`'s anagrams in `s`. You may return the answer in any order."
   ]
  },
  {
   "cell_type": "code",
   "execution_count": null,
   "id": "206281d2",
   "metadata": {},
   "outputs": [],
   "source": [
    "from collections import defaultdict\n",
    "\n",
    "class Solution:\n",
    "    def findAnagrams(self, s: str, p: str) -> List[int]:\n",
    "\n",
    "        if len(s) < len(p):\n",
    "            return []\n",
    "        \n",
    "        ans = []\n",
    "        dp = defaultdict(int)\n",
    "        for c in p:\n",
    "            dp[c] += 1\n",
    "\n",
    "        ds = defaultdict(int)\n",
    "\n",
    "        for i in range(0,len(p)):\n",
    "            ds[s[i]] += 1\n",
    "\n",
    "        left = 0\n",
    "\n",
    "        # print(f'pre it {dict(sorted(dp.items()))}, {dict(sorted(ds.items()))}')\n",
    "        if dict(sorted(dp.items())) == dict(sorted(ds.items())):\n",
    "            ans.append(left)\n",
    "       \n",
    "        for right in range(len(p),len(s)):\n",
    "            # Append right\n",
    "            ds[s[right]] += 1\n",
    "\n",
    "            # Pop left\n",
    "            if ds[s[left]] == 1:\n",
    "                del ds[s[left]]\n",
    "            elif ds[s[left]] > 1:\n",
    "                ds[s[left]] -= 1\n",
    "\n",
    "            left += 1\n",
    "            \n",
    "            # print(f'left={left}, {dict(sorted(dp.items()))}, {dict(sorted(ds.items()))}')\n",
    "            if dict(sorted(dp.items())) == dict(sorted(ds.items())):\n",
    "                ans.append(left)\n",
    "\n",
    "        return ans\n"
   ]
  },
  {
   "cell_type": "code",
   "execution_count": 458,
   "id": "37b948c2",
   "metadata": {},
   "outputs": [
    {
     "name": "stdout",
     "output_type": "stream",
     "text": [
      "pre it {'a': 1, 'b': 1, 'c': 1}, {'a': 1, 'b': 1, 'c': 1}\n",
      "left=1, {'a': 1, 'b': 1, 'c': 1}, {'a': 1, 'b': 1, 'e': 1}\n",
      "left=2, {'a': 1, 'b': 1, 'c': 1}, {'a': 1, 'b': 1, 'e': 1}\n",
      "left=3, {'a': 1, 'b': 1, 'c': 1}, {'a': 1, 'b': 1, 'e': 1}\n",
      "left=4, {'a': 1, 'b': 1, 'c': 1}, {'a': 1, 'b': 2}\n",
      "left=5, {'a': 1, 'b': 1, 'c': 1}, {'a': 2, 'b': 1}\n",
      "left=6, {'a': 1, 'b': 1, 'c': 1}, {'a': 1, 'b': 1, 'c': 1}\n",
      "left=7, {'a': 1, 'b': 1, 'c': 1}, {'a': 1, 'c': 1, 'd': 1}\n"
     ]
    },
    {
     "data": {
      "text/plain": [
       "[0, 6]"
      ]
     },
     "execution_count": 458,
     "metadata": {},
     "output_type": "execute_result"
    }
   ],
   "source": [
    "sol = Solution()\n",
    "\n",
    "s = \"cbaebabacd\"\n",
    "p = \"abc\"\n",
    "\n",
    "sol.findAnagrams(s, p)\n"
   ]
  }
 ],
 "metadata": {
  "kernelspec": {
   "display_name": "LeetCode",
   "language": "python",
   "name": "python3"
  },
  "language_info": {
   "codemirror_mode": {
    "name": "ipython",
    "version": 3
   },
   "file_extension": ".py",
   "mimetype": "text/x-python",
   "name": "python",
   "nbconvert_exporter": "python",
   "pygments_lexer": "ipython3",
   "version": "3.11.9"
  }
 },
 "nbformat": 4,
 "nbformat_minor": 5
}
