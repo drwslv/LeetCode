{
 "cells": [
  {
   "cell_type": "markdown",
   "metadata": {},
   "source": [
    "# Linked Lists"
   ]
  },
  {
   "cell_type": "code",
   "execution_count": 1,
   "metadata": {},
   "outputs": [],
   "source": [
    "from typing import List\n",
    "from typing import Optional"
   ]
  },
  {
   "cell_type": "markdown",
   "metadata": {},
   "source": [
    "## Ex: Insert and Remove Nodes (Singly)"
   ]
  },
  {
   "cell_type": "code",
   "execution_count": 634,
   "metadata": {},
   "outputs": [],
   "source": [
    "class ListNode:\n",
    "    def __init__(self, val):\n",
    "        self.val = val\n",
    "        self.next = None\n",
    "\n",
    "# Let prev_node be the node at position i - 1\n",
    "def add_node(prev_node, node_to_add):\n",
    "    node_to_add.next = prev_node.next\n",
    "    prev_node.next = node_to_add\n",
    "\n",
    "# Let prev_node be the node at position i - 1\n",
    "def delete_node(prev_node):\n",
    "    prev_node.next = prev_node.next.next"
   ]
  },
  {
   "cell_type": "markdown",
   "metadata": {},
   "source": [
    "## Ex: Insert and Remove Nodes (Doubly)"
   ]
  },
  {
   "cell_type": "code",
   "execution_count": 635,
   "metadata": {},
   "outputs": [],
   "source": [
    "class ListNode:\n",
    "    def __init__(self, val):\n",
    "        self.val = val\n",
    "        self.next = None\n",
    "        self.prev = None\n",
    "\n",
    "# Let node be the node at position i\n",
    "def add_node(node, node_to_add):\n",
    "    prev_node = node.prev\n",
    "    node_to_add.next = node\n",
    "    node_to_add.prev = prev_node\n",
    "    prev_node.next = node_to_add\n",
    "    node.prev = node_to_add\n",
    "\n",
    "# Let node be the node at position i\n",
    "def delete_node(node):\n",
    "    prev_node = node.prev\n",
    "    next_node = node.next\n",
    "    prev_node.next = next_node\n",
    "    next_node.prev = prev_node"
   ]
  },
  {
   "cell_type": "markdown",
   "metadata": {},
   "source": [
    "## Ex: Insert and Remove Starting/Enging Nodes (Doubly)"
   ]
  },
  {
   "cell_type": "code",
   "execution_count": 636,
   "metadata": {},
   "outputs": [],
   "source": [
    "class ListNode:\n",
    "    def __init__(self, val):\n",
    "        self.val = val\n",
    "        self.next = None\n",
    "        self.prev = None\n",
    "\n",
    "def add_to_end(node_to_add):\n",
    "    node_to_add.next = tail\n",
    "    node_to_add.prev = tail.prev\n",
    "    tail.prev.next = node_to_add\n",
    "    tail.prev = node_to_add\n",
    "\n",
    "def remove_from_end():\n",
    "    if head.next == tail:\n",
    "        return\n",
    "\n",
    "    node_to_remove = tail.prev\n",
    "    node_to_remove.prev.next = tail\n",
    "    tail.prev = node_to_remove.prev\n",
    "\n",
    "def add_to_start(node_to_add):\n",
    "    node_to_add.prev = head\n",
    "    node_to_add.next = head.next\n",
    "    head.next.prev = node_to_add\n",
    "    head.next = node_to_add\n",
    "\n",
    "def remove_from_start():\n",
    "    if head.next == tail:\n",
    "        return\n",
    "    \n",
    "    node_to_remove = head.next\n",
    "    node_to_remove.next.prev = head\n",
    "    head.next = node_to_remove.next\n",
    "\n",
    "head = ListNode(None)\n",
    "tail = ListNode(None)\n",
    "head.next = tail\n",
    "tail.prev = head"
   ]
  },
  {
   "cell_type": "markdown",
   "metadata": {},
   "source": [
    "## Ex: Implement doubly linked list and sum elements"
   ]
  },
  {
   "cell_type": "code",
   "execution_count": 637,
   "metadata": {},
   "outputs": [
    {
     "data": {
      "text/plain": [
       "6"
      ]
     },
     "execution_count": 637,
     "metadata": {},
     "output_type": "execute_result"
    }
   ],
   "source": [
    "class ListNode:\n",
    "    def __init__(self, val):\n",
    "        self.val = val\n",
    "        self.next = None\n",
    "        self.prev = None\n",
    "    \n",
    "# Write your code here\n",
    "# Try creating 1 <-> 2 <-> 3\n",
    "# Test with print()\n",
    "\n",
    "one = ListNode(1)\n",
    "two = ListNode(2)\n",
    "three = ListNode(3)\n",
    "head = ListNode(None)\n",
    "tail = ListNode(None)\n",
    "\n",
    "head.next = one\n",
    "tail.prev = three\n",
    "\n",
    "one.prev = head\n",
    "one.next = two\n",
    "two.prev = one\n",
    "two.next = three\n",
    "three.prev = two\n",
    "three.next = tail\n",
    "\n",
    "def sumll(head):\n",
    "    dummy = head\n",
    "    ans = 0\n",
    "    while dummy:\n",
    "        if dummy.val != None:\n",
    "            ans += dummy.val\n",
    "            \n",
    "        dummy = dummy.next\n",
    "\n",
    "    return ans\n",
    "\n",
    "sumll(head)"
   ]
  },
  {
   "cell_type": "markdown",
   "metadata": {},
   "source": [
    "## Ex: Return Middle Node\n",
    "\n",
    "Given the head of a linked list with an odd number of nodes head, return the value of the node in the middle.\n",
    "\n",
    "For example, given a linked list that represents `1 -> 2 -> 3 -> 4 -> 5`, return `3`."
   ]
  },
  {
   "cell_type": "code",
   "execution_count": 638,
   "metadata": {},
   "outputs": [],
   "source": [
    "# Brute force, iterate through all nodes\n",
    "def get_middle(head):\n",
    "    length = 0\n",
    "    dummy = head\n",
    "    while dummy:\n",
    "        length += 1\n",
    "        dummy = dummy.next\n",
    "    \n",
    "    for _ in range(length // 2):\n",
    "        head = head.next\n",
    "    \n",
    "    return head.val"
   ]
  },
  {
   "cell_type": "code",
   "execution_count": 639,
   "metadata": {},
   "outputs": [],
   "source": [
    "# Fast and slow pointers\n",
    "def get_middle(head):\n",
    "    slow = head\n",
    "    fast = head\n",
    "    while fast and fast.next:\n",
    "        slow = slow.next\n",
    "        fast = fast.next.next\n",
    "    \n",
    "    return slow.val"
   ]
  },
  {
   "cell_type": "markdown",
   "metadata": {},
   "source": [
    "## (141) Linked List Cycle [Easy]\n",
    "\n",
    "Given the `head` of a linked list, determine if the linked list has a cycle.\n",
    "\n",
    "There is a cycle in a linked list if there is some node in the list that can be reached again by continuously following the `next` pointer. Internally, `pos` is used to denote the index of the node that tail's next pointer is connected to. Note that `pos` is not passed as a parameter.\n",
    "\n",
    "Return `true` if there is a cycle in the linked list. Otherwise, return `false`."
   ]
  },
  {
   "cell_type": "code",
   "execution_count": 640,
   "metadata": {},
   "outputs": [],
   "source": [
    "# Pointers\n",
    "class Solution:\n",
    "    def hasCycle(self, head: Optional[ListNode]) -> bool:\n",
    "        slow = head\n",
    "        fast = head\n",
    "        while fast and fast.next:\n",
    "            slow = slow.next\n",
    "            fast = fast.next.next\n",
    "            if slow == fast:\n",
    "                return True\n",
    "\n",
    "        return False"
   ]
  },
  {
   "cell_type": "code",
   "execution_count": 641,
   "metadata": {},
   "outputs": [],
   "source": [
    "# Hash tables\n",
    "class Solution:\n",
    "    def hasCycle(self, head: Optional[ListNode]) -> bool:\n",
    "        seen = set()\n",
    "        while head:\n",
    "            if head in seen:\n",
    "                return True\n",
    "            seen.add(head)\n",
    "            head = head.next\n",
    "        return False"
   ]
  },
  {
   "cell_type": "markdown",
   "metadata": {},
   "source": [
    "## Ex: Kth Node From End\n",
    "\n",
    "Given the head of a linked list and an integer `k`, return the $k^{th}$ node from the end.\n",
    "\n",
    "For example, given the linked list that represents` 1 -> 2 -> 3 -> 4 -> 5` and `k = 2`, return the node with value `4`, as it is the $2^{nd}$ node from the end."
   ]
  },
  {
   "cell_type": "code",
   "execution_count": 642,
   "metadata": {},
   "outputs": [],
   "source": [
    "def find_node(head, k):\n",
    "    slow = head\n",
    "    fast = head\n",
    "    for _ in range(k):\n",
    "        fast = fast.next\n",
    "    \n",
    "    while fast:\n",
    "        slow = slow.next\n",
    "        fast = fast.next\n",
    "    \n",
    "    return slow"
   ]
  },
  {
   "cell_type": "markdown",
   "metadata": {},
   "source": [
    "Can't we also just iterate to the end, and then return `tail.prev.prev`?"
   ]
  },
  {
   "cell_type": "markdown",
   "metadata": {},
   "source": [
    "## Linked List template"
   ]
  },
  {
   "cell_type": "code",
   "execution_count": 2,
   "metadata": {},
   "outputs": [],
   "source": [
    "class ListNode:\n",
    "    def __init__(self, val=0, next=None):\n",
    "        self.val = val\n",
    "        self.next = next\n",
    "\n",
    "class DoublyListNode:\n",
    "    def __init__(self, val=0, next=None, prev=None):\n",
    "        self.val = val\n",
    "        self.next = next\n",
    "        self.prev = prev\n",
    "\n",
    "def build_linked_list(values: List[int]) -> Optional[ListNode]:\n",
    "    if not values:\n",
    "        return None\n",
    "    head = ListNode(values[0])\n",
    "    current = head\n",
    "    for value in values[1:]:\n",
    "        current.next = ListNode(value)\n",
    "        current = current.next\n",
    "    return head\n",
    "\n",
    "def print_linked_list(head: Optional[ListNode]) -> None:\n",
    "    current = head\n",
    "    while current:\n",
    "        print(current.val, end=\" -> \")\n",
    "        current = current.next\n",
    "    print(\"None\")\n",
    "\n",
    "def build_doubly_linked_list(values: List[int]) -> Optional[DoublyListNode]:\n",
    "    if not values:\n",
    "        return None\n",
    "    head = DoublyListNode(values[0])\n",
    "    current = head\n",
    "    for value in values[1:]:\n",
    "        new_node = DoublyListNode(value)\n",
    "        current.next = new_node\n",
    "        new_node.prev = current\n",
    "        current = new_node\n",
    "    return head\n",
    "\n",
    "def print_doubly_linked_list(head: Optional[DoublyListNode]) -> None:\n",
    "    current = head\n",
    "    while current:\n",
    "        print(f\"({current.prev.val if current.prev else 'None'}) <- {current.val} -> ({current.next.val if current.next else 'None'})\", end=\" <-> \")\n",
    "        current = current.next\n",
    "    print(\"None\")\n",
    "\n"
   ]
  },
  {
   "cell_type": "code",
   "execution_count": 644,
   "metadata": {},
   "outputs": [
    {
     "name": "stdout",
     "output_type": "stream",
     "text": [
      "1 -> 2 -> 3 -> 4 -> 5 -> None\n"
     ]
    }
   ],
   "source": [
    "values = [1, 2, 3, 4, 5]\n",
    "head = build_linked_list(values)\n",
    "print_linked_list(head)"
   ]
  },
  {
   "cell_type": "markdown",
   "metadata": {},
   "source": [
    "## (876) Middle of the Linked List [Easy]\n",
    "\n",
    "Given the head of a singly linked list, return the middle node of the linked list.\n",
    "\n",
    "If there are two middle nodes, return the second middle node."
   ]
  },
  {
   "cell_type": "code",
   "execution_count": 645,
   "metadata": {},
   "outputs": [],
   "source": [
    "# Definition for singly-linked list.\n",
    "class ListNode:\n",
    "    def __init__(self, val=0, next=None):\n",
    "        self.val = val\n",
    "        self.next = next\n",
    "\n",
    "class Solution:\n",
    "    def middleNode(self, head: Optional[ListNode]) -> Optional[ListNode]:\n",
    "        fast = head\n",
    "        slow = head\n",
    "\n",
    "        while fast and fast.next:\n",
    "            slow = slow.next\n",
    "            fast = fast.next.next # Points to none in last iteration\n",
    "\n",
    "        return slow"
   ]
  },
  {
   "cell_type": "code",
   "execution_count": 646,
   "metadata": {},
   "outputs": [
    {
     "name": "stdout",
     "output_type": "stream",
     "text": [
      "1 -> 2 -> None\n"
     ]
    }
   ],
   "source": [
    "node1 = ListNode(1)\n",
    "node2 = ListNode(2)\n",
    "node1.next = node2\n",
    "head = node1\n",
    "print_linked_list(head)"
   ]
  },
  {
   "cell_type": "code",
   "execution_count": 647,
   "metadata": {},
   "outputs": [
    {
     "data": {
      "text/plain": [
       "2"
      ]
     },
     "execution_count": 647,
     "metadata": {},
     "output_type": "execute_result"
    }
   ],
   "source": [
    "sol = Solution()\n",
    "sol.middleNode(head).val"
   ]
  },
  {
   "cell_type": "markdown",
   "metadata": {},
   "source": [
    "## (83) Remove Duplicates from Sorted List [Easy]\n",
    "\n",
    "Given the head of a sorted linked list, delete all duplicates such that each element appears only once. Return the linked list sorted as well."
   ]
  },
  {
   "cell_type": "code",
   "execution_count": 648,
   "metadata": {},
   "outputs": [],
   "source": [
    "# Definition for singly-linked list.\n",
    "class ListNode:\n",
    "    def __init__(self, val=0, next=None):\n",
    "        self.val = val\n",
    "        self.next = next\n",
    "\n",
    "# Beats 62.87% of submissions\n",
    "class Solution:\n",
    "    def deleteDuplicates(self, head: Optional[ListNode]) -> Optional[ListNode]:\n",
    "        current = head\n",
    "\n",
    "        while current and current.next:\n",
    "            while current and current.next and (current.val == current.next.val):\n",
    "                current.next = current.next.next\n",
    "\n",
    "            current = current.next\n",
    "\n",
    "        return head\n",
    "    \n",
    "# LeetCode solution\n",
    "class Solution:\n",
    "    def deleteDuplicates(self, head: ListNode) -> ListNode:\n",
    "        current = head\n",
    "        while current is not None and current.next is not None:\n",
    "            if current.next.val == current.val:\n",
    "                current.next = current.next.next\n",
    "            else:\n",
    "                current = current.next\n",
    "        return head\n"
   ]
  },
  {
   "cell_type": "code",
   "execution_count": 649,
   "metadata": {},
   "outputs": [
    {
     "name": "stdout",
     "output_type": "stream",
     "text": [
      "1 -> 1 -> 1 -> 1 -> 2 -> 3 -> 3 -> None\n",
      "1 -> 2 -> 3 -> None\n"
     ]
    }
   ],
   "source": [
    "values = [1, 1, 1, 1, 2, 3, 3]\n",
    "inLL = build_linked_list(values)\n",
    "print_linked_list(inLL)\n",
    "\n",
    "sol = Solution()\n",
    "outLL = sol.deleteDuplicates(inLL)\n",
    "print_linked_list(outLL)\n"
   ]
  },
  {
   "cell_type": "markdown",
   "metadata": {},
   "source": [
    "## Reversing Linked Lists"
   ]
  },
  {
   "cell_type": "code",
   "execution_count": 650,
   "metadata": {},
   "outputs": [],
   "source": [
    "def reverseLinkedList(head: Optional[ListNode]) -> Optional[ListNode]:\n",
    "    current = head\n",
    "\n",
    "    current = current.next # Advance\n",
    "\n",
    "    current.prev.next = None # New tail\n",
    "    current.prev.prev = current\n",
    "\n",
    "    while current and current.next:\n",
    "        current = current.next # Advance\n",
    "        current.prev.next = current.prev.prev\n",
    "        current.prev.prev = current\n",
    "\n",
    "    # last node\n",
    "    current.next = current.prev\n",
    "    current.prev = None\n",
    "\n",
    "\n",
    "    return current"
   ]
  },
  {
   "cell_type": "code",
   "execution_count": 651,
   "metadata": {},
   "outputs": [],
   "source": [
    "# LeetCode solution\n",
    "def reverse_list(head):\n",
    "    prev = None\n",
    "    curr = head\n",
    "    while curr:\n",
    "        next_node = curr.next # first, make sure we don't lose the next node\n",
    "        curr.next = prev      # reverse the direction of the pointer\n",
    "        prev = curr           # set the current node to prev for the next node\n",
    "        curr = next_node      # move on\n",
    "        \n",
    "    return prev"
   ]
  },
  {
   "cell_type": "code",
   "execution_count": 652,
   "metadata": {},
   "outputs": [
    {
     "name": "stdout",
     "output_type": "stream",
     "text": [
      "(None) <- 1 -> (2) <-> (1) <- 2 -> (3) <-> (2) <- 3 -> (4) <-> (3) <- 4 -> (None) <-> None\n",
      "(None) <- 4 -> (3) <-> (4) <- 3 -> (2) <-> (3) <- 2 -> (1) <-> (2) <- 1 -> (None) <-> None\n",
      "(None) <- 1 -> (2) <-> (1) <- 2 -> (3) <-> (2) <- 3 -> (4) <-> (3) <- 4 -> (None) <-> None\n",
      "(3) <- 4 -> (3) <-> (2) <- 3 -> (2) <-> (1) <- 2 -> (1) <-> (None) <- 1 -> (None) <-> None\n"
     ]
    }
   ],
   "source": [
    "values = [1, 2, 3, 4]\n",
    "inLL = build_doubly_linked_list(values)\n",
    "print_doubly_linked_list(inLL)\n",
    "outLL = reverseLinkedList(inLL)\n",
    "print_doubly_linked_list(outLL)\n",
    "\n",
    "values = [1, 2, 3, 4]\n",
    "inLL = build_doubly_linked_list(values)\n",
    "print_doubly_linked_list(inLL)\n",
    "outLL2 = reverse_list(inLL) # Slightly different; does not resolve prev for node 1\n",
    "print_doubly_linked_list(outLL2)"
   ]
  },
  {
   "cell_type": "markdown",
   "metadata": {},
   "source": [
    "## (24) Swap Nodes in Pairs [Medium]\n",
    "\n",
    "Given the head of a linked list, swap every pair of nodes. For example, given a linked list `1 -> 2 -> 3 -> 4 -> 5 -> 6`, return a linked list `2 -> 1 -> 4 -> 3 -> 6 -> 5`.\n",
    "\n"
   ]
  },
  {
   "cell_type": "code",
   "execution_count": 653,
   "metadata": {},
   "outputs": [],
   "source": [
    "# Beats 5.24% of submissions\n",
    "def swapPairs(head):\n",
    "    current = head # current is node1\n",
    "\n",
    "    if not head:\n",
    "        return head\n",
    "    \n",
    "    if not head.next:\n",
    "        return head\n",
    "\n",
    "    head = current.next\n",
    "\n",
    "    if current.next.next: # If there's anothe pair coming up\n",
    "        nextNode = current.next.next # next pair start at node3\n",
    "    else:\n",
    "        nextNode = None\n",
    "\n",
    "    current.next.prev = None # node2.prev = None\n",
    "    current.next.next = current # node2.next = node1\n",
    "    current.prev = current.next # node1 prev is node2\n",
    "    current.next = nextNode # node1 next is node3\n",
    "\n",
    "    if nextNode:\n",
    "        nextNode.prev = current\n",
    "    \n",
    "    current = nextNode # Advance\n",
    "\n",
    "    while current and current.next: # node3 and node4\n",
    "        nextNode = current.next.next # save the start of next pair, node5\n",
    "\n",
    "        current.next.prev = current.prev # node4.prev = node3.prev (node1)\n",
    "        current.next.next = current # node4.next = node 3\n",
    "\n",
    "        current.prev.next = current.next # node1.next = node4\n",
    "\n",
    "        current.prev = current.next # node3.prev = node4\n",
    "        current.next = nextNode # node3.next = node5\n",
    "\n",
    "        if nextNode:\n",
    "            nextNode.prev = current # node5.prev = node3\n",
    "\n",
    "        current = nextNode\n",
    "\n",
    "    return head"
   ]
  },
  {
   "cell_type": "code",
   "execution_count": 654,
   "metadata": {},
   "outputs": [
    {
     "name": "stdout",
     "output_type": "stream",
     "text": [
      "(None) <- 1 -> (2) <-> (1) <- 2 -> (3) <-> (2) <- 3 -> (4) <-> (3) <- 4 -> (None) <-> None\n",
      "(None) <- 2 -> (1) <-> (2) <- 1 -> (4) <-> (1) <- 4 -> (3) <-> (4) <- 3 -> (None) <-> None\n"
     ]
    }
   ],
   "source": [
    "values = [1, 2, 3, 4]\n",
    "inLL = build_doubly_linked_list(values)\n",
    "print_doubly_linked_list(inLL)\n",
    "outLL = swapPairs(inLL)\n",
    "print_doubly_linked_list(outLL)"
   ]
  },
  {
   "cell_type": "code",
   "execution_count": 655,
   "metadata": {},
   "outputs": [],
   "source": [
    "# LeetCode solution\n",
    "class Solution:\n",
    "    def swapPairs(self, head: ListNode) -> ListNode:\n",
    "        # Check edge case: linked list has 0 or 1 nodes, just return\n",
    "        if not head or not head.next:\n",
    "            return head\n",
    "\n",
    "        dummy = head.next               # Step 5\n",
    "        prev = None                     # Initialize for step 3\n",
    "        while head and head.next:\n",
    "            if prev:\n",
    "                prev.next = head.next   # Step 4\n",
    "            prev = head                 # Step 3\n",
    "\n",
    "            next_node = head.next.next  # Step 2\n",
    "            head.next.next = head       # Step 1\n",
    "\n",
    "            head.next = next_node       # Step 6\n",
    "            head = next_node            # Move to next pair (Step 3)\n",
    "\n",
    "        return dummy"
   ]
  },
  {
   "cell_type": "markdown",
   "metadata": {},
   "source": [
    "## (2130) Maximum Twin Sum of a Linked List [Medium]\n",
    "\n",
    "In a linked list of size `n`, where `n` is even, the `ith` node (0-indexed) of the linked list is known as the twin of the `(n-1-i)th` node, if `0 <= i <= (n / 2) - 1`.\n",
    "\n",
    "For example, if `n = 4`, then node `0` is the twin of node `3`, and node `1` is the twin of node `2`. These are the only nodes with twins for `n = 4`.\n",
    "The twin sum is defined as the sum of a node and its twin.\n",
    "\n",
    "Given the head of a linked list with even length, return the maximum twin sum of the linked list."
   ]
  },
  {
   "cell_type": "code",
   "execution_count": 656,
   "metadata": {},
   "outputs": [],
   "source": [
    "# Beats 5.03% of submissions\n",
    "\n",
    "# Definition for singly-linked list.\n",
    "# class ListNode:\n",
    "#     def __init__(self, val=0, next=None):\n",
    "#         self.val = val\n",
    "#         self.next = next\n",
    "class Solution:\n",
    "    def pairSum(self, head: Optional[ListNode]) -> int:\n",
    "        slow = head\n",
    "        fast = head\n",
    "\n",
    "        while fast and fast.next.next:\n",
    "            slow = slow.next\n",
    "            fast = fast.next.next\n",
    "   \n",
    "        # print(f'slow: {slow.val}')\n",
    "        # print(f'fast: {fast.val}')\n",
    "\n",
    "        head2 = slow.next # head of second half\n",
    "        slow.next = fast.next # loop skips the last one\n",
    "\n",
    "        it1 = head\n",
    "        it2 = slow.next\n",
    "\n",
    "        # Reverse linked list\n",
    "        prev = None\n",
    "        while head2:\n",
    "            next_node = head2.next # Save for iteration\n",
    "            head2.next = prev # Redirect the pointer to target\n",
    "            prev = head2 # Save target for next iteration\n",
    "            head2 = next_node # Iterate one\n",
    "\n",
    "        twinSum = 0 # Node.val will be strictly positive\n",
    "\n",
    "        while it1 and it2:\n",
    "            currSum = it1.val + it2.val\n",
    "            twinSum = max(twinSum, currSum)\n",
    "            it1 = it1.next\n",
    "            it2 = it2.next\n",
    "\n",
    "        return twinSum\n",
    "\n",
    "        "
   ]
  },
  {
   "cell_type": "code",
   "execution_count": 657,
   "metadata": {},
   "outputs": [
    {
     "name": "stdout",
     "output_type": "stream",
     "text": [
      "1 -> 100000 -> None\n"
     ]
    }
   ],
   "source": [
    "values = [1, 2, 3, 4, 5, 6]\n",
    "values = [4, 2, 2, 3]\n",
    "values = [1, 100000]\n",
    "head = build_linked_list(values)\n",
    "print_linked_list(head)"
   ]
  },
  {
   "cell_type": "code",
   "execution_count": 658,
   "metadata": {},
   "outputs": [
    {
     "data": {
      "text/plain": [
       "100001"
      ]
     },
     "execution_count": 658,
     "metadata": {},
     "output_type": "execute_result"
    }
   ],
   "source": [
    "sol = Solution()\n",
    "# print_linked_list(sol.pairSum(head))\n",
    "sol.pairSum(head)"
   ]
  },
  {
   "cell_type": "markdown",
   "metadata": {},
   "source": [
    "## (92) Reverse Linked List II [Medium]\n",
    "\n",
    "Given the `head` of a singly linked list and two integers `left` and `right` where `left <= right`, reverse the nodes of the list from position `left` to position `right`, and return the reversed list."
   ]
  },
  {
   "cell_type": "code",
   "execution_count": 659,
   "metadata": {},
   "outputs": [],
   "source": [
    "# Beats 92.71% of submissons (after a few tries)\n",
    "\n",
    "# Definition for singly-linked list.\n",
    "# class ListNode:\n",
    "#     def __init__(self, val=0, next=None):\n",
    "#         self.val = val\n",
    "#         self.next = next\n",
    "class Solution:\n",
    "    def reverseBetween(self, head: Optional[ListNode], left: int, right: int) -> Optional[ListNode]:\n",
    "        i = 1\n",
    "        left_prev_node = None\n",
    "        right_next_node = None\n",
    "\n",
    "        dummy = head\n",
    "        while dummy:\n",
    "            if i == left - 1:\n",
    "                left_prev_node = dummy\n",
    "            if i == left:\n",
    "                left_node = dummy\n",
    "            if i == right:\n",
    "                right_node = dummy\n",
    "            if i == right + 1:\n",
    "                right_next_node = dummy\n",
    "            dummy = dummy.next\n",
    "            i += 1\n",
    "\n",
    "        # print(f'left_prev val {left_prev_node.val}')\n",
    "        # print(f'left val {left_node.val}')\n",
    "        # print(f'right val {right_node.val}')\n",
    "        # print(f'right_next val {right_next_node.val}')\n",
    "\n",
    "        prev = right_next_node\n",
    "        curr = left_node\n",
    "\n",
    "        j = 0\n",
    "        while j < right - left + 1: # an extra iteration will put it into an inf loop\n",
    "            next_node = curr.next # save\n",
    "            curr.next = prev # redirect pointer\n",
    "            prev = curr # update prev\n",
    "            curr = next_node # update head / advance\n",
    "            j += 1\n",
    "\n",
    "        if left_prev_node:\n",
    "            left_prev_node.next = prev\n",
    "        else:\n",
    "            head = prev\n",
    "\n",
    "        return head\n",
    "\n"
   ]
  },
  {
   "cell_type": "code",
   "execution_count": 660,
   "metadata": {},
   "outputs": [
    {
     "name": "stdout",
     "output_type": "stream",
     "text": [
      "3 -> 5 -> None\n"
     ]
    }
   ],
   "source": [
    "values = [1, 2, 3, 4, 5]\n",
    "values = [3, 5]\n",
    "head = build_linked_list(values)\n",
    "print_linked_list(head)"
   ]
  },
  {
   "cell_type": "code",
   "execution_count": 661,
   "metadata": {},
   "outputs": [
    {
     "name": "stdout",
     "output_type": "stream",
     "text": [
      "5 -> 3 -> None\n"
     ]
    }
   ],
   "source": [
    "sol = Solution()\n",
    "result = sol.reverseBetween(head, 1, 2)\n",
    "print_linked_list(result)"
   ]
  },
  {
   "cell_type": "markdown",
   "metadata": {},
   "source": [
    "# Linked Lists - Bonus"
   ]
  },
  {
   "cell_type": "markdown",
   "metadata": {},
   "source": [
    "## (2095) Delete the Middle Node of a Linked List [Medium]\n",
    "\n",
    "You are given the `head` of a linked list. Delete the middle node, and return the head of the modified linked list.\n",
    "\n",
    "The middle node of a linked list of size `n` is the `⌊n / 2⌋th` node from the start using **0-based indexing**, where `⌊x⌋` denotes the largest integer less than or equal to `x`.\n",
    "\n",
    "For `n` = `1`, `2`, `3`, `4`, and `5`, the middle nodes are `0`, `1`, `1`, `2`, and `2`, respectively."
   ]
  },
  {
   "cell_type": "code",
   "execution_count": 662,
   "metadata": {},
   "outputs": [],
   "source": [
    "# Beats 5.06% of submission\n",
    "\n",
    "# Definition for singly-linked list.\n",
    "# class ListNode:\n",
    "#     def __init__(self, val=0, next=None):\n",
    "#         self.val = val\n",
    "#     self.next = next\n",
    "class Solution:\n",
    "    def deleteMiddle(self, head: Optional[ListNode]) -> Optional[ListNode]:\n",
    "        slow = head\n",
    "        fast = head\n",
    "\n",
    "        if not head.next:\n",
    "            return None\n",
    "\n",
    "        while fast and fast.next:\n",
    "            slow_prev = slow\n",
    "            slow = slow.next\n",
    "            fast = fast.next.next # Last element will point to None\n",
    "\n",
    "        # if fast: # odd\n",
    "        #     mid_node = slow\n",
    "        #     print(f'odd, mid node val: {mid_node.val}') \n",
    "        # else:\n",
    "        #     mid_node = slow\n",
    "        #     print(f'even, mid node val: {mid_node.val}')\n",
    "\n",
    "        # mid_node = slow\n",
    "        # print(f'del mid node with val {mid_node.val}')\n",
    "\n",
    "        slow_prev.next = slow.next\n",
    "\n",
    "        return head\n"
   ]
  },
  {
   "cell_type": "code",
   "execution_count": 663,
   "metadata": {},
   "outputs": [
    {
     "name": "stdout",
     "output_type": "stream",
     "text": [
      "1 -> None\n"
     ]
    }
   ],
   "source": [
    "values = [1, 2]\n",
    "values = [1, 3, 4, 7, 1, 2, 6]\n",
    "values = [1, 2, 3, 4]\n",
    "values = [2, 1]\n",
    "values = [1]\n",
    "head = build_linked_list(values)\n",
    "print_linked_list(head)"
   ]
  },
  {
   "cell_type": "code",
   "execution_count": 664,
   "metadata": {},
   "outputs": [
    {
     "name": "stdout",
     "output_type": "stream",
     "text": [
      "None\n"
     ]
    }
   ],
   "source": [
    "sol = Solution()\n",
    "result = sol.deleteMiddle(head)\n",
    "print_linked_list(result)"
   ]
  },
  {
   "cell_type": "markdown",
   "metadata": {},
   "source": [
    "## (19) Remove Nth Node From End of List [Medium]\n",
    "\n",
    "Given the `head` of a linked list, remove the `nth` node from the end of the list and return its head."
   ]
  },
  {
   "cell_type": "code",
   "execution_count": 665,
   "metadata": {},
   "outputs": [],
   "source": [
    "# Beats 30.59% of submissions\n",
    "\n",
    "# Definition for singly-linked list.\n",
    "# class ListNode:\n",
    "#     def __init__(self, val=0, next=None):\n",
    "#         self.val = val\n",
    "#         self.next = next\n",
    "class Solution:\n",
    "    def removeNthFromEnd(self, head: Optional[ListNode], n: int) -> Optional[ListNode]:\n",
    "        curr = head\n",
    "        count = 1\n",
    "        while curr and curr.next: # So curr will not iterate past last node\n",
    "            curr = curr.next\n",
    "            count += 1\n",
    "\n",
    "        # n = 1 is last node; node to delete is `count - n` for 0-indexed\n",
    "\n",
    "        # If length is oen and n = 1, no nodes returned\n",
    "        if count == 1 and n == 1:\n",
    "            return None\n",
    "        \n",
    "        # First node is a special case; prev = none\n",
    "        if count - n == 0:\n",
    "            head = head.next\n",
    "            return head\n",
    "\n",
    "        curr = head\n",
    "        j = 0\n",
    "        while curr and curr.next:\n",
    "            # We want to delete node j = count - n\n",
    "            if j == count - n - 1: # Note before deletion\n",
    "                curr.next = curr.next.next\n",
    "                break\n",
    "            else:\n",
    "                j += 1\n",
    "                curr = curr.next\n",
    "\n",
    "        print(f'count: {count}')\n",
    "        print(f'delete: {count - n} (0-indexed)')\n",
    "        return head\n"
   ]
  },
  {
   "cell_type": "code",
   "execution_count": 666,
   "metadata": {},
   "outputs": [
    {
     "name": "stdout",
     "output_type": "stream",
     "text": [
      "1 -> 2 -> None\n"
     ]
    }
   ],
   "source": [
    "values = [1, 2, 3, 4, 5]\n",
    "values = [1, 2]\n",
    "head = build_linked_list(values)\n",
    "print_linked_list(head)"
   ]
  },
  {
   "cell_type": "code",
   "execution_count": 667,
   "metadata": {},
   "outputs": [
    {
     "name": "stdout",
     "output_type": "stream",
     "text": [
      "2 -> None\n"
     ]
    }
   ],
   "source": [
    "sol = Solution()\n",
    "result = sol.removeNthFromEnd(head, 2)\n",
    "print_linked_list(result)"
   ]
  },
  {
   "cell_type": "markdown",
   "metadata": {},
   "source": [
    "## (82) Remove Duplicates from Sorted List II [Medium]\n",
    "\n",
    "Given the `head` of a sorted linked list, delete all nodes that have duplicate numbers, leaving only distinct numbers from the original list. Return the linked list sorted as well."
   ]
  },
  {
   "cell_type": "code",
   "execution_count": 668,
   "metadata": {},
   "outputs": [],
   "source": [
    "# Beats 78.37% of submissions\n",
    "\n",
    "# Definition for singly-linked list.\n",
    "class ListNode:\n",
    "    def __init__(self, val=0, next=None):\n",
    "        self.val = val\n",
    "        self.next = next\n",
    "class Solution:\n",
    "    def deleteDuplicates(self, head: Optional[ListNode]) -> Optional[ListNode]:\n",
    "        prev_head = ListNode(0)\n",
    "        prev_head.next = head\n",
    "\n",
    "        seen1 = set()\n",
    "        seen2 = set()\n",
    "\n",
    "        curr = head\n",
    "        while curr:\n",
    "            if curr.val in seen1: # If duplicate\n",
    "                seen2.add(curr.val)\n",
    "            else:\n",
    "                seen1.add(curr.val)\n",
    "            curr = curr.next\n",
    "\n",
    "        prev = prev_head\n",
    "        curr = head\n",
    "        while curr:\n",
    "            if curr.val in seen2: # Delete duplicate\n",
    "                prev.next = curr.next\n",
    "            else:\n",
    "                prev = curr # only update if curr is not a duplicate\n",
    "            curr = curr.next\n",
    "\n",
    "            head = prev_head.next # head could be duplicate\n",
    "\n",
    "        return head"
   ]
  },
  {
   "cell_type": "code",
   "execution_count": 669,
   "metadata": {},
   "outputs": [
    {
     "name": "stdout",
     "output_type": "stream",
     "text": [
      "1 -> 1 -> 1 -> 2 -> 3 -> None\n"
     ]
    }
   ],
   "source": [
    "values = [1, 2, 3, 4, 5]\n",
    "values = [1, 2, 3, 3, 4, 4, 5]\n",
    "values = [1, 1, 1, 2, 3]\n",
    "head = build_linked_list(values)\n",
    "print_linked_list(head)"
   ]
  },
  {
   "cell_type": "code",
   "execution_count": 670,
   "metadata": {},
   "outputs": [
    {
     "name": "stdout",
     "output_type": "stream",
     "text": [
      "2 -> 3 -> None\n"
     ]
    }
   ],
   "source": [
    "sol = Solution()\n",
    "result = sol.deleteDuplicates(head)\n",
    "print_linked_list(result)"
   ]
  },
  {
   "cell_type": "markdown",
   "metadata": {},
   "source": [
    "## (1721) Swapping Nodes in a Linked List [Medium]\n",
    "\n",
    "You are given the `head` of a linked list, and an integer `k`.\n",
    "\n",
    "Return the head of the linked list after swapping the values of the `kth` node from the beginning and the kth node from the end (the list is 1-indexed)."
   ]
  },
  {
   "cell_type": "code",
   "execution_count": 671,
   "metadata": {},
   "outputs": [],
   "source": [
    "# Does not work if 2k > n\n",
    "\n",
    "# Definition for singly-linked list.\n",
    "class ListNode:\n",
    "    def __init__(self, val=0, next=None):\n",
    "        self.val = val\n",
    "        self.next = next\n",
    "class Solution:\n",
    "    def swapNodes(self, head: Optional[ListNode], k: int) -> Optional[ListNode]:\n",
    "        prev_head = ListNode(-1)\n",
    "        prev_head.next = head\n",
    "\n",
    "        prev = prev_head\n",
    "        curr1 = prev_head\n",
    "        curr2 = prev_head\n",
    "\n",
    "        for j in range(0,k): # Bump curr1 ahead of curr2 by k\n",
    "            curr1 = curr1.next\n",
    "        \n",
    "        # Assign node by to curr1 here, instead of below\n",
    "\n",
    "        i = 0\n",
    "        while curr1 and curr2: # when curr1 ends, curr2 will point to nodeB, because curr2 is k behind curr1\n",
    "            if i == k: # Node A\n",
    "                nodeA_prev = prev\n",
    "                nodeA = curr2\n",
    "\n",
    "            prev = curr2\n",
    "            curr2 = curr2.next\n",
    "            curr1 = curr1.next\n",
    "            i += 1\n",
    "        \n",
    "        # If no nodes to swap\n",
    "        if i == 1:\n",
    "            return prev_head.next\n",
    "\n",
    "        nodeB_prev = prev\n",
    "        nodeB = curr2\n",
    "\n",
    "        print(f'nodeA val: {nodeA.val}')\n",
    "        print(f'nodeA val prev: {nodeA_prev.val}')\n",
    "        print(f'nodeB val: {nodeB.val}')\n",
    "        print(f'nodeB val prev: {nodeB_prev.val}')\n",
    "\n",
    "        # If the swapped nodes are the same\n",
    "        if nodeA == nodeB:\n",
    "            return prev_head.next\n",
    "\n",
    "        continue_node = nodeB.next\n",
    "        nodeA_prev.next = nodeB\n",
    "\n",
    "        # If the swapped nodes are next to each other\n",
    "        if (nodeB_prev == nodeA) or (nodeA_prev == nodeB): \n",
    "            nodeB.next = nodeA\n",
    "        else:\n",
    "            nodeB.next = nodeA.next\n",
    "            nodeB_prev.next = nodeA\n",
    "\n",
    "        nodeA.next = continue_node\n",
    "\n",
    "        return prev_head.next"
   ]
  },
  {
   "cell_type": "code",
   "execution_count": 689,
   "metadata": {},
   "outputs": [],
   "source": [
    "# Beats 12.24% of submissions (hard!)\n",
    "# Should be swap the VALUES in the nodes, not the nodes themselves (!)\n",
    "\n",
    "# Definition for singly-linked list.\n",
    "class ListNode:\n",
    "    def __init__(self, val=0, next=None):\n",
    "        self.val = val\n",
    "        self.next = next\n",
    "class Solution:\n",
    "    def swapNodes(self, head: Optional[ListNode], k: int) -> Optional[ListNode]:\n",
    "        prev_head = ListNode(-1)\n",
    "        prev_head.next = head\n",
    "\n",
    "        prev = prev_head\n",
    "        curr = prev_head\n",
    "\n",
    "        # Loop over linked list to get n\n",
    "        n = 0\n",
    "        curr = prev_head\n",
    "        while curr and curr.next: # curr ends on last node\n",
    "            curr = curr.next\n",
    "            n += 1\n",
    "        \n",
    "        i = 0\n",
    "        curr = prev_head\n",
    "        while curr:\n",
    "            if i == k:\n",
    "                nodeA_prev = prev\n",
    "                nodeA = curr\n",
    "            if i == n + 1 - k:\n",
    "                nodeB_prev = prev\n",
    "                nodeB = curr\n",
    "\n",
    "            prev = curr\n",
    "            curr = curr.next\n",
    "            i += 1\n",
    "\n",
    "        # If no nodes to swap\n",
    "        if i == 1:\n",
    "            return prev_head.next\n",
    "\n",
    "        # print(f'n: {n}')\n",
    "        # print(f'nodeA val: {nodeA.val}')\n",
    "        # print(f'nodeA val prev: {nodeA_prev.val}')\n",
    "        # print(f'nodeB val: {nodeB.val}')\n",
    "        # print(f'nodeB val prev: {nodeB_prev.val}')\n",
    "\n",
    "        # If the swapped nodes are the same\n",
    "        if nodeA == nodeB:\n",
    "            return prev_head.next\n",
    "        \n",
    "        # If ks \"cross\" each other, i.e. k > n/2, nodeB is before nodeA, swap A and B\n",
    "        if k > n/2:\n",
    "            nodeA_init = nodeA\n",
    "            nodeA = nodeB\n",
    "            nodeB = nodeA_init\n",
    "            nodeA_prev_init = nodeA_prev\n",
    "            nodeA_prev = nodeB_prev\n",
    "            nodeB_prev = nodeA_prev_init\n",
    "\n",
    "        continue_node = nodeB.next\n",
    "        nodeA_prev.next = nodeB\n",
    "\n",
    "        # If the swapped nodes are next to each other\n",
    "        if (nodeB_prev == nodeA) or (nodeA_prev == nodeB): \n",
    "            nodeB.next = nodeA\n",
    "        else:\n",
    "            nodeB.next = nodeA.next\n",
    "            nodeB_prev.next = nodeA\n",
    "\n",
    "        nodeA.next = continue_node\n",
    "\n",
    "        return prev_head.next"
   ]
  },
  {
   "cell_type": "code",
   "execution_count": 690,
   "metadata": {},
   "outputs": [
    {
     "name": "stdout",
     "output_type": "stream",
     "text": [
      "1 -> 2 -> None\n"
     ]
    }
   ],
   "source": [
    "values = [1, 2, 3, 4, 5]\n",
    "values = [7, 9, 6, 6, 7, 8, 3, 0, 9, 5]\n",
    "values = [1]\n",
    "values = [1, 2]\n",
    "# values = [1, 2, 3]\n",
    "head = build_linked_list(values)\n",
    "print_linked_list(head)"
   ]
  },
  {
   "cell_type": "code",
   "execution_count": 691,
   "metadata": {},
   "outputs": [
    {
     "name": "stdout",
     "output_type": "stream",
     "text": [
      "n: 2\n",
      "nodeA val: 2\n",
      "nodeA val prev: 1\n",
      "nodeB val: 1\n",
      "nodeB val prev: -1\n",
      "2 -> 1 -> None\n"
     ]
    }
   ],
   "source": [
    "sol = Solution()\n",
    "result = sol.swapNodes(head, 2)\n",
    "print_linked_list(result)"
   ]
  },
  {
   "cell_type": "markdown",
   "metadata": {},
   "source": [
    "## (234) Palindrome Linked List [Easy]\n",
    "\n",
    "Given the `head` of a singly linked list, return `true` if it is a **palindrome** or `false` otherwise."
   ]
  },
  {
   "cell_type": "code",
   "execution_count": 164,
   "metadata": {},
   "outputs": [],
   "source": [
    "# Beats 69.53% of submissions\n",
    "\n",
    "# Definition for singly-linked list.\n",
    "class ListNode:\n",
    "    def __init__(self, val=0, next=None):\n",
    "        self.val = val\n",
    "        self.next = next\n",
    "class Solution:\n",
    "    def isPalindrome(self, head: Optional[ListNode]) -> bool:\n",
    "        slow = head\n",
    "        slow_prev = head\n",
    "        fast = head\n",
    "        fast_prev = head\n",
    "\n",
    "        # Find the midpoint and tail nodes\n",
    "        while fast and fast.next:\n",
    "            slow_prev = slow\n",
    "            slow = slow.next\n",
    "            fast_prev = fast.next # careful\n",
    "            fast = fast.next.next\n",
    "\n",
    "        # Length 1\n",
    "        if fast == slow:\n",
    "            print('length 1')\n",
    "            return True\n",
    "\n",
    "        if fast is not None:\n",
    "            # print('odd') # If odd length: fast ends at last node, slow is midpoint\n",
    "            tail = slow_prev\n",
    "            tail.next = None # Remove midpoint from first half\n",
    "            tail2 = fast\n",
    "            head2 = slow.next\n",
    "        else:\n",
    "            # print('even') # If even length: fast ends at None, slow is start of 2nd half\n",
    "            tail = slow_prev\n",
    "            tail.next = None\n",
    "            tail2 = fast_prev\n",
    "            head2 = slow\n",
    "\n",
    "        # print(f'head {head.val} : tail {tail.val}')\n",
    "        # print(f'head2 {head2.val} : tail2 {tail2.val}')\n",
    "\n",
    "        # Length 2 or 3\n",
    "        if head == tail and head2 == tail2:\n",
    "            if head.val == head2.val:\n",
    "                return True\n",
    "            else:\n",
    "                return False\n",
    "\n",
    "        # Length 4+\n",
    "        # Reverse second half\n",
    "        curr = head2\n",
    "        prev = None\n",
    "        while curr:\n",
    "            next_node = curr.next\n",
    "            curr.next = prev # redirect my pointer\n",
    "            prev = curr\n",
    "            curr = next_node\n",
    "        \n",
    "        # print_linked_list(head)\n",
    "        # print_linked_list(prev)\n",
    "\n",
    "        curr1 = head\n",
    "        curr2 = prev\n",
    "        while curr1 and curr2:\n",
    "            if curr1.val != curr2.val:\n",
    "                return False\n",
    "            \n",
    "            curr1 = curr1.next\n",
    "            curr2 = curr2.next\n",
    "\n",
    "        return True\n",
    "\n",
    "        "
   ]
  },
  {
   "cell_type": "code",
   "execution_count": 162,
   "metadata": {},
   "outputs": [
    {
     "name": "stdout",
     "output_type": "stream",
     "text": [
      "5 -> 5 -> None\n"
     ]
    }
   ],
   "source": [
    "values = [1, 2, 3, 4, 5, 6, 7, 8]\n",
    "values = [1, 2, 2, 1]\n",
    "values = [5, 5]\n",
    "head = build_linked_list(values)\n",
    "print_linked_list(head)"
   ]
  },
  {
   "cell_type": "code",
   "execution_count": 163,
   "metadata": {},
   "outputs": [
    {
     "name": "stdout",
     "output_type": "stream",
     "text": [
      "head 5 : tail 5\n",
      "head2 5 : tail2 5\n",
      "True\n"
     ]
    }
   ],
   "source": [
    "sol = Solution()\n",
    "result = sol.isPalindrome(head)\n",
    "# print_linked_list(result)\n",
    "print(result)"
   ]
  },
  {
   "cell_type": "markdown",
   "metadata": {},
   "source": [
    "## (2074) Reverse Nodes in Even Length Groups [Medium]\n",
    "\n",
    "You are given the `head` of a linked list.\n",
    "\n",
    "The nodes in the linked list are **sequentially** assigned to **non-empty** groups whose lengths form the sequence of the natural numbers `(1, 2, 3, 4, ...)`. The length of a group is the number of nodes assigned to it. In other words,\n",
    "\n",
    "* The `1st` node is assigned to the first group.\n",
    "\n",
    "* The `2nd` and the `3rd` nodes are assigned to the second group.\n",
    "* The `4th`, `5th`, and `6th` nodes are assigned to the third group, and so on.\n",
    "\n",
    "Note that the length of the last group may be less than or equal to `1 + the length of the second to last group`.\n",
    "\n",
    "Reverse the nodes in each group with an even length, and return the `head` *of the modified linked list*."
   ]
  },
  {
   "cell_type": "code",
   "execution_count": 267,
   "metadata": {},
   "outputs": [],
   "source": [
    "# Beats 24.20% of submissions\n",
    "\n",
    "# Definition for singly-linked list.\n",
    "class ListNode:\n",
    "    def __init__(self, val=0, next=None):\n",
    "        self.val = val\n",
    "        self.next = next\n",
    "class Solution:\n",
    "    def reverseEvenLengthGroups(self, head: Optional[ListNode]) -> Optional[ListNode]:\n",
    "        curr = head\n",
    "        prev = None\n",
    "        i = 1 # iteration within group\n",
    "        g = 1 # group number\n",
    "        while curr:\n",
    "            # Identify start and end of groups\n",
    "            first = curr\n",
    "            while i != g and curr.next: \n",
    "                curr = curr.next\n",
    "                i += 1\n",
    "            last = curr\n",
    "            print(f'group {i}: {first.val}-{last.val}')\n",
    "            if i == 2: # If length is 2\n",
    "                print(f'even: reverse group {i}')\n",
    "                next_node = last.next\n",
    "                prev_last.next = last\n",
    "                last.next = first\n",
    "                first.next = next_node\n",
    "                # Reset curr and last for next iteration\n",
    "                last = first # last is the previous first/nodeA\n",
    "                curr = last\n",
    "            \n",
    "            if i % 2 == 0 and i > 2: # If length is 4 or more (evens only)\n",
    "                print(f'even: reverse group {i}')\n",
    "                last_next = last.next # after group\n",
    "                first_prev = prev_last # before group\n",
    "                first_prev.next = last\n",
    "                currR = first\n",
    "                prevR = last_next\n",
    "                while currR != last_next:\n",
    "                    next_node = currR.next\n",
    "                    currR.next = prevR\n",
    "                    prevR = currR\n",
    "                    currR = next_node\n",
    "                \n",
    "                # Reset curr and last for next iteration\n",
    "                last = first # last is the previous first/nodeA\n",
    "                curr = last                \n",
    "\n",
    "            i = 1\n",
    "            g += 1\n",
    "            prev_last = last\n",
    "            curr = curr.next\n",
    "\n",
    "        return head\n"
   ]
  },
  {
   "cell_type": "code",
   "execution_count": 268,
   "metadata": {},
   "outputs": [
    {
     "name": "stdout",
     "output_type": "stream",
     "text": [
      "5 -> 2 -> 6 -> 3 -> 9 -> 1 -> 7 -> 3 -> 8 -> 4 -> None\n"
     ]
    }
   ],
   "source": [
    "values = [1, 2, 3, 4, 5, 6, 7, 8, 9, 10, 11, 12, 13, 14, 15, 16, 17, 18, 19, 20, 21]\n",
    "values = [5,2,6,3,9,1,7,3,8,4]\n",
    "# values = [1,1,0,6]\n",
    "# values = [1,1,0,6,5]\n",
    "# values = [1, 2, 3, 4, 5]\n",
    "head = build_linked_list(values)\n",
    "print_linked_list(head)"
   ]
  },
  {
   "cell_type": "code",
   "execution_count": 269,
   "metadata": {},
   "outputs": [
    {
     "name": "stdout",
     "output_type": "stream",
     "text": [
      "group 1: 5-5\n",
      "group 2: 2-6\n",
      "even: reverse group 2\n",
      "group 3: 3-1\n",
      "group 4: 7-4\n",
      "even: reverse group 4\n",
      "5 -> 6 -> 2 -> 3 -> 9 -> 1 -> 4 -> 8 -> 3 -> 7 -> None\n"
     ]
    }
   ],
   "source": [
    "sol = Solution()\n",
    "result = sol.reverseEvenLengthGroups(head)\n",
    "print_linked_list(result)"
   ]
  },
  {
   "cell_type": "markdown",
   "metadata": {},
   "source": [
    "## (203) Remove Linked List Elements [Easy]\n",
    "\n",
    "Given the `head` of a linked list and an integer `val`, remove all the nodes of the linked list that has `Node.val == val`, and return the new `head`."
   ]
  },
  {
   "cell_type": "code",
   "execution_count": 289,
   "metadata": {},
   "outputs": [],
   "source": [
    "# Beats 43.70 % of submissions\n",
    "\n",
    "# Definition for singly-linked list.\n",
    "class ListNode:\n",
    "    def __init__(self, val=0, next=None):\n",
    "        self.val = val\n",
    "        self.next = next\n",
    "class Solution:\n",
    "    def removeElements(self, head: Optional[ListNode], val: int) -> Optional[ListNode]:\n",
    "        head_prev = ListNode(-1)\n",
    "        head_prev.next = head\n",
    "\n",
    "        curr = head\n",
    "        prev = head_prev\n",
    "        while curr:\n",
    "            if curr.val == val: # Delete this node\n",
    "                prev.next = curr.next\n",
    "            else:\n",
    "                prev = curr\n",
    "            \n",
    "            curr = curr.next\n",
    "\n",
    "        return head_prev.next"
   ]
  },
  {
   "cell_type": "code",
   "execution_count": 301,
   "metadata": {},
   "outputs": [
    {
     "name": "stdout",
     "output_type": "stream",
     "text": [
      "1 -> 2 -> 3 -> 4 -> 5 -> None\n"
     ]
    }
   ],
   "source": [
    "values = [1, 2, 3, 4, 5]\n",
    "# values = [7, 7, 7, 7]\n",
    "# values = []\n",
    "head = build_linked_list(values)\n",
    "print_linked_list(head)"
   ]
  },
  {
   "cell_type": "code",
   "execution_count": 302,
   "metadata": {},
   "outputs": [
    {
     "name": "stdout",
     "output_type": "stream",
     "text": [
      "1 -> 2 -> 4 -> 5 -> None\n"
     ]
    }
   ],
   "source": [
    "sol = Solution()\n",
    "result = sol.removeElements(head, 3)\n",
    "print_linked_list(result)"
   ]
  },
  {
   "cell_type": "markdown",
   "metadata": {},
   "source": [
    "## (1290) Convert Binary Number in a Linked List to Integer [Easy]\n",
    "\n",
    "Given `head` which is a reference node to a singly-linked list. The value of each node in the linked list is either `0` or `1`. The linked list holds the binary representation of a number.\n",
    "\n",
    "Return the decimal value of the number in the linked list.\n",
    "\n",
    "The most significant bit is at the head of the linked list."
   ]
  },
  {
   "cell_type": "code",
   "execution_count": 329,
   "metadata": {},
   "outputs": [],
   "source": [
    "# Beats 20.70% of submissions\n",
    "\n",
    "# Definition for singly-linked list.\n",
    "class ListNode:\n",
    "    def __init__(self, val=0, next=None):\n",
    "        self.val = val\n",
    "        self.next = next\n",
    "class Solution:\n",
    "    def getDecimalValue(self, head: ListNode) -> int:\n",
    "        numList = []\n",
    "        curr = head\n",
    "        while curr:\n",
    "            numList.append(curr.val)\n",
    "            curr = curr.next\n",
    "\n",
    "        numStr = ''.join(map(str, numList))\n",
    "        return int(numStr, 2)"
   ]
  },
  {
   "cell_type": "code",
   "execution_count": 334,
   "metadata": {},
   "outputs": [
    {
     "name": "stdout",
     "output_type": "stream",
     "text": [
      "0 -> None\n"
     ]
    }
   ],
   "source": [
    "values = [1, 1, 1, 1]\n",
    "values = [0]\n",
    "head = build_linked_list(values)\n",
    "print_linked_list(head)"
   ]
  },
  {
   "cell_type": "code",
   "execution_count": 335,
   "metadata": {},
   "outputs": [
    {
     "data": {
      "text/plain": [
       "0"
      ]
     },
     "execution_count": 335,
     "metadata": {},
     "output_type": "execute_result"
    }
   ],
   "source": [
    "sol = Solution()\n",
    "sol.getDecimalValue(head)"
   ]
  },
  {
   "cell_type": "markdown",
   "metadata": {},
   "source": [
    "## (328) Odd Even Linked List [Medium]\n",
    "\n",
    "Given the `head` of a singly linked list, group all the nodes with odd indices together followed by the nodes with even indices, and return the reordered list.\n",
    "\n",
    "The **first** node is considered **odd**, and the **second** node is **even**, and so on.\n",
    "\n",
    "Note that the relative order inside both the even and odd groups should remain as it was in the input.\n",
    "\n",
    "You must solve the problem in `O(1)` extra space complexity and `O(n)` time complexity."
   ]
  },
  {
   "cell_type": "code",
   "execution_count": 420,
   "metadata": {},
   "outputs": [],
   "source": [
    "# Beats 44.51% of submissions\n",
    "\n",
    "# Definition for singly-linked list.\n",
    "class ListNode:\n",
    "    def __init__(self, val=0, next=None):\n",
    "        self.val = val\n",
    "        self.next = next\n",
    "class Solution:\n",
    "    def oddEvenList(self, head: Optional[ListNode]) -> Optional[ListNode]:\n",
    "        if head == None:\n",
    "            return head\n",
    "        # head will be odd list\n",
    "        headEven = ListNode(-1)\n",
    "        curr = head\n",
    "        currEven = headEven\n",
    "        prev = None # last node of odd list\n",
    "        while curr and curr.next: # odd and even\n",
    "            # print(f'curr {curr.val} curr.next {curr.next.val}')\n",
    "            currEven.next = curr.next # save even to new linked list\n",
    "            curr.next = curr.next.next # remove even from current linked list\n",
    "            prev = curr\n",
    "            curr = curr.next # advance in odd list\n",
    "            currEven = currEven.next # advance in even list\n",
    "\n",
    "        if curr: # odd, \n",
    "            # print(f'Odd: last even {currEven.val}')\n",
    "            currEven.next = None # last even node needs to point to None instead of last odd\n",
    "            # print(f'last odd {curr.val}')\n",
    "            curr.next = headEven.next # attach last odd to first even\n",
    "        else: # even\n",
    "            # print(f'last odd {prev.val}')\n",
    "            prev.next = headEven.next # attach last odd to first even\n",
    "\n",
    "        return head\n"
   ]
  },
  {
   "cell_type": "code",
   "execution_count": 431,
   "metadata": {},
   "outputs": [
    {
     "name": "stdout",
     "output_type": "stream",
     "text": [
      "2 -> 1 -> 3 -> 5 -> 6 -> 4 -> 7 -> None\n"
     ]
    }
   ],
   "source": [
    "values = [1, 2, 3, 4, 5, 6, 7, 8, 9, 10]\n",
    "values = [2,1,3,5,6,4,7]\n",
    "head = build_linked_list(values)\n",
    "print_linked_list(head)"
   ]
  },
  {
   "cell_type": "code",
   "execution_count": 432,
   "metadata": {},
   "outputs": [
    {
     "name": "stdout",
     "output_type": "stream",
     "text": [
      "2 -> 3 -> 6 -> 7 -> 1 -> 5 -> 4 -> None\n"
     ]
    }
   ],
   "source": [
    "sol = Solution()\n",
    "result = sol.oddEvenList(head)\n",
    "print_linked_list(result)"
   ]
  },
  {
   "cell_type": "markdown",
   "metadata": {},
   "source": [
    "## (707) Design Linked List [Medium]\n",
    "\n",
    "Design your implementation of the linked list. You can choose to use a singly or doubly linked list.\n",
    "\n",
    "A node in a singly linked list should have two attributes: `val` and `next`. `val` is the value of the current node, and `next` is a pointer/reference to the next node.\n",
    "\n",
    "If you want to use the doubly linked list, you will need one more attribute `prev` to indicate the previous node in the linked list. Assume all nodes in the linked list are 0-indexed.\n",
    "\n",
    "Implement the `MyLinkedList` class:\n",
    "\n",
    "* `MyLinkedList()` Initializes the `MyLinkedList` object.\n",
    "\n",
    "* `int get(int index)` Get the value of the `indexth` node in the linked list. If the index is invalid, return `-1`.\n",
    "\n",
    "* `void addAtHead(int val)` Add a node of value `val` before the first element of the linked list. After the insertion, the new node will be the first node of the linked list.\n",
    "\n",
    "* `void addAtTail(int val)` Append a node of value `val` as the last element of the linked list.\n",
    "\n",
    "* `void addAtIndex(int index, int val)` Add a node of value `val` before the `indexth` node in the linked list. If index equals the length of the linked list, the node will be appended to the end of the linked list. If index is greater than the length, the node will not be inserted.\n",
    "\n",
    "* `void deleteAtIndex(int index)` Delete the `indexth` node in the linked list, if the index is valid."
   ]
  },
  {
   "cell_type": "code",
   "execution_count": 650,
   "metadata": {},
   "outputs": [],
   "source": [
    "# Beats 10.6% of submissions\n",
    "\n",
    "class MyLinkedList:\n",
    "\n",
    "    class ListNode:\n",
    "        def __init__(self, val=0, next=None):\n",
    "            self.val = val\n",
    "            self.next = next\n",
    "\n",
    "    def __init__(self):\n",
    "        self.head = None\n",
    "\n",
    "    def get(self, index: int) -> int:\n",
    "        i = 0\n",
    "        curr = self.head\n",
    "        while curr:\n",
    "            if index == i:\n",
    "                print(f'Node {index} has value {curr.val}')\n",
    "                return curr.val\n",
    "            i += 1\n",
    "            curr = curr.next\n",
    "        \n",
    "        print('Node not found')\n",
    "        return -1\n",
    "\n",
    "    def addAtHead(self, val: int) -> None:\n",
    "        new_node = self.ListNode(val, next=self.head)\n",
    "        self.head = new_node\n",
    "\n",
    "    def addAtTail(self, val: int) -> None:\n",
    "        new_node = self.ListNode(val, next=None)\n",
    "        curr = self.head\n",
    "\n",
    "        if curr != None:\n",
    "            while curr.next:\n",
    "                curr = curr.next\n",
    "\n",
    "            curr.next = new_node\n",
    "        else:\n",
    "            self.head = new_node\n",
    "\n",
    "    def addAtIndex(self, index: int, val: int) -> None:\n",
    "        new_node = self.ListNode(val)\n",
    "        i = 0\n",
    "        curr = self.head\n",
    "        prev = None\n",
    "        while curr:\n",
    "            if index == i:\n",
    "                if prev == None: # Make new node first node\n",
    "                    new_node.next = self.head\n",
    "                    self.head = new_node\n",
    "                else:\n",
    "                    prev.next = new_node\n",
    "                    new_node.next = curr\n",
    "\n",
    "            i += 1\n",
    "            prev = curr\n",
    "            curr = curr.next\n",
    "\n",
    "        if index == i: # If index == length of list, i.e. one past last index (0-indexed)\n",
    "            self.addAtTail(val)\n",
    "\n",
    "    def deleteAtIndex(self, index: int) -> None:\n",
    "        i = 0\n",
    "        curr = self.head\n",
    "        prev = None\n",
    "        while curr:\n",
    "            if index == i:\n",
    "                if prev == None:\n",
    "                    self.head = self.head.next\n",
    "                else:\n",
    "                    prev.next = curr.next\n",
    "\n",
    "            i += 1\n",
    "            prev = curr\n",
    "            curr = curr.next\n",
    "\n",
    "# Your MyLinkedList object will be instantiated and called as such:\n",
    "# obj = MyLinkedList()\n",
    "# param_1 = obj.get(index)\n",
    "# obj.addAtHead(val)\n",
    "# obj.addAtTail(val)\n",
    "# obj.addAtIndex(index,val)\n",
    "# obj.deleteAtIndex(index)"
   ]
  },
  {
   "cell_type": "code",
   "execution_count": 647,
   "metadata": {},
   "outputs": [],
   "source": [
    "sol = MyLinkedList()"
   ]
  },
  {
   "cell_type": "code",
   "execution_count": 649,
   "metadata": {},
   "outputs": [
    {
     "name": "stdout",
     "output_type": "stream",
     "text": [
      "4 -> None\n"
     ]
    }
   ],
   "source": [
    "print_linked_list(sol.head)"
   ]
  },
  {
   "cell_type": "code",
   "execution_count": 648,
   "metadata": {},
   "outputs": [],
   "source": [
    "sol.addAtTail(4)"
   ]
  },
  {
   "cell_type": "code",
   "execution_count": 624,
   "metadata": {},
   "outputs": [
    {
     "name": "stdout",
     "output_type": "stream",
     "text": [
      "1 -> 2 -> 3 -> None\n"
     ]
    }
   ],
   "source": [
    "sol.addAtHead(2)\n",
    "sol.addAtHead(1)\n",
    "sol.addAtTail(3)\n",
    "print_linked_list(sol.head)"
   ]
  },
  {
   "cell_type": "code",
   "execution_count": 625,
   "metadata": {},
   "outputs": [
    {
     "name": "stdout",
     "output_type": "stream",
     "text": [
      "4 -> 1 -> 2 -> 3 -> None\n"
     ]
    }
   ],
   "source": [
    "sol.addAtIndex(0, 4)\n",
    "print_linked_list(sol.head)"
   ]
  },
  {
   "cell_type": "code",
   "execution_count": 606,
   "metadata": {},
   "outputs": [
    {
     "name": "stdout",
     "output_type": "stream",
     "text": [
      "Node 2 has value 3\n"
     ]
    },
    {
     "data": {
      "text/plain": [
       "3"
      ]
     },
     "execution_count": 606,
     "metadata": {},
     "output_type": "execute_result"
    }
   ],
   "source": [
    "sol.get(2)"
   ]
  },
  {
   "cell_type": "code",
   "execution_count": 617,
   "metadata": {},
   "outputs": [],
   "source": [
    "sol.deleteAtIndex(4)\n",
    "print_linked_list(sol.head)"
   ]
  },
  {
   "cell_type": "code",
   "execution_count": 652,
   "metadata": {},
   "outputs": [
    {
     "name": "stdout",
     "output_type": "stream",
     "text": [
      "Node 0 has value 20\n"
     ]
    },
    {
     "data": {
      "text/plain": [
       "20"
      ]
     },
     "execution_count": 652,
     "metadata": {},
     "output_type": "execute_result"
    }
   ],
   "source": [
    "sol = MyLinkedList()\n",
    "sol.addAtIndex(0, 10)\n",
    "sol.addAtIndex(0, 20)\n",
    "sol.addAtIndex(1, 30)\n",
    "sol.get(0)"
   ]
  },
  {
   "cell_type": "code",
   "execution_count": 620,
   "metadata": {},
   "outputs": [
    {
     "name": "stdout",
     "output_type": "stream",
     "text": [
      "None\n"
     ]
    }
   ],
   "source": [
    "print_linked_list(sol.head)"
   ]
  }
 ],
 "metadata": {
  "language_info": {
   "name": "python"
  }
 },
 "nbformat": 4,
 "nbformat_minor": 2
}
