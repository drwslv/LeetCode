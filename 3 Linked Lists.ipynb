{
 "cells": [
  {
   "cell_type": "markdown",
   "metadata": {},
   "source": [
    "# Linked Lists"
   ]
  },
  {
   "cell_type": "code",
   "execution_count": 1,
   "metadata": {},
   "outputs": [],
   "source": [
    "from typing import List\n",
    "from typing import Optional"
   ]
  },
  {
   "cell_type": "markdown",
   "metadata": {},
   "source": [
    "## Ex: Insert and Remove Nodes (Singly)"
   ]
  },
  {
   "cell_type": "code",
   "execution_count": 2,
   "metadata": {},
   "outputs": [],
   "source": [
    "class ListNode:\n",
    "    def __init__(self, val):\n",
    "        self.val = val\n",
    "        self.next = None\n",
    "\n",
    "# Let prev_node be the node at position i - 1\n",
    "def add_node(prev_node, node_to_add):\n",
    "    node_to_add.next = prev_node.next\n",
    "    prev_node.next = node_to_add\n",
    "\n",
    "# Let prev_node be the node at position i - 1\n",
    "def delete_node(prev_node):\n",
    "    prev_node.next = prev_node.next.next"
   ]
  },
  {
   "cell_type": "markdown",
   "metadata": {},
   "source": [
    "## Ex: Insert and Remove Nodes (Doubly)"
   ]
  },
  {
   "cell_type": "code",
   "execution_count": 3,
   "metadata": {},
   "outputs": [],
   "source": [
    "class ListNode:\n",
    "    def __init__(self, val):\n",
    "        self.val = val\n",
    "        self.next = None\n",
    "        self.prev = None\n",
    "\n",
    "# Let node be the node at position i\n",
    "def add_node(node, node_to_add):\n",
    "    prev_node = node.prev\n",
    "    node_to_add.next = node\n",
    "    node_to_add.prev = prev_node\n",
    "    prev_node.next = node_to_add\n",
    "    node.prev = node_to_add\n",
    "\n",
    "# Let node be the node at position i\n",
    "def delete_node(node):\n",
    "    prev_node = node.prev\n",
    "    next_node = node.next\n",
    "    prev_node.next = next_node\n",
    "    next_node.prev = prev_node"
   ]
  },
  {
   "cell_type": "markdown",
   "metadata": {},
   "source": [
    "## Ex: Insert and Remove Starting/Enging Nodes (Doubly)"
   ]
  },
  {
   "cell_type": "code",
   "execution_count": 4,
   "metadata": {},
   "outputs": [],
   "source": [
    "class ListNode:\n",
    "    def __init__(self, val):\n",
    "        self.val = val\n",
    "        self.next = None\n",
    "        self.prev = None\n",
    "\n",
    "def add_to_end(node_to_add):\n",
    "    node_to_add.next = tail\n",
    "    node_to_add.prev = tail.prev\n",
    "    tail.prev.next = node_to_add\n",
    "    tail.prev = node_to_add\n",
    "\n",
    "def remove_from_end():\n",
    "    if head.next == tail:\n",
    "        return\n",
    "\n",
    "    node_to_remove = tail.prev\n",
    "    node_to_remove.prev.next = tail\n",
    "    tail.prev = node_to_remove.prev\n",
    "\n",
    "def add_to_start(node_to_add):\n",
    "    node_to_add.prev = head\n",
    "    node_to_add.next = head.next\n",
    "    head.next.prev = node_to_add\n",
    "    head.next = node_to_add\n",
    "\n",
    "def remove_from_start():\n",
    "    if head.next == tail:\n",
    "        return\n",
    "    \n",
    "    node_to_remove = head.next\n",
    "    node_to_remove.next.prev = head\n",
    "    head.next = node_to_remove.next\n",
    "\n",
    "head = ListNode(None)\n",
    "tail = ListNode(None)\n",
    "head.next = tail\n",
    "tail.prev = head"
   ]
  },
  {
   "cell_type": "markdown",
   "metadata": {},
   "source": [
    "## Ex: Implement doubly linked list and sum elements"
   ]
  },
  {
   "cell_type": "code",
   "execution_count": 7,
   "metadata": {},
   "outputs": [
    {
     "data": {
      "text/plain": [
       "6"
      ]
     },
     "execution_count": 7,
     "metadata": {},
     "output_type": "execute_result"
    }
   ],
   "source": [
    "class ListNode:\n",
    "    def __init__(self, val):\n",
    "        self.val = val\n",
    "        self.next = None\n",
    "        self.prev = None\n",
    "    \n",
    "# Write your code here\n",
    "# Try creating 1 <-> 2 <-> 3\n",
    "# Test with print()\n",
    "\n",
    "one = ListNode(1)\n",
    "two = ListNode(2)\n",
    "three = ListNode(3)\n",
    "head = ListNode(None)\n",
    "tail = ListNode(None)\n",
    "\n",
    "head.next = one\n",
    "tail.prev = three\n",
    "\n",
    "one.prev = head\n",
    "one.next = two\n",
    "two.prev = one\n",
    "two.next = three\n",
    "three.prev = two\n",
    "three.next = tail\n",
    "\n",
    "def sumll(head):\n",
    "    dummy = head\n",
    "    ans = 0\n",
    "    while dummy:\n",
    "        if dummy.val != None:\n",
    "            ans += dummy.val\n",
    "            \n",
    "        dummy = dummy.next\n",
    "\n",
    "    return ans\n",
    "\n",
    "sumll(head)"
   ]
  },
  {
   "cell_type": "markdown",
   "metadata": {},
   "source": [
    "## Ex: Return Middle Node\n",
    "\n",
    "Given the head of a linked list with an odd number of nodes head, return the value of the node in the middle.\n",
    "\n",
    "For example, given a linked list that represents `1 -> 2 -> 3 -> 4 -> 5`, return `3`."
   ]
  },
  {
   "cell_type": "code",
   "execution_count": 8,
   "metadata": {},
   "outputs": [],
   "source": [
    "# Brute force, iterate through all nodes\n",
    "def get_middle(head):\n",
    "    length = 0\n",
    "    dummy = head\n",
    "    while dummy:\n",
    "        length += 1\n",
    "        dummy = dummy.next\n",
    "    \n",
    "    for _ in range(length // 2):\n",
    "        head = head.next\n",
    "    \n",
    "    return head.val"
   ]
  },
  {
   "cell_type": "code",
   "execution_count": 9,
   "metadata": {},
   "outputs": [],
   "source": [
    "# Fast and slow pointers\n",
    "def get_middle(head):\n",
    "    slow = head\n",
    "    fast = head\n",
    "    while fast and fast.next:\n",
    "        slow = slow.next\n",
    "        fast = fast.next.next\n",
    "    \n",
    "    return slow.val"
   ]
  },
  {
   "cell_type": "markdown",
   "metadata": {},
   "source": [
    "## Ex: (141) Linked List Cycle [Easy]\n",
    "\n",
    "Given the `head` of a linked list, determine if the linked list has a cycle.\n",
    "\n",
    "There is a cycle in a linked list if there is some node in the list that can be reached again by continuously following the `next` pointer. Internally, `pos` is used to denote the index of the node that tail's next pointer is connected to. Note that `pos` is not passed as a parameter.\n",
    "\n",
    "Return `true` if there is a cycle in the linked list. Otherwise, return `false`."
   ]
  },
  {
   "cell_type": "code",
   "execution_count": null,
   "metadata": {},
   "outputs": [],
   "source": [
    "# Pointers\n",
    "class Solution:\n",
    "    def hasCycle(self, head: Optional[ListNode]) -> bool:\n",
    "        slow = head\n",
    "        fast = head\n",
    "        while fast and fast.next:\n",
    "            slow = slow.next\n",
    "            fast = fast.next.next\n",
    "            if slow == fast:\n",
    "                return True\n",
    "\n",
    "        return False"
   ]
  },
  {
   "cell_type": "code",
   "execution_count": null,
   "metadata": {},
   "outputs": [],
   "source": [
    "# Hash tables\n",
    "class Solution:\n",
    "    def hasCycle(self, head: Optional[ListNode]) -> bool:\n",
    "        seen = set()\n",
    "        while head:\n",
    "            if head in seen:\n",
    "                return True\n",
    "            seen.add(head)\n",
    "            head = head.next\n",
    "        return False"
   ]
  },
  {
   "cell_type": "markdown",
   "metadata": {},
   "source": [
    "## Ex: Kth Node From End\n",
    "\n",
    "Given the head of a linked list and an integer `k`, return the $k^{th}$ node from the end.\n",
    "\n",
    "For example, given the linked list that represents` 1 -> 2 -> 3 -> 4 -> 5` and `k = 2`, return the node with value `4`, as it is the $2^{nd}$ node from the end."
   ]
  },
  {
   "cell_type": "code",
   "execution_count": null,
   "metadata": {},
   "outputs": [],
   "source": [
    "def find_node(head, k):\n",
    "    slow = head\n",
    "    fast = head\n",
    "    for _ in range(k):\n",
    "        fast = fast.next\n",
    "    \n",
    "    while fast:\n",
    "        slow = slow.next\n",
    "        fast = fast.next\n",
    "    \n",
    "    return slow"
   ]
  },
  {
   "cell_type": "markdown",
   "metadata": {},
   "source": [
    "Can't we also just iterate to the end, and then return `tail.prev.prev`?"
   ]
  },
  {
   "cell_type": "markdown",
   "metadata": {},
   "source": [
    "## Linked List template"
   ]
  },
  {
   "cell_type": "code",
   "execution_count": 2,
   "metadata": {},
   "outputs": [],
   "source": [
    "class ListNode:\n",
    "    def __init__(self, val=0, next=None):\n",
    "        self.val = val\n",
    "        self.next = next\n",
    "\n",
    "class DoublyListNode:\n",
    "    def __init__(self, val=0, next=None, prev=None):\n",
    "        self.val = val\n",
    "        self.next = next\n",
    "        self.prev = prev\n",
    "\n",
    "def build_linked_list(values: List[int]) -> Optional[ListNode]:\n",
    "    if not values:\n",
    "        return None\n",
    "    head = ListNode(values[0])\n",
    "    current = head\n",
    "    for value in values[1:]:\n",
    "        current.next = ListNode(value)\n",
    "        current = current.next\n",
    "    return head\n",
    "\n",
    "def print_linked_list(head: Optional[ListNode]) -> None:\n",
    "    current = head\n",
    "    while current:\n",
    "        print(current.val, end=\" -> \")\n",
    "        current = current.next\n",
    "    print(\"None\")\n",
    "\n",
    "def build_doubly_linked_list(values: List[int]) -> Optional[DoublyListNode]:\n",
    "    if not values:\n",
    "        return None\n",
    "    head = DoublyListNode(values[0])\n",
    "    current = head\n",
    "    for value in values[1:]:\n",
    "        new_node = DoublyListNode(value)\n",
    "        current.next = new_node\n",
    "        new_node.prev = current\n",
    "        current = new_node\n",
    "    return head\n",
    "\n",
    "def print_doubly_linked_list(head: Optional[DoublyListNode]) -> None:\n",
    "    current = head\n",
    "    while current:\n",
    "        print(f\"({current.prev.val if current.prev else 'None'}) <- {current.val} -> ({current.next.val if current.next else 'None'})\", end=\" <-> \")\n",
    "        current = current.next\n",
    "    print(\"None\")\n",
    "\n"
   ]
  },
  {
   "cell_type": "code",
   "execution_count": 3,
   "metadata": {},
   "outputs": [
    {
     "name": "stdout",
     "output_type": "stream",
     "text": [
      "1 -> 2 -> 3 -> 4 -> 5 -> None\n"
     ]
    }
   ],
   "source": [
    "values = [1, 2, 3, 4, 5]\n",
    "head = build_linked_list(values)\n",
    "print_linked_list(head)"
   ]
  },
  {
   "cell_type": "markdown",
   "metadata": {},
   "source": [
    "## (876) Middle of the Linked List [Easy]\n",
    "\n",
    "Given the head of a singly linked list, return the middle node of the linked list.\n",
    "\n",
    "If there are two middle nodes, return the second middle node."
   ]
  },
  {
   "cell_type": "code",
   "execution_count": 28,
   "metadata": {},
   "outputs": [],
   "source": [
    "# Definition for singly-linked list.\n",
    "class ListNode:\n",
    "    def __init__(self, val=0, next=None):\n",
    "        self.val = val\n",
    "        self.next = next\n",
    "\n",
    "class Solution:\n",
    "    def middleNode(self, head: Optional[ListNode]) -> Optional[ListNode]:\n",
    "        fast = head\n",
    "        slow = head\n",
    "\n",
    "        while fast and fast.next:\n",
    "            slow = slow.next\n",
    "            fast = fast.next.next # Points to none in last iteration\n",
    "\n",
    "        return slow"
   ]
  },
  {
   "cell_type": "code",
   "execution_count": 36,
   "metadata": {},
   "outputs": [
    {
     "name": "stdout",
     "output_type": "stream",
     "text": [
      "1 -> 2 -> None\n"
     ]
    }
   ],
   "source": [
    "node1 = ListNode(1)\n",
    "node2 = ListNode(2)\n",
    "node1.next = node2\n",
    "head = node1\n",
    "print_linked_list(head)"
   ]
  },
  {
   "cell_type": "code",
   "execution_count": 40,
   "metadata": {},
   "outputs": [
    {
     "data": {
      "text/plain": [
       "3"
      ]
     },
     "execution_count": 40,
     "metadata": {},
     "output_type": "execute_result"
    }
   ],
   "source": [
    "sol = Solution()\n",
    "sol.middleNode(head).val"
   ]
  },
  {
   "cell_type": "markdown",
   "metadata": {},
   "source": [
    "## (83) Remove Duplicates from Sorted List [Easy]\n",
    "\n",
    "Given the head of a sorted linked list, delete all duplicates such that each element appears only once. Return the linked list sorted as well."
   ]
  },
  {
   "cell_type": "code",
   "execution_count": 59,
   "metadata": {},
   "outputs": [],
   "source": [
    "# Definition for singly-linked list.\n",
    "class ListNode:\n",
    "    def __init__(self, val=0, next=None):\n",
    "        self.val = val\n",
    "        self.next = next\n",
    "\n",
    "# Beats 62.87% of submissions\n",
    "class Solution:\n",
    "    def deleteDuplicates(self, head: Optional[ListNode]) -> Optional[ListNode]:\n",
    "        current = head\n",
    "\n",
    "        while current and current.next:\n",
    "            while current and current.next and (current.val == current.next.val):\n",
    "                current.next = current.next.next\n",
    "\n",
    "            current = current.next\n",
    "\n",
    "        return head\n",
    "    \n",
    "# LeetCode solution\n",
    "class Solution:\n",
    "    def deleteDuplicates(self, head: ListNode) -> ListNode:\n",
    "        current = head\n",
    "        while current is not None and current.next is not None:\n",
    "            if current.next.val == current.val:\n",
    "                current.next = current.next.next\n",
    "            else:\n",
    "                current = current.next\n",
    "        return head\n"
   ]
  },
  {
   "cell_type": "code",
   "execution_count": 60,
   "metadata": {},
   "outputs": [
    {
     "name": "stdout",
     "output_type": "stream",
     "text": [
      "1 -> 1 -> 1 -> 1 -> 2 -> 3 -> 3 -> None\n",
      "1 -> 2 -> 3 -> None\n"
     ]
    }
   ],
   "source": [
    "values = [1, 1, 1, 1, 2, 3, 3]\n",
    "inLL = build_linked_list(values)\n",
    "print_linked_list(inLL)\n",
    "\n",
    "sol = Solution()\n",
    "outLL = sol.deleteDuplicates(inLL)\n",
    "print_linked_list(outLL)\n"
   ]
  },
  {
   "cell_type": "markdown",
   "metadata": {},
   "source": [
    "## Reversing Linked Lists"
   ]
  },
  {
   "cell_type": "code",
   "execution_count": 75,
   "metadata": {},
   "outputs": [],
   "source": [
    "def reverseLinkedList(head: Optional[ListNode]) -> Optional[ListNode]:\n",
    "    current = head\n",
    "\n",
    "    current = current.next # Advance\n",
    "\n",
    "    current.prev.next = None # New tail\n",
    "    current.prev.prev = current\n",
    "\n",
    "    while current and current.next:\n",
    "        current = current.next # Advance\n",
    "        current.prev.next = current.prev.prev\n",
    "        current.prev.prev = current\n",
    "\n",
    "    # last node\n",
    "    current.next = current.prev\n",
    "    current.prev = None\n",
    "\n",
    "\n",
    "    return current"
   ]
  },
  {
   "cell_type": "code",
   "execution_count": 77,
   "metadata": {},
   "outputs": [],
   "source": [
    "# LeetCode solution\n",
    "def reverse_list(head):\n",
    "    prev = None\n",
    "    curr = head\n",
    "    while curr:\n",
    "        next_node = curr.next # first, make sure we don't lose the next node\n",
    "        curr.next = prev      # reverse the direction of the pointer\n",
    "        prev = curr           # set the current node to prev for the next node\n",
    "        curr = next_node      # move on\n",
    "        \n",
    "    return prev"
   ]
  },
  {
   "cell_type": "code",
   "execution_count": 98,
   "metadata": {},
   "outputs": [
    {
     "name": "stdout",
     "output_type": "stream",
     "text": [
      "(None) <- 1 -> (2) <-> (1) <- 2 -> (3) <-> (2) <- 3 -> (4) <-> (3) <- 4 -> (None) <-> None\n",
      "(None) <- 4 -> (3) <-> (4) <- 3 -> (2) <-> (3) <- 2 -> (1) <-> (2) <- 1 -> (None) <-> None\n",
      "(None) <- 1 -> (2) <-> (1) <- 2 -> (3) <-> (2) <- 3 -> (4) <-> (3) <- 4 -> (None) <-> None\n",
      "(3) <- 4 -> (3) <-> (2) <- 3 -> (2) <-> (1) <- 2 -> (1) <-> (None) <- 1 -> (None) <-> None\n"
     ]
    }
   ],
   "source": [
    "values = [1, 2, 3, 4]\n",
    "inLL = build_doubly_linked_list(values)\n",
    "print_doubly_linked_list(inLL)\n",
    "outLL = reverseLinkedList(inLL)\n",
    "print_doubly_linked_list(outLL)\n",
    "\n",
    "values = [1, 2, 3, 4]\n",
    "inLL = build_doubly_linked_list(values)\n",
    "print_doubly_linked_list(inLL)\n",
    "outLL2 = reverse_list(inLL) # Slightly different; does not resolve prev for node 1\n",
    "print_doubly_linked_list(outLL2)"
   ]
  },
  {
   "cell_type": "markdown",
   "metadata": {},
   "source": [
    "## (24) Swap Noes in Pairs\n",
    "\n",
    "Given the head of a linked list, swap every pair of nodes. For example, given a linked list `1 -> 2 -> 3 -> 4 -> 5 -> 6`, return a linked list `2 -> 1 -> 4 -> 3 -> 6 -> 5`.\n",
    "\n"
   ]
  },
  {
   "cell_type": "code",
   "execution_count": 4,
   "metadata": {},
   "outputs": [],
   "source": [
    "# Beats 5.24% of submissions\n",
    "def swapPairs(head):\n",
    "    current = head # current is node1\n",
    "\n",
    "    if not head:\n",
    "        return head\n",
    "    \n",
    "    if not head.next:\n",
    "        return head\n",
    "\n",
    "    head = current.next\n",
    "\n",
    "    if current.next.next: # If there's anothe pair coming up\n",
    "        nextNode = current.next.next # next pair start at node3\n",
    "    else:\n",
    "        nextNode = None\n",
    "\n",
    "    current.next.prev = None # node2.prev = None\n",
    "    current.next.next = current # node2.next = node1\n",
    "    current.prev = current.next # node1 prev is node2\n",
    "    current.next = nextNode # node1 next is node3\n",
    "\n",
    "    if nextNode:\n",
    "        nextNode.prev = current\n",
    "    \n",
    "    current = nextNode # Advance\n",
    "\n",
    "    while current and current.next: # node3 and node4\n",
    "        nextNode = current.next.next # save the start of next pair, node5\n",
    "\n",
    "        current.next.prev = current.prev # node4.prev = node3.prev (node1)\n",
    "        current.next.next = current # node4.next = node 3\n",
    "\n",
    "        current.prev.next = current.next # node1.next = node4\n",
    "\n",
    "        current.prev = current.next # node3.prev = node4\n",
    "        current.next = nextNode # node3.next = node5\n",
    "\n",
    "        if nextNode:\n",
    "            nextNode.prev = current # node5.prev = node3\n",
    "\n",
    "        current = nextNode\n",
    "\n",
    "    return head"
   ]
  },
  {
   "cell_type": "code",
   "execution_count": 6,
   "metadata": {},
   "outputs": [
    {
     "name": "stdout",
     "output_type": "stream",
     "text": [
      "(None) <- 1 -> (2) <-> (1) <- 2 -> (3) <-> (2) <- 3 -> (4) <-> (3) <- 4 -> (None) <-> None\n",
      "(None) <- 2 -> (1) <-> (2) <- 1 -> (4) <-> (1) <- 4 -> (3) <-> (4) <- 3 -> (None) <-> None\n"
     ]
    }
   ],
   "source": [
    "values = [1, 2, 3, 4]\n",
    "inLL = build_doubly_linked_list(values)\n",
    "print_doubly_linked_list(inLL)\n",
    "outLL = swapPairs(inLL)\n",
    "print_doubly_linked_list(outLL)"
   ]
  },
  {
   "cell_type": "code",
   "execution_count": null,
   "metadata": {},
   "outputs": [],
   "source": [
    "# LeetCode solution\n",
    "class Solution:\n",
    "    def swapPairs(self, head: ListNode) -> ListNode:\n",
    "        # Check edge case: linked list has 0 or 1 nodes, just return\n",
    "        if not head or not head.next:\n",
    "            return head\n",
    "\n",
    "        dummy = head.next               # Step 5\n",
    "        prev = None                     # Initialize for step 3\n",
    "        while head and head.next:\n",
    "            if prev:\n",
    "                prev.next = head.next   # Step 4\n",
    "            prev = head                 # Step 3\n",
    "\n",
    "            next_node = head.next.next  # Step 2\n",
    "            head.next.next = head       # Step 1\n",
    "\n",
    "            head.next = next_node       # Step 6\n",
    "            head = next_node            # Move to next pair (Step 3)\n",
    "\n",
    "        return dummy"
   ]
  }
 ],
 "metadata": {
  "language_info": {
   "name": "python"
  }
 },
 "nbformat": 4,
 "nbformat_minor": 2
}
