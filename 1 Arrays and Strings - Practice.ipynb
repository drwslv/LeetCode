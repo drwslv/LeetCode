{
 "cells": [
  {
   "cell_type": "markdown",
   "id": "b6335815",
   "metadata": {},
   "source": [
    "# Two Pointers"
   ]
  },
  {
   "cell_type": "code",
   "execution_count": 6,
   "id": "ec1ffc30",
   "metadata": {},
   "outputs": [],
   "source": [
    "from typing import List"
   ]
  },
  {
   "cell_type": "markdown",
   "id": "bf1c7136",
   "metadata": {},
   "source": [
    "## (May 13)"
   ]
  },
  {
   "cell_type": "markdown",
   "id": "d4b5f2ff",
   "metadata": {},
   "source": [
    "## 557. Reverse Words in a String III [E]\n",
    "\n",
    "Given a string `s`, reverse the order of characters in each word within a sentence while still preserving whitespace and initial word order."
   ]
  },
  {
   "cell_type": "code",
   "execution_count": 18,
   "id": "77966599",
   "metadata": {},
   "outputs": [],
   "source": [
    "class Solution:\n",
    "    def reverseWords(self, s: str) -> str:\n",
    "        ans = []\n",
    "        right = 0\n",
    "        for left in range(0,len(s)):\n",
    "            if s[left] == ' ':\n",
    "                if right == 0:\n",
    "                    ans = s[left-1::-1]\n",
    "                else:\n",
    "                    ans = ans + ' ' + s[left-1:right:-1]\n",
    "                \n",
    "                right = left\n",
    "\n",
    "            if left == len(s)-1: # Edge case: left is on final element\n",
    "                if right == 0: # Edge case: there are no spaces in the sentence\n",
    "                    ans = s[left::-1]\n",
    "                else:\n",
    "                    ans = ans + ' ' + s[left:right:-1]\n",
    "\n",
    "        return ans"
   ]
  },
  {
   "cell_type": "code",
   "execution_count": null,
   "id": "e07274b6",
   "metadata": {},
   "outputs": [
    {
     "data": {
      "text/plain": [
       "'ehhhhhheh'"
      ]
     },
     "execution_count": 19,
     "metadata": {},
     "output_type": "execute_result"
    }
   ],
   "source": [
    "sol = Solution()\n",
    "\n",
    "s = \"Let's take LeetCode contest\"\n",
    "s = \"Mr Ding\"\n",
    "s = 'hehhhhhhe'\n",
    "\n",
    "sol.reverseWords(s)"
   ]
  },
  {
   "cell_type": "markdown",
   "id": "d0d2b490",
   "metadata": {},
   "source": [
    "## (May 14)"
   ]
  },
  {
   "cell_type": "markdown",
   "id": "ba0c5e0e",
   "metadata": {},
   "source": [
    "## 917. Reverse Only Letters [E]\n",
    "\n",
    "Given a string `s`, reverse the string according to the following rules:\n",
    "\n",
    "* All the characters that are not English letters remain in the same position.\n",
    "\n",
    "* All the English letters (lowercase or uppercase) should be reversed.\n",
    "\n",
    "Return `s` after reversing it."
   ]
  },
  {
   "cell_type": "code",
   "execution_count": 39,
   "id": "0cf7d30f",
   "metadata": {},
   "outputs": [],
   "source": [
    "class Solution:\n",
    "    def reverseOnlyLetters(self, s: str) -> str:\n",
    "\n",
    "        left = 0\n",
    "        right = len(s)-1\n",
    "        ans = list(s)\n",
    "\n",
    "        while left < right:\n",
    "            # Iterate until both left and right are English letters\n",
    "            while (not s[left].isalpha()) and (left < right):\n",
    "                left += 1\n",
    "            while (not s[right].isalpha()) and (left < right):\n",
    "                right -= 1\n",
    "\n",
    "\n",
    "            if left < right:\n",
    "                ans[left] = s[right]\n",
    "                ans[right] = s[left]\n",
    "\n",
    "                left += 1\n",
    "                right -= 1\n",
    "\n",
    "        return ''.join(ans)\n",
    "\n",
    "\n"
   ]
  },
  {
   "cell_type": "code",
   "execution_count": null,
   "id": "2431c597",
   "metadata": {},
   "outputs": [
    {
     "data": {
      "text/plain": [
       "'7_28]'"
      ]
     },
     "execution_count": 40,
     "metadata": {},
     "output_type": "execute_result"
    }
   ],
   "source": [
    "sol = Solution()\n",
    "\n",
    "s = \"ab-cd\"\n",
    "s = \"a-bC-dEf-ghIj\"\n",
    "s = \"7_28]\"\n",
    "\n",
    "sol.reverseOnlyLetters(s)\n"
   ]
  },
  {
   "cell_type": "markdown",
   "id": "84398ffb",
   "metadata": {},
   "source": [
    "## 2540. Minimum Common Value [E]\n",
    "\n",
    "Given two integer arrays `nums1` and `nums2`, sorted in non-decreasing order, return the minimum integer common to both arrays. If there is no common integer amongst `nums1` and `nums2`, return `-1`.\n",
    "\n",
    "Note that an integer is said to be common to `nums1` and `nums2` if both arrays have at least one occurrence of that integer.\n"
   ]
  },
  {
   "cell_type": "code",
   "execution_count": 56,
   "id": "c4f3d5fa",
   "metadata": {},
   "outputs": [],
   "source": [
    "class Solution:\n",
    "    def getCommon(self, nums1: List[int], nums2: List[int]) -> int:\n",
    "        \n",
    "        for p1 in nums1:\n",
    "            for p2 in nums2:\n",
    "                if p1 == p2:\n",
    "                    return p1\n",
    "                if p1 < p2: # p2 will only increase, break inner p2 loop\n",
    "                    break\n",
    "\n",
    "        return -1"
   ]
  },
  {
   "cell_type": "code",
   "execution_count": 57,
   "id": "20135f99",
   "metadata": {},
   "outputs": [],
   "source": [
    "class Solution:\n",
    "    def getCommon(self, nums1: List[int], nums2: List[int]) -> int:\n",
    "        p1 = p2 = 0\n",
    "        if len(nums1) == 0 or len(nums2) == 0:\n",
    "            return -1\n",
    "\n",
    "        while p1 < len(nums1) and p2 < len(nums2):\n",
    "            if nums1[p1] == nums2[p2]:\n",
    "                return nums1[p1]\n",
    "            elif nums1[p1] < nums2[p2]:\n",
    "                p1 += 1\n",
    "            elif nums1[p1] > nums2[p2]:\n",
    "                p2 +=1\n",
    "\n",
    "        return -1\n",
    "\n",
    "        "
   ]
  },
  {
   "cell_type": "code",
   "execution_count": 58,
   "id": "8c011bcd",
   "metadata": {},
   "outputs": [
    {
     "data": {
      "text/plain": [
       "-1"
      ]
     },
     "execution_count": 58,
     "metadata": {},
     "output_type": "execute_result"
    }
   ],
   "source": [
    "sol = Solution()\n",
    "\n",
    "nums1 = [1,2,3]\n",
    "nums2 = [2,4]\n",
    "\n",
    "nums1 = [1,2,3,6]\n",
    "nums2 = [2,3,4,5]\n",
    "\n",
    "nums1 = []\n",
    "nums2 = []\n",
    "\n",
    "sol.getCommon(nums1, nums2)"
   ]
  },
  {
   "cell_type": "markdown",
   "id": "cb2bf26b",
   "metadata": {},
   "source": [
    "## 283. Move Zeroes [E]\n",
    "\n",
    "Given an integer array `nums`, move all `0`'s to the end of it while maintaining the relative order of the non-zero elements.\n",
    "\n",
    "Note that you must do this in-place without making a copy of the array."
   ]
  },
  {
   "cell_type": "code",
   "execution_count": null,
   "id": "2c2b1632",
   "metadata": {},
   "outputs": [],
   "source": [
    "class Solution:\n",
    "    def moveZeroes(self, nums: List[int]) -> None:\n",
    "        \"\"\"\n",
    "        Do not return anything, modify nums in-place instead.\n",
    "        \"\"\"\n",
    "\n",
    "        i = 0 # pos for writing consecutive non-zero array\n",
    "\n",
    "        for right in range(0,len(nums)):\n",
    "            if nums[right] != 0:\n",
    "                nums[i] = nums[right]\n",
    "                i += 1\n",
    "\n",
    "        for j in range(i,len(nums)):\n",
    "            nums[j] = 0\n",
    "        "
   ]
  },
  {
   "cell_type": "code",
   "execution_count": null,
   "id": "c07f100e",
   "metadata": {},
   "outputs": [],
   "source": [
    "class Solution:\n",
    "    def moveZeroes(self, nums: List[int]) -> None:\n",
    "        \"\"\"\n",
    "        Do not return anything, modify nums in-place instead.\n",
    "        \"\"\"\n",
    "\n",
    "        i = 0 # position for next non-zero element\n",
    "\n",
    "        for right in range(0,len(nums)):\n",
    "            if nums[right] != 0:\n",
    "                nums[i], nums[right] = nums[right], nums[i]\n",
    "                i += 1\n",
    "\n"
   ]
  },
  {
   "cell_type": "code",
   "execution_count": null,
   "id": "00fa46dc",
   "metadata": {},
   "outputs": [
    {
     "name": "stdout",
     "output_type": "stream",
     "text": [
      "[1, 3, 12, 0, 0]\n"
     ]
    }
   ],
   "source": [
    "sol = Solution()\n",
    "\n",
    "nums = [0,1,0,3,12]\n",
    "\n",
    "# [1,0,0,3,12] -> swap elements\n",
    "#    i   r\n",
    "\n",
    "# [1,3,0,0,12]\n",
    "#    i   r    -> then update i, r\n",
    "\n",
    "# [1,3,0,0,12]\n",
    "#      i   r\n",
    "\n",
    "# nums = [0, 0, 1, 2, 3]\n",
    "\n",
    "sol.moveZeroes(nums)\n",
    "print(nums)"
   ]
  },
  {
   "cell_type": "markdown",
   "id": "8c2a8d93",
   "metadata": {},
   "source": [
    "## (May 15)"
   ]
  },
  {
   "cell_type": "markdown",
   "id": "915d6b19",
   "metadata": {},
   "source": [
    "## 2000. Reverse Prefix of Word [E]\n",
    "\n",
    "Given a 0-indexed string `word` and a character `ch`, reverse the segment of `word` that starts at index `0` and ends at the index of the first occurrence of `ch` (inclusive). If the character `ch` does not exist in `word`, do nothing.\n",
    "\n",
    "* For example, if `word = \"abcdefd\"` and `ch = \"d\"`, then you should reverse the segment that starts at `0` and ends at `3` (inclusive). The resulting string will be `\"dcbaefd\"`.\n",
    "\n",
    "Return the resulting string."
   ]
  },
  {
   "cell_type": "code",
   "execution_count": 80,
   "id": "5099e0cf",
   "metadata": {},
   "outputs": [],
   "source": [
    "class Solution:\n",
    "    def reversePrefix(self, word: str, ch: str) -> str:\n",
    "        \n",
    "        for right in range(0,len(word)):\n",
    "            if word[right] == ch:\n",
    "                return word[right::-1] + word[right+1:]\n",
    "            \n",
    "        return word"
   ]
  },
  {
   "cell_type": "code",
   "execution_count": 81,
   "id": "4d5c4412",
   "metadata": {},
   "outputs": [
    {
     "data": {
      "text/plain": [
       "''"
      ]
     },
     "execution_count": 81,
     "metadata": {},
     "output_type": "execute_result"
    }
   ],
   "source": [
    "sol = Solution()\n",
    "\n",
    "word = \"abcdefd\"\n",
    "ch = \"d\"\n",
    "\n",
    "word = \"xyxzxe\"\n",
    "ch = \"z\"\n",
    "\n",
    "word = \"abcd\"\n",
    "ch = \"z\"\n",
    "\n",
    "word = \"\"\n",
    "ch = \"\"\n",
    "\n",
    "sol.reversePrefix(word, ch)"
   ]
  },
  {
   "cell_type": "markdown",
   "id": "36186c6b",
   "metadata": {},
   "source": [
    "# Two Pointers - Extra\n",
    "\n",
    "https://leetcode.com/problem-list/two-pointers/"
   ]
  },
  {
   "cell_type": "markdown",
   "id": "70c6cac5",
   "metadata": {},
   "source": [
    "## (May 15)"
   ]
  },
  {
   "cell_type": "markdown",
   "id": "bba45f9b",
   "metadata": {},
   "source": [
    "## 88. Merge Sorted Array [E]\n",
    "\n",
    "You are given two integer arrays `nums1` and `nums2`, sorted in non-decreasing order, and two integers `m` and `n`, representing the number of elements in `nums1` and `nums2` respectively.\n",
    "\n",
    "Merge `nums1` and `nums2` into a single array sorted in non-decreasing order.\n",
    "\n",
    "The final sorted array should not be returned by the function, but instead be stored inside the array `nums1`. To accommodate this, `nums1` has a length of `m + n`, where the first `m` elements denote the elements that should be merged, and the last `n` elements are set to 0 and should be ignored. `nums2` has a length of `n`."
   ]
  },
  {
   "cell_type": "code",
   "execution_count": 92,
   "id": "a9e6bfe9",
   "metadata": {},
   "outputs": [],
   "source": [
    "class Solution:\n",
    "    def merge(self, nums1: List[int], m: int, nums2: List[int], n: int) -> None:\n",
    "        \"\"\"\n",
    "        Do not return anything, modify nums1 in-place instead.\n",
    "        \"\"\"\n",
    "        p1 = p2 = 0\n",
    "        ans = [] * (m+n)\n",
    "\n",
    "        while p1 < m and p2 < n:\n",
    "            if nums1[p1] <= nums2[p2]:\n",
    "                ans.append(nums1[p1])\n",
    "                p1 += 1\n",
    "            if nums1[p1] >= nums2[p2]:\n",
    "                ans.append(nums2[p2])\n",
    "                p2 += 1\n",
    "\n",
    "        if p1 < m:\n",
    "            ans = ans + nums1[p1:m]\n",
    "        if p2 < n:\n",
    "            ans = ans + nums2[p2:n]\n",
    "\n",
    "        nums1[0:] = ans[0:]\n",
    "\n",
    "\n",
    "\n",
    "        print(nums1)\n"
   ]
  },
  {
   "cell_type": "code",
   "execution_count": null,
   "id": "75344d83",
   "metadata": {},
   "outputs": [],
   "source": [
    "class Solution:\n",
    "    def merge(self, nums1: List[int], m: int, nums2: List[int], n: int) -> None:\n",
    "        \"\"\"\n",
    "        Do not return anything, modify nums1 in-place instead.\n",
    "        \"\"\"\n",
    "        # Write the elements of num2 into the end of nums1.\n",
    "        for i in range(n):\n",
    "            nums1[i + m] = nums2[i]\n",
    "\n",
    "        # Sort nums1 list in-place.\n",
    "        nums1.sort()"
   ]
  },
  {
   "cell_type": "code",
   "execution_count": 93,
   "id": "b5cca383",
   "metadata": {},
   "outputs": [
    {
     "name": "stdout",
     "output_type": "stream",
     "text": [
      "[1, 2, 2, 3, 5, 6]\n"
     ]
    }
   ],
   "source": [
    "sol = Solution()\n",
    "\n",
    "nums1 = [1,2,3,0,0,0]\n",
    "m = 3\n",
    "nums2 = [2,5,6]\n",
    "n = 3\n",
    "\n",
    "# nums1 = [1]\n",
    "# m = 1\n",
    "# nums2 = []\n",
    "# n = 0\n",
    "\n",
    "# nums1 = [0]\n",
    "# m = 0\n",
    "# nums2 = [1]\n",
    "# n = 1\n",
    "\n",
    "sol.merge(nums1, m, nums2, n)"
   ]
  },
  {
   "cell_type": "markdown",
   "id": "fcc2402f",
   "metadata": {},
   "source": [
    "## 408. Valid Word Abbreviation [E]\n",
    "\n",
    "A string can be abbreviated by replacing any number of non-adjacent, non-empty substrings with their lengths. The lengths should not have leading zeros.\n",
    "\n",
    "For example, a string such as `\"substitution\"` could be abbreviated as (but not limited to):\n",
    "\n",
    "* \"s10n\" (\"s ubstitutio n\")\n",
    "\n",
    "* \"sub4u4\" (\"sub stit u tion\")\n",
    "\n",
    "* \"12\" (\"substitution\")\n",
    "\n",
    "* \"su3i1u2on\" (\"su bst i t u ti on\")\n",
    "\n",
    "* \"substitution\" (no substrings replaced)\n",
    "\n",
    "The following are not valid abbreviations:\n",
    "\n",
    "* \"s55n\" (\"s ubsti tutio n\", the replaced substrings are adjacent)\n",
    "\n",
    "* \"s010n\" (has leading zeros)\n",
    "\n",
    "* \"s0ubstitution\" (replaces an empty substring)\n",
    "\n",
    "Given a string `word` and an abbreviation `abbr`, return whether the string matches the given abbreviation.\n",
    "\n",
    "A substring is a contiguous non-empty sequence of characters within a string."
   ]
  },
  {
   "cell_type": "code",
   "execution_count": null,
   "id": "baf70220",
   "metadata": {},
   "outputs": [],
   "source": [
    "import re\n",
    "\n",
    "class Solution:\n",
    "    def validWordAbbreviation(self, word: str, abbr: str) -> bool:\n",
    "        \n",
    "        left = right = cp = 0\n",
    "        compstr = []\n",
    "\n",
    "        while right < len(abbr): # and cp < len(word):\n",
    "            if abbr[right].isdigit(): # Identify contiguous digits as int\n",
    "                if abbr[right] == '0': # No leading zeros\n",
    "                    return False\n",
    "                \n",
    "                left = right\n",
    "                right += 1\n",
    "\n",
    "                if right < len(abbr):\n",
    "                    while abbr[right].isdigit() and right < len(abbr):\n",
    "                        right += 1\n",
    "                        if right == len(abbr):\n",
    "                            break\n",
    "\n",
    "                intval = int(abbr[left:right])\n",
    "\n",
    "                if intval > len(word):\n",
    "                    return False\n",
    "\n",
    "                # At pos left, insert . of length int\n",
    "                for i in range(0,intval):\n",
    "                    compstr.append('.')\n",
    "\n",
    "                # print(intval)\n",
    "            else:\n",
    "                compstr.append(abbr[right])\n",
    "                right += 1\n",
    "                # cp += 1\n",
    "\n",
    "        # print(compstr)\n",
    "\n",
    "        # Compare compstr in list form to word\n",
    "        compstr = ''.join(compstr)\n",
    "\n",
    "        if re.fullmatch(compstr, word):\n",
    "            return True\n",
    "        else:\n",
    "            return False\n"
   ]
  },
  {
   "cell_type": "code",
   "execution_count": null,
   "id": "a0dca563",
   "metadata": {},
   "outputs": [
    {
     "data": {
      "text/plain": [
       "False"
      ]
     },
     "execution_count": 186,
     "metadata": {},
     "output_type": "execute_result"
    }
   ],
   "source": [
    "sol = Solution()\n",
    "\n",
    "word = \"internationalization\"\n",
    "abbr = \"i12iz4n\"\n",
    "\n",
    "word = \"substitution\"\n",
    "abbr = \"s10n\"\n",
    "abbr = \"sub4u4\"\n",
    "abbr = \"12\"\n",
    "abbr =\"su3i1u2on\"\n",
    "abbr = \"substitution\"\n",
    "\n",
    "abbr = \"s33n\"\n",
    "abbr = \"s010n\"\n",
    "abbr = \"s0ubstitution\"\n",
    "\n",
    "word = \"internationalization\"\n",
    "abbr = \"i5a11o1\"\n",
    "\n",
    "word = \"hi\"\n",
    "sbbr = \"hi1\"\n",
    "\n",
    "word = \"hi\"\n",
    "abbr = \"2i\"\n",
    "\n",
    "word = \"bignumberhahaha\"\n",
    "abbr = \"999999999\"\n",
    "\n",
    "\n",
    "sol.validWordAbbreviation(word, abbr)"
   ]
  },
  {
   "cell_type": "code",
   "execution_count": 179,
   "id": "7167c3f1",
   "metadata": {},
   "outputs": [
    {
     "name": "stdout",
     "output_type": "stream",
     "text": [
      "False\n"
     ]
    }
   ],
   "source": [
    "if re.fullmatch('hi', r'..i'):\n",
    "    print(True)\n",
    "else:\n",
    "    print(False)"
   ]
  },
  {
   "cell_type": "markdown",
   "id": "1734378d",
   "metadata": {},
   "source": [
    "# Sliding Window"
   ]
  },
  {
   "cell_type": "markdown",
   "id": "11efec44",
   "metadata": {},
   "source": [
    "## 209. Minimum Size Subarray Sum [M]\n",
    "\n",
    "Given an array of positive integers `nums` and a positive integer `target`, return the minimal length of a subarray whose sum is greater than or equal to `target`. If there is no such subarray, return `0` instead."
   ]
  },
  {
   "cell_type": "code",
   "execution_count": null,
   "id": "9fbf6a46",
   "metadata": {},
   "outputs": [],
   "source": [
    "class Solution:\n",
    "    def minSubArrayLen(self, target: int, nums: List[int]) -> int:\n",
    "        left = curr = 0\n",
    "        min_length = float('inf')\n",
    "\n",
    "        for right in range(0,len(nums)):\n",
    "            curr += nums[right]\n",
    "\n",
    "            while curr >= target: # If satisfies target\n",
    "                length = right - left + 1\n",
    "                min_length = min(min_length, length) # Check for update of minimum found\n",
    "\n",
    "                curr -= nums[left] # Remove leftmost integer from curr\n",
    "                left += 1 # Shorten substring from left, recheck\n",
    "\n",
    "            # curr < target\n",
    "            # Let right increment, check again\n",
    "\n",
    "        if min_length < float('inf'):\n",
    "            return min_length\n",
    "        else:\n",
    "            return 0\n"
   ]
  },
  {
   "cell_type": "code",
   "execution_count": null,
   "id": "c1f0360e",
   "metadata": {},
   "outputs": [
    {
     "data": {
      "text/plain": [
       "0"
      ]
     },
     "execution_count": 190,
     "metadata": {},
     "output_type": "execute_result"
    }
   ],
   "source": [
    "# [2,3,1,2,4,3]\n",
    "# l=2, r=3, len=2\n",
    "# l=0, r=1, len=2\n",
    "\n",
    "sol = Solution()\n",
    "\n",
    "target = 7\n",
    "nums = [2,3,1,2,4,3]\n",
    "\n",
    "target = 4\n",
    "nums = [1,4,4]\n",
    "\n",
    "target = 11\n",
    "nums = [1,1,1,1,1,1,1,1]\n",
    "\n",
    "sol.minSubArrayLen(target, nums)"
   ]
  },
  {
   "cell_type": "markdown",
   "id": "34072501",
   "metadata": {},
   "source": [
    "## 1456. Maximum Number of Vowels in a Substring of Given Length [M]\n",
    "\n",
    "Given a string `s` and an integer `k`, return the maximum number of vowel letters in any substring of `s` with length `k`.\n",
    "\n",
    "Vowel letters in English are `'a'`, `'e'`, `'i'`, `'o'`, and `'u'`."
   ]
  },
  {
   "cell_type": "code",
   "execution_count": null,
   "id": "c510e0ef",
   "metadata": {},
   "outputs": [],
   "source": [
    "class Solution:\n",
    "    def maxVowels(self, s: str, k: int) -> int:\n",
    "        left = curr = 0\n",
    "        max_vowels = 0\n",
    "\n",
    "        def one_plus_vow(ch):\n",
    "            if (ch == 'a') or (ch == 'e') or (ch == 'i') or (ch == 'o') or (ch == 'u'):\n",
    "                return 1\n",
    "            else:\n",
    "                return 0\n",
    "            # Hash map (set) would have been faster...\n",
    "\n",
    "        # Initialize vowel count for first substring\n",
    "        for i in range(0,k):\n",
    "            curr += one_plus_vow(s[i])\n",
    "\n",
    "        # Update max_vowels\n",
    "        max_vowels = max(max_vowels, curr)\n",
    "\n",
    "        # Advance substring\n",
    "        for right in range(k,len(s)):\n",
    "            curr += one_plus_vow(s[right])\n",
    "\n",
    "            curr -= one_plus_vow(s[left])\n",
    "            left += 1\n",
    "\n",
    "            # Update max_vowels\n",
    "            max_vowels = max(max_vowels, curr)\n",
    "\n",
    "        return max_vowels\n"
   ]
  },
  {
   "cell_type": "code",
   "execution_count": null,
   "id": "7b209a26",
   "metadata": {},
   "outputs": [
    {
     "data": {
      "text/plain": [
       "2"
      ]
     },
     "execution_count": 197,
     "metadata": {},
     "output_type": "execute_result"
    }
   ],
   "source": [
    "# k = 4\n",
    "# a b c i i i d e f\n",
    "# l     r\n",
    "\n",
    "sol = Solution()\n",
    "\n",
    "s = \"abciiidef\"\n",
    "k = 3\n",
    "\n",
    "s = \"aeiou\"\n",
    "k = 2\n",
    "\n",
    "s = \"leetcode\"\n",
    "k = 3\n",
    "\n",
    "sol.maxVowels(s, k)"
   ]
  },
  {
   "cell_type": "markdown",
   "id": "e6d177e8",
   "metadata": {},
   "source": [
    "## (May 16)"
   ]
  },
  {
   "cell_type": "markdown",
   "id": "e5fa6485",
   "metadata": {},
   "source": [
    "## 1208. Get Equal Substrings Within Budget [M]\n",
    "\n",
    "You are given two strings `s` and `t` of the same length and an integer `maxCost`.\n",
    "\n",
    "You want to change `s` to `t`. Changing the `ith` character of `s` to `ith` character of `t` costs `|s[i] - t[i]|` (i.e., the absolute difference between the ASCII values of the characters).\n",
    "\n",
    "Return the maximum length of a substring of `s` that can be changed to be the same as the corresponding substring of `t` with a cost less than or equal to `maxCost`. If there is no substring from `s` that can be changed to its corresponding substring from `t`, return `0`."
   ]
  },
  {
   "cell_type": "code",
   "execution_count": 1,
   "id": "14951b47",
   "metadata": {},
   "outputs": [],
   "source": [
    "class Solution:\n",
    "    def equalSubstring(self, s: str, t: str, maxCost: int) -> int:\n",
    "        left = curr = 0\n",
    "        maxLength = 0\n",
    "\n",
    "        for right in range(0,len(s)):\n",
    "            # Add cost: difference between s and t at right index\n",
    "            curr += abs(ord(s[right]) - ord(t[right]))\n",
    "\n",
    "            while curr > maxCost:\n",
    "                curr -= abs(ord(s[left]) - ord(t[left]))\n",
    "                left += 1\n",
    "\n",
    "            if curr <= maxCost:\n",
    "                length = right - left + 1\n",
    "                maxLength = max(maxLength, length)\n",
    "\n",
    "        return maxLength\n",
    "\n",
    "                "
   ]
  },
  {
   "cell_type": "code",
   "execution_count": 4,
   "id": "279b4791",
   "metadata": {},
   "outputs": [
    {
     "data": {
      "text/plain": [
       "1"
      ]
     },
     "execution_count": 4,
     "metadata": {},
     "output_type": "execute_result"
    }
   ],
   "source": [
    "sol = Solution()\n",
    "\n",
    "s = \"abcd\"\n",
    "t = \"bcdf\"\n",
    "maxCost = 3\n",
    "\n",
    "s = \"abcd\"\n",
    "t = \"cdef\"\n",
    "maxCost = 3\n",
    "\n",
    "s = \"abcd\"\n",
    "t = \"acde\"\n",
    "maxCost = 0\n",
    "\n",
    "sol.equalSubstring(s, t, maxCost)\n"
   ]
  },
  {
   "cell_type": "markdown",
   "id": "db7a25c6",
   "metadata": {},
   "source": [
    "# Sliding Window - Extra"
   ]
  },
  {
   "cell_type": "markdown",
   "id": "89fe0cfc",
   "metadata": {},
   "source": [
    "## (May 16)"
   ]
  },
  {
   "cell_type": "markdown",
   "id": "ec27163b",
   "metadata": {},
   "source": [
    "## 2762. Continuous Subarrays\n",
    "\n",
    "You are given a 0-indexed integer array `nums`. A subarray of `nums` is called continuous if:\n",
    "\n",
    "Let `i`, `i + 1`, ..., `j` be the indices in the subarray. Then, for each pair of indices `i <= i1`, `i2 <= j`, `0 <= |nums[i1] - nums[i2]| <= 2`.\n",
    "\n",
    "Return the total number of continuous subarrays.\n",
    "\n",
    "A subarray is a contiguous non-empty sequence of elements within an array."
   ]
  },
  {
   "cell_type": "code",
   "execution_count": null,
   "id": "a54472e1",
   "metadata": {},
   "outputs": [],
   "source": [
    "# Time limit exceeded\n",
    "class Solution:\n",
    "    def continuousSubarrays(self, nums: List[int]) -> int:\n",
    "        curr = 0\n",
    "        for left in range(0,len(nums)):\n",
    "            for right in range(left,len(nums)):\n",
    "                # print(f'[{left},{right}]')\n",
    "                # print(nums[left:right+1])\n",
    "                if abs( max(nums[left:right+1]) - min(nums[left:right+1]) ) <= 2:\n",
    "                    curr += 1\n",
    "\n",
    "        return curr\n"
   ]
  },
  {
   "cell_type": "code",
   "execution_count": null,
   "id": "f6937718",
   "metadata": {},
   "outputs": [],
   "source": [
    "# Time limit exceeded\n",
    "class Solution:\n",
    "    def continuousSubarrays(self, nums: List[int]) -> int:\n",
    "        left = curr = 0\n",
    "        for right in range(0,len(nums)):\n",
    "            # If do not satisfy the constraint, shorten from left until do\n",
    "            while abs( max(nums[left:right+1]) - min(nums[left:right+1]) ) > 2:\n",
    "                left += 1\n",
    "\n",
    "            # If satisfy the constraint\n",
    "            if abs( max(nums[left:right+1]) - min(nums[left:right+1]) ) <= 2:\n",
    "                # Add number of substrings equal to string length\n",
    "                curr += right - left + 1\n",
    "\n",
    "        return curr\n"
   ]
  },
  {
   "cell_type": "code",
   "execution_count": null,
   "id": "a6c207a1",
   "metadata": {},
   "outputs": [
    {
     "data": {
      "text/plain": [
       "8"
      ]
     },
     "execution_count": 24,
     "metadata": {},
     "output_type": "execute_result"
    }
   ],
   "source": [
    "# [5,4,2,4]\n",
    "#    r1   - 3 substrings: [5], [4], [5,4]\n",
    "#      r1 - add [5,4,2,4], [4,2,4], [2,4], [4] -- so add substrings equal to length\n",
    "\n",
    "\n",
    "sol = Solution()\n",
    "\n",
    "nums = [5,4,2,4]\n",
    "nums = [1,2,3]\n",
    "\n",
    "sol.continuousSubarrays(nums)\n"
   ]
  },
  {
   "cell_type": "markdown",
   "id": "5255eb57",
   "metadata": {},
   "source": [
    "# Prefix Sum"
   ]
  },
  {
   "cell_type": "markdown",
   "id": "555e8afa",
   "metadata": {},
   "source": [
    "## 1732. Find the Highest Altitude [E]\n",
    "\n",
    "There is a biker going on a road trip. The road trip consists of `n + 1` points at different altitudes. The biker starts his trip on point `0` with altitude equal `0`.\n",
    "\n",
    "You are given an integer array `gain` of length `n` where `gain[i]` is the net gain in altitude between points `i​​​​​​` and `i + 1` for all (`0 <= i < n`). Return the highest altitude of a point."
   ]
  },
  {
   "cell_type": "code",
   "execution_count": null,
   "id": "ef826f75",
   "metadata": {},
   "outputs": [],
   "source": [
    "class Solution:\n",
    "    def largestAltitude(self, gain: List[int]) -> int:\n",
    "        prefix = [''] * len(gain)+1\n",
    "        prefix[0] = 0\n",
    "        prefix[1] = gain[0]\n",
    "        for i in range(1,len(gain)):\n",
    "            prefix[i+1] = prefix[i] + gain[i]\n",
    "\n",
    "        return max(prefix)\n",
    "        "
   ]
  },
  {
   "cell_type": "code",
   "execution_count": 29,
   "id": "657f9e54",
   "metadata": {},
   "outputs": [
    {
     "data": {
      "text/plain": [
       "-1"
      ]
     },
     "execution_count": 29,
     "metadata": {},
     "output_type": "execute_result"
    }
   ],
   "source": [
    "sol = Solution()\n",
    "\n",
    "gain = [-5,1,5,0,-7]\n",
    "gain = [-4,-3,-2,-1,4,3,2]\n",
    "\n",
    "sol.largestAltitude(gain)"
   ]
  }
 ],
 "metadata": {
  "kernelspec": {
   "display_name": "LeetCode",
   "language": "python",
   "name": "python3"
  },
  "language_info": {
   "codemirror_mode": {
    "name": "ipython",
    "version": 3
   },
   "file_extension": ".py",
   "mimetype": "text/x-python",
   "name": "python",
   "nbconvert_exporter": "python",
   "pygments_lexer": "ipython3",
   "version": "3.11.9"
  }
 },
 "nbformat": 4,
 "nbformat_minor": 5
}
