{
 "cells": [
  {
   "cell_type": "markdown",
   "id": "b6335815",
   "metadata": {},
   "source": [
    "# Two Pointers"
   ]
  },
  {
   "cell_type": "code",
   "execution_count": null,
   "id": "ec1ffc30",
   "metadata": {},
   "outputs": [],
   "source": [
    "from typing import List"
   ]
  },
  {
   "cell_type": "markdown",
   "id": "d4b5f2ff",
   "metadata": {},
   "source": [
    "## 557. Reverse Words in a String III [E]\n",
    "\n",
    "Given a string `s`, reverse the order of characters in each word within a sentence while still preserving whitespace and initial word order."
   ]
  },
  {
   "cell_type": "code",
   "execution_count": 18,
   "id": "77966599",
   "metadata": {},
   "outputs": [],
   "source": [
    "class Solution:\n",
    "    def reverseWords(self, s: str) -> str:\n",
    "        ans = []\n",
    "        right = 0\n",
    "        for left in range(0,len(s)):\n",
    "            if s[left] == ' ':\n",
    "                if right == 0:\n",
    "                    ans = s[left-1::-1]\n",
    "                else:\n",
    "                    ans = ans + ' ' + s[left-1:right:-1]\n",
    "                \n",
    "                right = left\n",
    "\n",
    "            if left == len(s)-1: # Edge case: left is on final element\n",
    "                if right == 0: # Edge case: there are no spaces in the sentence\n",
    "                    ans = s[left::-1]\n",
    "                else:\n",
    "                    ans = ans + ' ' + s[left:right:-1]\n",
    "\n",
    "        return ans"
   ]
  },
  {
   "cell_type": "code",
   "execution_count": null,
   "id": "e07274b6",
   "metadata": {},
   "outputs": [
    {
     "data": {
      "text/plain": [
       "'ehhhhhheh'"
      ]
     },
     "execution_count": 19,
     "metadata": {},
     "output_type": "execute_result"
    }
   ],
   "source": [
    "sol = Solution()\n",
    "\n",
    "s = \"Let's take LeetCode contest\"\n",
    "s = \"Mr Ding\"\n",
    "s = 'hehhhhhhe'\n",
    "\n",
    "sol.reverseWords(s)"
   ]
  },
  {
   "cell_type": "markdown",
   "id": "ba0c5e0e",
   "metadata": {},
   "source": [
    "## 917. Reverse Only Letters [E]\n",
    "\n",
    "Given a string `s`, reverse the string according to the following rules:\n",
    "\n",
    "* All the characters that are not English letters remain in the same position.\n",
    "\n",
    "* All the English letters (lowercase or uppercase) should be reversed.\n",
    "\n",
    "Return `s` after reversing it."
   ]
  },
  {
   "cell_type": "code",
   "execution_count": 39,
   "id": "0cf7d30f",
   "metadata": {},
   "outputs": [],
   "source": [
    "class Solution:\n",
    "    def reverseOnlyLetters(self, s: str) -> str:\n",
    "\n",
    "        left = 0\n",
    "        right = len(s)-1\n",
    "        ans = list(s)\n",
    "\n",
    "        while left < right:\n",
    "            # Iterate until both left and right are English letters\n",
    "            while (not s[left].isalpha()) and (left < right):\n",
    "                left += 1\n",
    "            while (not s[right].isalpha()) and (left < right):\n",
    "                right -= 1\n",
    "\n",
    "\n",
    "            if left < right:\n",
    "                ans[left] = s[right]\n",
    "                ans[right] = s[left]\n",
    "\n",
    "                left += 1\n",
    "                right -= 1\n",
    "\n",
    "        return ''.join(ans)\n",
    "\n",
    "\n"
   ]
  },
  {
   "cell_type": "code",
   "execution_count": null,
   "id": "2431c597",
   "metadata": {},
   "outputs": [
    {
     "data": {
      "text/plain": [
       "'7_28]'"
      ]
     },
     "execution_count": 40,
     "metadata": {},
     "output_type": "execute_result"
    }
   ],
   "source": [
    "sol = Solution()\n",
    "\n",
    "s = \"ab-cd\"\n",
    "s = \"a-bC-dEf-ghIj\"\n",
    "s = \"7_28]\"\n",
    "\n",
    "sol.reverseOnlyLetters(s)\n"
   ]
  }
 ],
 "metadata": {
  "kernelspec": {
   "display_name": "LeetCode",
   "language": "python",
   "name": "python3"
  },
  "language_info": {
   "codemirror_mode": {
    "name": "ipython",
    "version": 3
   },
   "file_extension": ".py",
   "mimetype": "text/x-python",
   "name": "python",
   "nbconvert_exporter": "python",
   "pygments_lexer": "ipython3",
   "version": "3.11.9"
  }
 },
 "nbformat": 4,
 "nbformat_minor": 5
}
