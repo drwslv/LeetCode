{
 "cells": [
  {
   "cell_type": "markdown",
   "id": "b6335815",
   "metadata": {},
   "source": [
    "# Two Pointers"
   ]
  },
  {
   "cell_type": "code",
   "execution_count": 43,
   "id": "ec1ffc30",
   "metadata": {},
   "outputs": [],
   "source": [
    "from typing import List"
   ]
  },
  {
   "cell_type": "markdown",
   "id": "bf1c7136",
   "metadata": {},
   "source": [
    "## (May 13)"
   ]
  },
  {
   "cell_type": "markdown",
   "id": "d4b5f2ff",
   "metadata": {},
   "source": [
    "## 557. Reverse Words in a String III [E]\n",
    "\n",
    "Given a string `s`, reverse the order of characters in each word within a sentence while still preserving whitespace and initial word order."
   ]
  },
  {
   "cell_type": "code",
   "execution_count": 18,
   "id": "77966599",
   "metadata": {},
   "outputs": [],
   "source": [
    "class Solution:\n",
    "    def reverseWords(self, s: str) -> str:\n",
    "        ans = []\n",
    "        right = 0\n",
    "        for left in range(0,len(s)):\n",
    "            if s[left] == ' ':\n",
    "                if right == 0:\n",
    "                    ans = s[left-1::-1]\n",
    "                else:\n",
    "                    ans = ans + ' ' + s[left-1:right:-1]\n",
    "                \n",
    "                right = left\n",
    "\n",
    "            if left == len(s)-1: # Edge case: left is on final element\n",
    "                if right == 0: # Edge case: there are no spaces in the sentence\n",
    "                    ans = s[left::-1]\n",
    "                else:\n",
    "                    ans = ans + ' ' + s[left:right:-1]\n",
    "\n",
    "        return ans"
   ]
  },
  {
   "cell_type": "code",
   "execution_count": null,
   "id": "e07274b6",
   "metadata": {},
   "outputs": [
    {
     "data": {
      "text/plain": [
       "'ehhhhhheh'"
      ]
     },
     "execution_count": 19,
     "metadata": {},
     "output_type": "execute_result"
    }
   ],
   "source": [
    "sol = Solution()\n",
    "\n",
    "s = \"Let's take LeetCode contest\"\n",
    "s = \"Mr Ding\"\n",
    "s = 'hehhhhhhe'\n",
    "\n",
    "sol.reverseWords(s)"
   ]
  },
  {
   "cell_type": "markdown",
   "id": "d0d2b490",
   "metadata": {},
   "source": [
    "## (May 14)"
   ]
  },
  {
   "cell_type": "markdown",
   "id": "ba0c5e0e",
   "metadata": {},
   "source": [
    "## 917. Reverse Only Letters [E]\n",
    "\n",
    "Given a string `s`, reverse the string according to the following rules:\n",
    "\n",
    "* All the characters that are not English letters remain in the same position.\n",
    "\n",
    "* All the English letters (lowercase or uppercase) should be reversed.\n",
    "\n",
    "Return `s` after reversing it."
   ]
  },
  {
   "cell_type": "code",
   "execution_count": 39,
   "id": "0cf7d30f",
   "metadata": {},
   "outputs": [],
   "source": [
    "class Solution:\n",
    "    def reverseOnlyLetters(self, s: str) -> str:\n",
    "\n",
    "        left = 0\n",
    "        right = len(s)-1\n",
    "        ans = list(s)\n",
    "\n",
    "        while left < right:\n",
    "            # Iterate until both left and right are English letters\n",
    "            while (not s[left].isalpha()) and (left < right):\n",
    "                left += 1\n",
    "            while (not s[right].isalpha()) and (left < right):\n",
    "                right -= 1\n",
    "\n",
    "\n",
    "            if left < right:\n",
    "                ans[left] = s[right]\n",
    "                ans[right] = s[left]\n",
    "\n",
    "                left += 1\n",
    "                right -= 1\n",
    "\n",
    "        return ''.join(ans)\n",
    "\n",
    "\n"
   ]
  },
  {
   "cell_type": "code",
   "execution_count": null,
   "id": "2431c597",
   "metadata": {},
   "outputs": [
    {
     "data": {
      "text/plain": [
       "'7_28]'"
      ]
     },
     "execution_count": 40,
     "metadata": {},
     "output_type": "execute_result"
    }
   ],
   "source": [
    "sol = Solution()\n",
    "\n",
    "s = \"ab-cd\"\n",
    "s = \"a-bC-dEf-ghIj\"\n",
    "s = \"7_28]\"\n",
    "\n",
    "sol.reverseOnlyLetters(s)\n"
   ]
  },
  {
   "cell_type": "markdown",
   "id": "84398ffb",
   "metadata": {},
   "source": [
    "## 2540. Minimum Common Value [E]\n",
    "\n",
    "Given two integer arrays `nums1` and `nums2`, sorted in non-decreasing order, return the minimum integer common to both arrays. If there is no common integer amongst `nums1` and `nums2`, return `-1`.\n",
    "\n",
    "Note that an integer is said to be common to `nums1` and `nums2` if both arrays have at least one occurrence of that integer.\n"
   ]
  },
  {
   "cell_type": "code",
   "execution_count": 56,
   "id": "c4f3d5fa",
   "metadata": {},
   "outputs": [],
   "source": [
    "class Solution:\n",
    "    def getCommon(self, nums1: List[int], nums2: List[int]) -> int:\n",
    "        \n",
    "        for p1 in nums1:\n",
    "            for p2 in nums2:\n",
    "                if p1 == p2:\n",
    "                    return p1\n",
    "                if p1 < p2: # p2 will only increase, break inner p2 loop\n",
    "                    break\n",
    "\n",
    "        return -1"
   ]
  },
  {
   "cell_type": "code",
   "execution_count": 57,
   "id": "20135f99",
   "metadata": {},
   "outputs": [],
   "source": [
    "class Solution:\n",
    "    def getCommon(self, nums1: List[int], nums2: List[int]) -> int:\n",
    "        p1 = p2 = 0\n",
    "        if len(nums1) == 0 or len(nums2) == 0:\n",
    "            return -1\n",
    "\n",
    "        while p1 < len(nums1) and p2 < len(nums2):\n",
    "            if nums1[p1] == nums2[p2]:\n",
    "                return nums1[p1]\n",
    "            elif nums1[p1] < nums2[p2]:\n",
    "                p1 += 1\n",
    "            elif nums1[p1] > nums2[p2]:\n",
    "                p2 +=1\n",
    "\n",
    "        return -1\n",
    "\n",
    "        "
   ]
  },
  {
   "cell_type": "code",
   "execution_count": 58,
   "id": "8c011bcd",
   "metadata": {},
   "outputs": [
    {
     "data": {
      "text/plain": [
       "-1"
      ]
     },
     "execution_count": 58,
     "metadata": {},
     "output_type": "execute_result"
    }
   ],
   "source": [
    "sol = Solution()\n",
    "\n",
    "nums1 = [1,2,3]\n",
    "nums2 = [2,4]\n",
    "\n",
    "nums1 = [1,2,3,6]\n",
    "nums2 = [2,3,4,5]\n",
    "\n",
    "nums1 = []\n",
    "nums2 = []\n",
    "\n",
    "sol.getCommon(nums1, nums2)"
   ]
  },
  {
   "cell_type": "markdown",
   "id": "cb2bf26b",
   "metadata": {},
   "source": [
    "## 283. Move Zeroes [E]\n",
    "\n",
    "Given an integer array `nums`, move all `0`'s to the end of it while maintaining the relative order of the non-zero elements.\n",
    "\n",
    "Note that you must do this in-place without making a copy of the array."
   ]
  },
  {
   "cell_type": "code",
   "execution_count": null,
   "id": "2c2b1632",
   "metadata": {},
   "outputs": [],
   "source": [
    "class Solution:\n",
    "    def moveZeroes(self, nums: List[int]) -> None:\n",
    "        \"\"\"\n",
    "        Do not return anything, modify nums in-place instead.\n",
    "        \"\"\"\n",
    "\n",
    "        i = 0 # pos for writing consecutive non-zero array\n",
    "\n",
    "        for right in range(0,len(nums)):\n",
    "            if nums[right] != 0:\n",
    "                nums[i] = nums[right]\n",
    "                i += 1\n",
    "\n",
    "        for j in range(i,len(nums)):\n",
    "            nums[j] = 0\n",
    "        "
   ]
  },
  {
   "cell_type": "code",
   "execution_count": null,
   "id": "c07f100e",
   "metadata": {},
   "outputs": [],
   "source": [
    "class Solution:\n",
    "    def moveZeroes(self, nums: List[int]) -> None:\n",
    "        \"\"\"\n",
    "        Do not return anything, modify nums in-place instead.\n",
    "        \"\"\"\n",
    "\n",
    "        i = 0 # position for next non-zero element\n",
    "\n",
    "        for right in range(0,len(nums)):\n",
    "            if nums[right] != 0:\n",
    "                nums[i], nums[right] = nums[right], nums[i]\n",
    "                i += 1\n",
    "\n"
   ]
  },
  {
   "cell_type": "code",
   "execution_count": null,
   "id": "00fa46dc",
   "metadata": {},
   "outputs": [
    {
     "name": "stdout",
     "output_type": "stream",
     "text": [
      "[1, 3, 12, 0, 0]\n"
     ]
    }
   ],
   "source": [
    "sol = Solution()\n",
    "\n",
    "nums = [0,1,0,3,12]\n",
    "\n",
    "# [1,0,0,3,12] -> swap elements\n",
    "#    i   r\n",
    "\n",
    "# [1,3,0,0,12]\n",
    "#    i   r    -> then update i, r\n",
    "\n",
    "# [1,3,0,0,12]\n",
    "#      i   r\n",
    "\n",
    "# nums = [0, 0, 1, 2, 3]\n",
    "\n",
    "sol.moveZeroes(nums)\n",
    "print(nums)"
   ]
  },
  {
   "cell_type": "markdown",
   "id": "915d6b19",
   "metadata": {},
   "source": [
    "## 2000. Reverse Prefix of Word\n",
    "\n",
    "Given a 0-indexed string `word` and a character `ch`, reverse the segment of `word` that starts at index `0` and ends at the index of the first occurrence of `ch` (inclusive). If the character `ch` does not exist in `word`, do nothing.\n",
    "\n",
    "* For example, if `word = \"abcdefd\"` and `ch = \"d\"`, then you should reverse the segment that starts at `0` and ends at `3` (inclusive). The resulting string will be `\"dcbaefd\"`.\n",
    "\n",
    "Return the resulting string."
   ]
  },
  {
   "cell_type": "code",
   "execution_count": null,
   "id": "5099e0cf",
   "metadata": {},
   "outputs": [],
   "source": [
    "class Solution:\n",
    "    def reversePrefix(self, word: str, ch: str) -> str:\n",
    "        \n",
    "        for right in range(0,len(word)):\n",
    "            if word[right] == ch:\n",
    "                return word[right::-1] + word[right+1:]\n",
    "            \n",
    "        return word"
   ]
  },
  {
   "cell_type": "code",
   "execution_count": 79,
   "id": "4d5c4412",
   "metadata": {},
   "outputs": [],
   "source": [
    "sol = Solution()\n",
    "\n",
    "word = \"abcdefd\"\n",
    "ch = \"d\"\n",
    "\n",
    "word = \"xyxzxe\"\n",
    "ch = \"z\"\n",
    "\n",
    "word = \"abcd\"\n",
    "ch = \"z\"\n",
    "\n",
    "word = \"\"\n",
    "ch = \"\"\n",
    "\n",
    "sol.reversePrefix(word, ch)"
   ]
  },
  {
   "cell_type": "code",
   "execution_count": 70,
   "id": "6f60551f",
   "metadata": {},
   "outputs": [
    {
     "data": {
      "text/plain": [
       "'dcbaefd'"
      ]
     },
     "execution_count": 70,
     "metadata": {},
     "output_type": "execute_result"
    }
   ],
   "source": [
    "word = \"abcdefd\"\n",
    "\n",
    "word[3::-1] + word[3+1:]"
   ]
  }
 ],
 "metadata": {
  "kernelspec": {
   "display_name": "LeetCode",
   "language": "python",
   "name": "python3"
  },
  "language_info": {
   "codemirror_mode": {
    "name": "ipython",
    "version": 3
   },
   "file_extension": ".py",
   "mimetype": "text/x-python",
   "name": "python",
   "nbconvert_exporter": "python",
   "pygments_lexer": "ipython3",
   "version": "3.11.9"
  }
 },
 "nbformat": 4,
 "nbformat_minor": 5
}
