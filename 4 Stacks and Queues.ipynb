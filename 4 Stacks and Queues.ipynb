{
 "cells": [
  {
   "cell_type": "markdown",
   "metadata": {},
   "source": [
    "# Stacks and Queues"
   ]
  },
  {
   "cell_type": "code",
   "execution_count": 1,
   "metadata": {},
   "outputs": [],
   "source": [
    "from typing import List\n",
    "from typing import Optional"
   ]
  },
  {
   "cell_type": "markdown",
   "metadata": {},
   "source": [
    "## Ex: Stacks Interface Guide"
   ]
  },
  {
   "cell_type": "code",
   "execution_count": 2,
   "metadata": {},
   "outputs": [
    {
     "data": {
      "text/plain": [
       "1"
      ]
     },
     "execution_count": 2,
     "metadata": {},
     "output_type": "execute_result"
    }
   ],
   "source": [
    "# Declaration: we will just use a list\n",
    "stack = []\n",
    "\n",
    "# Pushing elements:\n",
    "stack.append(1)\n",
    "stack.append(2)\n",
    "stack.append(3)\n",
    "\n",
    "# Popping elements:\n",
    "stack.pop() # 3\n",
    "stack.pop() # 2\n",
    "\n",
    "# Check if empty\n",
    "not stack # False\n",
    "\n",
    "# Check element at top\n",
    "stack[-1] # 1\n",
    "\n",
    "# Get size\n",
    "len(stack) # 1"
   ]
  },
  {
   "cell_type": "markdown",
   "metadata": {},
   "source": [
    "## (20) Valid Parentheses [Easy]\n",
    "\n",
    "Given a string s containing just the characters `'('`, `')'`, `'{'`, `'}'`, `'['` and `']'`, determine if the input string is valid.\n",
    "\n",
    "An input string is valid if:\n",
    "\n",
    "1. Open brackets must be closed by the same type of brackets.\n",
    "\n",
    "2. Open brackets must be closed in the correct order.\n",
    "\n",
    "3. Every close bracket has a corresponding open bracket of the same type."
   ]
  },
  {
   "cell_type": "code",
   "execution_count": 18,
   "metadata": {},
   "outputs": [],
   "source": [
    "class Solution:\n",
    "    def isValid(self, s: str) -> bool:\n",
    "        stack = []\n",
    "        matching = {\"(\": \")\", \"[\": \"]\", \"{\": \"}\"}\n",
    "        \n",
    "        for c in s:\n",
    "            if c in matching: # if c is an opening bracket\n",
    "                stack.append(c)\n",
    "            else:\n",
    "                if not stack:\n",
    "                    return False\n",
    "                \n",
    "                previous_opening = stack.pop()\n",
    "                if matching[previous_opening] != c:\n",
    "                    return False\n",
    " \n",
    "        return not stack"
   ]
  },
  {
   "cell_type": "code",
   "execution_count": 20,
   "metadata": {},
   "outputs": [
    {
     "data": {
      "text/plain": [
       "True"
      ]
     },
     "execution_count": 20,
     "metadata": {},
     "output_type": "execute_result"
    }
   ],
   "source": [
    "sol = Solution()\n",
    "sol.isValid('({{}})')"
   ]
  },
  {
   "cell_type": "markdown",
   "metadata": {},
   "source": [
    "## (1047) Remove All Adjacent Duplicates In String [Easy]\n",
    "\n",
    "You are given a string `s` consisting of lowercase English letters. A duplicate removal consists of choosing two adjacent and equal letters and removing them.\n",
    "\n",
    "We repeatedly make duplicate removals on `s` until we no longer can.\n",
    "\n",
    "Return the final string after all such duplicate removals have been made. It can be proven that the answer is **unique**."
   ]
  },
  {
   "cell_type": "code",
   "execution_count": 21,
   "metadata": {},
   "outputs": [],
   "source": [
    "class Solution:\n",
    "    def removeDuplicates(self, s: str) -> str:\n",
    "        stack = []\n",
    "        for c in s:\n",
    "            if stack and stack[-1] == c:\n",
    "                stack.pop()\n",
    "            else:\n",
    "                stack.append(c)\n",
    "        \n",
    "        return \"\".join(stack)"
   ]
  },
  {
   "cell_type": "code",
   "execution_count": 22,
   "metadata": {},
   "outputs": [
    {
     "data": {
      "text/plain": [
       "'ca'"
      ]
     },
     "execution_count": 22,
     "metadata": {},
     "output_type": "execute_result"
    }
   ],
   "source": [
    "sol = Solution()\n",
    "sol.removeDuplicates('abbaca')"
   ]
  },
  {
   "cell_type": "markdown",
   "metadata": {},
   "source": [
    "## (844) Backspace String Compare\n",
    "\n",
    "Given two strings `s` and `t`, return `true` if they are equal when both are typed into empty text editors. `'#'` means a backspace character.\n",
    "\n",
    "Note that after backspacing an empty text, the text will continue empty."
   ]
  },
  {
   "cell_type": "code",
   "execution_count": 44,
   "metadata": {},
   "outputs": [],
   "source": [
    "# Beats 99.08% of submissions\n",
    "\n",
    "class Solution:\n",
    "    def backspaceCompare(self, s: str, t: str) -> bool:\n",
    "        def finalString(st):\n",
    "            stack = []\n",
    "            for ch in st:\n",
    "                if ch == '#':\n",
    "                    if stack:\n",
    "                        stack.pop()\n",
    "                else:\n",
    "                    stack.append(ch)\n",
    "\n",
    "            return \"\".join(stack)\n",
    "\n",
    "        return finalString(s) == finalString(t)\n"
   ]
  },
  {
   "cell_type": "code",
   "execution_count": 40,
   "metadata": {},
   "outputs": [
    {
     "data": {
      "text/plain": [
       "True"
      ]
     },
     "execution_count": 40,
     "metadata": {},
     "output_type": "execute_result"
    }
   ],
   "source": [
    "sol = Solution()\n",
    "sol.backspaceCompare('ab#c', 'ad#c')"
   ]
  },
  {
   "cell_type": "code",
   "execution_count": 41,
   "metadata": {},
   "outputs": [
    {
     "data": {
      "text/plain": [
       "True"
      ]
     },
     "execution_count": 41,
     "metadata": {},
     "output_type": "execute_result"
    }
   ],
   "source": [
    "sol = Solution()\n",
    "sol.backspaceCompare('ab##', 'c#d#')"
   ]
  },
  {
   "cell_type": "code",
   "execution_count": 42,
   "metadata": {},
   "outputs": [
    {
     "data": {
      "text/plain": [
       "False"
      ]
     },
     "execution_count": 42,
     "metadata": {},
     "output_type": "execute_result"
    }
   ],
   "source": [
    "sol = Solution()\n",
    "sol.backspaceCompare('a#c', 'b')"
   ]
  },
  {
   "cell_type": "code",
   "execution_count": 45,
   "metadata": {},
   "outputs": [
    {
     "data": {
      "text/plain": [
       "True"
      ]
     },
     "execution_count": 45,
     "metadata": {},
     "output_type": "execute_result"
    }
   ],
   "source": [
    "sol = Solution()\n",
    "sol.backspaceCompare('y#fo##f', 'y#f#o##f')"
   ]
  },
  {
   "cell_type": "markdown",
   "metadata": {},
   "source": [
    "## (71) Simplify Path [Medium]\n",
    "\n",
    "Given an absolute path for a Unix-style file system, which begins with a slash `'/'`, transform this path into its simplified canonical path.\n",
    "\n",
    "In Unix-style file system context, a single period `'.'` signifies the current directory, a double period `\"..\"` denotes moving up one directory level, and multiple slashes such as `\"//\"` are interpreted as a single slash. In this problem, treat sequences of periods not covered by the previous rules (like `\"...\"`) as valid names for files or directories.\n",
    "\n",
    "The simplified canonical path should adhere to the following rules:\n",
    "\n",
    "* It must start with a single slash `'/'`.\n",
    "\n",
    "* Directories within the path should be separated by only one slash `'/'`.\n",
    "\n",
    "* It should not end with a slash `'/'`, unless it's the root directory.\n",
    "\n",
    "* It should exclude any single or double periods used to denote current or parent directories.\n",
    "\n",
    "Return the new path."
   ]
  },
  {
   "cell_type": "code",
   "execution_count": 64,
   "metadata": {},
   "outputs": [],
   "source": [
    "# Beats 21.07% of submissions\n",
    "\n",
    "class Solution:\n",
    "    def simplifyPath(self, path: str) -> str:\n",
    "\n",
    "        dir_str = []\n",
    "        dir_stack = []\n",
    "        per_stack = []\n",
    "\n",
    "        path = path + '/' # Add to make sure closes\n",
    "\n",
    "        for ch in path:\n",
    "            if ch == '/':\n",
    "                if dir_str: # If the partial string exists, append any periods and close\n",
    "                    if per_stack:\n",
    "                        dir_str = dir_str + per_stack\n",
    "                        per_stack = []\n",
    "                    \n",
    "                    dir_stack.append(\"\".join(dir_str))\n",
    "                    dir_str = []\n",
    "\n",
    "                else: # If the partial string does not exist\n",
    "                    if len(per_stack) > 2: # Normal name string, append it to dir_stack\n",
    "                        dir_stack.append(\"\".join(per_stack))\n",
    "                        per_stack = []\n",
    "                    elif len(per_stack) == 2: # Move one directory up, pop dir_stack\n",
    "                        if dir_stack:\n",
    "                            dir_stack.pop()\n",
    "\n",
    "                        # If already at root, do nothing, reset per_stack\n",
    "                        per_stack = []\n",
    "\n",
    "                    # If one period, ignore, reset per_stack\n",
    "                    per_stack = []\n",
    "\n",
    "            elif ch == '.':\n",
    "                per_stack.append('.')\n",
    "\n",
    "            else:\n",
    "                if per_stack: # Append any previous periods first, then append ch\n",
    "                    dir_str = dir_str + per_stack\n",
    "                    per_stack = []\n",
    "                dir_str.append(ch)\n",
    "\n",
    "        return '/' + '/'.join(dir_stack)\n"
   ]
  },
  {
   "cell_type": "code",
   "execution_count": 47,
   "metadata": {},
   "outputs": [
    {
     "data": {
      "text/plain": [
       "'/home/andy/anaconda'"
      ]
     },
     "execution_count": 47,
     "metadata": {},
     "output_type": "execute_result"
    }
   ],
   "source": [
    "sol = Solution()\n",
    "sol.simplifyPath('/home/andy/.Doc..uments.//////../anaconda/')"
   ]
  },
  {
   "cell_type": "code",
   "execution_count": 58,
   "metadata": {},
   "outputs": [
    {
     "data": {
      "text/plain": [
       "'/home/user/Pictures'"
      ]
     },
     "execution_count": 58,
     "metadata": {},
     "output_type": "execute_result"
    }
   ],
   "source": [
    "sol = Solution()\n",
    "sol.simplifyPath('/home/user/Documents/../Pictures')"
   ]
  },
  {
   "cell_type": "code",
   "execution_count": 61,
   "metadata": {},
   "outputs": [
    {
     "data": {
      "text/plain": [
       "'/'"
      ]
     },
     "execution_count": 61,
     "metadata": {},
     "output_type": "execute_result"
    }
   ],
   "source": [
    "sol = Solution()\n",
    "sol.simplifyPath('/../')"
   ]
  },
  {
   "cell_type": "code",
   "execution_count": 62,
   "metadata": {},
   "outputs": [
    {
     "data": {
      "text/plain": [
       "'/.../b/d'"
      ]
     },
     "execution_count": 62,
     "metadata": {},
     "output_type": "execute_result"
    }
   ],
   "source": [
    "sol = Solution()\n",
    "sol.simplifyPath('/.../a/../b/c/../d/./')"
   ]
  },
  {
   "cell_type": "code",
   "execution_count": 65,
   "metadata": {},
   "outputs": [
    {
     "data": {
      "text/plain": [
       "'/a/b/c'"
      ]
     },
     "execution_count": 65,
     "metadata": {},
     "output_type": "execute_result"
    }
   ],
   "source": [
    "sol = Solution()\n",
    "sol.simplifyPath('/a//b////c/d//././/..')"
   ]
  },
  {
   "cell_type": "markdown",
   "metadata": {},
   "source": [
    "## (1544) Make The String Great [Easy]\n",
    "\n",
    "Given a string `s` of lower and upper case English letters.\n",
    "\n",
    "A good string is a string which doesn't have two adjacent characters `s[i]` and `s[i + 1]` where:\n",
    "\n",
    "* `0 <= i <= s.length - 2`\n",
    "\n",
    "* `s[i]` is a lower-case letter and `s[i + 1]` is the same letter but in upper-case or vice-versa.\n",
    "\n",
    "To make the string good, you can choose two adjacent characters that make the string bad and remove them. You can keep doing this until the string becomes good.\n",
    "\n",
    "Return the string after making it good. The answer is guaranteed to be unique under the given constraints.\n",
    "\n",
    "Notice that an empty string is also good."
   ]
  },
  {
   "cell_type": "code",
   "execution_count": 76,
   "metadata": {},
   "outputs": [],
   "source": [
    "# Beats 17.67% of submissions\n",
    "\n",
    "class Solution:\n",
    "    def makeGood(self, s: str) -> str:\n",
    "        stack = []\n",
    "        for c in s:\n",
    "            if stack: # If stack not empty, do a comparison\n",
    "                c1 = stack[-1]\n",
    "                if c1.isupper(): # Last in stack is upper\n",
    "                    if c1.lower() == c: # 'bad' combination\n",
    "                        stack.pop() # pop c1, discard c\n",
    "                    else: # 'good' combination\n",
    "                        stack.append(c) # keep both\n",
    "                else: # Last in stack is lower\n",
    "                    if c1.upper() == c:\n",
    "                        stack.pop()\n",
    "                    else:\n",
    "                        stack.append(c)\n",
    "\n",
    "            else: # If stack is empty, just append\n",
    "                stack.append(c)\n",
    "\n",
    "        return ''.join(stack)\n",
    "            \n",
    "\n",
    "            "
   ]
  },
  {
   "cell_type": "code",
   "execution_count": 77,
   "metadata": {},
   "outputs": [
    {
     "data": {
      "text/plain": [
       "'leetcode'"
      ]
     },
     "execution_count": 77,
     "metadata": {},
     "output_type": "execute_result"
    }
   ],
   "source": [
    "sol = Solution()\n",
    "sol.makeGood('leEeetcode')"
   ]
  },
  {
   "cell_type": "code",
   "execution_count": 78,
   "metadata": {},
   "outputs": [
    {
     "data": {
      "text/plain": [
       "''"
      ]
     },
     "execution_count": 78,
     "metadata": {},
     "output_type": "execute_result"
    }
   ],
   "source": [
    "sol = Solution()\n",
    "sol.makeGood('abBAcC')"
   ]
  },
  {
   "cell_type": "code",
   "execution_count": 79,
   "metadata": {},
   "outputs": [
    {
     "data": {
      "text/plain": [
       "'s'"
      ]
     },
     "execution_count": 79,
     "metadata": {},
     "output_type": "execute_result"
    }
   ],
   "source": [
    "sol = Solution()\n",
    "sol.makeGood('s')"
   ]
  },
  {
   "cell_type": "markdown",
   "metadata": {},
   "source": [
    "## Ex: Queues Interace Guide"
   ]
  },
  {
   "cell_type": "code",
   "execution_count": 80,
   "metadata": {},
   "outputs": [
    {
     "data": {
      "text/plain": [
       "3"
      ]
     },
     "execution_count": 80,
     "metadata": {},
     "output_type": "execute_result"
    }
   ],
   "source": [
    "# Declaration: we will use deque from the collections module\n",
    "import collections\n",
    "queue = collections.deque()\n",
    "\n",
    "# If you want to initialize it with some initial values:\n",
    "queue = collections.deque([1, 2, 3])\n",
    "\n",
    "# Enqueueing/adding elements:\n",
    "queue.append(4)\n",
    "queue.append(5)\n",
    "\n",
    "# Dequeuing/removing elements:\n",
    "queue.popleft() # 1\n",
    "queue.popleft() # 2\n",
    "\n",
    "# Check element at front of queue (next element to be removed)\n",
    "queue[0] # 3\n",
    "\n",
    "# Get size\n",
    "len(queue) # 3"
   ]
  },
  {
   "cell_type": "markdown",
   "metadata": {},
   "source": [
    "## (933) Number of Recent Calls [Easy]\n",
    "\n",
    "You have a `RecentCounter` class which counts the number of recent requests within a certain time frame.\n",
    "\n",
    "Implement the `RecentCounter` class:\n",
    "\n",
    "* `RecentCounter() `Initializes the counter with zero recent requests.\n",
    "\n",
    "* `int ping(int t)` Adds a new request at time `t`, where `t` represents some time in milliseconds, and returns the number of requests that has happened in the past `3000` milliseconds (including the new request). Specifically, return the number of requests that have happened in the inclusive range `[t - 3000, t]`.\n",
    "\n",
    "It is guaranteed that every call to `ping` uses a strictly larger value of `t` than the previous call."
   ]
  },
  {
   "cell_type": "code",
   "execution_count": 96,
   "metadata": {},
   "outputs": [],
   "source": [
    "# Beats 68.45% of submissions\n",
    "\n",
    "from collections import deque\n",
    "\n",
    "class RecentCounter:\n",
    "\n",
    "    def __init__(self):\n",
    "        self.queue = deque()\n",
    "\n",
    "    def ping(self, t: int) -> int:\n",
    "        self.queue.append(t)\n",
    "        \n",
    "        while self.queue and self.queue[0] < t - 3000:\n",
    "            self.queue.popleft()\n",
    "\n",
    "        return len(self.queue)\n",
    "\n",
    "# Your RecentCounter object will be instantiated and called as such:\n",
    "# obj = RecentCounter()\n",
    "# param_1 = obj.ping(t)"
   ]
  },
  {
   "cell_type": "code",
   "execution_count": 101,
   "metadata": {},
   "outputs": [
    {
     "data": {
      "text/plain": [
       "3"
      ]
     },
     "execution_count": 101,
     "metadata": {},
     "output_type": "execute_result"
    }
   ],
   "source": [
    "sol = RecentCounter()\n",
    "sol.ping(1)\n",
    "sol.ping(100)\n",
    "sol.ping(3001)\n",
    "sol.ping(3002)"
   ]
  },
  {
   "cell_type": "markdown",
   "metadata": {},
   "source": [
    "## (346) Moving Average from Data Stream [Easy]\n",
    "\n",
    "Given a stream of integers and a window size, calculate the moving average of all integers in the sliding window.\n",
    "\n",
    "Implement the `MovingAverage` class:\n",
    "\n",
    "* `MovingAverage(int size)` Initializes the object with the size of the window `size`.\n",
    "\n",
    "* `double next(int val)` Returns the moving average of the last `size` values of the stream."
   ]
  },
  {
   "cell_type": "code",
   "execution_count": 127,
   "metadata": {},
   "outputs": [],
   "source": [
    "# Beats 64.67% of submissions\n",
    "\n",
    "from collections import deque\n",
    "\n",
    "class MovingAverage:\n",
    "\n",
    "    def __init__(self, size: int):\n",
    "        self.size = size\n",
    "        self.queue = deque()\n",
    "\n",
    "    def next(self, val: int) -> float:\n",
    "        self.queue.append(val)\n",
    "\n",
    "        while len(self.queue) > self.size:\n",
    "            self.queue.popleft()\n",
    "\n",
    "        return sum(self.queue)/len(self.queue)\n",
    "        \n",
    "\n",
    "# Your MovingAverage object will be instantiated and called as such:\n",
    "# obj = MovingAverage(size)\n",
    "# param_1 = obj.next(val)"
   ]
  },
  {
   "cell_type": "code",
   "execution_count": 128,
   "metadata": {},
   "outputs": [
    {
     "data": {
      "text/plain": [
       "6.0"
      ]
     },
     "execution_count": 128,
     "metadata": {},
     "output_type": "execute_result"
    }
   ],
   "source": [
    "sol = MovingAverage(3)\n",
    "sol.next(1)\n",
    "sol.next(10)\n",
    "sol.next(3)\n",
    "sol.next(5)"
   ]
  },
  {
   "cell_type": "markdown",
   "metadata": {},
   "source": [
    "## (739) Daily Temperatures [Medium]\n",
    "\n",
    "Given an array of integers `temperatures` representing the daily temperatures, return an array `answer` such that `answer[i]` is the number of days you have to wait after the `ith` day to get a warmer temperature. If there is no future day for which this is possible, keep `answer[i] == 0` instead."
   ]
  },
  {
   "cell_type": "code",
   "execution_count": 132,
   "metadata": {},
   "outputs": [],
   "source": [
    "# Leetcode solution\n",
    "class Solution:\n",
    "    def dailyTemperatures(self, temperatures: List[int]) -> List[int]:\n",
    "        stack = []\n",
    "        answer = [0] * len(temperatures)\n",
    "        \n",
    "        for i in range(len(temperatures)):\n",
    "            while stack and temperatures[stack[-1]] < temperatures[i]:\n",
    "                j = stack.pop()\n",
    "                answer[j] = i - j\n",
    "            stack.append(i)\n",
    "        \n",
    "        return answer"
   ]
  },
  {
   "cell_type": "code",
   "execution_count": 133,
   "metadata": {},
   "outputs": [
    {
     "data": {
      "text/plain": [
       "[1, 1, 4, 2, 1, 1, 0, 0]"
      ]
     },
     "execution_count": 133,
     "metadata": {},
     "output_type": "execute_result"
    }
   ],
   "source": [
    "sol = Solution()\n",
    "sol.dailyTemperatures([73,74,75,71,69,72,76,73])"
   ]
  },
  {
   "cell_type": "markdown",
   "metadata": {},
   "source": [
    "## (239) Sliding Window Maximum [Hard]\n",
    "\n",
    "You are given an array of integers `nums`, there is a sliding window of size `k` which is moving from the very left of the array to the very right. You can only see the `k` numbers in the window. Each time the sliding window moves right by one position.\n",
    "\n",
    "Return the **max** [of the] sliding window."
   ]
  },
  {
   "cell_type": "code",
   "execution_count": 146,
   "metadata": {},
   "outputs": [],
   "source": [
    "# Losely based on Leetcode solution (Beats 69.07% of submissions)\n",
    "\n",
    "from collections import deque\n",
    "\n",
    "class Solution:\n",
    "    def maxSlidingWindow(self, nums: List[int], k: int) -> List[int]:\n",
    "        \n",
    "        queue = deque() # to hold indices of highest values within range\n",
    "        ans = [] # to hold max\n",
    "\n",
    "        for i in range(0, len(nums)):\n",
    "\n",
    "            while queue and nums[queue[-1]] < nums[i]:\n",
    "                queue.pop() # If curr is greater than elements in queue, remove elements (they do not have potential to be the max, ever)\n",
    "\n",
    "            queue.append(i) # so queue is always monotonically decreasing\n",
    "\n",
    "            print(f'i: {i}, queue: {queue}')\n",
    "\n",
    "            if queue[0] < i - k + 1: # if index in front of queue is out of bounds, then popleft\n",
    "                queue.popleft()\n",
    "\n",
    "            if i >= k - 1: # once window is full of k values\n",
    "                ans.append(nums[queue[0]])\n",
    "\n",
    "        return ans"
   ]
  },
  {
   "cell_type": "code",
   "execution_count": 149,
   "metadata": {},
   "outputs": [
    {
     "name": "stdout",
     "output_type": "stream",
     "text": [
      "i: 0, queue: deque([0])\n",
      "i: 1, queue: deque([1])\n",
      "i: 2, queue: deque([1, 2])\n",
      "i: 3, queue: deque([1, 2, 3])\n",
      "i: 4, queue: deque([4])\n",
      "i: 5, queue: deque([4, 5])\n",
      "i: 6, queue: deque([6])\n",
      "i: 7, queue: deque([7])\n"
     ]
    },
    {
     "data": {
      "text/plain": [
       "[3, 3, 5, 5, 6, 7]"
      ]
     },
     "execution_count": 149,
     "metadata": {},
     "output_type": "execute_result"
    }
   ],
   "source": [
    "sol = Solution()\n",
    "sol.maxSlidingWindow([1,3,-1,-3,5,3,6,7], 3)"
   ]
  },
  {
   "cell_type": "code",
   "execution_count": 150,
   "metadata": {},
   "outputs": [
    {
     "name": "stdout",
     "output_type": "stream",
     "text": [
      "i: 0, queue: deque([0])\n"
     ]
    },
    {
     "data": {
      "text/plain": [
       "[1]"
      ]
     },
     "execution_count": 150,
     "metadata": {},
     "output_type": "execute_result"
    }
   ],
   "source": [
    "sol = Solution()\n",
    "sol.maxSlidingWindow([1], 1)"
   ]
  },
  {
   "cell_type": "code",
   "execution_count": 151,
   "metadata": {},
   "outputs": [],
   "source": [
    "# Leetcode solution\n",
    "\n",
    "from collections import deque\n",
    "\n",
    "class Solution:\n",
    "    def maxSlidingWindow(self, nums: List[int], k: int) -> List[int]:\n",
    "        ans = []\n",
    "        queue = deque()\n",
    "        for i in range(len(nums)):\n",
    "            # maintain monotonic decreasing.\n",
    "            # all elements in the deque smaller than the current one\n",
    "            # have no chance of being the maximum, so get rid of them\n",
    "            while queue and nums[i] > nums[queue[-1]]:\n",
    "                queue.pop()\n",
    "\n",
    "            queue.append(i)\n",
    "\n",
    "            # queue[0] is the index of the maximum element.\n",
    "            # if queue[0] + k == i, then it is outside the window\n",
    "            if queue[0] + k == i:\n",
    "                queue.popleft()\n",
    "            \n",
    "            # only add to the answer once our window has reached size k\n",
    "            if i >= k - 1:\n",
    "                ans.append(nums[queue[0]])\n",
    "\n",
    "        return ans"
   ]
  },
  {
   "cell_type": "markdown",
   "metadata": {},
   "source": [
    "## (1438) Longest Continuous Subarray With Absolute Diff Less Than or Equal to Limit [Medium]\n",
    "\n",
    "Given an array of integers `nums` and an integer `limit`, return the size of the longest non-empty subarray such that the absolute difference between any two elements of this subarray is less than or equal to `limit`."
   ]
  },
  {
   "cell_type": "code",
   "execution_count": 238,
   "metadata": {},
   "outputs": [],
   "source": [
    "# Beats 36.81% of submissions\n",
    "\n",
    "from collections import deque\n",
    "\n",
    "class Solution:\n",
    "    def longestSubarray(self, nums: List[int], limit: int) -> int:\n",
    "        length_longest = 0\n",
    "        queue_max = deque() # Monotonically decreasing\n",
    "        queue_min = deque() # Monotonically increasing\n",
    "        j = 0 # starting index\n",
    "\n",
    "        for i in range(0, len(nums)):\n",
    "            while queue_max and nums[queue_max[-1]] < nums[i]: # Remove anything in queue less than current\n",
    "                queue_max.pop()\n",
    "\n",
    "            queue_max.append(i)\n",
    "\n",
    "            while queue_min and nums[queue_min[-1]] > nums[i]: # Remove anything in queue greater than current\n",
    "                queue_min.pop()\n",
    "\n",
    "            queue_min.append(i)\n",
    "\n",
    "            # For the current length j to i, is diff < limit?\n",
    "            while queue_max and queue_min and nums[queue_max[0]] - nums[queue_min[0]] > limit:\n",
    "                # If not, remove earliest index(es), and progress inward, until limit satisfied or queue exhausted\n",
    "                j += 1\n",
    "                while queue_max[0] < j:\n",
    "                    queue_max.popleft()\n",
    "                while queue_min[0] < j:\n",
    "                    queue_min.popleft()\n",
    "\n",
    "            length = i - j + 1\n",
    "            # print(f'i: {i}, j: {j}, length: {length}, queue_max {queue_max}, queue_min {queue_min}')\n",
    "\n",
    "            # if queue_max and queue_min:\n",
    "            #     ptA = min(queue_max[0], queue_min[0]) # subtract i - j + 1\n",
    "            #     ptB = max(queue_max[0], queue_min[0])\n",
    "            #     length2 = ptB - ptA + 1\n",
    "            #     print(f'i: {i} valid pos: {ptA}-{ptB} ({nums[queue_max[0]]}-{nums[queue_min[0]]}) length: {length2} diff: {nums[queue_max[0]] - nums[queue_min[0]]}' )\n",
    "            #     print(f'queue_max {queue_max}, queue_min {queue_min}')\n",
    "            # else:\n",
    "            #     length = 0\n",
    "            #     print(f'No valid pos - should not reach this outome')\n",
    "\n",
    "            \n",
    "            length_longest = max(length_longest, length)\n",
    "\n",
    "        return length_longest"
   ]
  },
  {
   "cell_type": "code",
   "execution_count": 239,
   "metadata": {},
   "outputs": [
    {
     "data": {
      "text/plain": [
       "2"
      ]
     },
     "execution_count": 239,
     "metadata": {},
     "output_type": "execute_result"
    }
   ],
   "source": [
    "sol = Solution()\n",
    "sol.longestSubarray([8,2,4,7], 4)"
   ]
  },
  {
   "cell_type": "code",
   "execution_count": 240,
   "metadata": {},
   "outputs": [
    {
     "data": {
      "text/plain": [
       "4"
      ]
     },
     "execution_count": 240,
     "metadata": {},
     "output_type": "execute_result"
    }
   ],
   "source": [
    "sol = Solution()\n",
    "sol.longestSubarray([10,1,2,4,7,2], 5) "
   ]
  },
  {
   "cell_type": "code",
   "execution_count": 241,
   "metadata": {},
   "outputs": [
    {
     "data": {
      "text/plain": [
       "3"
      ]
     },
     "execution_count": 241,
     "metadata": {},
     "output_type": "execute_result"
    }
   ],
   "source": [
    "sol = Solution()\n",
    "sol.longestSubarray([4,2,2,2,4,4,2,2], 0)"
   ]
  },
  {
   "cell_type": "code",
   "execution_count": 242,
   "metadata": {},
   "outputs": [
    {
     "data": {
      "text/plain": [
       "5"
      ]
     },
     "execution_count": 242,
     "metadata": {},
     "output_type": "execute_result"
    }
   ],
   "source": [
    "sol = Solution()\n",
    "sol.longestSubarray([1,5,6,7,8,10,6,5,6], 4)\n",
    "# max: [6 6] min: [5 6]"
   ]
  }
 ],
 "metadata": {
  "language_info": {
   "name": "python"
  }
 },
 "nbformat": 4,
 "nbformat_minor": 2
}
