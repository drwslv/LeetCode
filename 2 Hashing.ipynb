{
 "cells": [
  {
   "cell_type": "markdown",
   "metadata": {},
   "source": [
    "# Notes"
   ]
  },
  {
   "cell_type": "markdown",
   "metadata": {},
   "source": [
    "Hash table read/write is always O(1)\n",
    "\n",
    "* But involves significant overhead, more like O(10)\n",
    "\n",
    "* Arrays are O(N) for modification of length, but less overhead\n",
    "\n",
    "Hash tables may take up more space than arrays\n",
    "\n",
    "* Arrays are set to size of data\n",
    "\n",
    "\n",
    "In Python, hash tables are:\n",
    "\n",
    "* Dictionaries: `{key1: value1, key2:value2}`\n",
    "\n",
    "    * Unordered\n",
    "\n",
    "* Sets: `{value1, value2}`\n",
    "\n",
    "    * Unordered\n",
    "\n",
    "    * Does not track frequency, i.e. same number not present more than one time\n",
    "\n",
    "Size of hash table array (bins) and base of hashing function (k) should be coprime\n",
    "\n",
    "* **Coprime**: in which the highest common factor (greatest common divisor) of a set of numbers is 1\n",
    "\n",
    "* This reduces the frequency of *collisions* (returning the same address for a multiple given references)\n",
    "\n",
    "Example hashing function with base `k`:\n",
    "\n",
    "`(first char) + k * (second char) + k^2 * (third char) + ...`\n",
    "\n",
    "\n"
   ]
  },
  {
   "cell_type": "markdown",
   "metadata": {},
   "source": [
    "\n",
    "# Hashing\n",
    "\n"
   ]
  },
  {
   "cell_type": "code",
   "execution_count": 1,
   "metadata": {},
   "outputs": [],
   "source": [
    "from typing import List"
   ]
  },
  {
   "cell_type": "markdown",
   "metadata": {},
   "source": [
    "## Ex: (1) Two Sum\n",
    "\n",
    "Given an array of integers `nums` and an integer `target`, return indices of the two numbers such that they add up to `target`.\n",
    "\n",
    "You may assume that each input would have exactly one solution, and you may not use the same element twice.\n",
    "\n",
    "You can return the answer in any order."
   ]
  },
  {
   "cell_type": "code",
   "execution_count": null,
   "metadata": {},
   "outputs": [],
   "source": [
    "class Solution:\n",
    "    def twoSum(self, nums: List[int], target: int) -> List[int]:\n",
    "        dic = {}\n",
    "        for i in range(len(nums)):\n",
    "            num = nums[i]\n",
    "            complement = target - num\n",
    "            if complement in dic: # This operation is O(1)!\n",
    "                return [i, dic[complement]]\n",
    "            \n",
    "            dic[num] = i\n",
    "        \n",
    "        return [-1, -1]"
   ]
  },
  {
   "cell_type": "code",
   "execution_count": null,
   "metadata": {},
   "outputs": [],
   "source": [
    "sol = Solution()\n",
    "sol.twoSum([2,7,11,15], 9)"
   ]
  },
  {
   "cell_type": "markdown",
   "metadata": {},
   "source": [
    "## Ex: (2351) First Letter to Appear Twice\n",
    "\n",
    "Given a string `s`, return the first character to appear twice. It is guaranteed that the input will have a duplicate character."
   ]
  },
  {
   "cell_type": "code",
   "execution_count": null,
   "metadata": {},
   "outputs": [],
   "source": [
    "class Solution:\n",
    "    def repeatedCharacter(self, s: str) -> str:\n",
    "        seen = set()\n",
    "        for c in s:\n",
    "            if c in seen:\n",
    "                return c\n",
    "            seen.add(c)\n",
    "\n",
    "        return \" \""
   ]
  },
  {
   "cell_type": "code",
   "execution_count": null,
   "metadata": {},
   "outputs": [],
   "source": [
    "sol = Solution()\n",
    "sol.repeatedCharacter('abccbaacz')"
   ]
  },
  {
   "cell_type": "markdown",
   "metadata": {},
   "source": [
    "## Ex: Unique Elements\n",
    "\n",
    "Given an integer array `nums`, find all the unique numbers `x` in `nums` that satisfy the following: `x + 1` is not in nums, and `x - 1` is not in nums."
   ]
  },
  {
   "cell_type": "code",
   "execution_count": null,
   "metadata": {},
   "outputs": [],
   "source": [
    "def find_numbers(nums):\n",
    "    ans = []\n",
    "    nums = set(nums)\n",
    "\n",
    "    for num in nums:\n",
    "        if (num + 1 not in nums) and (num - 1 not in nums):\n",
    "            ans.append(num)\n",
    "    \n",
    "    return ans"
   ]
  },
  {
   "cell_type": "code",
   "execution_count": null,
   "metadata": {},
   "outputs": [
    {
     "data": {
      "text/plain": [
       "[11, 22]"
      ]
     },
     "metadata": {},
     "output_type": "display_data"
    }
   ],
   "source": [
    "find_numbers([1,2,3,11,22])"
   ]
  },
  {
   "cell_type": "markdown",
   "metadata": {},
   "source": [
    "## (1832) Check if the Sentence Is Panagram\n",
    "\n",
    "A **pangram** is a sentence where every letter of the English alphabet appears at least once.\n",
    "\n",
    "Given a string `sentence` containing only lowercase English letters, return `true` if `sentence` is a **pangram**, or `false` otherwise."
   ]
  },
  {
   "cell_type": "code",
   "execution_count": 19,
   "metadata": {},
   "outputs": [],
   "source": [
    "# Beats 90.48% of submissions\n",
    "class Solution:\n",
    "    def checkIfPangram(self, sentence: str) -> bool:\n",
    "        alphabet_set = {chr(i) for i in range(ord('a'), ord('z')+1)}\n",
    "\n",
    "        for ch in alphabet_set:\n",
    "            if ch not in sentence:\n",
    "                return False\n",
    "            \n",
    "        return True"
   ]
  },
  {
   "cell_type": "code",
   "execution_count": 20,
   "metadata": {},
   "outputs": [
    {
     "data": {
      "text/plain": [
       "False"
      ]
     },
     "execution_count": 20,
     "metadata": {},
     "output_type": "execute_result"
    }
   ],
   "source": [
    "sol = Solution()\n",
    "sol.checkIfPangram(\"leetcode\")"
   ]
  },
  {
   "cell_type": "code",
   "execution_count": 21,
   "metadata": {},
   "outputs": [
    {
     "data": {
      "text/plain": [
       "True"
      ]
     },
     "execution_count": 21,
     "metadata": {},
     "output_type": "execute_result"
    }
   ],
   "source": [
    "sol = Solution()\n",
    "sol.checkIfPangram(\"thequickbrownfoxjumpsoverthelazydog\")"
   ]
  },
  {
   "cell_type": "markdown",
   "metadata": {},
   "source": [
    "## (268) Missing Number\n",
    "\n",
    "Given an array `nums` containing `n` distinct numbers in the range `[0, n]`, return the only number in the range that is missing from the array."
   ]
  },
  {
   "cell_type": "code",
   "execution_count": 4,
   "metadata": {},
   "outputs": [],
   "source": [
    "# Beats 14.17% of submissions\n",
    "class Solution:\n",
    "    def missingNumber(self, nums: List[int]) -> int:\n",
    "        for i in range(0, len(nums) + 1):\n",
    "            if i not in nums:\n",
    "                return i"
   ]
  },
  {
   "cell_type": "code",
   "execution_count": 7,
   "metadata": {},
   "outputs": [],
   "source": [
    "# Beats 78.10% of submissions\n",
    "class Solution:\n",
    "    def missingNumber(self, nums: List[int]) -> int:\n",
    "        nums_set = set(nums)\n",
    "        for i in range(0, len(nums) + 1):\n",
    "            if i not in nums_set:\n",
    "                return i"
   ]
  },
  {
   "cell_type": "code",
   "execution_count": 8,
   "metadata": {},
   "outputs": [
    {
     "data": {
      "text/plain": [
       "2"
      ]
     },
     "execution_count": 8,
     "metadata": {},
     "output_type": "execute_result"
    }
   ],
   "source": [
    "sol = Solution()\n",
    "sol.missingNumber([3,0,1])"
   ]
  },
  {
   "cell_type": "code",
   "execution_count": 9,
   "metadata": {},
   "outputs": [
    {
     "data": {
      "text/plain": [
       "8"
      ]
     },
     "execution_count": 9,
     "metadata": {},
     "output_type": "execute_result"
    }
   ],
   "source": [
    "sol = Solution()\n",
    "sol.missingNumber([9,6,4,2,3,5,7,0,1])"
   ]
  },
  {
   "cell_type": "markdown",
   "metadata": {},
   "source": [
    "## (1426) Counting Elements\n",
    "\n",
    "Given an integer array `arr`, count how many elements `x` there are, such that `x + 1` is also in `arr`. If there are duplicates in `arr`, count them separately."
   ]
  },
  {
   "cell_type": "code",
   "execution_count": 11,
   "metadata": {},
   "outputs": [],
   "source": [
    "# Beats 30.43% of submissions\n",
    "class Solution:\n",
    "    def countElements(self, arr: List[int]) -> int:\n",
    "        arrSet = set(arr)\n",
    "        count = 0\n",
    "        for elem in arr:\n",
    "            if (elem + 1) in arrSet:\n",
    "                count += 1\n",
    "            \n",
    "        return count"
   ]
  },
  {
   "cell_type": "code",
   "execution_count": 12,
   "metadata": {},
   "outputs": [
    {
     "data": {
      "text/plain": [
       "2"
      ]
     },
     "execution_count": 12,
     "metadata": {},
     "output_type": "execute_result"
    }
   ],
   "source": [
    "sol = Solution()\n",
    "sol.countElements([1,2,3])"
   ]
  },
  {
   "cell_type": "markdown",
   "metadata": {},
   "source": [
    "## Ex: Counting\n",
    "\n",
    "You are given a string `s` and an integer `k`. Find the length of the longest substring that contains at most `k` distinct characters.\n",
    "\n",
    "For example, given `s = \"eceba\"` and `k = 2`, return `3`. The longest substring with at most 2 distinct characters is `\"ece\"`.\n"
   ]
  },
  {
   "cell_type": "code",
   "execution_count": 13,
   "metadata": {},
   "outputs": [],
   "source": [
    "from collections import defaultdict # primarily let us do `dict[key] += 1` without knowing whether it exists or not\n",
    "\n",
    "# This is a sliding window, but in this case we have multiple requirements to keep track of\n",
    "# i.e., the frequency count of ' a', and of 'b', and of 'c', etc.\n",
    "\n",
    "def find_longest_substring(s, k):\n",
    "    counts = defaultdict(int)\n",
    "    left = ans = 0\n",
    "    for right in range(len(s)):\n",
    "        counts[s[right]] += 1\n",
    "        while len(counts) > k:\n",
    "            counts[s[left]] -= 1\n",
    "            if counts[s[left]] == 0:\n",
    "                del counts[s[left]]\n",
    "            left += 1\n",
    "        \n",
    "        ans = max(ans, right - left + 1)\n",
    "    \n",
    "    return ans"
   ]
  },
  {
   "cell_type": "code",
   "execution_count": 14,
   "metadata": {},
   "outputs": [
    {
     "data": {
      "text/plain": [
       "3"
      ]
     },
     "execution_count": 14,
     "metadata": {},
     "output_type": "execute_result"
    }
   ],
   "source": [
    "find_longest_substring('eceba', 2)"
   ]
  },
  {
   "cell_type": "markdown",
   "metadata": {},
   "source": [
    "## Ex: (2248) Intersection of Multiple Arrays\n",
    "\n",
    "Given a 2D array `nums` that contains `n` arrays of distinct integers, return a sorted array containing all the numbers that appear in all `n` arrays.\n",
    "\n",
    "For example, given `nums = [[3,1,2,4,5],[1,2,3,4],[3,4,5,6]]`, return `[3, 4]`. `3` and `4` are the only numbers that are in all arrays."
   ]
  },
  {
   "cell_type": "code",
   "execution_count": 3,
   "metadata": {},
   "outputs": [],
   "source": [
    "from collections import defaultdict\n",
    "\n",
    "class Solution:\n",
    "    def intersection(self, nums: List[List[int]]) -> List[int]:\n",
    "        counts = defaultdict(int)\n",
    "        for arr in nums:\n",
    "            for x in arr:\n",
    "                counts[x] += 1 # Record frequency of every distinct integer\n",
    "\n",
    "        n = len(nums)\n",
    "        ans = []\n",
    "        for key in counts:\n",
    "            if counts[key] == n: # If an integer has appeared n times, then it must have been in all n arrays\n",
    "                ans.append(key)\n",
    "        \n",
    "        return sorted(ans)"
   ]
  },
  {
   "cell_type": "code",
   "execution_count": 4,
   "metadata": {},
   "outputs": [
    {
     "data": {
      "text/plain": [
       "[3, 4]"
      ]
     },
     "execution_count": 4,
     "metadata": {},
     "output_type": "execute_result"
    }
   ],
   "source": [
    "sol = Solution()\n",
    "sol.intersection([[3,1,2,4,5],[1,2,3,4],[3,4,5,6]])"
   ]
  },
  {
   "cell_type": "markdown",
   "metadata": {},
   "source": [
    "## Ex: (1941) Check if All Characters Have Equal Number of Occurrences\n",
    "\n",
    "Given a string `s`, determine if all characters have the same frequency.\n",
    "\n",
    "For example, given `s = \"abacbc\"`, return true. All characters appear twice. Given `s = \"aaabb\"`, return false. `\"a\"` appears 3 times, `\"b\"` appears 2 times. `3 != 2`."
   ]
  },
  {
   "cell_type": "code",
   "execution_count": 5,
   "metadata": {},
   "outputs": [],
   "source": [
    "from collections import defaultdict\n",
    "\n",
    "class Solution:\n",
    "    def areOccurrencesEqual(self, s: str) -> bool:\n",
    "        counts = defaultdict(int)\n",
    "        for c in s:\n",
    "            counts[c] += 1 # Record frequency of each character\n",
    "        \n",
    "        frequencies = counts.values() # Add the counts (values) to a set. Since a set doesn't include duplicates, if the set length is 1, they are all the same frequency\n",
    "        return len(set(frequencies)) == 1"
   ]
  },
  {
   "cell_type": "code",
   "execution_count": 6,
   "metadata": {},
   "outputs": [
    {
     "data": {
      "text/plain": [
       "True"
      ]
     },
     "execution_count": 6,
     "metadata": {},
     "output_type": "execute_result"
    }
   ],
   "source": [
    "sol = Solution()\n",
    "sol.areOccurrencesEqual('abacbc')"
   ]
  },
  {
   "cell_type": "markdown",
   "metadata": {},
   "source": [
    "## Ex: (560) Subarray Sum Equals K\n",
    "\n",
    "Given an integer array `nums` and an integer `k`, find the number of subarrays whose sum is equal to `k`."
   ]
  },
  {
   "cell_type": "markdown",
   "metadata": {},
   "source": [
    "Explanation:\n",
    "\n",
    "Using an loop: `for right in range(0, len(nums)):`\n",
    "\n",
    "Does `prefix[right]` satisfy the constraint, `sum = k`, for one (or more) subarrays?\n",
    "\n",
    "(`curr = prefix[right]` in leetcode explanation)\n",
    "\n",
    "To satisfy the constraint:\n",
    "\n",
    "`substring sum = k`\n",
    "\n",
    "`prefix[right] - prefix[left-1] = k`\n",
    "\n",
    "`prefix[right] - prefix[left] + nums[left] = k`\n",
    "\n",
    "`prefix[right] - (prefix[left] - nums[left]) = k`\n",
    "\n",
    "This is true when\n",
    "\n",
    "`prefix[left] - nums[left] = prefix[right] - k`\n",
    "\n",
    "`prefix[left-1] = prefix[right] - k`\n",
    "\n",
    "Must use a hash map, not a set, as prefix sums can appear more than once (i.e. negative elements), which means that multiple subarrays can end at `[right]`"
   ]
  },
  {
   "cell_type": "code",
   "execution_count": null,
   "metadata": {},
   "outputs": [],
   "source": [
    "from collections import defaultdict\n",
    "\n",
    "class Solution:\n",
    "    def subarraySum(self, nums: List[int], k: int) -> int:\n",
    "        counts = defaultdict(int)\n",
    "        counts[0] = 1\n",
    "        ans = curr = 0\n",
    "\n",
    "        for num in nums:\n",
    "            curr += num # curr is the running prefix sum\n",
    "            ans += counts[curr - k] # if curr - k (or prefix[right] - k) has been seen before, add its frequency to the number of possible solutions\n",
    "            counts[curr] += 1 # update the frequency of this prefix sum, or add it if it hasn't been seen before\n",
    "    \n",
    "        return ans"
   ]
  },
  {
   "cell_type": "markdown",
   "metadata": {},
   "source": [
    "## Ex: (1248) Count Number of Nice Subarrays\n",
    "\n",
    "Given an array of positive integers `nums` and an integer `k`. Find the number of subarrays with exactly `k` odd numbers in them.\n",
    "\n",
    "For example, given `nums = [1, 1, 2, 1, 1]`, `k = 3`, the answer is `2`. The subarrays with 3 odd numbers in them are `[1, 1, 2, 1, 1]` and `[1, 1, 2, 1, 1]`.\n"
   ]
  },
  {
   "cell_type": "markdown",
   "metadata": {},
   "source": [
    "To satisfy the constraint:\n",
    "\n",
    "`prefix_odd` is the running count of odd numbers (instead of a running sum of all numbers)\n",
    "\n",
    "`prefix_odd[right] - (prefix_odd[left - 1]) = k`\n",
    "\n",
    "`prefix_odd[right] - k = prefix_odd[left - 1]`\n",
    "\n",
    "Again, if `prefix_odd[right] - k` has been seen before, we add it as a substring that satisfies the constraint\n"
   ]
  },
  {
   "cell_type": "code",
   "execution_count": null,
   "metadata": {},
   "outputs": [],
   "source": [
    "from collections import defaultdict\n",
    "\n",
    "class Solution:\n",
    "    def numberOfSubarrays(self, nums: List[int], k: int) -> int:\n",
    "        counts = defaultdict(int)\n",
    "        counts[0] = 1\n",
    "        ans = curr = 0\n",
    "        \n",
    "        for num in nums:\n",
    "            curr += num % 2 # curr is the prefix \"sum\", counting the number of odd numbers: num % 2 is either 0 or 1\n",
    "            # The current total of odds, minus the desired number of odds, is equal to the number of odds needed just before the start of the substring\n",
    "            # So if we have seen THAT substring before, it represents a valid start of one substring (can be more than one)\n",
    "            ans += counts[curr - k]  \n",
    "            counts[curr] += 1\n",
    "\n",
    "        return ans"
   ]
  },
  {
   "cell_type": "markdown",
   "metadata": {},
   "source": [
    "## (2225) Find Players With Zero or One Losses\n",
    "\n",
    "You are given an integer array `matches` where `matches[i] = [winner_i, loser_i]` indicates that the player `winner_i` defeated player `loser_i` in a match.\n",
    "\n",
    "Return a list `answer` of size `2` where:\n",
    "\n",
    "* `answer[0]` is a list of all players that have **not** lost any matches.\n",
    "* `answer[1]` is a list of all players that have lost exactly **one** match.\n",
    "\n",
    "The values in the two lists should be returned in **increasing** order.\n",
    "\n",
    "**Note:**\n",
    "\n",
    "* You should only consider the players that have played **at least one** match.\n",
    "\n",
    "* The testcases will be generated such that *no* two matches will have the same outcome.\n"
   ]
  },
  {
   "cell_type": "code",
   "execution_count": 26,
   "metadata": {},
   "outputs": [],
   "source": [
    "from collections import defaultdict\n",
    "\n",
    "# Beats 49.07% of submissions\n",
    "class Solution:\n",
    "    def findWinners(self, matches: List[List[int]]) -> List[List[int]]:\n",
    "        winnersDict = defaultdict(int) # key: number, value: frequency of wins\n",
    "        losersDict = defaultdict(int)\n",
    "\n",
    "        for winner, loser in matches:\n",
    "            winnersDict[winner] += 1\n",
    "            losersDict[loser] += 1\n",
    "\n",
    "        neverLostDict = winnersDict.copy()\n",
    "\n",
    "        for winner in winnersDict.keys():\n",
    "            if winner in losersDict:\n",
    "                del neverLostDict[winner]\n",
    "            \n",
    "        lostOneDict = {key: value for key, value in losersDict.items() if value == 1}\n",
    "\n",
    "        answer = [ sorted(list(neverLostDict)), sorted(list(lostOneDict)) ]\n",
    "\n",
    "        return answer"
   ]
  },
  {
   "cell_type": "code",
   "execution_count": 27,
   "metadata": {},
   "outputs": [
    {
     "data": {
      "text/plain": [
       "[[1, 2, 10], [4, 5, 7, 8]]"
      ]
     },
     "execution_count": 27,
     "metadata": {},
     "output_type": "execute_result"
    }
   ],
   "source": [
    "sol = Solution()\n",
    "sol.findWinners([[1,3],[2,3],[3,6],[5,6],[5,7],[4,5],[4,8],[4,9],[10,4],[10,9]])"
   ]
  },
  {
   "cell_type": "markdown",
   "metadata": {},
   "source": [
    "## (1133) Largest Unique Number\n",
    "\n",
    "Given an integer array `nums`, return the largest integer that only occurs once. If no integer occurs once, return `-1`."
   ]
  },
  {
   "cell_type": "code",
   "execution_count": 42,
   "metadata": {},
   "outputs": [],
   "source": [
    "from collections import defaultdict\n",
    "\n",
    "# Beats 91.67% of submissions\n",
    "class Solution:\n",
    "    def largestUniqueNumber(self, nums: List[int]) -> int:\n",
    "        numDict = defaultdict(int)\n",
    "\n",
    "        for num in nums:\n",
    "            numDict[num] += 1\n",
    "\n",
    "        occurOnceDict = sorted(list({key: value for key, value in numDict.items() if value == 1}))\n",
    "\n",
    "        if occurOnceDict:\n",
    "            return occurOnceDict[-1]\n",
    "        else:\n",
    "            return -1\n"
   ]
  },
  {
   "cell_type": "code",
   "execution_count": 43,
   "metadata": {},
   "outputs": [
    {
     "data": {
      "text/plain": [
       "8"
      ]
     },
     "execution_count": 43,
     "metadata": {},
     "output_type": "execute_result"
    }
   ],
   "source": [
    "sol = Solution()\n",
    "sol.largestUniqueNumber([5,7,3,9,4,9,8,3,1])"
   ]
  },
  {
   "cell_type": "code",
   "execution_count": 44,
   "metadata": {},
   "outputs": [
    {
     "data": {
      "text/plain": [
       "-1"
      ]
     },
     "execution_count": 44,
     "metadata": {},
     "output_type": "execute_result"
    }
   ],
   "source": [
    "sol = Solution()\n",
    "sol.largestUniqueNumber([9,9,8,8])"
   ]
  },
  {
   "cell_type": "markdown",
   "metadata": {},
   "source": [
    "## (1189) Maximum Number of Baloons\n",
    "\n",
    "Given a string `text`, you want to use the characters of `text` to form as many instances of the word \"**balloon**\" as possible.\n",
    "\n",
    "You can use each character in `text` at most once. Return the maximum number of instances that can be formed."
   ]
  },
  {
   "cell_type": "code",
   "execution_count": 17,
   "metadata": {},
   "outputs": [],
   "source": [
    "from collections import defaultdict\n",
    "\n",
    "# Beats 67.75% of submissions\n",
    "class Solution:\n",
    "    def maxNumberOfBalloons(self, text: str) -> int:\n",
    "        balloonsSet = {'b', 'a', 'l', 'o', 'n'}\n",
    "        # balloonDict = defaultdict(int)\n",
    "        balloonDict = {'b':0, 'a':0, 'l':0, 'o':0, 'n':0}\n",
    "\n",
    "        for ch in text:\n",
    "            if ch in balloonsSet:\n",
    "                balloonDict[ch] += 1\n",
    "\n",
    "        balloonDict['l'] = int(balloonDict['l'] / 2)\n",
    "        balloonDict['o'] = int(balloonDict['o'] / 2)\n",
    "\n",
    "        evalSet = set(balloonDict.values())\n",
    "\n",
    "        return min(evalSet)\n"
   ]
  },
  {
   "cell_type": "code",
   "execution_count": 18,
   "metadata": {},
   "outputs": [
    {
     "data": {
      "text/plain": [
       "1"
      ]
     },
     "execution_count": 18,
     "metadata": {},
     "output_type": "execute_result"
    }
   ],
   "source": [
    "sol = Solution()\n",
    "sol.maxNumberOfBalloons(\"nlaebolko\")"
   ]
  },
  {
   "cell_type": "code",
   "execution_count": 19,
   "metadata": {},
   "outputs": [
    {
     "data": {
      "text/plain": [
       "2"
      ]
     },
     "execution_count": 19,
     "metadata": {},
     "output_type": "execute_result"
    }
   ],
   "source": [
    "sol = Solution()\n",
    "sol.maxNumberOfBalloons(\"loonbalxballpoon\")"
   ]
  },
  {
   "cell_type": "code",
   "execution_count": 20,
   "metadata": {},
   "outputs": [
    {
     "data": {
      "text/plain": [
       "1"
      ]
     },
     "execution_count": 20,
     "metadata": {},
     "output_type": "execute_result"
    }
   ],
   "source": [
    "sol = Solution()\n",
    "sol.maxNumberOfBalloons(\"loonbalxballpoo\")"
   ]
  },
  {
   "cell_type": "markdown",
   "metadata": {},
   "source": [
    "## (525) Contiguous Array\n",
    "\n",
    "Given a binary array `nums`, return the maximum length of a contiguous subarray with an equal number of `0` and `1`."
   ]
  },
  {
   "cell_type": "code",
   "execution_count": 37,
   "metadata": {},
   "outputs": [],
   "source": [
    "# Too slow\n",
    "class Solution:\n",
    "    def findMaxLength(self, nums: List[int]) -> int:\n",
    "        maxLength = 0\n",
    "\n",
    "        for left in range(0,len(nums)):\n",
    "            right = left\n",
    "            counts = {0:0, 1:0}\n",
    "            \n",
    "            while right < len(nums):\n",
    "                counts[nums[right]] += 1\n",
    "\n",
    "                if counts[0] == counts[1]:\n",
    "                    print(f'Equal length {counts}, {maxLength}')\n",
    "                    maxLength = max(right - left + 1, maxLength)\n",
    "\n",
    "                right += 1\n",
    "\n",
    "            counts[nums[left]] -= 1\n",
    "\n",
    "        return maxLength\n"
   ]
  },
  {
   "cell_type": "code",
   "execution_count": 42,
   "metadata": {},
   "outputs": [],
   "source": [
    "# Online soution from gagansharmadev\n",
    "class Solution:\n",
    "    def findMaxLength(self, nums: List[int]) -> int:\n",
    "        hashmap = {0: -1}  # {count:index} Initialize with 0: -1 to handle cases starting from index 0\n",
    "        count = 0\n",
    "        max_length = 0\n",
    "\n",
    "        # Enumerate over nums to get both index and value\n",
    "        for current_index, element in enumerate(nums):\n",
    "            if element == 0:\n",
    "                count -= 1\n",
    "            else:\n",
    "                count += 1\n",
    "\n",
    "            # If this count has been seen, calculate the potential max_length\n",
    "            if count in hashmap:\n",
    "                subarray_length = current_index - hashmap[count]\n",
    "                max_length = max(max_length, subarray_length)\n",
    "            else:\n",
    "                # Only set the count in the hashmap if it's not already present\n",
    "                hashmap[count] = current_index\n",
    "\n",
    "        return max_length"
   ]
  },
  {
   "cell_type": "code",
   "execution_count": 43,
   "metadata": {},
   "outputs": [
    {
     "data": {
      "text/plain": [
       "2"
      ]
     },
     "execution_count": 43,
     "metadata": {},
     "output_type": "execute_result"
    }
   ],
   "source": [
    "sol = Solution()\n",
    "sol.findMaxLength([0, 1, 0])"
   ]
  },
  {
   "cell_type": "code",
   "execution_count": 44,
   "metadata": {},
   "outputs": [
    {
     "data": {
      "text/plain": [
       "6"
      ]
     },
     "execution_count": 44,
     "metadata": {},
     "output_type": "execute_result"
    }
   ],
   "source": [
    "sol = Solution()\n",
    "sol.findMaxLength([0,0,1,0,0,0,1,1])"
   ]
  },
  {
   "cell_type": "markdown",
   "metadata": {},
   "source": [
    "## Ex: (49) Group Anagrams\n",
    "\n",
    "Given an array of strings `strs`, group the anagrams together.\n",
    "\n",
    "For example, given `strs = [\"eat\",\"tea\",\"tan\",\"ate\",\"nat\",\"bat\"]`, return `[[\"bat\"],[\"nat\",\"tan\"],[\"ate\",\"eat\",\"tea\"]]`.\n",
    "\n",
    "Tip: They key of solving it is to use the sorted array as the key in a hashmap, as anagrams will all sort to the same string"
   ]
  },
  {
   "cell_type": "code",
   "execution_count": 45,
   "metadata": {},
   "outputs": [],
   "source": [
    "from collections import defaultdict\n",
    "\n",
    "class Solution:\n",
    "    def groupAnagrams(self, strs: List[str]) -> List[List[str]]:\n",
    "        groups = defaultdict(list)\n",
    "        for s in strs:\n",
    "            key = \"\".join(sorted(s))\n",
    "            groups[key].append(s)\n",
    "        \n",
    "        return groups.values()"
   ]
  },
  {
   "cell_type": "code",
   "execution_count": 49,
   "metadata": {},
   "outputs": [
    {
     "data": {
      "text/plain": [
       "'aet'"
      ]
     },
     "execution_count": 49,
     "metadata": {},
     "output_type": "execute_result"
    }
   ],
   "source": [
    "strs = [\"eat\",\"tea\",\"tan\",\"ate\",\"nat\",\"bat\"]\n",
    "\n",
    "s = strs[1]\n",
    "\n",
    "\"\".join(sorted(s))"
   ]
  },
  {
   "cell_type": "code",
   "execution_count": 46,
   "metadata": {},
   "outputs": [
    {
     "data": {
      "text/plain": [
       "dict_values([['eat', 'tea', 'ate'], ['tan', 'nat'], ['bat']])"
      ]
     },
     "execution_count": 46,
     "metadata": {},
     "output_type": "execute_result"
    }
   ],
   "source": [
    "sol = Solution()\n",
    "sol.groupAnagrams([\"eat\",\"tea\",\"tan\",\"ate\",\"nat\",\"bat\"])"
   ]
  },
  {
   "cell_type": "markdown",
   "metadata": {},
   "source": [
    "## Ex: (2260) Minimum Consecutive Cards to Pick Up\n",
    "\n",
    "Given an integer array `cards`, find the length of the shortest subarray that contains at least one duplicate. If the array has no duplicates, return `-1`."
   ]
  },
  {
   "cell_type": "markdown",
   "metadata": {},
   "source": [
    "Hint: For example, given `cards = [1, 2, 6, 2, 1]`, we would map `1: [0, 4]`, `2: [1, 3]`, and `6: [2]`."
   ]
  },
  {
   "cell_type": "code",
   "execution_count": 50,
   "metadata": {},
   "outputs": [],
   "source": [
    "from collections import defaultdict\n",
    "\n",
    "class Solution:\n",
    "    def minimumCardPickup(self, cards: List[int]) -> int:\n",
    "        dic = defaultdict(list)\n",
    "        for i in range(len(cards)):\n",
    "            dic[cards[i]].append(i)\n",
    "            \n",
    "        ans = float(\"inf\")\n",
    "        for key in dic:\n",
    "            arr = dic[key]\n",
    "            for i in range(len(arr) - 1):\n",
    "                ans = min(ans, arr[i + 1] - arr[i] + 1)\n",
    "        \n",
    "        return ans if ans < float(\"inf\") else -1"
   ]
  },
  {
   "cell_type": "code",
   "execution_count": 51,
   "metadata": {},
   "outputs": [
    {
     "data": {
      "text/plain": [
       "3"
      ]
     },
     "execution_count": 51,
     "metadata": {},
     "output_type": "execute_result"
    }
   ],
   "source": [
    "sol = Solution()\n",
    "sol.minimumCardPickup([1, 2, 6, 2, 1])"
   ]
  },
  {
   "cell_type": "markdown",
   "metadata": {},
   "source": [
    "## Ex: (2342) Max Sum of a Pair With Equal Sum of Digits\n",
    "\n",
    "Given an array of integers `nums`, find the maximum value of` nums[i] + nums[j]`, where `nums[i]` and `nums[j]` have the same **digit sum** (the sum of their individual digits). Return `-1` if there is no pair of numbers with the same digit sum."
   ]
  },
  {
   "cell_type": "code",
   "execution_count": 52,
   "metadata": {},
   "outputs": [],
   "source": [
    "from collections import defaultdict\n",
    "\n",
    "class Solution:\n",
    "    def maximumSum(self, nums: List[int]) -> int:\n",
    "        def get_digit_sum(num):\n",
    "            digit_sum = 0\n",
    "            while num:\n",
    "                digit_sum += num % 10\n",
    "                num //= 10\n",
    "            \n",
    "            return digit_sum\n",
    "        \n",
    "        dic = defaultdict(list)\n",
    "        for num in nums:\n",
    "            digit_sum = get_digit_sum(num)\n",
    "            dic[digit_sum].append(num)\n",
    "        \n",
    "        ans = -1\n",
    "        for key in dic:\n",
    "            curr = dic[key]\n",
    "            if len(curr) > 1:\n",
    "                curr.sort(reverse=True)\n",
    "                ans = max(ans, curr[0] + curr[1])\n",
    "        \n",
    "        return ans"
   ]
  },
  {
   "cell_type": "code",
   "execution_count": 55,
   "metadata": {},
   "outputs": [],
   "source": [
    "from collections import defaultdict\n",
    "\n",
    "# Only store largest digit sum seen; More efficient due to less sorting on each iteration of for loop\n",
    "class Solution:\n",
    "    def maximumSum(self, nums: List[int]) -> int:\n",
    "        def get_digit_sum(num):\n",
    "            digit_sum = 0\n",
    "            while num:\n",
    "                digit_sum += num % 10\n",
    "                num //= 10\n",
    "            \n",
    "            return digit_sum\n",
    "        \n",
    "        dic = defaultdict(int)\n",
    "        ans = -1\n",
    "        for num in nums:\n",
    "            digit_sum = get_digit_sum(num)\n",
    "            if digit_sum in dic:\n",
    "                ans = max(ans, num + dic[digit_sum])\n",
    "            dic[digit_sum] = max(dic[digit_sum], num)\n",
    "\n",
    "        return ans"
   ]
  },
  {
   "cell_type": "code",
   "execution_count": 56,
   "metadata": {},
   "outputs": [
    {
     "data": {
      "text/plain": [
       "103"
      ]
     },
     "execution_count": 56,
     "metadata": {},
     "output_type": "execute_result"
    }
   ],
   "source": [
    "sol = Solution()\n",
    "sol.maximumSum([11, 23, 56, 47, 14])"
   ]
  },
  {
   "cell_type": "markdown",
   "metadata": {},
   "source": [
    "## Ex: (2352) Equal Row and Column Pairs\n",
    "\n",
    "Given an `n x n` matrix `grid`, return the number of pairs `(R, C)` where `R` is a row and `C` is a column, and `R` and `C` are equal if we consider them as 1D arrays."
   ]
  },
  {
   "cell_type": "code",
   "execution_count": 57,
   "metadata": {},
   "outputs": [],
   "source": [
    "from collections import defaultdict\n",
    "\n",
    "class Solution:\n",
    "    def equalPairs(self, grid: List[List[int]]) -> int:\n",
    "        def convert_to_key(arr):\n",
    "            # Python is quite a nice language for coding interviews!\n",
    "            return tuple(arr)\n",
    "        \n",
    "        dic = defaultdict(int) # Dict to record unique rows and their frequency\n",
    "        for row in grid:\n",
    "            dic[convert_to_key(row)] += 1\n",
    "        \n",
    "        dic2 = defaultdict(int) # Dict to record unique columns and their frequency\n",
    "        for col in range(len(grid[0])):\n",
    "            current_col = []\n",
    "            for row in range(len(grid)):\n",
    "                current_col.append(grid[row][col])\n",
    "            \n",
    "            dic2[convert_to_key(current_col)] += 1\n",
    "\n",
    "        ans = 0\n",
    "        for arr in dic:\n",
    "            ans += dic[arr] * dic2[arr] # If the row also appears in columns, entry will be positive\n",
    "        \n",
    "        return ans"
   ]
  },
  {
   "cell_type": "code",
   "execution_count": 59,
   "metadata": {},
   "outputs": [
    {
     "data": {
      "text/plain": [
       "6"
      ]
     },
     "execution_count": 59,
     "metadata": {},
     "output_type": "execute_result"
    }
   ],
   "source": [
    "r1 = [3, 2, 1]\n",
    "r2 = [1, 7, 6]\n",
    "r3 = [2, 7, 7]\n",
    "grid = [r1, r2, r3]\n",
    "\n",
    "grid[1][2]\n"
   ]
  },
  {
   "cell_type": "code",
   "execution_count": 60,
   "metadata": {},
   "outputs": [
    {
     "data": {
      "text/plain": [
       "1"
      ]
     },
     "execution_count": 60,
     "metadata": {},
     "output_type": "execute_result"
    }
   ],
   "source": [
    "sol = Solution()\n",
    "sol.equalPairs(grid)"
   ]
  },
  {
   "cell_type": "markdown",
   "metadata": {},
   "source": [
    "## (383) Ransom Note\n",
    "\n",
    "Given two strings `ransomNote` and `magazine`, return `true` if `ransomNote` can be constructed by using the letters from `magazine` and `false` otherwise.\n",
    "\n",
    "Each letter in `magazine` can only be used once in `ransomNote`."
   ]
  },
  {
   "cell_type": "code",
   "execution_count": 87,
   "metadata": {},
   "outputs": [],
   "source": [
    "from collections import defaultdict\n",
    "\n",
    "# Beats 91.71% of submissions\n",
    "class Solution:\n",
    "    def canConstruct(self, ransomNote: str, magazine: str) -> bool:\n",
    "        ransomNoteDict = defaultdict(int)\n",
    "        magazineDict = defaultdict(int)\n",
    "\n",
    "        for i in ransomNote:\n",
    "            ransomNoteDict[i] += 1\n",
    "\n",
    "        for i in magazine:\n",
    "            if ransomNoteDict[i] > 0:\n",
    "                ransomNoteDict[i] -= 1\n",
    "\n",
    "            # In ransomNoteDict:\n",
    "            # If 1s (or higher) remain, there were not enough letters in magazine\n",
    "            # If -1s (or lower) remain, no problem, there were extra of the needed letter\n",
    "        \n",
    "        return set(ransomNoteDict.values()) == {0}"
   ]
  },
  {
   "cell_type": "code",
   "execution_count": 89,
   "metadata": {},
   "outputs": [
    {
     "data": {
      "text/plain": [
       "True"
      ]
     },
     "execution_count": 89,
     "metadata": {},
     "output_type": "execute_result"
    }
   ],
   "source": [
    "sol = Solution()\n",
    "sol.canConstruct('hello', 'helloyou')"
   ]
  },
  {
   "cell_type": "markdown",
   "metadata": {},
   "source": [
    "## (771) Jewels and Stones\n",
    "\n",
    "You're given strings `jewels` representing the types of stones that are jewels, and `stones` representing the stones you have. Each character in `stones` is a type of stone you have. You want to know how many of the stones you have are also jewels.\n",
    "\n",
    "Letters are case sensitive, so `\"a\"` is considered a different type of stone from `\"A\"`."
   ]
  },
  {
   "cell_type": "code",
   "execution_count": 93,
   "metadata": {},
   "outputs": [],
   "source": [
    "from collections import Counter\n",
    "\n",
    "# Beats 92.18% of submissions\n",
    "class Solution:\n",
    "    def numJewelsInStones(self, jewels: str, stones: str) -> int:\n",
    "        jewelsDict = Counter(jewels) # Could also simply use a set\n",
    "        count = 0\n",
    "\n",
    "        for s in stones:\n",
    "            if s in jewelsDict:\n",
    "                count += 1\n",
    "\n",
    "        return count"
   ]
  },
  {
   "cell_type": "code",
   "execution_count": 94,
   "metadata": {},
   "outputs": [
    {
     "data": {
      "text/plain": [
       "3"
      ]
     },
     "execution_count": 94,
     "metadata": {},
     "output_type": "execute_result"
    }
   ],
   "source": [
    "sol = Solution()\n",
    "sol.numJewelsInStones('aA', 'aAAbbbb')"
   ]
  },
  {
   "cell_type": "markdown",
   "metadata": {},
   "source": [
    "## (3) Longest Substring Without Repeating Characters\n",
    "\n",
    "Given a string `s`, find the length of the **longest substring** without repeating characters."
   ]
  },
  {
   "cell_type": "code",
   "execution_count": 105,
   "metadata": {},
   "outputs": [],
   "source": [
    "from collections import defaultdict\n",
    "\n",
    "# Beats 16.46% of submissions\n",
    "class Solution:\n",
    "    def lengthOfLongestSubstring(self, s: str) -> int:\n",
    "        left = longest = 0\n",
    "        sDict = defaultdict(int)\n",
    "\n",
    "        for right in range(0, len(s)):\n",
    "            sDict[s[right]] += 1\n",
    "\n",
    "            # while counts > 1, pop left\n",
    "            while max(sDict.values()) > 1 and left < right:\n",
    "                sDict[s[left]] -= 1\n",
    "                left += 1\n",
    "\n",
    "            longest = max(longest, right - left + 1)\n",
    "\n",
    "        return longest\n"
   ]
  },
  {
   "cell_type": "code",
   "execution_count": 101,
   "metadata": {},
   "outputs": [
    {
     "data": {
      "text/plain": [
       "3"
      ]
     },
     "execution_count": 101,
     "metadata": {},
     "output_type": "execute_result"
    }
   ],
   "source": [
    "sol = Solution()\n",
    "sol.lengthOfLongestSubstring('abcabcbb')"
   ]
  },
  {
   "cell_type": "code",
   "execution_count": 106,
   "metadata": {},
   "outputs": [
    {
     "data": {
      "text/plain": [
       "0"
      ]
     },
     "execution_count": 106,
     "metadata": {},
     "output_type": "execute_result"
    }
   ],
   "source": [
    "sol = Solution()\n",
    "sol.lengthOfLongestSubstring('')"
   ]
  },
  {
   "cell_type": "markdown",
   "metadata": {},
   "source": [
    "# Hashing - Bonus"
   ]
  },
  {
   "cell_type": "markdown",
   "metadata": {},
   "source": [
    "## (217) Contains Duplicate [Easy]\n",
    "\n",
    "Given an integer array `nums`, return `true` if any value appears at least twice in the array, and return `false` if every element is distinct."
   ]
  },
  {
   "cell_type": "code",
   "execution_count": 108,
   "metadata": {},
   "outputs": [],
   "source": [
    "from collections import Counter\n",
    "\n",
    "# Beats 13.80 % of submissions\n",
    "class Solution:\n",
    "    def containsDuplicate(self, nums: List[int]) -> bool:\n",
    "        numsDict = Counter(nums)\n",
    "        if max(numsDict.values()) >= 2:\n",
    "            return True\n",
    "        else:\n",
    "            return False\n"
   ]
  },
  {
   "cell_type": "code",
   "execution_count": 110,
   "metadata": {},
   "outputs": [
    {
     "data": {
      "text/plain": [
       "False"
      ]
     },
     "execution_count": 110,
     "metadata": {},
     "output_type": "execute_result"
    }
   ],
   "source": [
    "sol = Solution()\n",
    "sol.containsDuplicate([1, 2, 3, 4])"
   ]
  },
  {
   "cell_type": "markdown",
   "metadata": {},
   "source": [
    "## (1436) Destination City [Easy]\n",
    "\n",
    "You are given the array `paths`, where `paths[i] = [cityAi, cityBi]` means there exists a direct path going from `cityAi` to `cityBi`. Return the destination city, that is, the city without any path outgoing to another city.\n",
    "\n",
    "It is guaranteed that the graph of paths forms a line without any loop, therefore, there will be exactly one destination city."
   ]
  },
  {
   "cell_type": "code",
   "execution_count": 129,
   "metadata": {},
   "outputs": [],
   "source": [
    "from collections import defaultdict\n",
    "\n",
    "# Beats 84.40% of submissions (first try), Beats 89.59% (removed superfluous variable)\n",
    "class Solution:\n",
    "    def destCity(self, paths: List[List[str]]) -> str:\n",
    "        citiesA = set()\n",
    "        citiesB = set()\n",
    "\n",
    "        for path in paths:\n",
    "            citiesA.add(path[0])\n",
    "            citiesB.add(path[1])\n",
    "\n",
    "        for city in citiesB:\n",
    "            if city not in citiesA:\n",
    "                return city\n",
    "\n",
    "        return False\n"
   ]
  },
  {
   "cell_type": "code",
   "execution_count": 130,
   "metadata": {},
   "outputs": [
    {
     "data": {
      "text/plain": [
       "'Sao Paulo'"
      ]
     },
     "execution_count": 130,
     "metadata": {},
     "output_type": "execute_result"
    }
   ],
   "source": [
    "sol = Solution()\n",
    "sol.destCity([[\"London\",\"New York\"],[\"New York\",\"Lima\"],[\"Lima\",\"Sao Paulo\"]])"
   ]
  },
  {
   "cell_type": "code",
   "execution_count": 132,
   "metadata": {},
   "outputs": [
    {
     "data": {
      "text/plain": [
       "'Z'"
      ]
     },
     "execution_count": 132,
     "metadata": {},
     "output_type": "execute_result"
    }
   ],
   "source": [
    "sol = Solution()\n",
    "sol.destCity([[\"A\",\"Z\"]])"
   ]
  },
  {
   "cell_type": "markdown",
   "metadata": {},
   "source": [
    "## (2496) Path Crossing [Easy]\n",
    "\n",
    "Given a string `path`, where `path[i] = 'N'`, `'S'`, `'E'` or `'W'`, each representing moving one unit north, south, east, or west, respectively. You start at the origin `(0, 0)` on a 2D plane and walk on the path specified by path.\n",
    "\n",
    "Return `true` if the path crosses itself at any point, that is, if at any time you are on a location you have previously visited. Return `false` otherwise."
   ]
  },
  {
   "cell_type": "code",
   "execution_count": 152,
   "metadata": {},
   "outputs": [],
   "source": [
    "from collections import defaultdict\n",
    "\n",
    "# Beats 5.43% of submissions\n",
    "class Solution:\n",
    "    def isPathCrossing(self, path: str) -> bool:\n",
    "        locations = defaultdict(int)\n",
    "        x = y = 0\n",
    "        step = str(x) + '_' + str(y)\n",
    "        locations[step] += 1\n",
    "\n",
    "        for i in path:\n",
    "            if i == 'N':\n",
    "                x += 1\n",
    "            if i == 'S':\n",
    "                x -= 1\n",
    "            if i == 'E':\n",
    "                y += 1\n",
    "            if i == 'W':\n",
    "                y -= 1\n",
    "\n",
    "            step = str(x) + '_' + str(y)\n",
    "            locations[step] += 1\n",
    "\n",
    "        if set(locations.values()) == {1}:\n",
    "            return False\n",
    "        else:\n",
    "            return True"
   ]
  },
  {
   "cell_type": "code",
   "execution_count": null,
   "metadata": {},
   "outputs": [],
   "source": [
    "# LeetCode solution\n",
    "class Solution:\n",
    "    def isPathCrossing(self, path: str) -> bool:\n",
    "        moves = {\n",
    "            \"N\": (0, 1),\n",
    "            \"S\": (0, -1),\n",
    "            \"W\": (-1, 0),\n",
    "            \"E\": (1, 0)\n",
    "        }\n",
    "        \n",
    "        visited = {(0, 0)}\n",
    "        x = 0\n",
    "        y = 0\n",
    "\n",
    "        for c in path:\n",
    "            dx, dy = moves[c]\n",
    "            x += dx\n",
    "            y += dy\n",
    "            \n",
    "            if (x, y) in visited:\n",
    "                return True\n",
    "\n",
    "            visited.add((x, y))\n",
    "        \n",
    "        return False"
   ]
  },
  {
   "cell_type": "code",
   "execution_count": 156,
   "metadata": {},
   "outputs": [
    {
     "data": {
      "text/plain": [
       "True"
      ]
     },
     "execution_count": 156,
     "metadata": {},
     "output_type": "execute_result"
    }
   ],
   "source": [
    "sol = Solution()\n",
    "sol.isPathCrossing('NES')"
   ]
  },
  {
   "cell_type": "markdown",
   "metadata": {},
   "source": [
    "## (1748) Sum of Unique Elements [Easy]\n",
    "\n",
    "You are given an integer array `nums`. The unique elements of an array are the elements that appear **exactly once** in the array.\n",
    "\n",
    "Return the **sum** of all the unique elements of `nums`."
   ]
  },
  {
   "cell_type": "code",
   "execution_count": 174,
   "metadata": {},
   "outputs": [],
   "source": [
    "from collections import Counter\n",
    "\n",
    "# Beats 41.51% of submissions\n",
    "class Solution:\n",
    "    def sumOfUnique(self, nums: List[int]) -> int:\n",
    "        counts = Counter(nums)\n",
    "        unique = [ key for key, value in counts.items() if value == 1 ]\n",
    "        return sum(unique)"
   ]
  },
  {
   "cell_type": "code",
   "execution_count": 175,
   "metadata": {},
   "outputs": [
    {
     "data": {
      "text/plain": [
       "4"
      ]
     },
     "execution_count": 175,
     "metadata": {},
     "output_type": "execute_result"
    }
   ],
   "source": [
    "sol = Solution()\n",
    "sol.sumOfUnique([1, 2, 3, 2])"
   ]
  },
  {
   "cell_type": "markdown",
   "metadata": {},
   "source": [
    "## (3005) Count Elements With Maxium Frequency [Easy]\n",
    "\n",
    "You are given an array `nums` consisting of positive integers.\n",
    "\n",
    "Return the **total frequencies** of elements in `nums` such that (of) those elements all have the **maximum** frequency.\n",
    "\n",
    "The frequency of an element is the number of occurrences of that element in the array."
   ]
  },
  {
   "cell_type": "code",
   "execution_count": 178,
   "metadata": {},
   "outputs": [],
   "source": [
    "from collections import Counter\n",
    "\n",
    "# Beats 44.40% of submissions\n",
    "class Solution:\n",
    "    def maxFrequencyElements(self, nums: List[int]) -> int:\n",
    "        counts = Counter(nums)\n",
    "        maxFreq = max(counts.values())\n",
    "        elemMax = [key for key, value in counts.items() if value == maxFreq]\n",
    "        return len(elemMax) * maxFreq # return sum of the max frequencies\n"
   ]
  },
  {
   "cell_type": "code",
   "execution_count": 179,
   "metadata": {},
   "outputs": [
    {
     "data": {
      "text/plain": [
       "4"
      ]
     },
     "execution_count": 179,
     "metadata": {},
     "output_type": "execute_result"
    }
   ],
   "source": [
    "sol = Solution()\n",
    "sol.maxFrequencyElements([1, 2, 2, 3, 1, 4])"
   ]
  },
  {
   "cell_type": "code",
   "execution_count": 180,
   "metadata": {},
   "outputs": [
    {
     "data": {
      "text/plain": [
       "5"
      ]
     },
     "execution_count": 180,
     "metadata": {},
     "output_type": "execute_result"
    }
   ],
   "source": [
    "sol = Solution()\n",
    "sol.maxFrequencyElements([1, 2, 3, 4, 5])"
   ]
  },
  {
   "cell_type": "markdown",
   "metadata": {},
   "source": [
    "## (1394) Find Lucky Integer in an Array [Easy]\n",
    "\n",
    "Given an array of integers `arr`, a lucky integer is an integer that has a frequency in the array equal to its value.\n",
    "\n",
    "Return the **largest lucky integer** in the array. If there is no lucky integer return `-1`."
   ]
  },
  {
   "cell_type": "code",
   "execution_count": 186,
   "metadata": {},
   "outputs": [],
   "source": [
    "from collections import Counter\n",
    "\n",
    "# Beats 37.95% of submission\n",
    "class Solution:\n",
    "    def findLucky(self, arr: List[int]) -> int:\n",
    "        counts = Counter(arr)\n",
    "        lucky = [key for key, value in counts.items() if key == value]\n",
    "        if lucky == []:\n",
    "            return -1\n",
    "        else:\n",
    "            return max(lucky)"
   ]
  },
  {
   "cell_type": "code",
   "execution_count": 191,
   "metadata": {},
   "outputs": [],
   "source": [
    "# Beats 76.28% of submissions\n",
    "class Solution:\n",
    "    def findLucky(self, arr: List[int]) -> int:\n",
    "        counts = Counter(arr)\n",
    "        lucky = [key if key==value else -1 for key, value in counts.items()]\n",
    "        return max(lucky)"
   ]
  },
  {
   "cell_type": "code",
   "execution_count": 182,
   "metadata": {},
   "outputs": [
    {
     "data": {
      "text/plain": [
       "2"
      ]
     },
     "execution_count": 182,
     "metadata": {},
     "output_type": "execute_result"
    }
   ],
   "source": [
    "sol = Solution()\n",
    "sol.findLucky([2, 2, 3, 4])"
   ]
  },
  {
   "cell_type": "code",
   "execution_count": 192,
   "metadata": {},
   "outputs": [
    {
     "data": {
      "text/plain": [
       "-1"
      ]
     },
     "execution_count": 192,
     "metadata": {},
     "output_type": "execute_result"
    }
   ],
   "source": [
    "sol = Solution()\n",
    "sol.findLucky([2, 2, 2, 3, 3])"
   ]
  },
  {
   "cell_type": "markdown",
   "metadata": {},
   "source": [
    "## (1207) Unique Number of Occurrences [Easy]\n",
    "\n",
    "Given an array of integers `arr`, return `true` if the number of occurrences of each value in the array is **unique** or `false` otherwise."
   ]
  },
  {
   "cell_type": "code",
   "execution_count": 201,
   "metadata": {},
   "outputs": [],
   "source": [
    "from collections import Counter\n",
    "\n",
    "# Beats 63.87% of submissions\n",
    "class Solution:\n",
    "    def uniqueOccurrences(self, arr: List[int]) -> bool:\n",
    "        counts = Counter(arr)\n",
    "        return len(set(counts.values())) == len(counts.values())\n",
    "        "
   ]
  },
  {
   "cell_type": "code",
   "execution_count": 202,
   "metadata": {},
   "outputs": [
    {
     "data": {
      "text/plain": [
       "True"
      ]
     },
     "execution_count": 202,
     "metadata": {},
     "output_type": "execute_result"
    }
   ],
   "source": [
    "sol = Solution()\n",
    "sol.uniqueOccurrences([1, 2, 2, 1, 1, 3])"
   ]
  },
  {
   "cell_type": "code",
   "execution_count": 204,
   "metadata": {},
   "outputs": [
    {
     "data": {
      "text/plain": [
       "False"
      ]
     },
     "execution_count": 204,
     "metadata": {},
     "output_type": "execute_result"
    }
   ],
   "source": [
    "sol = Solution()\n",
    "sol.uniqueOccurrences([1, 2])"
   ]
  },
  {
   "cell_type": "markdown",
   "metadata": {},
   "source": [
    "## (451) Sort Characters By Frequency [Medium]\n",
    "\n",
    "Given a string `s`, sort it in decreasing order based on the frequency of the characters. The frequency of a character is the number of times it appears in the string.\n",
    "\n",
    "Return the sorted string. If there are multiple answers, return *any* of them."
   ]
  },
  {
   "cell_type": "code",
   "execution_count": 287,
   "metadata": {},
   "outputs": [],
   "source": [
    "from collections import Counter\n",
    "\n",
    "# Beats 88.37% of submissions\n",
    "class Solution:\n",
    "    def frequencySort(self, s: str) -> str:\n",
    "        counts = Counter(s)\n",
    "        countsSort = {keys: values for keys, values in sorted(counts.items(), reverse=True, key=lambda item: item[1])}\n",
    "        sOut = [] * len(s)\n",
    "\n",
    "        for ch in countsSort:\n",
    "            stringToApp = ch * counts[ch]\n",
    "            #print(ch, counts[ch], stringToApp)\n",
    "            sOut.append(stringToApp)\n",
    "\n",
    "        return ''.join(sOut)"
   ]
  },
  {
   "cell_type": "code",
   "execution_count": 288,
   "metadata": {},
   "outputs": [
    {
     "data": {
      "text/plain": [
       "'eetr'"
      ]
     },
     "execution_count": 288,
     "metadata": {},
     "output_type": "execute_result"
    }
   ],
   "source": [
    "sol = Solution()\n",
    "sol.frequencySort('tree')"
   ]
  },
  {
   "cell_type": "code",
   "execution_count": 289,
   "metadata": {},
   "outputs": [
    {
     "data": {
      "text/plain": [
       "'bbAa'"
      ]
     },
     "execution_count": 289,
     "metadata": {},
     "output_type": "execute_result"
    }
   ],
   "source": [
    "sol = Solution()\n",
    "sol.frequencySort('Aabb')"
   ]
  },
  {
   "cell_type": "markdown",
   "metadata": {},
   "source": [
    "## (2958) Length of Longest Subarray With at Most K Frequency [Medium]\n",
    "\n",
    "You are given an integer array `nums` and an integer `k`.\n",
    "\n",
    "The frequency of an element `x` is the number of times it occurs in an array.\n",
    "\n",
    "An array is called **good** if the frequency of each element in this array is less than or equal to `k`.\n",
    "\n",
    "Return the length of the **longest good** subarray of `nums`.\n",
    "\n",
    "A subarray is a contiguous non-empty sequence of elements within an array."
   ]
  },
  {
   "cell_type": "code",
   "execution_count": 339,
   "metadata": {},
   "outputs": [],
   "source": [
    "from collections import defaultdict\n",
    "\n",
    "# Beats 35.13% of submissions\n",
    "# Time limit exceeded with `max(counts.values()) > k`\n",
    "class Solution:\n",
    "    def maxSubarrayLength(self, nums: List[int], k: int) -> int:\n",
    "        left = longest = 0\n",
    "        counts = defaultdict(int)\n",
    "\n",
    "        for right in range(0, len(nums)):\n",
    "            counts[nums[right]] += 1\n",
    "\n",
    "            # while left < right and max(counts.values()) > k: # max(counts.values()) does not need to be done\n",
    "            while left < right and counts[nums[right]] > k:\n",
    "                if counts[nums[left]] == 1:\n",
    "                    # counts.pop(nums[left])\n",
    "                    del counts[nums[left]]\n",
    "                else:\n",
    "                    counts[nums[left]] -= 1\n",
    "\n",
    "                left += 1\n",
    "\n",
    "            longest = max(longest, right - left + 1)\n",
    "\n",
    "        return longest"
   ]
  },
  {
   "cell_type": "code",
   "execution_count": 389,
   "metadata": {},
   "outputs": [],
   "source": [
    "from collections import Counter\n",
    "\n",
    "# In reverse\n",
    "# Time limit exceeded with `max(counts.values()) > k`\n",
    "class Solution:\n",
    "    def maxSubarrayLength(self, nums: List[int], k: int) -> int:\n",
    "        longest = 0\n",
    "\n",
    "        for left in range(0, len(nums)):\n",
    "            right = len(nums) - 1\n",
    "\n",
    "            counts = Counter(nums[left:right+1])\n",
    "\n",
    "            while right > left and max(counts.values()) > k:\n",
    "            # while right > left and counts[nums[right]] > k: # This does not seem to work\n",
    "                if counts[nums[right]] == 1:\n",
    "                    del counts[nums[right]]\n",
    "                else:\n",
    "                    counts[nums[right]] -= 1\n",
    "\n",
    "                right -= 1\n",
    "\n",
    "            longest = max(longest, right - left + 1)\n",
    "            # print(f'longest {longest}, left {left}, right {right}')\n",
    "\n",
    "            if longest >= len(nums) - left: # Shorten\n",
    "                return longest\n",
    "\n",
    "        return longest"
   ]
  },
  {
   "cell_type": "code",
   "execution_count": 357,
   "metadata": {},
   "outputs": [
    {
     "data": {
      "text/plain": [
       "6"
      ]
     },
     "execution_count": 357,
     "metadata": {},
     "output_type": "execute_result"
    }
   ],
   "source": [
    "sol = Solution()\n",
    "sol.maxSubarrayLength([1, 2, 3, 1, 2, 3, 1, 2], 2)"
   ]
  },
  {
   "cell_type": "code",
   "execution_count": 391,
   "metadata": {},
   "outputs": [
    {
     "data": {
      "text/plain": [
       "2"
      ]
     },
     "execution_count": 391,
     "metadata": {},
     "output_type": "execute_result"
    }
   ],
   "source": [
    "sol = Solution()\n",
    "sol.maxSubarrayLength([3, 1, 1], 1) # Does not work in v2 with counts[nums[left]] > k, expected 2"
   ]
  },
  {
   "cell_type": "code",
   "execution_count": 390,
   "metadata": {},
   "outputs": [
    {
     "data": {
      "text/plain": [
       "3"
      ]
     },
     "execution_count": 390,
     "metadata": {},
     "output_type": "execute_result"
    }
   ],
   "source": [
    "sol = Solution()\n",
    "sol.maxSubarrayLength([2, 2, 3], 1) # Does not work in v2 with counts[nums[right]] > k; expected 2"
   ]
  },
  {
   "cell_type": "markdown",
   "metadata": {},
   "source": [
    "## (1512) Number of Good Pairs [Easy]\n",
    "\n",
    "Given an array of integers `nums`, return the number of good pairs.\n",
    "\n",
    "A pair `(i, j)` is called good if `nums[i] == nums[j]` and `i < j`."
   ]
  },
  {
   "cell_type": "markdown",
   "metadata": {},
   "source": [
    "n choose k : n! / (n-k)!\n",
    "4 choose 2 : 4*3*2*1 / 2*1  ... / 2?\n",
    "3 choose 2: 3*2*1 / 1 = 6 / 2 = 3 "
   ]
  },
  {
   "cell_type": "code",
   "execution_count": 404,
   "metadata": {},
   "outputs": [],
   "source": [
    "from collections import defaultdict\n",
    "from math import factorial\n",
    "\n",
    "# Beats 84.22% of submissions\n",
    "class Solution:\n",
    "    def numIdenticalPairs(self, nums: List[int]) -> int:\n",
    "        ans = 0\n",
    "        indices = defaultdict(list)\n",
    "        for i, num in enumerate(nums):\n",
    "            indices[num].append(i) # Technically we don't need to know the actual indices just to get the count...\n",
    "\n",
    "        for key, value in indices.items():\n",
    "            if len(value) > 1:\n",
    "                ans += factorial(len(value)) / factorial(len(value) - 2) / 2 # n choose k divided by 2 (to remove repeats)\n",
    "\n",
    "        return int(ans)\n"
   ]
  },
  {
   "cell_type": "code",
   "execution_count": 406,
   "metadata": {},
   "outputs": [
    {
     "data": {
      "text/plain": [
       "4"
      ]
     },
     "execution_count": 406,
     "metadata": {},
     "output_type": "execute_result"
    }
   ],
   "source": [
    "sol = Solution()\n",
    "sol.numIdenticalPairs([1,2,3,1,1,3])"
   ]
  },
  {
   "cell_type": "code",
   "execution_count": 405,
   "metadata": {},
   "outputs": [
    {
     "data": {
      "text/plain": [
       "6"
      ]
     },
     "execution_count": 405,
     "metadata": {},
     "output_type": "execute_result"
    }
   ],
   "source": [
    "sol = Solution()\n",
    "sol.numIdenticalPairs([1, 1, 1, 1])"
   ]
  },
  {
   "cell_type": "markdown",
   "metadata": {},
   "source": [
    "## *(930) Binary Subarrays With Sum [Medium]\n",
    "\n",
    "Given a binary array `nums` and an integer `goal`, return the number of non-empty **subarrays** with a sum `goal`.\n",
    "\n",
    "A **subarray** is a contiguous part of the array."
   ]
  },
  {
   "cell_type": "code",
   "execution_count": 17,
   "metadata": {},
   "outputs": [],
   "source": [
    "# Brute force / time limit exceeded\n",
    "class Solution:\n",
    "    def numSubarraysWithSum(self, nums: List[int], goal: int) -> int:\n",
    "        ans = 0\n",
    "        for left in range(0, len(nums)):\n",
    "            right = left\n",
    "            nsum = 0\n",
    "            nsum += nums[right]\n",
    "\n",
    "            while right < len(nums)-1 and nsum < goal:\n",
    "                print(f'not sat [{left}, {right}], nsum {nsum}')\n",
    "                right += 1\n",
    "                nsum += nums[right]\n",
    "                \n",
    "            \n",
    "            # If satisfies, record\n",
    "            while right < len(nums)-1 and nsum == goal:\n",
    "                ans += 1\n",
    "                print(f'+ans [{left}, {right}], nsum {nsum}')\n",
    "\n",
    "                right += 1\n",
    "                nsum += nums[right]\n",
    "                \n",
    "            if right == len(nums) - 1 and nsum == goal:\n",
    "                ans += 1\n",
    "                print(f'+ans [{left}, {right}], nsum {nsum}')\n",
    "\n",
    "        return ans"
   ]
  },
  {
   "cell_type": "markdown",
   "metadata": {},
   "source": [
    "Prefix sum:\n",
    "\n",
    "`prefix[right] - prefix[left-1] = goal`\n",
    "\n",
    "`prefix[right] - prefix[left] + nums[left] = goal`\n",
    "\n",
    "So:\n",
    "\n",
    "`prefix[right] - goal = prefix[left-1]`\n",
    "\n",
    "`prefix[right] - goal + nums[left] = prefix[left-1]`"
   ]
  },
  {
   "cell_type": "code",
   "execution_count": 52,
   "metadata": {},
   "outputs": [],
   "source": [
    "# LeetCode Solution: Prefix Sum\n",
    "class Solution:\n",
    "    def numSubarraysWithSum(self, nums: List[int], goal: int) -> int:\n",
    "        total_count = 0\n",
    "        current_sum = 0\n",
    "        freq = {}  # To store the frequency of prefix sums\n",
    "\n",
    "        for num in nums:\n",
    "            current_sum += num\n",
    "            if current_sum == goal: # For arrays where left terminates at position 0\n",
    "                total_count += 1\n",
    "\n",
    "            # Check if there is any prefix sum that can be subtracted from the current sum to get the desired goal\n",
    "            # current_sum is the right pointer, minus goal, should equal the left pointer\n",
    "            if current_sum - goal in freq:\n",
    "                total_count += freq[current_sum - goal]\n",
    "\n",
    "            freq[current_sum] = freq.get(current_sum, 0) + 1 # Add one appearance of current_sum\n",
    "\n",
    "        return total_count"
   ]
  },
  {
   "cell_type": "code",
   "execution_count": null,
   "metadata": {},
   "outputs": [],
   "source": [
    "# LeetCode Solution: Sliding Window + Prefix of Zeroes\n",
    "class Solution:\n",
    "    def numSubarraysWithSum(self, nums: List[int], goal: int) -> int:\n",
    "        start = 0\n",
    "        prefix_zeros = 0\n",
    "        current_sum = 0\n",
    "        total_count = 0\n",
    "        \n",
    "        # Loop through the array using end pointer\n",
    "        for end, num in enumerate(nums):\n",
    "            # Add current element to the sum\n",
    "            current_sum += num\n",
    "            \n",
    "            # Slide the window while condition is met\n",
    "            while start < end and (nums[start] == 0 or current_sum > goal):\n",
    "                if nums[start] == 1:\n",
    "                    prefix_zeros = 0\n",
    "                else:\n",
    "                    prefix_zeros += 1\n",
    "                \n",
    "                current_sum -= nums[start]\n",
    "                start += 1\n",
    "                \n",
    "            # Count subarrays when window sum matches the goal\n",
    "            if current_sum == goal:\n",
    "                total_count += 1 + prefix_zeros  \n",
    "                \n",
    "        return total_count"
   ]
  },
  {
   "cell_type": "code",
   "execution_count": 53,
   "metadata": {},
   "outputs": [
    {
     "data": {
      "text/plain": [
       "15"
      ]
     },
     "execution_count": 53,
     "metadata": {},
     "output_type": "execute_result"
    }
   ],
   "source": [
    "sol = Solution()\n",
    "sol.numSubarraysWithSum([0, 0, 0, 0, 0], 0)"
   ]
  },
  {
   "cell_type": "code",
   "execution_count": 54,
   "metadata": {},
   "outputs": [
    {
     "data": {
      "text/plain": [
       "4"
      ]
     },
     "execution_count": 54,
     "metadata": {},
     "output_type": "execute_result"
    }
   ],
   "source": [
    "sol = Solution()\n",
    "sol.numSubarraysWithSum([1, 0, 1, 0, 1], 2)"
   ]
  },
  {
   "cell_type": "markdown",
   "metadata": {},
   "source": [
    "## *(1695) Maximum Erasure Value [Medium]\n",
    "\n",
    "You are given an array of positive integers `nums` and want to erase a subarray containing unique elements. The score you get by erasing the subarray is equal to the sum of its elements.\n",
    "\n",
    "Return the **maximum score** you can get by erasing **exactly one** subarray.\n",
    "\n",
    "An array `b` is called to be a subarray of `a` if it forms a contiguous subsequence of `a`, that is, if it is equal to `a[l],a[l+1],...,a[r]` for some `(l,r)`."
   ]
  },
  {
   "cell_type": "code",
   "execution_count": 11,
   "metadata": {},
   "outputs": [],
   "source": [
    "# Beats 21.12% of users (medium, first submission)\n",
    "class Solution:\n",
    "    def maximumUniqueSubarray(self, nums: List[int]) -> int:\n",
    "        indices = {}\n",
    "        left = max_length = max_score = last_index = 0\n",
    "        prefix = [''] * len(nums)\n",
    "        prefix[0] = nums[0]\n",
    "        for i in range(1, len(nums)):\n",
    "            prefix[i] = prefix[i-1] + nums[i]\n",
    "\n",
    "        for right in range(0, len(nums)):\n",
    "            # Record index\n",
    "            indices[nums[right]] = indices.get(nums[right], [])\n",
    "            indices[nums[right]].append(right)\n",
    "\n",
    "            # If frequency of last add > 1, record previous length/value\n",
    "            if len(indices[nums[right]]) > 1:\n",
    "                # max_length = max(max_length, (right - 1) - left + 1) # Max length up to repeated character\n",
    "                max_score = max(max_score, prefix[right - 1] - prefix[left] + nums[left]) # Sum up to repeated character\n",
    "                last_index = max(last_index, indices[nums[right]][-2]) # Whichever is larger!\n",
    "                # print(f'repeat at {right}; prior unique substring [{left},{right-1}]')\n",
    "                left = last_index + 1 # Update left\n",
    "\n",
    "        max_score = max(max_score, prefix[right] - prefix[left] + nums[left])\n",
    "        # max_length = max(max_length, (right) - left + 1) # Current valid length\n",
    "\n",
    "        return max_score"
   ]
  },
  {
   "cell_type": "code",
   "execution_count": 12,
   "metadata": {},
   "outputs": [
    {
     "data": {
      "text/plain": [
       "17"
      ]
     },
     "execution_count": 12,
     "metadata": {},
     "output_type": "execute_result"
    }
   ],
   "source": [
    "sol = Solution()\n",
    "sol.maximumUniqueSubarray([4,2,4,5,6])"
   ]
  },
  {
   "cell_type": "code",
   "execution_count": 13,
   "metadata": {},
   "outputs": [
    {
     "data": {
      "text/plain": [
       "8"
      ]
     },
     "execution_count": 13,
     "metadata": {},
     "output_type": "execute_result"
    }
   ],
   "source": [
    "sol = Solution()\n",
    "sol.maximumUniqueSubarray([5,2,1,2,5,2,1,2,5])"
   ]
  },
  {
   "cell_type": "markdown",
   "metadata": {},
   "source": [
    "## (567) Permutation in String [Medium]\n",
    "\n",
    "Given two strings `s1` and `s2`, return `true` if `s2` contains a permutation of `s1`, or `false` otherwise.\n",
    "\n",
    "In other words, return `true` if one of `s1`'s permutations is the substring of `s2`."
   ]
  },
  {
   "cell_type": "code",
   "execution_count": 28,
   "metadata": {},
   "outputs": [],
   "source": [
    "# The hard way, all possible permutations - Time limit exceeded\n",
    "class Solution:\n",
    "    def checkInclusion(self, s1: str, s2: str) -> bool:\n",
    "        def perm_of_two(twolist): # takes list of two elements\n",
    "            perm_set = set()\n",
    "            twolist_r = [''] * 2\n",
    "            twolist_r[1] = twolist[0]\n",
    "            twolist_r[0] = twolist[1]\n",
    "            perm_set.add(twolist[0] + twolist[1])\n",
    "            perm_set.add(twolist_r[0] + twolist_r[1])\n",
    "            return perm_set\n",
    "\n",
    "        # ! Custom Function! Find all the permuations of s1 via swapping locations\n",
    "        def find_perm(strlist): #\n",
    "            permutations = set()\n",
    "            if len(strlist) == 1:\n",
    "                return strlist\n",
    "            if len(strlist) == 2:\n",
    "                return perm_of_two(strlist)\n",
    "            else:\n",
    "                # Split strlist into two: a single element, and the rest of the string; loop over all possible splits\n",
    "                for i in range(0, len(strlist)):\n",
    "                    strlist1 = strlist[i]\n",
    "\n",
    "                    if i == 0: # First index\n",
    "                        strlist2 = strlist[1:len(strlist)]\n",
    "                    elif i == len(strlist) - 1: # Last index\n",
    "                        strlist2 = strlist[0:len(strlist)-1]\n",
    "                    else:\n",
    "                        strlist2 = strlist[0:i] + strlist[i+1:len(strlist)]\n",
    "\n",
    "                    # strlist1 = [b]\n",
    "                    # strlist2 = [a, c]\n",
    "                    permlist = find_perm(strlist2) # currently only returns something if length <= 2\n",
    "\n",
    "                    for sublist in permlist: # returns as list of permulations, each a list same length of strlist2\n",
    "                        # Loops ['ac', 'ca']\n",
    "                        resultstring = perm_of_two([strlist1, sublist]) # arg is a single list\n",
    "                        permutations.update(resultstring)\n",
    "                        # In: ['b'] ['ac']\n",
    "                        # Returns [b [a c]], [[a c] b]\n",
    "                return permutations\n",
    "\n",
    "        len_s1 = len(s1)\n",
    "        possible_set = set()\n",
    "\n",
    "        # Find all segments of length len(s1) in s2, enter into hash table\n",
    "        for i in range(0, len(s2) - len_s1 + 1):\n",
    "            possible_set.add(s2[i:i+len_s1])\n",
    "\n",
    "        permutation_set = find_perm(list(s1))\n",
    "        # permutation_set.remove(s1)\n",
    "\n",
    "        # print(f'permutations of s1: {permutation_set}')\n",
    "        # print(f'possible from s2: {possible_set}')\n",
    "\n",
    "        for permutation in permutation_set:\n",
    "            if permutation in possible_set:\n",
    "                return True\n",
    "\n",
    "        return False\n"
   ]
  },
  {
   "cell_type": "code",
   "execution_count": 39,
   "metadata": {},
   "outputs": [],
   "source": [
    "# Test permutation function\n",
    "# find_perm(['a', 'b', 'c', 'd'])"
   ]
  },
  {
   "cell_type": "code",
   "execution_count": 35,
   "metadata": {},
   "outputs": [],
   "source": [
    "from collections import Counter\n",
    "\n",
    "# Beats 18.79% of submissions\n",
    "# Hint was: for two strins of same length, if they have the same freq of chars, then a permutation exists (easy)\n",
    "class Solution:\n",
    "    def checkInclusion(self, s1: str, s2: str) -> bool:\n",
    "        len_s1 = len(s1)\n",
    "        counts1 = Counter(s1)\n",
    "\n",
    "        # Find all segments of length len(s1) in s2, enter into hash table\n",
    "        for i in range(0, len(s2) - len_s1 + 1):\n",
    "            sub2 = s2[i:i+len_s1]\n",
    "            counts2 = Counter(sub2)\n",
    "            if counts1 == counts2:\n",
    "                return True\n",
    "\n",
    "        return False\n"
   ]
  },
  {
   "cell_type": "code",
   "execution_count": 36,
   "metadata": {},
   "outputs": [
    {
     "data": {
      "text/plain": [
       "True"
      ]
     },
     "execution_count": 36,
     "metadata": {},
     "output_type": "execute_result"
    }
   ],
   "source": [
    "sol = Solution()\n",
    "sol.checkInclusion('ab', 'eidbaooo')"
   ]
  },
  {
   "cell_type": "code",
   "execution_count": 37,
   "metadata": {},
   "outputs": [
    {
     "data": {
      "text/plain": [
       "False"
      ]
     },
     "execution_count": 37,
     "metadata": {},
     "output_type": "execute_result"
    }
   ],
   "source": [
    "sol = Solution()\n",
    "sol.checkInclusion('ab', 'eidboaoo')"
   ]
  },
  {
   "cell_type": "code",
   "execution_count": 38,
   "metadata": {},
   "outputs": [
    {
     "data": {
      "text/plain": [
       "True"
      ]
     },
     "execution_count": 38,
     "metadata": {},
     "output_type": "execute_result"
    }
   ],
   "source": [
    "sol = Solution()\n",
    "sol.checkInclusion('adc', 'dcda')"
   ]
  },
  {
   "cell_type": "markdown",
   "metadata": {},
   "source": [
    "## (205) Isomorphic Strings [Easy]\n",
    "\n",
    "Given two strings `s` and `t`, determine if they are isomorphic.\n",
    "\n",
    "Two strings `s` and `t` are isomorphic if the characters in `s` can be replaced to get `t`.\n",
    "\n",
    "All occurrences of a character must be replaced with another character while preserving the order of characters. No two characters may map to the same character, but a character may map to itself."
   ]
  },
  {
   "cell_type": "code",
   "execution_count": 55,
   "metadata": {},
   "outputs": [],
   "source": [
    "from collections import defaultdict\n",
    "# Beats 27.23% of submissions (first try)\n",
    "class Solution:\n",
    "    def isIsomorphic(self, s: str, t: str) -> bool:\n",
    "        if len(s) != len(t):\n",
    "            return False\n",
    "        \n",
    "        def getIDstring(s):\n",
    "            s_idtracker = defaultdict(int) # key = letter, value = id\n",
    "            s_uniqueid = 0\n",
    "            s_ids = [''] * len(s)\n",
    "\n",
    "            for i in range(len(s)):\n",
    "                if s[i] not in s_idtracker: # assign unique ID\n",
    "                    s_idtracker[s[i]] = s_uniqueid\n",
    "                    s_uniqueid += 1\n",
    "\n",
    "                s_ids[i] = s_idtracker[s[i]] # keep track of unique IDs in parallel\n",
    "            return s_ids\n",
    "        \n",
    "        if getIDstring(s) == getIDstring(t):\n",
    "            return True\n",
    "        else:\n",
    "            return False\n",
    "        "
   ]
  },
  {
   "cell_type": "code",
   "execution_count": 57,
   "metadata": {},
   "outputs": [
    {
     "data": {
      "text/plain": [
       "True"
      ]
     },
     "execution_count": 57,
     "metadata": {},
     "output_type": "execute_result"
    }
   ],
   "source": [
    "sol = Solution()\n",
    "sol.isIsomorphic('paper', 'title')"
   ]
  },
  {
   "cell_type": "code",
   "execution_count": 58,
   "metadata": {},
   "outputs": [
    {
     "data": {
      "text/plain": [
       "False"
      ]
     },
     "execution_count": 58,
     "metadata": {},
     "output_type": "execute_result"
    }
   ],
   "source": [
    "sol = Solution()\n",
    "sol.isIsomorphic('foo', 'bar')"
   ]
  },
  {
   "cell_type": "markdown",
   "metadata": {},
   "source": [
    "## (290) Word Pattern [Easy]\n",
    "\n",
    "Given a `pattern` and a string `s`, find if `s` follows the same pattern.\n",
    "\n",
    "Here *follow* means a full match, such that there is a bijection between a letter in `pattern` and a non-empty word in `s`."
   ]
  },
  {
   "cell_type": "code",
   "execution_count": 78,
   "metadata": {},
   "outputs": [],
   "source": [
    "# Beats 60.96% of submissions (first submission)\n",
    "class Solution:\n",
    "    def wordPattern(self, pattern: str, s: str) -> bool:\n",
    "        def getIDstring(s):\n",
    "            s_idtracker = defaultdict(int) # key = letter, value = id\n",
    "            s_uniqueid = 0\n",
    "            s_ids = [''] * len(s)\n",
    "\n",
    "            for i in range(len(s)):\n",
    "                if s[i] not in s_idtracker: # assign unique ID\n",
    "                    s_idtracker[s[i]] = s_uniqueid\n",
    "                    s_uniqueid += 1\n",
    "\n",
    "                s_ids[i] = s_idtracker[s[i]] # keep track of unique IDs in parallel\n",
    "            return s_ids\n",
    "\n",
    "        # Split sentence into list of strings\n",
    "        word = []\n",
    "        sentence = []\n",
    "\n",
    "        for i in range(0,len(s)):\n",
    "            if s[i] == ' ':\n",
    "                sentence.append(''.join(word))\n",
    "                word = []\n",
    "            elif i == len(s)-1:\n",
    "                word.append(s[i])\n",
    "                sentence.append(''.join(word))\n",
    "            else:\n",
    "                word.append(s[i])\n",
    "\n",
    "        id_pattern = getIDstring(pattern)\n",
    "        id_string = getIDstring(sentence)\n",
    "\n",
    "        if id_pattern == id_string:\n",
    "            return True\n",
    "        else:\n",
    "            return False\n"
   ]
  },
  {
   "cell_type": "code",
   "execution_count": 79,
   "metadata": {},
   "outputs": [
    {
     "data": {
      "text/plain": [
       "True"
      ]
     },
     "execution_count": 79,
     "metadata": {},
     "output_type": "execute_result"
    }
   ],
   "source": [
    "sol = Solution()\n",
    "sol.wordPattern('abba','dog cat cat dog')"
   ]
  },
  {
   "cell_type": "code",
   "execution_count": 80,
   "metadata": {},
   "outputs": [
    {
     "data": {
      "text/plain": [
       "False"
      ]
     },
     "execution_count": 80,
     "metadata": {},
     "output_type": "execute_result"
    }
   ],
   "source": [
    "sol = Solution()\n",
    "sol.wordPattern('abba','dog cat cat fish')"
   ]
  },
  {
   "cell_type": "markdown",
   "metadata": {},
   "source": [
    "## (791) Custom Sort String [Medium]\n",
    "\n",
    "You are given two strings `order` and `s`. All the characters of `order` are unique and were sorted in some custom order previously.\n",
    "\n",
    "Permute the characters of `s` so that they match the order that `order` was sorted. More specifically, if a character `x` occurs before a character `y` in `order`, then `x` should occur before `y` in the permuted string.\n",
    "\n",
    "Return any permutation of `s` that satisfies this property."
   ]
  },
  {
   "cell_type": "code",
   "execution_count": 114,
   "metadata": {},
   "outputs": [],
   "source": [
    "from collections import Counter\n",
    "\n",
    "# Beats 75.73% of submissions (medium!)\n",
    "class Solution:\n",
    "    def customSortString(self, order: str, s: str) -> str:\n",
    "        ans = []\n",
    "        scounts = Counter(s)\n",
    "\n",
    "        for c in order: # Loop over order and sort chars present in s\n",
    "            if c in scounts:\n",
    "                for i in range(scounts[c]): # add freq to new string\n",
    "                    ans.append(c)\n",
    "\n",
    "                del scounts[c] # remove entry\n",
    "\n",
    "        for k, v in scounts.items():\n",
    "            for i in range(v): # add remainng chars to end of answer\n",
    "                ans.append(k)\n",
    "\n",
    "        return ''.join(ans)"
   ]
  },
  {
   "cell_type": "code",
   "execution_count": 115,
   "metadata": {},
   "outputs": [
    {
     "data": {
      "text/plain": [
       "'cbad'"
      ]
     },
     "execution_count": 115,
     "metadata": {},
     "output_type": "execute_result"
    }
   ],
   "source": [
    "sol = Solution()\n",
    "sol.customSortString(order='cba', s='abcd')"
   ]
  },
  {
   "cell_type": "code",
   "execution_count": 116,
   "metadata": {},
   "outputs": [
    {
     "data": {
      "text/plain": [
       "'bcad'"
      ]
     },
     "execution_count": 116,
     "metadata": {},
     "output_type": "execute_result"
    }
   ],
   "source": [
    "sol = Solution()\n",
    "sol.customSortString(order='bcafg', s='abcd')"
   ]
  },
  {
   "cell_type": "markdown",
   "metadata": {},
   "source": [
    "## (1657) Determine if Two Strings Are Close [Medium]\n",
    "\n",
    "Two strings are considered close if you can attain one from the other using the following operations:\n",
    "\n",
    "* Operation 1: Swap any two existing characters.\n",
    "    * For example, `abcde -> aecdb`\n",
    "\n",
    "* Operation 2: Transform every occurrence of one existing character into another existing character, and do the same with the other character.\n",
    "    * For example, `aacabb -> bbcbaa` (all `a`'s turn into `b`'s, and all `b`'s turn into `a`'s)\n",
    "\n",
    "You can use the operations on either string as many times as necessary.\n",
    "\n",
    "Given two strings, `word1` and `word2`, return `true` if `word1` and `word2` are close, and `false` otherwise."
   ]
  },
  {
   "cell_type": "markdown",
   "metadata": {},
   "source": [
    "In other words, return `True` if:\n",
    "\n",
    "* Straings have same length\n",
    "\n",
    "* Same chars exist in both strings\n",
    "\n",
    "* Strings have same frequencies for each char **OR** same frequencies overall (since frequencies can swap between any two characters)"
   ]
  },
  {
   "cell_type": "code",
   "execution_count": 129,
   "metadata": {},
   "outputs": [],
   "source": [
    "from collections import Counter\n",
    "\n",
    "# Beats 87.44% of submissions (too easy for medium?)\n",
    "class Solution:\n",
    "    def closeStrings(self, word1: str, word2: str) -> bool:\n",
    "        if len(word1) != len(word2):\n",
    "            return False\n",
    "        \n",
    "        letters1 = set(word1)\n",
    "        letters2 = set(word2)\n",
    "\n",
    "        if letters1 != letters2:\n",
    "            return False\n",
    "        \n",
    "        freq1 = sorted(Counter(word1).values())\n",
    "        freq2 = sorted(Counter(word2).values())\n",
    "\n",
    "        if freq1 != freq2:\n",
    "            return False\n",
    "        \n",
    "        return True\n",
    "\n"
   ]
  },
  {
   "cell_type": "code",
   "execution_count": 130,
   "metadata": {},
   "outputs": [
    {
     "data": {
      "text/plain": [
       "True"
      ]
     },
     "execution_count": 130,
     "metadata": {},
     "output_type": "execute_result"
    }
   ],
   "source": [
    "sol = Solution()\n",
    "sol.closeStrings('abc', 'bca')"
   ]
  },
  {
   "cell_type": "code",
   "execution_count": 132,
   "metadata": {},
   "outputs": [
    {
     "data": {
      "text/plain": [
       "True"
      ]
     },
     "execution_count": 132,
     "metadata": {},
     "output_type": "execute_result"
    }
   ],
   "source": [
    "sol = Solution()\n",
    "sol.closeStrings('cabbba', 'abbccc')"
   ]
  }
 ],
 "metadata": {
  "language_info": {
   "name": "python"
  }
 },
 "nbformat": 4,
 "nbformat_minor": 2
}
