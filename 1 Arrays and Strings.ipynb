{
 "cells": [
  {
   "cell_type": "markdown",
   "metadata": {},
   "source": [
    "(Leetcode seems to have 3140 unique problems.)"
   ]
  },
  {
   "cell_type": "markdown",
   "metadata": {},
   "source": [
    "# Arrays and Strings"
   ]
  },
  {
   "cell_type": "code",
   "execution_count": 1,
   "metadata": {},
   "outputs": [],
   "source": [
    "from typing import List"
   ]
  },
  {
   "cell_type": "markdown",
   "metadata": {},
   "source": [
    "## Reverse String\n",
    "\n",
    "Write a function that reverses a string. The input string is given as an array of characters `s`.\n",
    "\n",
    "You must do this by modifying the input array **in-place** with `O(1)` extra memory."
   ]
  },
  {
   "cell_type": "code",
   "execution_count": null,
   "metadata": {},
   "outputs": [],
   "source": [
    "class Solution:\n",
    "    def reverseString(self, s: List[str]) -> None:\n",
    "        \"\"\"\n",
    "        Do not return anything, modify s in-place instead.\n",
    "        \"\"\"\n",
    "        i = 0\n",
    "        j = len(s) - 1\n",
    "        while i < j:\n",
    "            char_i = s[i]\n",
    "            char_j = s[j]\n",
    "            s[i] = char_j\n",
    "            s[j] = char_i\n",
    "            i += 1\n",
    "            j -= 1\n",
    "            \n",
    "        return"
   ]
  },
  {
   "cell_type": "markdown",
   "metadata": {},
   "source": [
    "## (977) Squares of a sorted array\n",
    "\n",
    "Given an integer array `nums` sorted in non-decreasing order, return an array of the squares of each number sorted in non-decreasing order.\n"
   ]
  },
  {
   "cell_type": "code",
   "execution_count": 7,
   "metadata": {},
   "outputs": [],
   "source": [
    "class Solution:\n",
    "    def sortedSquares(self, nums: List[int]) -> List[int]:\n",
    "        ans = []\n",
    "        left = 0\n",
    "        right = len(nums) - 1\n",
    "        # Start from largest, prepend downward to smallest\n",
    "        while left <= right:\n",
    "            left2 = nums[left]**2\n",
    "            right2 = nums[right]**2\n",
    "            if left2 < right2: # left and right positive\n",
    "                ans = [right2] + ans # prepend\n",
    "                right -= 1\n",
    "            elif left2 > right2: # left is negative\n",
    "                ans = [left2] + ans # prepend\n",
    "                left += 1\n",
    "            elif left2 == right2:\n",
    "                ans = [left2] + ans # either one works\n",
    "                left += 1\n",
    "            \n",
    "        return ans"
   ]
  },
  {
   "cell_type": "code",
   "execution_count": 43,
   "metadata": {},
   "outputs": [
    {
     "data": {
      "text/plain": [
       "[0, 1, 9, 16, 100]"
      ]
     },
     "execution_count": 43,
     "metadata": {},
     "output_type": "execute_result"
    }
   ],
   "source": [
    "sol = Solution()\n",
    "ans = sol.sortedSquares([-4,-1,0,3,10])\n",
    "ans"
   ]
  },
  {
   "cell_type": "code",
   "execution_count": 41,
   "metadata": {},
   "outputs": [],
   "source": [
    "class Solution:\n",
    "    def sortedSquares(self, nums: List[int]) -> List[int]:\n",
    "        ans = []\n",
    "        left = 0\n",
    "        right = len(nums) - 1\n",
    "        # Start from largest, append then reverse\n",
    "        while left <= right:\n",
    "            left2 = nums[left]**2\n",
    "            right2 = nums[right]**2\n",
    "            if left2 < right2: # left and right positive\n",
    "                ans.append(right2)\n",
    "                right -= 1\n",
    "            elif left2 > right2: # left is negative\n",
    "                ans.append(left2)\n",
    "                left += 1\n",
    "            elif left2 == right2:\n",
    "                ans.append(left2)\n",
    "                left += 1\n",
    "\n",
    "        i = 0\n",
    "        j = len(ans) - 1\n",
    "        while i < j:\n",
    "            char_i = ans[i]\n",
    "            char_j = ans[j]\n",
    "            ans[i] = char_j\n",
    "            ans[j] = char_i\n",
    "            i += 1\n",
    "            j -= 1\n",
    "        \n",
    "        return ans\n"
   ]
  },
  {
   "cell_type": "markdown",
   "metadata": {},
   "source": [
    "## Maximum Average Subarray I\n",
    "\n",
    "You are given an integer array `nums` consisting of `n` elements, and an integer `k`.\n",
    "\n",
    "Find a contiguous subarray whose **length is equal to** `k` that has the maximum average value and return *this value*. Any answer with a calculation error less than $10^{-5}$ will be accepted."
   ]
  },
  {
   "cell_type": "code",
   "execution_count": 47,
   "metadata": {},
   "outputs": [],
   "source": [
    "class Solution:\n",
    "    def findMaxAverage(self, nums: List[int], k: int) -> float:\n",
    "        left = right = sum = 0\n",
    "        for i in range(0, k):\n",
    "            sum += nums[i]\n",
    "        avg = sum/k\n",
    "\n",
    "        ans = avg\n",
    "        for i in range(k, len(nums)): # len(nums) = 6, range from index 4 to 5\n",
    "            avg += nums[i]/k - nums[i - k]/k\n",
    "            ans = max(ans, avg)\n",
    "\n",
    "        return ans\n",
    "    # Faster if do the calculations only on the sum, then return sum/k"
   ]
  },
  {
   "cell_type": "code",
   "execution_count": 48,
   "metadata": {},
   "outputs": [
    {
     "data": {
      "text/plain": [
       "12.75"
      ]
     },
     "execution_count": 48,
     "metadata": {},
     "output_type": "execute_result"
    }
   ],
   "source": [
    "sol = Solution()\n",
    "sol.findMaxAverage([1,12,-5,-6,50,3], 4)"
   ]
  },
  {
   "cell_type": "code",
   "execution_count": 49,
   "metadata": {},
   "outputs": [
    {
     "data": {
      "text/plain": [
       "5.0"
      ]
     },
     "execution_count": 49,
     "metadata": {},
     "output_type": "execute_result"
    }
   ],
   "source": [
    "sol = Solution()\n",
    "sol.findMaxAverage([5], 1)"
   ]
  },
  {
   "cell_type": "markdown",
   "metadata": {},
   "source": [
    "## Max Consecutive Ones III\n",
    "\n",
    "Given a binary array `nums` and an integer `k`, return the maximum number of consecutive `1`'s in the array if you can flip at most `k` `0`'s."
   ]
  },
  {
   "cell_type": "code",
   "execution_count": 67,
   "metadata": {},
   "outputs": [],
   "source": [
    "class Solution:\n",
    "    def longestOnes(self, nums: List[int], k: int) -> int:\n",
    "        left = zcount = ans = 0 # zcount is number of 0s\n",
    "\n",
    "        for right in range(0, len(nums)): # Loop right index over all nums\n",
    "            if nums[right] == 0:\n",
    "                zcount += 1\n",
    "            \n",
    "            while zcount > k: # If left includes too many 0s, increase it until it satisifies the constraint\n",
    "                if nums[left] == 0:\n",
    "                    zcount -= 1\n",
    "                \n",
    "                left += 1\n",
    "\n",
    "            ans = max(ans, right - left + 1)\n",
    "            #print(left, right, zcount)\n",
    "        \n",
    "        return ans\n"
   ]
  },
  {
   "cell_type": "code",
   "execution_count": 68,
   "metadata": {},
   "outputs": [
    {
     "data": {
      "text/plain": [
       "6"
      ]
     },
     "execution_count": 68,
     "metadata": {},
     "output_type": "execute_result"
    }
   ],
   "source": [
    "sol = Solution()\n",
    "sol.longestOnes([1,1,1,0,0,0,1,1,1,1,0], 2)"
   ]
  },
  {
   "cell_type": "code",
   "execution_count": 69,
   "metadata": {},
   "outputs": [
    {
     "data": {
      "text/plain": [
       "10"
      ]
     },
     "execution_count": 69,
     "metadata": {},
     "output_type": "execute_result"
    }
   ],
   "source": [
    "sol = Solution()\n",
    "sol.longestOnes([0,0,1,1,0,0,1,1,1,0,1,1,0,0,0,1,1,1,1], 3)"
   ]
  },
  {
   "cell_type": "markdown",
   "metadata": {},
   "source": [
    "## Running Sum of 1d Array"
   ]
  },
  {
   "cell_type": "markdown",
   "metadata": {},
   "source": [
    "Given an array `nums`. We define a running sum of an array as `runningSum[i] = sum(nums[0]... nums[i])`.\n",
    "\n",
    "Return the running sum of `nums`."
   ]
  },
  {
   "cell_type": "code",
   "execution_count": 78,
   "metadata": {},
   "outputs": [],
   "source": [
    "class Solution:\n",
    "    def runningSum(self, nums: List[int]) -> List[int]:\n",
    "        prefix = [nums[0]]\n",
    "        for i in range(1, len(nums)):\n",
    "            prefix.append(nums[i] + prefix[-1])\n",
    "\n",
    "        return prefix\n"
   ]
  },
  {
   "cell_type": "code",
   "execution_count": 79,
   "metadata": {},
   "outputs": [
    {
     "data": {
      "text/plain": [
       "[1, 2, 3, 4]"
      ]
     },
     "execution_count": 79,
     "metadata": {},
     "output_type": "execute_result"
    }
   ],
   "source": [
    "sol = Solution()\n",
    "sol.runningSum([1, 1, 1, 1])"
   ]
  },
  {
   "cell_type": "markdown",
   "metadata": {},
   "source": [
    "##  Minimum Value to Get Positive Step by Step Sum\n",
    "\n",
    "Given an array of integers `nums`, you start with an initial **positive** value *startValue*.\n",
    "\n",
    "In each iteration, you calculate the step by step sum of *startValue* plus elements in `nums` (from left to right).\n",
    "\n",
    "Return the minimum **positive** value of *startValue* such that the step by step sum is never less than 1."
   ]
  },
  {
   "cell_type": "code",
   "execution_count": 91,
   "metadata": {},
   "outputs": [],
   "source": [
    "class Solution:\n",
    "    def minStartValue(self, nums: List[int]) -> int:\n",
    "        prefix = [nums[0]]\n",
    "        for i in range(1, len(nums)):\n",
    "            prefix.append(nums[i] + prefix[-1])\n",
    "\n",
    "        minValue = min(prefix)\n",
    "        if minValue >= 0:\n",
    "            startValue = 1\n",
    "        elif minValue < 0:\n",
    "            startValue = -minValue + 1\n",
    "\n",
    "        return startValue\n",
    "        "
   ]
  },
  {
   "cell_type": "code",
   "execution_count": 95,
   "metadata": {},
   "outputs": [],
   "source": [
    "class Solution:\n",
    "    def minStartValue(self, nums: List[int]) -> int:\n",
    "        prefix = [nums[0]]\n",
    "        for i in range(1, len(nums)):\n",
    "            prefix.append(nums[i] + prefix[-1])\n",
    "\n",
    "        startValue = 1\n",
    "        minValue = min(prefix)\n",
    "\n",
    "        if minValue < 0:\n",
    "            startValue = -minValue + 1\n",
    "\n",
    "        return startValue"
   ]
  },
  {
   "cell_type": "code",
   "execution_count": 96,
   "metadata": {},
   "outputs": [
    {
     "data": {
      "text/plain": [
       "5"
      ]
     },
     "execution_count": 96,
     "metadata": {},
     "output_type": "execute_result"
    }
   ],
   "source": [
    "sol = Solution()\n",
    "sol.minStartValue([-3,2,-3,4,2])"
   ]
  },
  {
   "cell_type": "code",
   "execution_count": 93,
   "metadata": {},
   "outputs": [
    {
     "data": {
      "text/plain": [
       "5"
      ]
     },
     "execution_count": 93,
     "metadata": {},
     "output_type": "execute_result"
    }
   ],
   "source": [
    "sol.minStartValue([1, -2, -3])"
   ]
  },
  {
   "cell_type": "markdown",
   "metadata": {},
   "source": [
    "## K Radius Subarray Averages"
   ]
  },
  {
   "cell_type": "markdown",
   "metadata": {},
   "source": [
    "You are given a **0-indexed** array `nums` of `n` integers, and an integer `k`.\n",
    "\n",
    "The **k-radius average** for a subarray of `nums` **centered** at some index `i` with the **radius** `k` is the average of all elements in `nums` between the indices `i - k` and `i + k` (**inclusive**). If there are less than `k` elements before **or** after the index i, then the **k-radius average** is -1.\n",
    "\n",
    "Build and return *an array* `avgs` of length `n` where `avgs[i]` is the **k-radius average** for the subarray centered at index `i`.\n",
    "\n",
    "The **average** of `x` elements is the sum of the `x` elements divided by `x`, using **integer division**. The integer division truncates toward zero, which means losing its fractional part.\n",
    "\n",
    "* For example, the average of four elements `2`, `3`, `1`, and `5` is `(2 + 3 + 1 + 5) / 4 = 11 / 4 = 2.75`, which truncates to `2`."
   ]
  },
  {
   "cell_type": "code",
   "execution_count": 127,
   "metadata": {},
   "outputs": [],
   "source": [
    "class Solution:\n",
    "    def getAverages(self, nums: List[int], k: int) -> List[int]:\n",
    "        prefix = [nums[0]]\n",
    "        for i in range(1, len(nums)):\n",
    "            prefix.append(nums[i] + prefix[-1])\n",
    "\n",
    "        avgs = [-1] * len(nums)\n",
    "\n",
    "        for i in range(0, len(nums)):\n",
    "            if ( (i - k) >= 0 ) & ( (i + k) < len(nums) ):\n",
    "                avgs[i] = int( ( prefix[i + k] - prefix[i - k] + nums[i - k] ) / (2*k + 1) )\n",
    "\n",
    "        return avgs"
   ]
  },
  {
   "cell_type": "code",
   "execution_count": 133,
   "metadata": {},
   "outputs": [],
   "source": [
    "class Solution:\n",
    "    def getAverages(self, nums: List[int], k: int) -> List[int]:\n",
    "        prefix = [nums[0]]\n",
    "        for i in range(1, len(nums)):\n",
    "            prefix.append(nums[i] + prefix[-1])\n",
    "\n",
    "        avgs = [-1] * len(nums)\n",
    "\n",
    "        for i in range(k, len(nums)-k):\n",
    "            avgs[i] = int( ( prefix[i + k] - prefix[i - k] + nums[i - k] ) / (2*k + 1) )\n",
    "\n",
    "        return avgs"
   ]
  },
  {
   "cell_type": "code",
   "execution_count": 134,
   "metadata": {},
   "outputs": [
    {
     "data": {
      "text/plain": [
       "[-1, -1, -1, 5, 4, 4, -1, -1, -1]"
      ]
     },
     "execution_count": 134,
     "metadata": {},
     "output_type": "execute_result"
    }
   ],
   "source": [
    "sol = Solution()\n",
    "sol.getAverages([7,4,3,9,1,8,5,2,6], 3)"
   ]
  },
  {
   "cell_type": "code",
   "execution_count": 130,
   "metadata": {},
   "outputs": [
    {
     "data": {
      "text/plain": [
       "[-1]"
      ]
     },
     "execution_count": 130,
     "metadata": {},
     "output_type": "execute_result"
    }
   ],
   "source": [
    "sol.getAverages([8], 100000)"
   ]
  },
  {
   "cell_type": "markdown",
   "metadata": {},
   "source": [
    "## Subarrays vs. subsequences vs. subsets\n",
    "\n",
    "*Subarray: continuous, ordered\n",
    "\n",
    "*Subsequence: ordered, does not have to be continuous\n",
    "\n",
    "*Subsets: Does not have to be continuous, nor ordered\n",
    "\n",
    "If order doesn't matter, consider sorting and using the two-pointers method.\n"
   ]
  },
  {
   "cell_type": "markdown",
   "metadata": {},
   "source": [
    "## (713) Subarray Product Less Than K\n",
    "\n",
    "Given an array of integers `nums` and an integer `k`, return the number of contiguous subarrays where the product of all the elements in the subarray is strictly less than `k`."
   ]
  },
  {
   "cell_type": "code",
   "execution_count": 181,
   "metadata": {},
   "outputs": [],
   "source": [
    "class Solution:\n",
    "    def numSubarrayProductLessThanK(self, nums: List[int], k: int) -> int:\n",
    "        count = 0\n",
    "        currProd = 1\n",
    "\n",
    "        for left in range(0, len(nums)):\n",
    "            right = left\n",
    "\n",
    "            currProd = 1\n",
    "\n",
    "            while (right < len(nums)):\n",
    "                currProd *= nums[right]\n",
    "\n",
    "                # print(f'{left}, {right} : {currProd}')\n",
    "\n",
    "                if currProd < k:\n",
    "                    count += 1\n",
    "\n",
    "                right += 1\n",
    "                \n",
    "        return count"
   ]
  },
  {
   "cell_type": "code",
   "execution_count": 182,
   "metadata": {},
   "outputs": [
    {
     "name": "stdout",
     "output_type": "stream",
     "text": [
      "0, 0 : 10\n",
      "0, 1 : 50\n",
      "0, 2 : 100\n",
      "0, 3 : 600\n",
      "1, 1 : 5\n",
      "1, 2 : 10\n",
      "1, 3 : 60\n",
      "2, 2 : 2\n",
      "2, 3 : 12\n",
      "3, 3 : 6\n"
     ]
    },
    {
     "data": {
      "text/plain": [
       "8"
      ]
     },
     "execution_count": 182,
     "metadata": {},
     "output_type": "execute_result"
    }
   ],
   "source": [
    "sol = Solution()\n",
    "sol.numSubarrayProductLessThanK([10,5,2,6], 100)"
   ]
  },
  {
   "cell_type": "markdown",
   "metadata": {},
   "source": [
    "# Arrays and Strings - Bonus"
   ]
  },
  {
   "cell_type": "markdown",
   "metadata": {},
   "source": [
    "## (557) Reverse Words in a String III\n",
    "\n",
    "Given a string `s`, reverse the order of characters in each word within a sentence while still preserving whitespace and initial word order."
   ]
  },
  {
   "cell_type": "code",
   "execution_count": 301,
   "metadata": {},
   "outputs": [],
   "source": [
    "# Slow...\n",
    "class Solution:\n",
    "    def reverseWords(self, s: str) -> str:\n",
    "        i = 0\n",
    "        result = [' '] * len(s)\n",
    "\n",
    "        for n in range(0, len(s)):\n",
    "            if (s[n] == \" \"): # If space\n",
    "                for k in range(j, i-1, -1):\n",
    "                    result[i] = s[k]\n",
    "                    i += 1\n",
    "                \n",
    "                i = n + 1 # new word start\n",
    "                \n",
    "            elif (n == len(s)-1): # If last char\n",
    "                j = n\n",
    "                for k in range(j, i-1, -1):\n",
    "                    # print(f'i {i}, j {j}, k {k}')\n",
    "                    # print(f'i {s[i]}, j {s[j]}, k {s[k]}')\n",
    "                    result[i] = s[k]\n",
    "                    i += 1\n",
    "                    \n",
    "            else:           # If normal character\n",
    "                j = n\n",
    "\n",
    "            result_cat = ''.join(result)\n",
    "        return result_cat\n"
   ]
  },
  {
   "cell_type": "code",
   "execution_count": 304,
   "metadata": {},
   "outputs": [
    {
     "data": {
      "text/plain": [
       "'I evol u'"
      ]
     },
     "execution_count": 304,
     "metadata": {},
     "output_type": "execute_result"
    }
   ],
   "source": [
    "sol = Solution()\n",
    "sol.reverseWords(\"I love u\")"
   ]
  },
  {
   "cell_type": "code",
   "execution_count": 340,
   "metadata": {},
   "outputs": [],
   "source": [
    "# Faster...\n",
    "class Solution:\n",
    "    def reverseWords(self, s: str) -> str:\n",
    "        i = 0\n",
    "        result = []\n",
    "\n",
    "        for n in range(0, len(s)):\n",
    "            if (s[n] == \" \"): # If space\n",
    "                if i == j:\n",
    "                    result.append(s[i])\n",
    "                elif i == 0:\n",
    "                    result.append(s[j::-1])\n",
    "                else:\n",
    "                    result.append(s[j:i-1:-1])\n",
    "\n",
    "                result.append(' ')\n",
    "                i = n + 1 # new word start\n",
    "\n",
    "            elif (n == len(s)-1): # If last char\n",
    "                j = n\n",
    "\n",
    "                if i == j:\n",
    "                    result.append(s[i])\n",
    "                elif i == 0:\n",
    "                    result.append(s[j::-1])\n",
    "                else:\n",
    "                    result.append(s[j:i-1:-1])\n",
    "\n",
    "            else:  # If normal character\n",
    "                j = n\n",
    "\n",
    "            result_cat = ''.join(result)\n",
    "        return result_cat"
   ]
  },
  {
   "cell_type": "code",
   "execution_count": 341,
   "metadata": {},
   "outputs": [
    {
     "data": {
      "text/plain": [
       "'I evol u'"
      ]
     },
     "execution_count": 341,
     "metadata": {},
     "output_type": "execute_result"
    }
   ],
   "source": [
    "sol = Solution()\n",
    "sol.reverseWords(\"I love u\")"
   ]
  },
  {
   "cell_type": "code",
   "execution_count": 342,
   "metadata": {},
   "outputs": [
    {
     "data": {
      "text/plain": [
       "'olleH dlroW I mA ehT tsetaerG'"
      ]
     },
     "execution_count": 342,
     "metadata": {},
     "output_type": "execute_result"
    }
   ],
   "source": [
    "sol = Solution()\n",
    "sol.reverseWords(\"Hello World I Am The Greatest\")"
   ]
  },
  {
   "cell_type": "code",
   "execution_count": null,
   "metadata": {},
   "outputs": [],
   "source": [
    "# Example leetcode solution\n",
    "class Solution:\n",
    "    def reverseWords(self, s: str) -> str:\n",
    "        start, end = 0, 0\n",
    "        s = list(s)\n",
    "        while start < len(s):\n",
    "            while end < len(s) and s[end] != ' ':\n",
    "                end += 1\n",
    "            s[start:end] = s[start:end][::-1]\n",
    "            start = end + 1\n",
    "            end = start\n",
    "        return ''.join(s)"
   ]
  },
  {
   "cell_type": "markdown",
   "metadata": {},
   "source": [
    "## (917) Reverse Only Letters\n",
    "\n",
    "Given a string `s`, reverse the string according to the following rules:\n",
    "\n",
    "* All the characters that are not English letters remain in the same position.\n",
    "\n",
    "* All the English letters (lowercase or uppercase) should be reversed.\n",
    "\n",
    "Return `s` after reversing it."
   ]
  },
  {
   "cell_type": "code",
   "execution_count": 393,
   "metadata": {},
   "outputs": [],
   "source": [
    "class Solution:\n",
    "    def reverseOnlyLetters(self, s: str) -> str:\n",
    "        sl = list(s)\n",
    "        left = 0\n",
    "        right = len(s) - 1\n",
    "\n",
    "        while left < right:\n",
    "            while left < right and not sl[left].isalpha():\n",
    "                left +=1\n",
    "            \n",
    "            leftChar = sl[left]\n",
    "\n",
    "            while left < right and not sl[right].isalpha():\n",
    "                right -= 1\n",
    "\n",
    "            rightChar = sl[right]\n",
    "\n",
    "            if left < right:\n",
    "                sl[left] = rightChar\n",
    "                sl[right] = leftChar\n",
    "\n",
    "            left += 1\n",
    "            right -= 1\n",
    "\n",
    "        return ''.join(sl)"
   ]
  },
  {
   "cell_type": "code",
   "execution_count": 394,
   "metadata": {},
   "outputs": [
    {
     "data": {
      "text/plain": [
       "'Qedo1ct-eeLg=ntse-T!'"
      ]
     },
     "execution_count": 394,
     "metadata": {},
     "output_type": "execute_result"
    }
   ],
   "source": [
    "sol = Solution()\n",
    "sol.reverseOnlyLetters(\"Test1ng-Leet=code-Q!\")"
   ]
  },
  {
   "cell_type": "code",
   "execution_count": 395,
   "metadata": {},
   "outputs": [
    {
     "data": {
      "text/plain": [
       "'7_28]'"
      ]
     },
     "execution_count": 395,
     "metadata": {},
     "output_type": "execute_result"
    }
   ],
   "source": [
    "sol = Solution()\n",
    "sol.reverseOnlyLetters(\"7_28]\")"
   ]
  },
  {
   "cell_type": "markdown",
   "metadata": {},
   "source": [
    "## (2540) Minimum Common Value\n",
    "\n",
    "Given two integer arrays `nums1` and `nums2`, sorted in non-decreasing order, return the minimum integer common to both arrays. If there is no common integer amongst `nums1` and `nums2`, return `-1`.\n",
    "\n",
    "Note that an integer is said to be common to `nums1` and `nums2` if both arrays have at least one occurrence of that integer."
   ]
  },
  {
   "cell_type": "code",
   "execution_count": 403,
   "metadata": {},
   "outputs": [],
   "source": [
    "# Beats 90% of submissions in runtime! (Several iterations to get it to complete)\n",
    "class Solution:\n",
    "    def getCommon(self, nums1: List[int], nums2: List[int]) -> int:\n",
    "        i1 = i2 = 0\n",
    "\n",
    "        for _ in range(0, min( len(nums1), len(nums2) )):\n",
    "            while nums1[i1] < nums2[i2] and i1 < len(nums1)-1:\n",
    "                i1 += 1\n",
    "                if nums1[i1] == nums2[i2]:\n",
    "                    return nums1[i1]\n",
    "\n",
    "            while nums2[i2] < nums1[i1] and i2 < len(nums2)-1:\n",
    "                i2 += 1\n",
    "                if nums1[i1] == nums2[i2]:\n",
    "                    return nums1[i1]\n",
    "                \n",
    "            if nums1[i1] == nums2[i2]:\n",
    "                return nums1[i1]\n",
    "                \n",
    "        return -1\n"
   ]
  },
  {
   "cell_type": "code",
   "execution_count": 404,
   "metadata": {},
   "outputs": [
    {
     "data": {
      "text/plain": [
       "-1"
      ]
     },
     "execution_count": 404,
     "metadata": {},
     "output_type": "execute_result"
    }
   ],
   "source": [
    "sol = Solution()\n",
    "sol.getCommon([1,3,6], [2,4,5])"
   ]
  },
  {
   "cell_type": "code",
   "execution_count": 405,
   "metadata": {},
   "outputs": [
    {
     "data": {
      "text/plain": [
       "2"
      ]
     },
     "execution_count": 405,
     "metadata": {},
     "output_type": "execute_result"
    }
   ],
   "source": [
    "sol = Solution()\n",
    "sol.getCommon([2,4], [1,2])"
   ]
  },
  {
   "cell_type": "markdown",
   "metadata": {},
   "source": [
    "## (283) Move Zeroes\n",
    "\n",
    "Given an integer array `nums`, move all `0`'s to the end of it while maintaining the relative order of the non-zero elements.\n",
    "\n",
    "Note that you must do this in-place without making a copy of the array."
   ]
  },
  {
   "cell_type": "code",
   "execution_count": 12,
   "metadata": {},
   "outputs": [],
   "source": [
    "# Beats 56.70% of submissions - in first try!\n",
    "class Solution:\n",
    "    def moveZeroes(self, nums: List[int]) -> None:\n",
    "        \"\"\"\n",
    "        Do not return anything, modify nums in-place instead.\n",
    "        \"\"\"\n",
    "        i = zcount = 0\n",
    "\n",
    "        while i < len(nums):\n",
    "            if nums[i] == 0:\n",
    "                zcount += 1\n",
    "            elif (nums[i] != 0) and (zcount > 0):\n",
    "                nums[i-zcount] = nums[i]\n",
    "                nums[i] = 0\n",
    "\n",
    "            i += 1\n",
    "\n",
    "        print(nums)\n",
    "        return\n"
   ]
  },
  {
   "cell_type": "code",
   "execution_count": 10,
   "metadata": {},
   "outputs": [
    {
     "name": "stdout",
     "output_type": "stream",
     "text": [
      "[1, 1, 12, 0, 0, 0]\n"
     ]
    }
   ],
   "source": [
    "sol = Solution()\n",
    "sol.moveZeroes([0, 0, 1, 0, 1, 12])\n"
   ]
  },
  {
   "cell_type": "code",
   "execution_count": 14,
   "metadata": {},
   "outputs": [
    {
     "name": "stdout",
     "output_type": "stream",
     "text": [
      "[1, 2, 1, 1, 12, 0]\n"
     ]
    }
   ],
   "source": [
    "sol.moveZeroes([1, 2, 1, 0, 1, 12])\n"
   ]
  },
  {
   "cell_type": "code",
   "execution_count": 13,
   "metadata": {},
   "outputs": [],
   "source": [
    "# Beats 78.9% of submissions - with for loop instead of while\n",
    "class Solution:\n",
    "    def moveZeroes(self, nums: List[int]) -> None:\n",
    "        \"\"\"\n",
    "        Do not return anything, modify nums in-place instead.\n",
    "        \"\"\"\n",
    "        i = zcount = 0\n",
    "\n",
    "        for i in range(0,len(nums)):\n",
    "            if nums[i] == 0:\n",
    "                zcount += 1\n",
    "            elif (nums[i] != 0) and (zcount > 0):\n",
    "                nums[i-zcount] = nums[i]\n",
    "                nums[i] = 0\n",
    "\n",
    "        print(nums)\n",
    "        return"
   ]
  },
  {
   "cell_type": "markdown",
   "metadata": {},
   "source": [
    "## (2000) Reverse Prefix of Word\n",
    "\n",
    "Given a 0-indexed string `word` and a character `ch`, reverse the segment of `word` that starts at index `0` and ends at the index of the first occurrence of `ch` (inclusive). If the character `ch` does not exist in `word`, do nothing.\n",
    "\n",
    "* For example, if `word = \"abcdefd\"` and `ch = \"d\"`, then you should reverse the segment that starts at `0` and ends at `3` (inclusive). The resulting string will be `\"dcbaefd\"`.\n",
    "\n",
    "Return the **resulting string**."
   ]
  },
  {
   "cell_type": "code",
   "execution_count": 44,
   "metadata": {},
   "outputs": [],
   "source": [
    "# Beats 34.10% of submissions\n",
    "class Solution:\n",
    "    def reversePrefix(self, word: str, ch: str) -> str:\n",
    "        i = left = 0\n",
    "        wordList = list(word)\n",
    "        for i in range(0, len(wordList)):\n",
    "            if wordList[i] == ch: # Reverse up to i\n",
    "                right = i\n",
    "                while left < right:\n",
    "                    ch_left = wordList[left]\n",
    "                    wordList[left] = wordList[right]\n",
    "                    wordList[right] = ch_left\n",
    "                    left += 1\n",
    "                    right -= 1\n",
    "\n",
    "                return ''.join(wordList)\n",
    "            \n",
    "        return word"
   ]
  },
  {
   "cell_type": "code",
   "execution_count": 45,
   "metadata": {},
   "outputs": [
    {
     "data": {
      "text/plain": [
       "'dcbaefd'"
      ]
     },
     "execution_count": 45,
     "metadata": {},
     "output_type": "execute_result"
    }
   ],
   "source": [
    "sol = Solution()\n",
    "sol.reversePrefix('abcdefd', 'd')"
   ]
  },
  {
   "cell_type": "code",
   "execution_count": 46,
   "metadata": {},
   "outputs": [
    {
     "data": {
      "text/plain": [
       "'zxyxxe'"
      ]
     },
     "execution_count": 46,
     "metadata": {},
     "output_type": "execute_result"
    }
   ],
   "source": [
    "sol = Solution()\n",
    "sol.reversePrefix('xyxzxe', 'z')"
   ]
  },
  {
   "cell_type": "markdown",
   "metadata": {},
   "source": [
    "## (209) Minimum Size Subarray Sum\n",
    "\n",
    "Given an array of positive integers `nums` and a positive integer `target`, return the **minimal length** of a subarray whose sum is greater than or equal to `target`. If there is no such subarray, return `0` instead."
   ]
  },
  {
   "cell_type": "code",
   "execution_count": 112,
   "metadata": {},
   "outputs": [],
   "source": [
    "# Too slow\n",
    "class Solution:\n",
    "    def minSubArrayLen(self, target: int, nums: List[int]) -> int:\n",
    "        minLength = len(nums)\n",
    "        solExists = 0\n",
    "\n",
    "        prefix = [''] * len(nums)\n",
    "        prefix[0] = nums[0]\n",
    "        for i in range(1,len(nums)):\n",
    "            prefix[i] = prefix[i-1] + nums[i]\n",
    "\n",
    "        for right in range(0, len(nums)):\n",
    "\n",
    "            for left in range(0,right+1):\n",
    "\n",
    "                winSum = prefix[right] - prefix[left] + nums[left]\n",
    "                winSize = right - left + 1\n",
    "\n",
    "                if winSum >= target:\n",
    "                    print(f'left {left}, right {right}, sum {winSum}, size {winSize}')\n",
    "                    minLength = min(minLength, winSize)\n",
    "                    solExists = 1\n",
    "                \n",
    "        return minLength if solExists == 1 else 0\n",
    "        "
   ]
  },
  {
   "cell_type": "code",
   "execution_count": 127,
   "metadata": {},
   "outputs": [],
   "source": [
    "# Beats 12.36% of submissions :/\n",
    "class Solution:\n",
    "    def minSubArrayLen(self, target: int, nums: List[int]) -> int:\n",
    "        left = 0\n",
    "        minLength = len(nums)\n",
    "        solExists = 0\n",
    "\n",
    "        prefix = [''] * len(nums)\n",
    "        prefix[0] = nums[0]\n",
    "        for i in range(1,len(nums)):\n",
    "            prefix[i] = prefix[i-1] + nums[i]\n",
    "\n",
    "        for right in range(0, len(nums)):\n",
    "            winSum = prefix[right] - prefix[left] + nums[left]\n",
    "            winSize = right - left + 1\n",
    "\n",
    "            while (winSum >= target) and (left <= right):\n",
    "\n",
    "                # print(f'True: left {left}, right {right}, sum {winSum}, size {winSize}')\n",
    "\n",
    "                minLength = min(minLength, winSize)\n",
    "                solExists = 1\n",
    "\n",
    "                left += 1\n",
    "                if left <= right:\n",
    "                    winSum = prefix[right] - prefix[left] + nums[left]\n",
    "                    winSize = right - left + 1\n",
    "                \n",
    "        return minLength if solExists == 1 else 0"
   ]
  },
  {
   "cell_type": "code",
   "execution_count": 128,
   "metadata": {},
   "outputs": [
    {
     "name": "stdout",
     "output_type": "stream",
     "text": [
      "True: left 0, right 5, sum 15, size 6\n",
      "True: left 1, right 5, sum 13, size 5\n"
     ]
    },
    {
     "data": {
      "text/plain": [
       "5"
      ]
     },
     "execution_count": 128,
     "metadata": {},
     "output_type": "execute_result"
    }
   ],
   "source": [
    "sol = Solution()\n",
    "sol.minSubArrayLen(13, [2,3,1,2,4,3])"
   ]
  },
  {
   "cell_type": "code",
   "execution_count": 129,
   "metadata": {},
   "outputs": [
    {
     "name": "stdout",
     "output_type": "stream",
     "text": [
      "True: left 0, right 1, sum 5, size 2\n",
      "True: left 1, right 1, sum 4, size 1\n",
      "True: left 2, right 2, sum 4, size 1\n"
     ]
    },
    {
     "data": {
      "text/plain": [
       "1"
      ]
     },
     "execution_count": 129,
     "metadata": {},
     "output_type": "execute_result"
    }
   ],
   "source": [
    "sol = Solution()\n",
    "sol.minSubArrayLen(4, [1,4,4])"
   ]
  },
  {
   "cell_type": "code",
   "execution_count": 130,
   "metadata": {},
   "outputs": [
    {
     "name": "stdout",
     "output_type": "stream",
     "text": [
      "True: left 0, right 0, sum 10, size 1\n",
      "True: left 1, right 2, sum 5, size 2\n"
     ]
    },
    {
     "data": {
      "text/plain": [
       "1"
      ]
     },
     "execution_count": 130,
     "metadata": {},
     "output_type": "execute_result"
    }
   ],
   "source": [
    "sol = Solution()\n",
    "sol.minSubArrayLen(4, [10,2,3])"
   ]
  },
  {
   "cell_type": "markdown",
   "metadata": {},
   "source": [
    "## (1456) Maximum Number of Vowels in a Substring of Given Length\n",
    "\n",
    "Given a string `s` and an integer `k`, return the maximum number of vowel letters in any substring of `s` with length `k`.\n",
    "\n",
    "Vowel letters in English are `'a'`, `'e'`, `'i'`, `'o'`, and `'u'`."
   ]
  },
  {
   "cell_type": "code",
   "execution_count": 154,
   "metadata": {},
   "outputs": [],
   "source": [
    "# Beasts 42.34% of submisions\n",
    "class Solution:\n",
    "    def maxVowels(self, s: str, k: int) -> int:\n",
    "\n",
    "        vcount = 0\n",
    "        vowels = ['a', 'e', 'i', 'o', 'u']\n",
    "\n",
    "        for i in range(0, k): # Initial substring; left=0, right=k-1\n",
    "            if s[i] in vowels:\n",
    "                vcount += 1\n",
    "\n",
    "        vmax = vcount\n",
    "\n",
    "        # print(f'left {0}, right {k-1}, vcount {vcount}')\n",
    "\n",
    "        left = 1\n",
    "        for right in range(k, len(s)): # Shifted substrings; start with left=1, right=k\n",
    "            if s[right] in vowels: # added\n",
    "                vcount += 1\n",
    "            if s[left-1] in vowels: # subtracted\n",
    "                vcount -= 1\n",
    "\n",
    "            # print(f'left {left}, right {right}, vcount {vcount}')\n",
    "\n",
    "            vmax = max(vmax, vcount) # update vmax\n",
    "            left += 1\n",
    "\n",
    "        return vmax"
   ]
  },
  {
   "cell_type": "code",
   "execution_count": 155,
   "metadata": {},
   "outputs": [
    {
     "name": "stdout",
     "output_type": "stream",
     "text": [
      "left 0, right 2, vcount 1\n",
      "left 1, right 3, vcount 1\n",
      "left 2, right 4, vcount 2\n",
      "left 3, right 5, vcount 3\n",
      "left 4, right 6, vcount 2\n",
      "left 5, right 7, vcount 2\n",
      "left 6, right 8, vcount 1\n"
     ]
    },
    {
     "data": {
      "text/plain": [
       "3"
      ]
     },
     "execution_count": 155,
     "metadata": {},
     "output_type": "execute_result"
    }
   ],
   "source": [
    "sol = Solution()\n",
    "sol.maxVowels('abciiidef', 3)"
   ]
  },
  {
   "cell_type": "code",
   "execution_count": 156,
   "metadata": {},
   "outputs": [
    {
     "name": "stdout",
     "output_type": "stream",
     "text": [
      "left 0, right 1, vcount 2\n",
      "left 1, right 2, vcount 2\n",
      "left 2, right 3, vcount 2\n",
      "left 3, right 4, vcount 2\n"
     ]
    },
    {
     "data": {
      "text/plain": [
       "2"
      ]
     },
     "execution_count": 156,
     "metadata": {},
     "output_type": "execute_result"
    }
   ],
   "source": [
    "sol = Solution()\n",
    "sol.maxVowels('aeiou', 2)"
   ]
  },
  {
   "cell_type": "markdown",
   "metadata": {},
   "source": [
    "## (1208) Get Equal Substrings Within Budget\n",
    "\n",
    "You are given two strings `s` and `t` of the same length and an integer `maxCost`.\n",
    "\n",
    "You want to change `s` to `t`. Changing the `ith` character of `s` to ith character of `t` costs `|s[i] - t[i]|` (i.e., the absolute difference between the ASCII values of the characters).\n",
    "\n",
    "Return the maximum length of a substring of `s` that can be changed to be the same as the corresponding substring of `t` with a cost less than or equal to `maxCost`. If there is no substring from s that can be changed to its corresponding substring from t, return 0."
   ]
  },
  {
   "cell_type": "code",
   "execution_count": 173,
   "metadata": {},
   "outputs": [],
   "source": [
    "# Time limit exceeded\n",
    "class Solution:\n",
    "    def equalSubstring(self, s: str, t: str, maxCost: int) -> int:\n",
    "        maxLength = 0\n",
    "\n",
    "        for left in range(0, len(s)):\n",
    "            right = left\n",
    "            cost = abs( ord(s[left]) - ord(t[left]) )\n",
    "\n",
    "            while (cost <= maxCost) and (right < len(s)):\n",
    "\n",
    "                length = right - left + 1\n",
    "                maxLength = max(maxLength, length)\n",
    "\n",
    "                if right < len(s)-1: # If not the last index, increment and re-evaluate\n",
    "                    right += 1\n",
    "                    cost += abs( ord(s[right]) - ord(t[right]) )\n",
    "                else: # If the last index, increment, will exit while loop\n",
    "                    right +=1\n",
    "\n",
    "        return maxLength"
   ]
  },
  {
   "cell_type": "code",
   "execution_count": 180,
   "metadata": {},
   "outputs": [],
   "source": [
    "# Beats 97.64% of submissions (3rd submission)\n",
    "class Solution:\n",
    "    def equalSubstring(self, s: str, t: str, maxCost: int) -> int:\n",
    "        left = 0\n",
    "        maxLength = 0\n",
    "        cost = 0\n",
    "\n",
    "        for right in range(0, len(s)):\n",
    "            cost += abs( ord(s[right]) - ord(t[right]) )\n",
    "\n",
    "            while (cost > maxCost) and (left < right): # If does not satisfy constraint, shorten from left, if possible\n",
    "                cost -= abs( ord(s[left]) - ord(t[left]) )\n",
    "                left += 1\n",
    "            \n",
    "            if cost <= maxCost: # If satisfies constraint, update\n",
    "                length = right - left + 1\n",
    "                maxLength = max(maxLength, length)\n",
    "            \n",
    "\n",
    "        return maxLength"
   ]
  },
  {
   "cell_type": "code",
   "execution_count": 181,
   "metadata": {},
   "outputs": [
    {
     "data": {
      "text/plain": [
       "3"
      ]
     },
     "execution_count": 181,
     "metadata": {},
     "output_type": "execute_result"
    }
   ],
   "source": [
    "sol = Solution()\n",
    "sol.equalSubstring('abcd', 'bcdf', 3)"
   ]
  },
  {
   "cell_type": "code",
   "execution_count": 182,
   "metadata": {},
   "outputs": [
    {
     "data": {
      "text/plain": [
       "1"
      ]
     },
     "execution_count": 182,
     "metadata": {},
     "output_type": "execute_result"
    }
   ],
   "source": [
    "sol = Solution()\n",
    "sol.equalSubstring('abcd', 'cdef', 3)"
   ]
  },
  {
   "cell_type": "code",
   "execution_count": 183,
   "metadata": {},
   "outputs": [
    {
     "data": {
      "text/plain": [
       "1"
      ]
     },
     "execution_count": 183,
     "metadata": {},
     "output_type": "execute_result"
    }
   ],
   "source": [
    "sol = Solution()\n",
    "sol.equalSubstring('abcd', 'acde', 0)"
   ]
  },
  {
   "cell_type": "code",
   "execution_count": 184,
   "metadata": {},
   "outputs": [
    {
     "data": {
      "text/plain": [
       "2"
      ]
     },
     "execution_count": 184,
     "metadata": {},
     "output_type": "execute_result"
    }
   ],
   "source": [
    "sol = Solution()\n",
    "sol.equalSubstring('krrgw', 'zjxss', 19)"
   ]
  },
  {
   "cell_type": "code",
   "execution_count": 185,
   "metadata": {},
   "outputs": [
    {
     "data": {
      "text/plain": [
       "1"
      ]
     },
     "execution_count": 185,
     "metadata": {},
     "output_type": "execute_result"
    }
   ],
   "source": [
    "sol = Solution()\n",
    "sol.equalSubstring('anryddgaqpjdw', 'zjhotgdlmadcf', 5)"
   ]
  },
  {
   "cell_type": "markdown",
   "metadata": {},
   "source": [
    "## (1732) Find the Highest Altitude\n",
    "\n",
    "There is a biker going on a road trip. The road trip consists of `n + 1` points at different altitudes. The biker starts his trip on point `0` with altitude equal `0`.\n",
    "\n",
    "You are given an integer array `gain` of length `n` where` gain[i]` is the net gain in altitude between points `i​​​​​​` and `i + 1` for all `(0 <= i < n)`. Return the highest altitude of a point."
   ]
  },
  {
   "cell_type": "code",
   "execution_count": 210,
   "metadata": {},
   "outputs": [],
   "source": [
    "# Beats 5.29% of submissions\n",
    "class Solution:\n",
    "    def largestAltitude(self, gain: List[int]) -> int:\n",
    "        prefix = [''] * (len(gain) + 1)\n",
    "        prefix[0] = 0\n",
    "        for i in range(0, len(gain)):\n",
    "            prefix[i+1] = prefix[i] + gain[i] # prefix is shifted one relative to gain\n",
    "\n",
    "        return max(prefix)"
   ]
  },
  {
   "cell_type": "code",
   "execution_count": 211,
   "metadata": {},
   "outputs": [
    {
     "data": {
      "text/plain": [
       "1"
      ]
     },
     "execution_count": 211,
     "metadata": {},
     "output_type": "execute_result"
    }
   ],
   "source": [
    "sol = Solution()\n",
    "sol.largestAltitude([-5,1,5,0,-7])"
   ]
  },
  {
   "cell_type": "code",
   "execution_count": 212,
   "metadata": {},
   "outputs": [
    {
     "data": {
      "text/plain": [
       "0"
      ]
     },
     "execution_count": 212,
     "metadata": {},
     "output_type": "execute_result"
    }
   ],
   "source": [
    "sol = Solution()\n",
    "sol.largestAltitude([-4,-3,-2,-1,4,3,2])"
   ]
  },
  {
   "cell_type": "markdown",
   "metadata": {},
   "source": [
    "## (724) Find Pivot Index\n",
    "\n",
    "Given an array of integers `nums`, calculate the pivot index of this array.\n",
    "\n",
    "The pivot index is the index where the sum of all the numbers **strictly** to the left of the index is equal to the sum of all the numbers **strictly** to the index's right.\n",
    "\n",
    "If the index is on the left edge of the array, then the left sum is `0` because there are no elements to the left. This also applies to the right edge of the array.\n",
    "\n",
    "Return the *leftmost pivot index*. If no such index exists, return `-1`."
   ]
  },
  {
   "cell_type": "code",
   "execution_count": 225,
   "metadata": {},
   "outputs": [],
   "source": [
    "# Beats 58.89% of submissions (2nd submission)\n",
    "class Solution:\n",
    "    def pivotIndex(self, nums: List[int]) -> int:\n",
    "        prefix = [''] * len(nums)\n",
    "        prefix[0] = nums[0]\n",
    "        \n",
    "        for i in range(1,len(nums)):\n",
    "            prefix[i] = prefix[i-1] + nums[i]\n",
    "\n",
    "        for i in range(0, len(nums)):\n",
    "            if i == 0:\n",
    "                sumL = 0\n",
    "                sumR = prefix[len(nums)-1] - nums[0]\n",
    "            elif i == len(nums)-1:\n",
    "                sumL = prefix[len(nums)-2]\n",
    "                sumR = 0\n",
    "            else:\n",
    "                sumL = prefix[i-1]\n",
    "                sumR = prefix[len(nums)-1] - prefix[i]\n",
    "\n",
    "            if sumL == sumR:\n",
    "                return i\n",
    "            \n",
    "        return -1\n"
   ]
  },
  {
   "cell_type": "code",
   "execution_count": 233,
   "metadata": {},
   "outputs": [],
   "source": [
    "# # Beats 71.96% (3nd submission)\n",
    "class Solution:\n",
    "    def pivotIndex(self, nums: List[int]) -> int:\n",
    "        prefix = [''] * len(nums)\n",
    "        prefix[0] = nums[0]\n",
    "        \n",
    "        for i in range(1,len(nums)):\n",
    "            prefix[i] = prefix[i-1] + nums[i]\n",
    "\n",
    "\n",
    "        if prefix[len(nums)-1] - nums[0] == 0: # i == 0\n",
    "            return 0\n",
    "\n",
    "        for i in range(1, len(nums)-1):\n",
    "            sumL = prefix[i-1]\n",
    "            sumR = prefix[len(nums)-1] - prefix[i]\n",
    "\n",
    "            if sumL == sumR:\n",
    "                return i\n",
    "            \n",
    "        if prefix[len(nums)-2] == 0: # i == len(nums)-1\n",
    "            return len(nums)-1\n",
    "            \n",
    "        return -1"
   ]
  },
  {
   "cell_type": "code",
   "execution_count": 231,
   "metadata": {},
   "outputs": [
    {
     "data": {
      "text/plain": [
       "3"
      ]
     },
     "execution_count": 231,
     "metadata": {},
     "output_type": "execute_result"
    }
   ],
   "source": [
    "sol = Solution()\n",
    "sol.pivotIndex([1,7,3,6,5,6])"
   ]
  },
  {
   "cell_type": "code",
   "execution_count": 230,
   "metadata": {},
   "outputs": [
    {
     "data": {
      "text/plain": [
       "-1"
      ]
     },
     "execution_count": 230,
     "metadata": {},
     "output_type": "execute_result"
    }
   ],
   "source": [
    "sol = Solution()\n",
    "sol.pivotIndex([1,2,3])"
   ]
  },
  {
   "cell_type": "code",
   "execution_count": 229,
   "metadata": {},
   "outputs": [
    {
     "data": {
      "text/plain": [
       "0"
      ]
     },
     "execution_count": 229,
     "metadata": {},
     "output_type": "execute_result"
    }
   ],
   "source": [
    "sol = Solution()\n",
    "sol.pivotIndex([2,1,-1])"
   ]
  },
  {
   "cell_type": "code",
   "execution_count": 234,
   "metadata": {},
   "outputs": [
    {
     "data": {
      "text/plain": [
       "5"
      ]
     },
     "execution_count": 234,
     "metadata": {},
     "output_type": "execute_result"
    }
   ],
   "source": [
    "sol = Solution()\n",
    "sol.pivotIndex([-1,-1,0,1,1,0])"
   ]
  },
  {
   "cell_type": "markdown",
   "metadata": {},
   "source": [
    "## (303) Range Sum Query - Immutable\n",
    "\n",
    "Given an integer array `nums`, handle multiple queries of the following type:\n",
    "\n",
    "1. Calculate the sum of the elements of `nums` between indices `left` and `right` inclusive where `left <= right`.\n",
    "\n",
    "Implement the `NumArray` class:\n",
    "\n",
    "* `NumArray(int[] nums)` Initializes the object with the integer array `nums`.\n",
    "\n",
    "* `int sumRange(int left, int right)` Returns the sum of the elements of `nums` between indices `left` and `right` inclusive (i.e. `nums[left] + nums[left + 1] + ... + nums[right]`).\n",
    "\n"
   ]
  },
  {
   "cell_type": "code",
   "execution_count": 235,
   "metadata": {},
   "outputs": [],
   "source": [
    "# Beats 5.02% of submissions\n",
    "class NumArray:\n",
    "\n",
    "    def __init__(self, nums: List[int]):\n",
    "        self.nums = nums\n",
    "\n",
    "    def sumRange(self, left: int, right: int) -> int:\n",
    "        prefix = [''] * len(self.nums)\n",
    "        prefix[0] = self.nums[0]\n",
    "\n",
    "        for i in range(1, len(self.nums)):\n",
    "            prefix[i] = prefix[i-1] + self.nums[i]\n",
    "\n",
    "        sum = prefix[right] - prefix[left] + self.nums[left]\n",
    "\n",
    "        return sum\n",
    "\n",
    "\n",
    "\n",
    "# Your NumArray object will be instantiated and called as such:\n",
    "# obj = NumArray(nums)\n",
    "# param_1 = obj.sumRange(left,right)"
   ]
  },
  {
   "cell_type": "code",
   "execution_count": 239,
   "metadata": {},
   "outputs": [
    {
     "name": "stdout",
     "output_type": "stream",
     "text": [
      "1 -1 -3\n"
     ]
    }
   ],
   "source": [
    "obj = NumArray([-2, 0, 3, -5, 2, -1])\n",
    "param_1 = obj.sumRange(0,2)\n",
    "param_2 = obj.sumRange(2,5)\n",
    "param_3 = obj.sumRange(0,5)\n",
    "print(param_1, param_2, param_3)\n"
   ]
  }
 ],
 "metadata": {
  "kernelspec": {
   "display_name": "islp",
   "language": "python",
   "name": "python3"
  },
  "language_info": {
   "codemirror_mode": {
    "name": "ipython",
    "version": 3
   },
   "file_extension": ".py",
   "mimetype": "text/x-python",
   "name": "python",
   "nbconvert_exporter": "python",
   "pygments_lexer": "ipython3",
   "version": "3.11.5"
  }
 },
 "nbformat": 4,
 "nbformat_minor": 2
}
