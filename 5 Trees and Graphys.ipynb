{
 "cells": [
  {
   "cell_type": "markdown",
   "metadata": {},
   "source": [
    "# Notes"
   ]
  },
  {
   "cell_type": "markdown",
   "metadata": {},
   "source": [
    "## Depth-First Search (DFS)\n",
    "\n",
    "Three types: preorder, inorder, postorder\n",
    "\n",
    "General structure:\n",
    "\n",
    "* Handle the base case(s). Usually, an empty tree (node = null) is a base case.\n",
    "\n",
    "* Do some logic for the current node\n",
    "\n",
    "* Recursively call on the current node's children\n",
    "\n",
    "* Return the answer\n"
   ]
  },
  {
   "cell_type": "markdown",
   "metadata": {},
   "source": [
    "# Trees and Graphs\n",
    "\n"
   ]
  },
  {
   "cell_type": "code",
   "execution_count": 2,
   "metadata": {},
   "outputs": [],
   "source": [
    "from typing import List\n",
    "from typing import Optional"
   ]
  },
  {
   "cell_type": "markdown",
   "metadata": {},
   "source": [
    "## Class Example"
   ]
  },
  {
   "cell_type": "code",
   "execution_count": 3,
   "metadata": {},
   "outputs": [],
   "source": [
    "class TreeNode:\n",
    "    def __init__(self, val, left, right):\n",
    "        self.val = val\n",
    "        self.left = left\n",
    "        self.right = right"
   ]
  },
  {
   "cell_type": "markdown",
   "metadata": {},
   "source": [
    "## Creating a tree"
   ]
  },
  {
   "cell_type": "code",
   "execution_count": 90,
   "metadata": {},
   "outputs": [],
   "source": [
    "class TreeNode:\n",
    "    def __init__(self, val=0, left=None, right=None):\n",
    "        self.val = val\n",
    "        self.left = left\n",
    "        self.right = right\n",
    "\n",
    "# This recursive version only works for an input list that takes a \"full\" tree, i.e. `None` placeholders throughout\n",
    "# curr_node is placeholder for current node, level 0-indexed, index 0-indexed\n",
    "def build_tree_alt(curr_node: TreeNode, node_list: list, level: int, index: int):\n",
    "\n",
    "    if not node_list:\n",
    "        return curr_node\n",
    "\n",
    "    pos = 2**level + index - 1\n",
    "    curr_node.val = node_list[pos]\n",
    "\n",
    "    child_level = level + 1\n",
    "    child_index_left = index*2\n",
    "    child_index_right = child_index_left + 1\n",
    "\n",
    "    pos_left = 2**child_level + child_index_left - 1\n",
    "    pos_right = 2**child_level + child_index_right - 1\n",
    "\n",
    "    if len(node_list) > pos_left and node_list[pos_left] is not None:\n",
    "        next_node_left = TreeNode()\n",
    "        curr_node.left = build_tree_alt(next_node_left, node_list, child_level, child_index_left)\n",
    "    else:\n",
    "        curr_node.left = None\n",
    "\n",
    "    if len(node_list) > pos_right and node_list[pos_right] is not None:\n",
    "        next_node_right = TreeNode()\n",
    "        curr_node.right = build_tree_alt(next_node_right, node_list, child_level, child_index_right)\n",
    "    else:\n",
    "        curr_node.right = None\n",
    "\n",
    "    return curr_node\n",
    "\n",
    "\n",
    "from collections import deque\n",
    "\n",
    "def print_tree_alt(root):\n",
    "    if not root:\n",
    "        return\n",
    "\n",
    "    queue = [root]\n",
    "    while queue:\n",
    "        level_size = len(queue)\n",
    "        current_level = []\n",
    "\n",
    "        for _ in range(level_size):\n",
    "            node = queue.pop(0)\n",
    "            if node:\n",
    "                current_level.append(node.val)\n",
    "                queue.append(node.left)\n",
    "                queue.append(node.right)\n",
    "            else:\n",
    "                current_level.append(\".\")\n",
    "\n",
    "        print(\" \".join(map(str, current_level)))\n",
    "\n"
   ]
  },
  {
   "cell_type": "code",
   "execution_count": 112,
   "metadata": {},
   "outputs": [],
   "source": [
    "from collections import deque\n",
    "\n",
    "def build_tree(values):\n",
    "    if not values:\n",
    "        return None\n",
    "\n",
    "    root = TreeNode(values[0])\n",
    "    queue = deque([root])\n",
    "    index = 1\n",
    "\n",
    "    while index < len(values):\n",
    "        node = queue.popleft()\n",
    "\n",
    "        if node:  # Only process if node is not None\n",
    "            if index < len(values) and values[index] is not None:\n",
    "                node.left = TreeNode(values[index])\n",
    "            else:\n",
    "                node.left = None\n",
    "            queue.append(node.left)\n",
    "            index += 1\n",
    "\n",
    "            if index < len(values) and values[index] is not None:\n",
    "                node.right = TreeNode(values[index])\n",
    "            else:\n",
    "                node.right = None\n",
    "            queue.append(node.right)\n",
    "            index += 1\n",
    "\n",
    "    return root\n",
    "\n",
    "def print_tree(root):\n",
    "    if not root:\n",
    "        return\n",
    "\n",
    "    queue = deque([root])\n",
    "    while queue:\n",
    "        level_size = len(queue)\n",
    "        current_level = []\n",
    "\n",
    "        for _ in range(level_size):\n",
    "            node = queue.popleft()\n",
    "            if node:\n",
    "                current_level.append(node.val)\n",
    "                queue.append(node.left)\n",
    "                queue.append(node.right)\n",
    "            else:\n",
    "                current_level.append(\"null\")\n",
    "\n",
    "        # Filter out trailing \"null\"s for a cleaner output\n",
    "        while current_level and current_level[-1] == \"null\":\n",
    "            current_level.pop()\n",
    "\n",
    "        print(\" \".join(map(str, current_level)))"
   ]
  },
  {
   "cell_type": "code",
   "execution_count": 105,
   "metadata": {},
   "outputs": [
    {
     "name": "stdout",
     "output_type": "stream",
     "text": [
      "3\n",
      "9 20\n",
      "null null 15 7\n",
      "\n"
     ]
    }
   ],
   "source": [
    "root = build_tree([3,9,20,None,None,15,7])\n",
    "print_tree(root)"
   ]
  },
  {
   "cell_type": "code",
   "execution_count": 92,
   "metadata": {},
   "outputs": [
    {
     "name": "stdout",
     "output_type": "stream",
     "text": [
      "3\n",
      "9 20\n",
      ". . 15 7\n",
      ". . . .\n"
     ]
    }
   ],
   "source": [
    "root = build_tree_alt(TreeNode(), [3,9,20,None,None,15,7], 0, 0)\n",
    "print_tree(root)"
   ]
  },
  {
   "cell_type": "markdown",
   "metadata": {},
   "source": [
    "## (104) Maximum Depth of Binary Tree [Easy]\n",
    "\n",
    "Given the `root` of a binary tree, return its maximum depth.\n",
    "\n",
    "A binary tree's maximum depth is the number of nodes along the longest path from the root node down to the farthest leaf node."
   ]
  },
  {
   "cell_type": "code",
   "execution_count": 65,
   "metadata": {},
   "outputs": [],
   "source": [
    "# Beats 56.47% of submissions\n",
    "\n",
    "# Definition for a binary tree node.\n",
    "# class TreeNode:\n",
    "#     def __init__(self, val=0, left=None, right=None):\n",
    "#         self.val = val\n",
    "#         self.left = left\n",
    "#         self.right = right\n",
    "class Solution:\n",
    "    def maxDepth(self, root: Optional[TreeNode]) -> int:\n",
    "\n",
    "        if not root:\n",
    "            return 0\n",
    "            \n",
    "        if root.left is not None:\n",
    "            depth_left = self.maxDepth(root.left)\n",
    "        else:\n",
    "            depth_left = 0\n",
    "        \n",
    "        if root.right is not None:\n",
    "            depth_right = self.maxDepth(root.right)\n",
    "        else:\n",
    "            depth_right = 0\n",
    "\n",
    "        depth = max(depth_left, depth_right)\n",
    "\n",
    "        return depth + 1\n",
    "        "
   ]
  },
  {
   "cell_type": "code",
   "execution_count": 63,
   "metadata": {},
   "outputs": [],
   "source": [
    "# Definition for a binary tree node.\n",
    "# class TreeNode:\n",
    "#     def __init__(self, val=0, left=None, right=None):\n",
    "#         self.val = val\n",
    "#         self.left = left\n",
    "#         self.right = right\n",
    "class Solution:\n",
    "    def maxDepth(self, root: Optional[TreeNode]) -> int:\n",
    "        if not root:\n",
    "            return 0\n",
    "        \n",
    "        left = self.maxDepth(root.left)\n",
    "        right = self.maxDepth(root.right)\n",
    "        return max(left, right) + 1"
   ]
  },
  {
   "cell_type": "code",
   "execution_count": 72,
   "metadata": {},
   "outputs": [
    {
     "name": "stdout",
     "output_type": "stream",
     "text": [
      "3\n",
      "9 20\n",
      ". . 15 .\n",
      ". .\n"
     ]
    }
   ],
   "source": [
    "root = build_tree(TreeNode(), [3,9,20,None,None,15,None], 0, 0)\n",
    "print_tree(root)"
   ]
  },
  {
   "cell_type": "code",
   "execution_count": 60,
   "metadata": {},
   "outputs": [
    {
     "name": "stdout",
     "output_type": "stream",
     "text": [
      "0\n",
      ". .\n"
     ]
    }
   ],
   "source": [
    "root = build_tree(TreeNode(), [], 0, 0)\n",
    "print_tree(root)"
   ]
  },
  {
   "cell_type": "code",
   "execution_count": 66,
   "metadata": {},
   "outputs": [
    {
     "data": {
      "text/plain": [
       "1"
      ]
     },
     "execution_count": 66,
     "metadata": {},
     "output_type": "execute_result"
    }
   ],
   "source": [
    "sol = Solution()\n",
    "sol.maxDepth(root)"
   ]
  },
  {
   "cell_type": "code",
   "execution_count": 50,
   "metadata": {},
   "outputs": [],
   "source": [
    "# Definition for a binary tree node.\n",
    "# class TreeNode:\n",
    "#     def __init__(self, val=0, left=None, right=None):\n",
    "#         self.val = val\n",
    "#         self.left = left\n",
    "#         self.right = right\n",
    "class Solution:\n",
    "    def maxDepth(self, root: Optional[TreeNode]) -> int:\n",
    "        if not root:\n",
    "            return 0\n",
    "        \n",
    "        stack = [(root, 1)]\n",
    "        ans = 0\n",
    "        \n",
    "        while stack:\n",
    "            node, depth = stack.pop()\n",
    "            ans = max(ans, depth)\n",
    "            if node.left:\n",
    "                stack.append((node.left, depth + 1))\n",
    "            if node.right:\n",
    "                stack.append((node.right, depth + 1))\n",
    "        \n",
    "        return ans"
   ]
  },
  {
   "cell_type": "code",
   "execution_count": 51,
   "metadata": {},
   "outputs": [
    {
     "data": {
      "text/plain": [
       "3"
      ]
     },
     "execution_count": 51,
     "metadata": {},
     "output_type": "execute_result"
    }
   ],
   "source": [
    "sol = Solution()\n",
    "sol.maxDepth(root)"
   ]
  },
  {
   "cell_type": "markdown",
   "metadata": {},
   "source": [
    "## (112) Path Sum [Easy]\n",
    "\n",
    "Given the `root` of a binary tree and an integer `targetSum`, return `true` if the tree has a root-to-leaf path such that adding up all the values along the path equals `targetSum`.\n",
    "\n",
    "A **leaf** is a node with no children."
   ]
  },
  {
   "cell_type": "code",
   "execution_count": 183,
   "metadata": {},
   "outputs": [],
   "source": [
    "# Beats 6.61% of submissions\n",
    "\n",
    "# Definition for a binary tree node.\n",
    "# class TreeNode:\n",
    "#     def __init__(self, val=0, left=None, right=None):\n",
    "#         self.val = val\n",
    "#         self.left = left\n",
    "#         self.right = right\n",
    "class Solution:\n",
    "    def hasPathSum(self, root: Optional[TreeNode], targetSum: int) -> bool:\n",
    "\n",
    "        if not root:\n",
    "            return False\n",
    "\n",
    "        def dfs(node, curr):\n",
    "            if not node:\n",
    "                return False\n",
    "                \n",
    "            curr += node.val\n",
    "\n",
    "            if node.left == None and node.right == None and curr == targetSum: # If at a leaf node and curr = targetSum\n",
    "                return True\n",
    "            else:\n",
    "                return dfs(node.left, curr) or dfs(node.right, curr)\n",
    "\n",
    "        curr = 0\n",
    "        return dfs(root, curr)\n"
   ]
  },
  {
   "cell_type": "code",
   "execution_count": 196,
   "metadata": {},
   "outputs": [],
   "source": [
    "# Beats 13.06% of submissions\n",
    "\n",
    "from collections import deque\n",
    "\n",
    "# Definition for a binary tree node.\n",
    "# class TreeNode:\n",
    "#     def __init__(self, val=0, left=None, right=None):\n",
    "#         self.val = val\n",
    "#         self.left = left\n",
    "#         self.right = right\n",
    "class Solution:\n",
    "    def hasPathSum(self, root: Optional[TreeNode], targetSum: int) -> bool:\n",
    "\n",
    "        if not root:\n",
    "            return False\n",
    "\n",
    "        stack = deque([(root, 0)])\n",
    "        \n",
    "        while stack:\n",
    "            node, curr = stack.pop()\n",
    "\n",
    "            curr += node.val\n",
    "\n",
    "            if node.left:\n",
    "                stack.append((node.left, curr))\n",
    "            if node.right:\n",
    "                stack.append((node.right, curr))\n",
    "            if node.left == None and node.right == None and curr == targetSum:\n",
    "                return True\n",
    "\n",
    "        return False"
   ]
  },
  {
   "cell_type": "code",
   "execution_count": 199,
   "metadata": {},
   "outputs": [
    {
     "name": "stdout",
     "output_type": "stream",
     "text": [
      "5\n",
      "4 8\n",
      "11 null 13 4\n",
      "7 2 null null null 1\n",
      "\n"
     ]
    },
    {
     "data": {
      "text/plain": [
       "True"
      ]
     },
     "execution_count": 199,
     "metadata": {},
     "output_type": "execute_result"
    }
   ],
   "source": [
    "root = build_tree([5, 4,8, 11, None, 13, 4, 7, 2, None, None, None, 1])\n",
    "print_tree(root)\n",
    "sol = Solution()\n",
    "sol.hasPathSum(root, 22)"
   ]
  },
  {
   "cell_type": "code",
   "execution_count": 198,
   "metadata": {},
   "outputs": [
    {
     "name": "stdout",
     "output_type": "stream",
     "text": [
      "1\n",
      "2 3\n",
      "\n"
     ]
    },
    {
     "data": {
      "text/plain": [
       "True"
      ]
     },
     "execution_count": 198,
     "metadata": {},
     "output_type": "execute_result"
    }
   ],
   "source": [
    "root = build_tree([1, 2, 3])\n",
    "print_tree(root)\n",
    "sol = Solution()\n",
    "sol.hasPathSum(root, 4)"
   ]
  }
 ],
 "metadata": {
  "language_info": {
   "name": "python"
  }
 },
 "nbformat": 4,
 "nbformat_minor": 2
}
