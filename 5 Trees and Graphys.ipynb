{
 "cells": [
  {
   "cell_type": "markdown",
   "metadata": {},
   "source": [
    "# Notes"
   ]
  },
  {
   "cell_type": "markdown",
   "metadata": {},
   "source": [
    "## Depth-First Search (DFS)\n",
    "\n",
    "Three types: preorder, inorder, postorder\n",
    "\n",
    "General structure:\n",
    "\n",
    "* Handle the base case(s). Usually, an empty tree (node = null) is a base case.\n",
    "\n",
    "* Do some logic for the current node\n",
    "\n",
    "* Recursively call on the current node's children\n",
    "\n",
    "* Return the answer\n"
   ]
  },
  {
   "cell_type": "markdown",
   "metadata": {},
   "source": [
    "# Trees and Graphs\n",
    "\n"
   ]
  },
  {
   "cell_type": "code",
   "execution_count": 2,
   "metadata": {},
   "outputs": [],
   "source": [
    "from typing import List\n",
    "from typing import Optional"
   ]
  },
  {
   "cell_type": "markdown",
   "metadata": {},
   "source": [
    "## Class Example"
   ]
  },
  {
   "cell_type": "code",
   "execution_count": 3,
   "metadata": {},
   "outputs": [],
   "source": [
    "class TreeNode:\n",
    "    def __init__(self, val, left, right):\n",
    "        self.val = val\n",
    "        self.left = left\n",
    "        self.right = right"
   ]
  },
  {
   "cell_type": "markdown",
   "metadata": {},
   "source": [
    "## Creating a tree"
   ]
  },
  {
   "cell_type": "code",
   "execution_count": 6,
   "metadata": {},
   "outputs": [],
   "source": [
    "class TreeNode:\n",
    "    def __init__(self, val=0, left=None, right=None):\n",
    "        self.val = val\n",
    "        self.left = left\n",
    "        self.right = right\n"
   ]
  },
  {
   "cell_type": "code",
   "execution_count": 33,
   "metadata": {},
   "outputs": [],
   "source": [
    "# curr_node is placeholder for current node, level 0-indexed, index 0-indexed\n",
    "def growTree(curr_node: TreeNode, node_list: list, level: int, index: int):\n",
    "\n",
    "    pos = 2**level + index - 1\n",
    "    curr_node.val = node_list[pos]\n",
    "\n",
    "    child_level = level + 1\n",
    "    child_index_left = index*2\n",
    "    child_index_right = child_index_left + 1\n",
    "\n",
    "    pos_left = 2**child_level + child_index_left - 1\n",
    "    pos_right = 2**child_level + child_index_right - 1\n",
    "\n",
    "    if len(node_list) > pos_left and node_list[pos_left] is not None:\n",
    "        next_node_left = TreeNode()\n",
    "        curr_node.left = growTree(next_node_left, node_list, child_level, child_index_left)\n",
    "    else:\n",
    "        curr_node.left = None\n",
    "\n",
    "    if len(node_list) > pos_right and node_list[pos_right] is not None:\n",
    "        next_node_right = TreeNode()\n",
    "        curr_node.right = growTree(next_node_right, node_list, child_level, child_index_right)\n",
    "    else:\n",
    "        curr_node.right = None\n",
    "\n",
    "    return curr_node\n",
    "\n",
    "\n",
    "from collections import deque\n",
    "\n",
    "def print_tree(root):\n",
    "    if not root:\n",
    "        return\n",
    "\n",
    "    queue = [root]\n",
    "    while queue:\n",
    "        level_size = len(queue)\n",
    "        current_level = []\n",
    "\n",
    "        for _ in range(level_size):\n",
    "            node = queue.pop(0)\n",
    "            if node:\n",
    "                current_level.append(node.val)\n",
    "                queue.append(node.left)\n",
    "                queue.append(node.right)\n",
    "            else:\n",
    "                current_level.append(\".\")\n",
    "\n",
    "        print(\" \".join(map(str, current_level)))\n",
    "\n",
    "\n",
    "def print_tree2(root: TreeNode):\n",
    "    if not root:\n",
    "        return\n",
    "    \n",
    "    # Use a queue to perform level-order traversal\n",
    "    queue = deque([(root, 0)])  # (node, level)\n",
    "    current_level = 0\n",
    "    level_nodes = []\n",
    "    \n",
    "    while queue:\n",
    "        node, level = queue.popleft()\n",
    "        \n",
    "        if level > current_level:\n",
    "            # Print nodes of the previous level\n",
    "            print(\"Level\", current_level, \":\", \" \".join(map(str, level_nodes)))\n",
    "            level_nodes = []\n",
    "            current_level = level\n",
    "        \n",
    "        # Collect nodes for the current level\n",
    "        if node:\n",
    "            level_nodes.append(node.val)\n",
    "            queue.append((node.left, level + 1))\n",
    "            queue.append((node.right, level + 1))\n",
    "        else:\n",
    "            level_nodes.append(\".\")\n",
    "    \n",
    "    # Print the last level\n",
    "    if level_nodes:\n",
    "        print(\"Level\", current_level, \":\", \" \".join(map(str, level_nodes)))"
   ]
  },
  {
   "cell_type": "code",
   "execution_count": 34,
   "metadata": {},
   "outputs": [],
   "source": [
    "root = growTree(TreeNode(), [3,9,20,None,None,15,None], 0, 0)"
   ]
  },
  {
   "cell_type": "code",
   "execution_count": 35,
   "metadata": {},
   "outputs": [
    {
     "name": "stdout",
     "output_type": "stream",
     "text": [
      "3\n",
      "9 20\n",
      ". . 15 .\n",
      ". .\n"
     ]
    }
   ],
   "source": [
    "print_tree(root)"
   ]
  },
  {
   "cell_type": "markdown",
   "metadata": {},
   "source": [
    "## (104) Maximum Depth of Binary Tree\n",
    "\n",
    "Given the `root` of a binary tree, return its maximum depth.\n",
    "\n",
    "A binary tree's maximum depth is the number of nodes along the longest path from the root node down to the farthest leaf node."
   ]
  },
  {
   "cell_type": "code",
   "execution_count": null,
   "metadata": {},
   "outputs": [],
   "source": [
    "# Definition for a binary tree node.\n",
    "# class TreeNode:\n",
    "#     def __init__(self, val=0, left=None, right=None):\n",
    "#         self.val = val\n",
    "#         self.left = left\n",
    "#         self.right = right\n",
    "class Solution:\n",
    "    def maxDepth(self, root: Optional[TreeNode]) -> int:\n",
    "        "
   ]
  }
 ],
 "metadata": {
  "language_info": {
   "name": "python"
  }
 },
 "nbformat": 4,
 "nbformat_minor": 2
}
