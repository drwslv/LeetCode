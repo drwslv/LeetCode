{
 "cells": [
  {
   "cell_type": "markdown",
   "metadata": {},
   "source": [
    "# Notes"
   ]
  },
  {
   "cell_type": "markdown",
   "metadata": {},
   "source": [
    "## Depth-First Search (DFS)\n",
    "\n",
    "Three types: preorder, inorder, postorder\n",
    "\n",
    "General structure:\n",
    "\n",
    "* Handle the base case(s). Usually, an empty tree (node = null) is a base case.\n",
    "\n",
    "* Do some logic for the current node\n",
    "\n",
    "* Recursively call on the current node's children\n",
    "\n",
    "* Return the answer\n"
   ]
  },
  {
   "cell_type": "markdown",
   "metadata": {},
   "source": [
    "# Trees and Graphs\n",
    "\n"
   ]
  },
  {
   "cell_type": "code",
   "execution_count": 4,
   "metadata": {},
   "outputs": [],
   "source": [
    "from typing import List\n",
    "from typing import Optional"
   ]
  },
  {
   "cell_type": "markdown",
   "metadata": {},
   "source": [
    "## Class Example"
   ]
  },
  {
   "cell_type": "code",
   "execution_count": 6,
   "metadata": {},
   "outputs": [],
   "source": [
    "class TreeNode:\n",
    "    def __init__(self, val, left, right):\n",
    "        self.val = val\n",
    "        self.left = left\n",
    "        self.right = right"
   ]
  },
  {
   "cell_type": "markdown",
   "metadata": {},
   "source": [
    "## Creating a Binary Tree"
   ]
  },
  {
   "cell_type": "code",
   "execution_count": 7,
   "metadata": {},
   "outputs": [],
   "source": [
    "# This recursive version only works for an input list that takes a \"full\" tree, i.e. `None` placeholders throughout\n",
    "# curr_node is placeholder for current node, level 0-indexed, index 0-indexed\n",
    "def build_tree_alt(curr_node: TreeNode, node_list: list, level: int, index: int):\n",
    "\n",
    "    if not node_list:\n",
    "        return curr_node\n",
    "\n",
    "    pos = 2**level + index - 1\n",
    "    curr_node.val = node_list[pos]\n",
    "\n",
    "    child_level = level + 1\n",
    "    child_index_left = index*2\n",
    "    child_index_right = child_index_left + 1\n",
    "\n",
    "    pos_left = 2**child_level + child_index_left - 1\n",
    "    pos_right = 2**child_level + child_index_right - 1\n",
    "\n",
    "    if len(node_list) > pos_left and node_list[pos_left] is not None:\n",
    "        next_node_left = TreeNode()\n",
    "        curr_node.left = build_tree_alt(next_node_left, node_list, child_level, child_index_left)\n",
    "    else:\n",
    "        curr_node.left = None\n",
    "\n",
    "    if len(node_list) > pos_right and node_list[pos_right] is not None:\n",
    "        next_node_right = TreeNode()\n",
    "        curr_node.right = build_tree_alt(next_node_right, node_list, child_level, child_index_right)\n",
    "    else:\n",
    "        curr_node.right = None\n",
    "\n",
    "    return curr_node\n",
    "\n",
    "\n",
    "from collections import deque\n",
    "\n",
    "def print_tree_alt(root):\n",
    "    if not root:\n",
    "        return\n",
    "\n",
    "    queue = [root]\n",
    "    while queue:\n",
    "        level_size = len(queue)\n",
    "        current_level = []\n",
    "\n",
    "        for _ in range(level_size):\n",
    "            node = queue.pop(0)\n",
    "            if node:\n",
    "                current_level.append(node.val)\n",
    "                queue.append(node.left)\n",
    "                queue.append(node.right)\n",
    "            else:\n",
    "                current_level.append(\".\")\n",
    "\n",
    "        print(\" \".join(map(str, current_level)))\n",
    "\n"
   ]
  },
  {
   "cell_type": "code",
   "execution_count": 8,
   "metadata": {},
   "outputs": [],
   "source": [
    "from collections import deque\n",
    "\n",
    "class TreeNode:\n",
    "    def __init__(self, val=0, left=None, right=None):\n",
    "        self.val = val\n",
    "        self.left = left\n",
    "        self.right = right\n",
    "\n",
    "def build_tree(values):\n",
    "    if not values:\n",
    "        return None\n",
    "\n",
    "    root = TreeNode(values[0])\n",
    "    queue = deque([root])\n",
    "    index = 1\n",
    "\n",
    "    while index < len(values):\n",
    "        node = queue.popleft()\n",
    "\n",
    "        if node:  # Only process if node is not None\n",
    "            if index < len(values) and values[index] is not None:\n",
    "                node.left = TreeNode(values[index])\n",
    "            else:\n",
    "                node.left = None\n",
    "            queue.append(node.left)\n",
    "            index += 1\n",
    "\n",
    "            if index < len(values) and values[index] is not None:\n",
    "                node.right = TreeNode(values[index])\n",
    "            else:\n",
    "                node.right = None\n",
    "            queue.append(node.right)\n",
    "            index += 1\n",
    "\n",
    "    return root\n",
    "\n",
    "def print_tree(root):\n",
    "    if not root:\n",
    "        return\n",
    "\n",
    "    queue = deque([root])\n",
    "    while queue:\n",
    "        level_size = len(queue)\n",
    "        current_level = []\n",
    "\n",
    "        for _ in range(level_size):\n",
    "            node = queue.popleft()\n",
    "            if node:\n",
    "                current_level.append(node.val)\n",
    "                queue.append(node.left)\n",
    "                queue.append(node.right)\n",
    "            else:\n",
    "                current_level.append(\"null\")\n",
    "\n",
    "        # Filter out trailing \"null\"s for a cleaner output\n",
    "        while current_level and current_level[-1] == \"null\":\n",
    "            current_level.pop()\n",
    "\n",
    "        print(\" \".join(map(str, current_level)))"
   ]
  },
  {
   "cell_type": "code",
   "execution_count": 105,
   "metadata": {},
   "outputs": [
    {
     "name": "stdout",
     "output_type": "stream",
     "text": [
      "3\n",
      "9 20\n",
      "null null 15 7\n",
      "\n"
     ]
    }
   ],
   "source": [
    "root = build_tree([3,9,20,None,None,15,7])\n",
    "print_tree(root)"
   ]
  },
  {
   "cell_type": "code",
   "execution_count": 92,
   "metadata": {},
   "outputs": [
    {
     "name": "stdout",
     "output_type": "stream",
     "text": [
      "3\n",
      "9 20\n",
      ". . 15 7\n",
      ". . . .\n"
     ]
    }
   ],
   "source": [
    "root = build_tree_alt(TreeNode(), [3,9,20,None,None,15,7], 0, 0)\n",
    "print_tree(root)"
   ]
  },
  {
   "cell_type": "markdown",
   "metadata": {},
   "source": [
    "## Depth-First Search (DFS)"
   ]
  },
  {
   "cell_type": "markdown",
   "metadata": {},
   "source": [
    "### (104) Maximum Depth of Binary Tree [Easy]\n",
    "\n",
    "Given the `root` of a binary tree, return its maximum depth.\n",
    "\n",
    "A binary tree's maximum depth is the number of nodes along the longest path from the root node down to the farthest leaf node."
   ]
  },
  {
   "cell_type": "code",
   "execution_count": 65,
   "metadata": {},
   "outputs": [],
   "source": [
    "# Beats 56.47% of submissions\n",
    "\n",
    "# Definition for a binary tree node.\n",
    "# class TreeNode:\n",
    "#     def __init__(self, val=0, left=None, right=None):\n",
    "#         self.val = val\n",
    "#         self.left = left\n",
    "#         self.right = right\n",
    "class Solution:\n",
    "    def maxDepth(self, root: Optional[TreeNode]) -> int:\n",
    "\n",
    "        if not root:\n",
    "            return 0\n",
    "            \n",
    "        if root.left is not None:\n",
    "            depth_left = self.maxDepth(root.left)\n",
    "        else:\n",
    "            depth_left = 0\n",
    "        \n",
    "        if root.right is not None:\n",
    "            depth_right = self.maxDepth(root.right)\n",
    "        else:\n",
    "            depth_right = 0\n",
    "\n",
    "        depth = max(depth_left, depth_right)\n",
    "\n",
    "        return depth + 1\n",
    "        "
   ]
  },
  {
   "cell_type": "code",
   "execution_count": 63,
   "metadata": {},
   "outputs": [],
   "source": [
    "# Definition for a binary tree node.\n",
    "# class TreeNode:\n",
    "#     def __init__(self, val=0, left=None, right=None):\n",
    "#         self.val = val\n",
    "#         self.left = left\n",
    "#         self.right = right\n",
    "class Solution:\n",
    "    def maxDepth(self, root: Optional[TreeNode]) -> int:\n",
    "        if not root:\n",
    "            return 0\n",
    "        \n",
    "        left = self.maxDepth(root.left)\n",
    "        right = self.maxDepth(root.right)\n",
    "        return max(left, right) + 1"
   ]
  },
  {
   "cell_type": "code",
   "execution_count": 72,
   "metadata": {},
   "outputs": [
    {
     "name": "stdout",
     "output_type": "stream",
     "text": [
      "3\n",
      "9 20\n",
      ". . 15 .\n",
      ". .\n"
     ]
    }
   ],
   "source": [
    "root = build_tree(TreeNode(), [3,9,20,None,None,15,None], 0, 0)\n",
    "print_tree(root)"
   ]
  },
  {
   "cell_type": "code",
   "execution_count": 60,
   "metadata": {},
   "outputs": [
    {
     "name": "stdout",
     "output_type": "stream",
     "text": [
      "0\n",
      ". .\n"
     ]
    }
   ],
   "source": [
    "root = build_tree(TreeNode(), [], 0, 0)\n",
    "print_tree(root)"
   ]
  },
  {
   "cell_type": "code",
   "execution_count": 66,
   "metadata": {},
   "outputs": [
    {
     "data": {
      "text/plain": [
       "1"
      ]
     },
     "execution_count": 66,
     "metadata": {},
     "output_type": "execute_result"
    }
   ],
   "source": [
    "sol = Solution()\n",
    "sol.maxDepth(root)"
   ]
  },
  {
   "cell_type": "code",
   "execution_count": 50,
   "metadata": {},
   "outputs": [],
   "source": [
    "# Definition for a binary tree node.\n",
    "# class TreeNode:\n",
    "#     def __init__(self, val=0, left=None, right=None):\n",
    "#         self.val = val\n",
    "#         self.left = left\n",
    "#         self.right = right\n",
    "class Solution:\n",
    "    def maxDepth(self, root: Optional[TreeNode]) -> int:\n",
    "        if not root:\n",
    "            return 0\n",
    "        \n",
    "        stack = [(root, 1)]\n",
    "        ans = 0\n",
    "        \n",
    "        while stack:\n",
    "            node, depth = stack.pop()\n",
    "            ans = max(ans, depth)\n",
    "            if node.left:\n",
    "                stack.append((node.left, depth + 1))\n",
    "            if node.right:\n",
    "                stack.append((node.right, depth + 1))\n",
    "        \n",
    "        return ans"
   ]
  },
  {
   "cell_type": "code",
   "execution_count": 51,
   "metadata": {},
   "outputs": [
    {
     "data": {
      "text/plain": [
       "3"
      ]
     },
     "execution_count": 51,
     "metadata": {},
     "output_type": "execute_result"
    }
   ],
   "source": [
    "sol = Solution()\n",
    "sol.maxDepth(root)"
   ]
  },
  {
   "cell_type": "markdown",
   "metadata": {},
   "source": [
    "### (112) Path Sum [Easy]\n",
    "\n",
    "Given the `root` of a binary tree and an integer `targetSum`, return `true` if the tree has a root-to-leaf path such that adding up all the values along the path equals `targetSum`.\n",
    "\n",
    "A **leaf** is a node with no children."
   ]
  },
  {
   "cell_type": "code",
   "execution_count": 183,
   "metadata": {},
   "outputs": [],
   "source": [
    "# Recursive\n",
    "# Beats 6.61% of submissions\n",
    "\n",
    "# Definition for a binary tree node.\n",
    "# class TreeNode:\n",
    "#     def __init__(self, val=0, left=None, right=None):\n",
    "#         self.val = val\n",
    "#         self.left = left\n",
    "#         self.right = right\n",
    "class Solution:\n",
    "    def hasPathSum(self, root: Optional[TreeNode], targetSum: int) -> bool:\n",
    "\n",
    "        if not root:\n",
    "            return False\n",
    "\n",
    "        def dfs(node, curr):\n",
    "            if not node:\n",
    "                return False\n",
    "                \n",
    "            curr += node.val\n",
    "\n",
    "            if node.left == None and node.right == None and curr == targetSum: # If at a leaf node and curr = targetSum\n",
    "                return True\n",
    "            else:\n",
    "                return dfs(node.left, curr) or dfs(node.right, curr)\n",
    "\n",
    "        curr = 0\n",
    "        return dfs(root, curr)\n"
   ]
  },
  {
   "cell_type": "code",
   "execution_count": 196,
   "metadata": {},
   "outputs": [],
   "source": [
    "# Iterative\n",
    "# Beats 13.06% of submissions\n",
    "\n",
    "from collections import deque\n",
    "\n",
    "class Solution:\n",
    "    def hasPathSum(self, root: Optional[TreeNode], targetSum: int) -> bool:\n",
    "\n",
    "        if not root:\n",
    "            return False\n",
    "\n",
    "        stack = deque([(root, 0)])\n",
    "        \n",
    "        while stack:\n",
    "            node, curr = stack.pop()\n",
    "\n",
    "            curr += node.val\n",
    "\n",
    "            if node.left:\n",
    "                stack.append((node.left, curr))\n",
    "            if node.right:\n",
    "                stack.append((node.right, curr))\n",
    "            if node.left == None and node.right == None and curr == targetSum:\n",
    "                return True\n",
    "\n",
    "        return False"
   ]
  },
  {
   "cell_type": "code",
   "execution_count": 199,
   "metadata": {},
   "outputs": [
    {
     "name": "stdout",
     "output_type": "stream",
     "text": [
      "5\n",
      "4 8\n",
      "11 null 13 4\n",
      "7 2 null null null 1\n",
      "\n"
     ]
    },
    {
     "data": {
      "text/plain": [
       "True"
      ]
     },
     "execution_count": 199,
     "metadata": {},
     "output_type": "execute_result"
    }
   ],
   "source": [
    "root = build_tree([5, 4,8, 11, None, 13, 4, 7, 2, None, None, None, 1])\n",
    "print_tree(root)\n",
    "sol = Solution()\n",
    "sol.hasPathSum(root, 22)"
   ]
  },
  {
   "cell_type": "code",
   "execution_count": 198,
   "metadata": {},
   "outputs": [
    {
     "name": "stdout",
     "output_type": "stream",
     "text": [
      "1\n",
      "2 3\n",
      "\n"
     ]
    },
    {
     "data": {
      "text/plain": [
       "True"
      ]
     },
     "execution_count": 198,
     "metadata": {},
     "output_type": "execute_result"
    }
   ],
   "source": [
    "root = build_tree([1, 2, 3])\n",
    "print_tree(root)\n",
    "sol = Solution()\n",
    "sol.hasPathSum(root, 4)"
   ]
  },
  {
   "cell_type": "markdown",
   "metadata": {},
   "source": [
    "### (1448) Count Good Nodes in Binary Tree [Medium]\n",
    "\n",
    "Given a binary tree `root`, a node *X* in the tree is named **good** if in the path from `root` to *X* there are no nodes with a value greater than *X*.\n",
    "\n",
    "Return the number of **good** nodes in the binary tree."
   ]
  },
  {
   "cell_type": "code",
   "execution_count": 12,
   "metadata": {},
   "outputs": [],
   "source": [
    "# Recursive - Beats 65.42% of submissions\n",
    "\n",
    "# Definition for a binary tree node.\n",
    "# class TreeNode:\n",
    "#     def __init__(self, val=0, left=None, right=None):\n",
    "#         self.val = val\n",
    "#         self.left = left\n",
    "#         self.right = right\n",
    "class Solution:\n",
    "    def goodNodes(self, root: TreeNode) -> int:\n",
    "        \n",
    "        def dfs(node, maxSoFar):\n",
    "            if not root:\n",
    "                return 0\n",
    "\n",
    "            good_count = 0\n",
    "            if node.val >= maxSoFar:\n",
    "                good_count += 1\n",
    "                maxSoFar = node.val\n",
    "                \n",
    "            if node.left:\n",
    "                good_count += dfs(node.left, maxSoFar)\n",
    "            if node.right:\n",
    "                good_count += dfs(node.right, maxSoFar)\n",
    "\n",
    "            return good_count\n",
    "\n",
    "        return dfs(root, float(\"-inf\"))"
   ]
  },
  {
   "cell_type": "code",
   "execution_count": null,
   "metadata": {},
   "outputs": [],
   "source": [
    "# Leetcode solution (more elegant)\n",
    "\n",
    "class Solution:\n",
    "    def goodNodes(self, root: TreeNode) -> int:\n",
    "        def dfs(node, max_so_far):\n",
    "            if not node:\n",
    "                return 0\n",
    "            \n",
    "            left = dfs(node.left, max(max_so_far, node.val))\n",
    "            right = dfs(node.right, max(max_so_far, node.val))\n",
    "            ans = left + right\n",
    "            if node.val >= max_so_far:\n",
    "                ans += 1\n",
    "\n",
    "            return ans\n",
    "\n",
    "        return dfs(root, float(\"-inf\"))"
   ]
  },
  {
   "cell_type": "code",
   "execution_count": 15,
   "metadata": {},
   "outputs": [],
   "source": [
    "# Iterative - Beats 95.49% of submissions\n",
    "\n",
    "from collections import deque\n",
    "\n",
    "class Solution:\n",
    "    def goodNodes(self, root: TreeNode) -> int:\n",
    "        \n",
    "        if not root:\n",
    "            return 0\n",
    "        \n",
    "        good_count = 0\n",
    "        stack = deque([(root, float(\"-inf\"))])\n",
    "\n",
    "        while stack:\n",
    "\n",
    "            node, maxSoFar = stack.pop()\n",
    "            \n",
    "            if node.val >= maxSoFar:\n",
    "                good_count += 1\n",
    "                maxSoFar = node.val\n",
    "\n",
    "            if node.left:\n",
    "                stack.append((node.left, maxSoFar))\n",
    "            if node.right:\n",
    "                stack.append((node.right, maxSoFar))\n",
    "\n",
    "        return good_count\n",
    "\n"
   ]
  },
  {
   "cell_type": "code",
   "execution_count": 16,
   "metadata": {},
   "outputs": [
    {
     "name": "stdout",
     "output_type": "stream",
     "text": [
      "3\n",
      "1 4\n",
      "3 null 1 5\n",
      "\n"
     ]
    },
    {
     "data": {
      "text/plain": [
       "4"
      ]
     },
     "execution_count": 16,
     "metadata": {},
     "output_type": "execute_result"
    }
   ],
   "source": [
    "root = build_tree([3,1,4,3,None,1,5])\n",
    "print_tree(root)\n",
    "sol = Solution()\n",
    "sol.goodNodes(root)"
   ]
  },
  {
   "cell_type": "code",
   "execution_count": 17,
   "metadata": {},
   "outputs": [
    {
     "name": "stdout",
     "output_type": "stream",
     "text": [
      "3\n",
      "3\n",
      "4 2\n",
      "\n"
     ]
    },
    {
     "data": {
      "text/plain": [
       "3"
      ]
     },
     "execution_count": 17,
     "metadata": {},
     "output_type": "execute_result"
    }
   ],
   "source": [
    "root = build_tree([3,3,None,4,2])\n",
    "print_tree(root)\n",
    "sol = Solution()\n",
    "sol.goodNodes(root)"
   ]
  },
  {
   "cell_type": "markdown",
   "metadata": {},
   "source": [
    "### (100) Same Tree [Easy]\n",
    "\n",
    "Given the roots of two binary trees `p` and `q`, write a function to check if they are the same or not.\n",
    "\n",
    "Two binary trees are considered the same if they are structurally identical, and the nodes have the same value."
   ]
  },
  {
   "cell_type": "code",
   "execution_count": 23,
   "metadata": {},
   "outputs": [],
   "source": [
    "# Beats 94.00% of submissions\n",
    "\n",
    "# Recursive\n",
    "\n",
    "# Definition for a binary tree node.\n",
    "# class TreeNode:\n",
    "#     def __init__(self, val=0, left=None, right=None):\n",
    "#         self.val = val\n",
    "#         self.left = left\n",
    "#         self.right = right\n",
    "class Solution:\n",
    "    def isSameTree(self, p: Optional[TreeNode], q: Optional[TreeNode]) -> bool:\n",
    "        \n",
    "        if not p and not q:\n",
    "            return True\n",
    "        if p and not q:\n",
    "            return False\n",
    "        if not p and q:\n",
    "            return False\n",
    "\n",
    "\n",
    "        if p.val == q.val and self.isSameTree(p.left, q.left) and self.isSameTree(p.right, q.right):\n",
    "            return True\n",
    "        else:\n",
    "            return False\n"
   ]
  },
  {
   "cell_type": "code",
   "execution_count": 58,
   "metadata": {},
   "outputs": [],
   "source": [
    "# Iterative\n",
    "\n",
    "from collections import deque\n",
    "\n",
    "class Solution:\n",
    "    def isSameTree(self, p: Optional[TreeNode], q: Optional[TreeNode]) -> bool:\n",
    "\n",
    "        queue = deque([(p,q)])\n",
    "\n",
    "        while queue:\n",
    "            p, q = queue.pop()\n",
    "\n",
    "            if not p and not q:\n",
    "                continue\n",
    "\n",
    "            if p and not q:\n",
    "                return False\n",
    "            \n",
    "            if not p and q:\n",
    "                return False\n",
    "            \n",
    "            if p.val != q.val:\n",
    "                return False\n",
    "            \n",
    "            queue.append((p.left,q.left))\n",
    "            queue.append((p.right,q.right))\n",
    "\n",
    "        return True\n",
    "        \n"
   ]
  },
  {
   "cell_type": "code",
   "execution_count": 60,
   "metadata": {},
   "outputs": [
    {
     "data": {
      "text/plain": [
       "True"
      ]
     },
     "execution_count": 60,
     "metadata": {},
     "output_type": "execute_result"
    }
   ],
   "source": [
    "p = build_tree([1,2,3,4])\n",
    "# print_tree(p)\n",
    "q = build_tree([1,2,3,4])\n",
    "# print_tree(q)\n",
    "\n",
    "sol = Solution()\n",
    "sol.isSameTree(p,q)"
   ]
  },
  {
   "cell_type": "code",
   "execution_count": 29,
   "metadata": {},
   "outputs": [
    {
     "data": {
      "text/plain": [
       "False"
      ]
     },
     "execution_count": 29,
     "metadata": {},
     "output_type": "execute_result"
    }
   ],
   "source": [
    "p = build_tree([1,2,1])\n",
    "# print_tree(p)\n",
    "q = build_tree([1,1,2])\n",
    "# print_tree(q)\n",
    "\n",
    "sol = Solution()\n",
    "sol.isSameTree(p,q)"
   ]
  },
  {
   "cell_type": "markdown",
   "metadata": {},
   "source": [
    "### (236) *Lowest Common Ancestor of a Binary Tree [Medium]\n",
    "\n",
    "Given a binary tree, find the lowest common ancestor (LCA) of two given nodes in the tree.\n",
    "\n",
    "According to the definition of LCA on Wikipedia: “The lowest common ancestor is defined between two nodes `p` and `q` as the lowest node in `T` that has both `p` and `q` as descendants (where we allow a node to be a descendant of itself).”"
   ]
  },
  {
   "cell_type": "code",
   "execution_count": 61,
   "metadata": {},
   "outputs": [],
   "source": [
    "# Definition for a binary tree node.\n",
    "# class TreeNode:\n",
    "#     def __init__(self, x):\n",
    "#         self.val = x\n",
    "#         self.left = None\n",
    "#         self.right = None\n",
    "\n",
    "class Solution:\n",
    "    def lowestCommonAncestor(self, root: 'TreeNode', p: 'TreeNode', q: 'TreeNode') -> 'TreeNode':\n",
    "        \n",
    "        if not root:\n",
    "            return None\n",
    "        \n",
    "        # First case: root is either p or q, so must be LCA (p or q can't be below)\n",
    "        if root == p:\n",
    "            return p\n",
    "        \n",
    "        if root == q:\n",
    "            return q\n",
    "        \n",
    "        # Second case: p is in one branch, q is in other, LCA must be root\n",
    "        left = self.lowestCommonAncestor(root.left, p, q)\n",
    "        right = self.lowestCommonAncestor(root.right, p, q)\n",
    "\n",
    "        if left and right:\n",
    "            return root\n",
    "        \n",
    "        # Third case:\n",
    "        # If left is something but right is None, ignore right, return left (pass it up the chain, recursively)\n",
    "        if left:\n",
    "            return left\n",
    "        \n",
    "        # If right is something but left is None, ignore left, return right (pass it up the chain, recursively)\n",
    "        return right\n"
   ]
  },
  {
   "cell_type": "code",
   "execution_count": 65,
   "metadata": {},
   "outputs": [
    {
     "data": {
      "text/plain": [
       "2"
      ]
     },
     "execution_count": 65,
     "metadata": {},
     "output_type": "execute_result"
    }
   ],
   "source": [
    "root = build_tree([1,2,3,4])\n",
    "p = root.left # 2\n",
    "q = root.left.left # 3\n",
    "sol = Solution()\n",
    "solnode = sol.lowestCommonAncestor(root, p, q)\n",
    "solnode.val"
   ]
  },
  {
   "cell_type": "markdown",
   "metadata": {},
   "source": [
    "### (111) Minimum Depth of Binary Tree [Easy]\n",
    "\n",
    "Given a binary tree, find its minimum depth.\n",
    "\n",
    "The minimum depth is the number of nodes along the shortest path from the root node down to the nearest leaf node.\n",
    "\n",
    "Note: A leaf is a node with no children."
   ]
  },
  {
   "cell_type": "code",
   "execution_count": 122,
   "metadata": {},
   "outputs": [],
   "source": [
    "# Beats 5.07% of submissions\n",
    "\n",
    "# Definition for a binary tree node.\n",
    "# class TreeNode:\n",
    "#     def __init__(self, val=0, left=None, right=None):\n",
    "#         self.val = val\n",
    "#         self.left = left\n",
    "#         self.right = right\n",
    "class Solution:\n",
    "    def minDepth(self, root: Optional[TreeNode]) -> int:\n",
    "        \n",
    "        if not root:\n",
    "            return 0 # not None\n",
    "        \n",
    "        def minDFS(root, min_depth_count):\n",
    "            if not root:\n",
    "                return None\n",
    "            \n",
    "            left_count = minDFS(root.left, min_depth_count)\n",
    "            right_count = minDFS(root.right, min_depth_count)\n",
    "\n",
    "            if left_count == None and right_count == None:\n",
    "                min_depth_count += 1\n",
    "\n",
    "            if left_count != None and right_count == None:\n",
    "                min_depth_count += left_count + 1\n",
    "\n",
    "            if right_count != None and left_count == None:\n",
    "                min_depth_count += right_count + 1\n",
    "\n",
    "            if left_count != None and right_count != None:\n",
    "                min_depth_count += min(left_count, right_count) + 1\n",
    "        \n",
    "            return min_depth_count\n",
    "        \n",
    "        return minDFS(root, 0)"
   ]
  },
  {
   "cell_type": "code",
   "execution_count": 126,
   "metadata": {},
   "outputs": [],
   "source": [
    "# root = build_tree([3,9,20,None,None,15,7])\n",
    "# print_tree(root)\n",
    "\n",
    "root = build_tree([2,None,3,None,4,None,5,None,6])\n",
    "print_tree(root)\n",
    "\n",
    "sol = Solution()\n",
    "sol.minDepth(root)"
   ]
  },
  {
   "cell_type": "markdown",
   "metadata": {},
   "source": [
    "### (1026) Maximum Difference Between Node and Ancestor [Medium]\n",
    "\n",
    "Given the root of a binary tree, find the maximum value `v` for which there exist different nodes `a` and `b` where `v = |a.val - b.val|` and `a` is an ancestor of `b`.\n",
    "\n",
    "A node `a` is an ancestor of `b` if either: any child of `a` is equal to `b` or any child of `a` is an ancestor of `b`. (?)"
   ]
  },
  {
   "cell_type": "code",
   "execution_count": 143,
   "metadata": {},
   "outputs": [],
   "source": [
    "# Beats 5.40% of submissions\n",
    "\n",
    "# Definition for a binary tree node.\n",
    "# class TreeNode:\n",
    "#     def __init__(self, val=0, left=None, right=None):\n",
    "#         self.val = val\n",
    "#         self.left = left\n",
    "#         self.right = right\n",
    "class Solution:\n",
    "    def maxAncestorDiff(self, root: Optional[TreeNode]) -> int:\n",
    "        \n",
    "        def maxDiff(node, chain):\n",
    "\n",
    "            if not node:\n",
    "                return None\n",
    "            \n",
    "            chain.append(node.val)\n",
    "\n",
    "            diff_left = maxDiff(node.left, chain)\n",
    "            diff_right = maxDiff(node.right, chain)\n",
    "\n",
    "            diff = max(chain) - min(chain)\n",
    "            chain.pop()\n",
    "\n",
    "            if diff_left == None and diff_right == None: # terminal node\n",
    "                return diff\n",
    "            \n",
    "            if diff_left == None and diff_right != None:\n",
    "                return diff_right\n",
    "\n",
    "            if diff_left != None and diff_right == None:\n",
    "                return diff_left\n",
    "\n",
    "            if diff_left != None and diff_right != None:\n",
    "                return max(diff_left, diff_right)\n",
    "            \n",
    "        return maxDiff(root, [])\n",
    "\n"
   ]
  },
  {
   "cell_type": "code",
   "execution_count": 148,
   "metadata": {},
   "outputs": [],
   "source": [
    "\n",
    "# Leetcode solution\n",
    "\n",
    "class Solution:\n",
    "    def maxAncestorDiff(self, root: Optional[TreeNode]) -> int:\n",
    "\n",
    "        if not root:\n",
    "            return 0\n",
    "        \n",
    "        def maxDiff(node, cur_max, cur_min):\n",
    "\n",
    "            if not node:\n",
    "                return cur_max - cur_min\n",
    "            \n",
    "            cur_max = max(cur_max, node.val)\n",
    "            cur_min = min(cur_min, node.val)\n",
    "            left = maxDiff(node.left, cur_max, cur_min)\n",
    "            right = maxDiff(node.right, cur_max, cur_min)\n",
    "            return max(left, right)\n",
    "\n",
    "        return maxDiff(root, root.val, root.val)"
   ]
  },
  {
   "cell_type": "code",
   "execution_count": 149,
   "metadata": {},
   "outputs": [
    {
     "data": {
      "text/plain": [
       "7"
      ]
     },
     "execution_count": 149,
     "metadata": {},
     "output_type": "execute_result"
    }
   ],
   "source": [
    "root = build_tree([8,3,10,1,6,None,14,None,None,4,7,13])\n",
    "sol = Solution()\n",
    "sol.maxAncestorDiff(root)"
   ]
  },
  {
   "cell_type": "code",
   "execution_count": 150,
   "metadata": {},
   "outputs": [
    {
     "data": {
      "text/plain": [
       "0"
      ]
     },
     "execution_count": 150,
     "metadata": {},
     "output_type": "execute_result"
    }
   ],
   "source": [
    "root = build_tree([1])\n",
    "sol = Solution()\n",
    "sol.maxAncestorDiff(root)"
   ]
  },
  {
   "cell_type": "markdown",
   "metadata": {},
   "source": [
    "### (543) Diameter of Binary Tree [Easy]\n",
    "\n",
    "Given the `root` of a binary tree, return the length of the diameter of the tree.\n",
    "\n",
    "The **diameter** of a binary tree is the length of the longest path between any two nodes in a tree. This path may or may not pass through the `root`.\n",
    "\n",
    "The **length** of a path between two nodes is represented by the number of edges between them."
   ]
  },
  {
   "cell_type": "code",
   "execution_count": 9,
   "metadata": {},
   "outputs": [],
   "source": [
    "# Beats 96.88% of submissions\n",
    "\n",
    "# Diameter has to be the sum of two longest branches that go through a node\n",
    "\n",
    "# Definition for a binary tree node.\n",
    "# class TreeNode:\n",
    "#     def __init__(self, val=0, left=None, right=None):\n",
    "#         self.val = val\n",
    "#         self.left = left\n",
    "#         self.right = right\n",
    "class Solution:\n",
    "    def diameterOfBinaryTree(self, root: Optional[TreeNode]) -> int:\n",
    "        \n",
    "        def maxDia(node, max_diameter):\n",
    "\n",
    "            if not node:\n",
    "                return 0, 0\n",
    "                        \n",
    "            left_branch, left_diameter = maxDia(node.left, max_diameter)\n",
    "            right_branch, right_diameter = maxDia(node.right, max_diameter)\n",
    "\n",
    "            max_branch = max(left_branch, right_branch) + 1 # longest branch descending from this node\n",
    "            max_diameter = max(max_diameter, left_diameter, right_diameter, left_branch + right_branch)\n",
    "\n",
    "            return max_branch, max_diameter\n",
    "\n",
    "\n",
    "        max_branch, max_diameter = maxDia(root, 0)\n",
    "        return max_branch, max_diameter"
   ]
  },
  {
   "cell_type": "code",
   "execution_count": 10,
   "metadata": {},
   "outputs": [
    {
     "data": {
      "text/plain": [
       "(3, 3)"
      ]
     },
     "execution_count": 10,
     "metadata": {},
     "output_type": "execute_result"
    }
   ],
   "source": [
    "root = build_tree([1,2,3,4,5])\n",
    "root = build_tree([4,-7,-3,None,None,-9,-3,9,-7,-4,None,6,None,-6,-6,None,None,0,6,5,None,9,None,None,-1,-4,None,None,None,-2])\n",
    "\n",
    "sol = Solution()\n",
    "sol.diameterOfBinaryTree(root)"
   ]
  },
  {
   "cell_type": "markdown",
   "metadata": {},
   "source": [
    "## Breadth-First Search (BFS)"
   ]
  },
  {
   "cell_type": "markdown",
   "metadata": {},
   "source": [
    "### (199) Binary Tree Right Side View [Medium]\n",
    "\n",
    "Given the `root` of a binary tree, imagine yourself standing on the right side of it, return the values of the nodes you can see ordered from top to bottom."
   ]
  },
  {
   "cell_type": "code",
   "execution_count": 28,
   "metadata": {},
   "outputs": [],
   "source": [
    "from collections import deque\n",
    "\n",
    "# Beats 13.63% of submissions, with removeal of intermediate variable (right_val = node.val), beats 68.28% of submissions\n",
    "\n",
    "# Definition for a binary tree node.\n",
    "# class TreeNode:\n",
    "#     def __init__(self, val=0, left=None, right=None):\n",
    "#         self.val = val\n",
    "#         self.left = left\n",
    "#         self.right = right\n",
    "class Solution:\n",
    "    def rightSideView(self, root: Optional[TreeNode]) -> List[int]:\n",
    "        \n",
    "        if not root:\n",
    "            return None\n",
    "        \n",
    "        queue = deque([root])\n",
    "        right_vals = []\n",
    "\n",
    "        while queue:\n",
    "            level_length = len(queue)\n",
    "\n",
    "            for _ in range(0,level_length):\n",
    "                node = queue.popleft()\n",
    "\n",
    "                if node.left:\n",
    "                    queue.append(node.left)\n",
    "                    \n",
    "                if node.right:\n",
    "                    queue.append(node.right)\n",
    "\n",
    "            right_vals.append(node.val)\n",
    "\n",
    "        return right_vals\n",
    "\n"
   ]
  },
  {
   "cell_type": "code",
   "execution_count": 29,
   "metadata": {},
   "outputs": [
    {
     "data": {
      "text/plain": [
       "[1, 3, 4]"
      ]
     },
     "execution_count": 29,
     "metadata": {},
     "output_type": "execute_result"
    }
   ],
   "source": [
    "root = build_tree([1,2,3,None,5,None,4])\n",
    "root = build_tree([1,None,3])\n",
    "\n",
    "sol = Solution()\n",
    "sol.rightSideView(root)"
   ]
  },
  {
   "cell_type": "markdown",
   "metadata": {},
   "source": [
    "### (515) Find Largest Value in Each Tree Row [Medium]\n",
    "\n",
    "Given the `root` of a binary tree, return an array of the largest value in each row of the tree **(0-indexed)**."
   ]
  },
  {
   "cell_type": "code",
   "execution_count": 30,
   "metadata": {},
   "outputs": [],
   "source": [
    "# Beats 80.42% of submissions\n",
    "\n",
    "from collections import deque\n",
    "\n",
    "# Definition for a binary tree node.\n",
    "# class TreeNode:\n",
    "#     def __init__(self, val=0, left=None, right=None):\n",
    "#         self.val = val\n",
    "#         self.left = left\n",
    "#         self.right = right\n",
    "class Solution:\n",
    "    def largestValues(self, root: Optional[TreeNode]) -> List[int]:\n",
    "        if not root:\n",
    "            return None\n",
    "        \n",
    "        queue = deque([root])\n",
    "        tree_max = []\n",
    "\n",
    "        while queue:\n",
    "            level_length = len(queue)\n",
    "            level_max = -float('inf')\n",
    "\n",
    "            for _ in range(0, level_length):\n",
    "                node = queue.popleft()\n",
    "                level_max = max(level_max, node.val)\n",
    "\n",
    "                if node.left:\n",
    "                    queue.append(node.left)\n",
    "\n",
    "                if node.right:\n",
    "                    queue.append(node.right)\n",
    "\n",
    "            tree_max.append(level_max)\n",
    "            \n",
    "        return tree_max"
   ]
  },
  {
   "cell_type": "code",
   "execution_count": 32,
   "metadata": {},
   "outputs": [
    {
     "data": {
      "text/plain": [
       "[1, 3]"
      ]
     },
     "execution_count": 32,
     "metadata": {},
     "output_type": "execute_result"
    }
   ],
   "source": [
    "root = build_tree([1,3,2,5,3,None,9])\n",
    "root = build_tree([1,2,3])\n",
    "\n",
    "sol = Solution()\n",
    "sol.largestValues(root)"
   ]
  },
  {
   "cell_type": "markdown",
   "metadata": {},
   "source": [
    "### (1302) Deepest Leaves Sum [Medium]\n",
    "\n",
    "Given the `root` of a binary tree, return the *sum of values* of its deepest leaves."
   ]
  },
  {
   "cell_type": "code",
   "execution_count": 34,
   "metadata": {},
   "outputs": [],
   "source": [
    "# Beats 64.60% of submissions\n",
    "\n",
    "from collections import deque\n",
    "\n",
    "# Definition for a binary tree node.\n",
    "# class TreeNode:\n",
    "#     def __init__(self, val=0, left=None, right=None):\n",
    "#         self.val = val\n",
    "#         self.left = left\n",
    "#         self.right = right\n",
    "class Solution:\n",
    "    def deepestLeavesSum(self, root: Optional[TreeNode]) -> int:\n",
    "        if not root:\n",
    "            return None\n",
    "        \n",
    "        queue = deque([root])\n",
    "\n",
    "        while queue:\n",
    "            level_length = len(queue)\n",
    "            level_sum = 0\n",
    "\n",
    "            for _ in range(0, level_length):\n",
    "                node = queue.popleft()\n",
    "                level_sum += node.val\n",
    "\n",
    "                if node.left:\n",
    "                    queue.append(node.left)\n",
    "\n",
    "                if node.right:\n",
    "                    queue.append(node.right)\n",
    "\n",
    "            prev_level_sum = level_sum\n",
    "\n",
    "        return prev_level_sum\n"
   ]
  },
  {
   "cell_type": "code",
   "execution_count": 40,
   "metadata": {},
   "outputs": [
    {
     "data": {
      "text/plain": [
       "5"
      ]
     },
     "execution_count": 40,
     "metadata": {},
     "output_type": "execute_result"
    }
   ],
   "source": [
    "root = build_tree([1,2,3,4,5,None,6,7,None,None,None,None,8])\n",
    "root = build_tree([6,7,8,2,7,1,3,9,None,1,4,None,None,None,5])\n",
    "root = build_tree([1,2,3])\n",
    "\n",
    "sol = Solution()\n",
    "sol.deepestLeavesSum(root)"
   ]
  },
  {
   "cell_type": "markdown",
   "metadata": {},
   "source": [
    "### (103) Binary Tree Zigzag Level Order Traversal [Medium]\n",
    "\n",
    "Given the `root` of a binary tree, return the* zigzag level order traversal* of its nodes' values. (i.e., from left to right, then right to left for the next level and alternate between)."
   ]
  },
  {
   "cell_type": "code",
   "execution_count": 52,
   "metadata": {},
   "outputs": [],
   "source": [
    "# Beats 37.66% of submissions\n",
    "\n",
    "from collections import deque\n",
    "\n",
    "# Definition for a binary tree node.\n",
    "# class TreeNode:\n",
    "#     def __init__(self, val=0, left=None, right=None):\n",
    "#         self.val = val\n",
    "#         self.left = left\n",
    "#         self.right = right\n",
    "class Solution:\n",
    "    def zigzagLevelOrder(self, root: Optional[TreeNode]) -> List[List[int]]:  \n",
    "        if not root:\n",
    "            return None\n",
    "        \n",
    "        queue = deque([root])\n",
    "        tree_vals = []\n",
    "        level_count = 0\n",
    "\n",
    "        while queue:\n",
    "\n",
    "            level_length = len(queue)\n",
    "            level_vals = []\n",
    "            level_count += 1\n",
    "\n",
    "            for _ in range(0, level_length):\n",
    "\n",
    "                node = queue.popleft()\n",
    "                level_vals.append(node.val)\n",
    "\n",
    "                if node.left:\n",
    "                    queue.append(node.left)\n",
    "\n",
    "                if node.right:\n",
    "                    queue.append(node.right)\n",
    "\n",
    "            if level_count%2 == 1:\n",
    "                tree_vals.append(level_vals)\n",
    "            elif level_count%2 == 0:\n",
    "                tree_vals.append(level_vals[::-1])\n",
    "\n",
    "        return tree_vals\n",
    "            \n",
    "\n"
   ]
  },
  {
   "cell_type": "code",
   "execution_count": 54,
   "metadata": {},
   "outputs": [
    {
     "data": {
      "text/plain": [
       "[[3], [20, 9], [15, 7], [4, 3, 2, 1]]"
      ]
     },
     "execution_count": 54,
     "metadata": {},
     "output_type": "execute_result"
    }
   ],
   "source": [
    "root = build_tree([3,9,20,None,None,15,7,1,2,3,4])\n",
    "\n",
    "sol = Solution()\n",
    "sol.zigzagLevelOrder(root)"
   ]
  },
  {
   "cell_type": "markdown",
   "metadata": {},
   "source": [
    "## Binary Search Trees (BST)\n",
    "\n",
    "Note: an inorder DFS traversal prioritizing left before right on a BST will handle the nodes in sorted order."
   ]
  },
  {
   "cell_type": "markdown",
   "metadata": {},
   "source": [
    "### (938) Range Sum of BST [Easy]\n",
    "\n",
    "Given the `root` node of a binary search tree and two integers `low` and `high`, return the sum of values of all nodes with a value in the inclusive range `[low, high]`."
   ]
  },
  {
   "cell_type": "code",
   "execution_count": 83,
   "metadata": {},
   "outputs": [],
   "source": [
    "# Beats 84.92% of submissions\n",
    "\n",
    "# Definition for a binary tree node.\n",
    "# class TreeNode:\n",
    "#     def __init__(self, val=0, left=None, right=None):\n",
    "#         self.val = val\n",
    "#         self.left = left\n",
    "#         self.right = right\n",
    "class Solution:\n",
    "    def rangeSumBST(self, root: Optional[TreeNode], low: int, high: int) -> int:\n",
    "        \n",
    "        def dfs(root, low, high):\n",
    "\n",
    "            if not root:\n",
    "                return 0\n",
    "            \n",
    "            sum = 0\n",
    "\n",
    "            if root.val >= low and root.val <= high:\n",
    "                sum += dfs(root.left, low, high)\n",
    "                sum += dfs(root.right, low, high)\n",
    "                sum += root.val\n",
    "\n",
    "            elif root.val < low:\n",
    "                sum += dfs(root.right, low, high)\n",
    "\n",
    "            elif root.val > high:\n",
    "                sum += dfs(root.left, low, high)\n",
    "\n",
    "            return sum\n",
    "        \n",
    "        return dfs(root, low, high)\n"
   ]
  },
  {
   "cell_type": "code",
   "execution_count": 90,
   "metadata": {},
   "outputs": [],
   "source": [
    "# Leetcode Solution\n",
    "\n",
    "class Solution:\n",
    "    def rangeSumBST(self, root: Optional[TreeNode], low: int, high: int) -> int:\n",
    "        if not root:\n",
    "            return 0\n",
    "\n",
    "        ans = 0\n",
    "        if low <= root.val <= high:\n",
    "            ans += root.val\n",
    "        if low < root.val:\n",
    "            ans += self.rangeSumBST(root.left, low, high)\n",
    "        if root.val < high:\n",
    "            ans += self.rangeSumBST(root.right, low, high)\n",
    "\n",
    "        return ans"
   ]
  },
  {
   "cell_type": "code",
   "execution_count": 94,
   "metadata": {},
   "outputs": [],
   "source": [
    "from collections import deque\n",
    "\n",
    "class Solution:\n",
    "    def rangeSumBST(self, root: Optional[TreeNode], low: int, high: int) -> int:\n",
    "        \n",
    "        if not root:\n",
    "            return 0\n",
    "        \n",
    "        queue = deque([root])\n",
    "        sum = 0\n",
    "\n",
    "        while queue:\n",
    "\n",
    "            node = queue.pop()\n",
    "\n",
    "            if low <= node.val <= high:\n",
    "                sum += node.val\n",
    "\n",
    "            if node.left and low < node.val: # Leetcode adds second condition; no sense in appending nodes that won't satisfy condition\n",
    "                queue.append(node.left)\n",
    "\n",
    "            if node.right and node.val < high: # Leetcode adds second condition\n",
    "                queue.append(node.right)\n",
    "\n",
    "        return sum\n",
    "\n"
   ]
  },
  {
   "cell_type": "code",
   "execution_count": 95,
   "metadata": {},
   "outputs": [
    {
     "data": {
      "text/plain": [
       "32"
      ]
     },
     "execution_count": 95,
     "metadata": {},
     "output_type": "execute_result"
    }
   ],
   "source": [
    "root = build_tree([10,5,15,3,7,None,18])\n",
    "sol = Solution()\n",
    "sol.rangeSumBST(root, 7, 15)"
   ]
  },
  {
   "cell_type": "code",
   "execution_count": 96,
   "metadata": {},
   "outputs": [
    {
     "data": {
      "text/plain": [
       "23"
      ]
     },
     "execution_count": 96,
     "metadata": {},
     "output_type": "execute_result"
    }
   ],
   "source": [
    "root = build_tree([10,5,15,3,7,13,18,1,None,6])\n",
    "sol = Solution()\n",
    "sol.rangeSumBST(root, 6, 10)"
   ]
  },
  {
   "cell_type": "markdown",
   "metadata": {},
   "source": [
    "### (530) Minimum Absolute Difference in BST [Easy]\n",
    "\n",
    "Given the `root` of a Binary Search Tree (BST), return the *minimum absolute difference* between the values of any two different nodes in the tree."
   ]
  },
  {
   "cell_type": "code",
   "execution_count": 106,
   "metadata": {},
   "outputs": [],
   "source": [
    "# Beats 5.27% of submissions (passing 'values' is slow)\n",
    "\n",
    "class Solution:\n",
    "    def getMinimumDifference(self, root: Optional[TreeNode]) -> int:\n",
    "\n",
    "        def dfs(node, values):\n",
    "            if not node:\n",
    "                return None\n",
    "            \n",
    "            if node.left:\n",
    "                values = dfs(node.left, values)\n",
    "\n",
    "            values = values + [node.val]\n",
    "\n",
    "            if node.right:\n",
    "                values = dfs(node.right, values)\n",
    "\n",
    "            return values\n",
    "\n",
    "        values = dfs(root, [])\n",
    "\n",
    "        min_diff = float('inf')\n",
    "        for i in range(1,len(values)):\n",
    "            diff = values[i] - values[i-1]\n",
    "            min_diff = min(min_diff, diff)\n",
    "\n",
    "        return min_diff"
   ]
  },
  {
   "cell_type": "code",
   "execution_count": null,
   "metadata": {},
   "outputs": [],
   "source": [
    "# LeetCode solution\n",
    "class Solution:\n",
    "    def getMinimumDifference(self, root: Optional[TreeNode]) -> int:\n",
    "        def dfs(node):\n",
    "            if not node:\n",
    "                return\n",
    "            \n",
    "            left = dfs(node.left)\n",
    "            values.append(node.val)\n",
    "            right = dfs(node.right)\n",
    "\n",
    "        values = []\n",
    "        dfs(root)\n",
    "        ans = float(\"inf\")\n",
    "        for i in range(1, len(values)):\n",
    "            ans = min(ans, values[i] - values[i - 1])\n",
    "        \n",
    "        return ans"
   ]
  },
  {
   "cell_type": "code",
   "execution_count": null,
   "metadata": {},
   "outputs": [],
   "source": [
    "# LeetCode solution - iterative 'inorder' (difficult)\n",
    "class Solution:\n",
    "    def getMinimumDifference(self, root: Optional[TreeNode]) -> int:\n",
    "        def iterative_inorder(root):\n",
    "            stack = []\n",
    "            values = []\n",
    "            curr = root\n",
    "\n",
    "            while stack or curr: # Append all the left nodes first, until curr.left == None\n",
    "                if curr:\n",
    "                    stack.append(curr)\n",
    "                    curr = curr.left\n",
    "                else:           # When no more left nodes, process the current node, then the right node (inorder processing)\n",
    "                    curr = stack.pop()\n",
    "                    values.append(curr.val)\n",
    "                    curr = curr.right\n",
    "                # When the subtree is done, queue moves to previous left node, and repeats\n",
    "\n",
    "            return values\n",
    "        \n",
    "        values = iterative_inorder(root)\n",
    "        ans = float(\"inf\")\n",
    "        for i in range(1, len(values)):\n",
    "            ans = min(ans, values[i] - values[i - 1])\n",
    "        \n",
    "        return ans\n"
   ]
  },
  {
   "cell_type": "code",
   "execution_count": 107,
   "metadata": {},
   "outputs": [
    {
     "data": {
      "text/plain": [
       "1"
      ]
     },
     "execution_count": 107,
     "metadata": {},
     "output_type": "execute_result"
    }
   ],
   "source": [
    "root = build_tree([4,2,6,1,3])\n",
    "sol = Solution()\n",
    "sol.getMinimumDifference(root)"
   ]
  },
  {
   "cell_type": "code",
   "execution_count": 109,
   "metadata": {},
   "outputs": [
    {
     "data": {
      "text/plain": [
       "2"
      ]
     },
     "execution_count": 109,
     "metadata": {},
     "output_type": "execute_result"
    }
   ],
   "source": [
    "root = build_tree([7,2,9,0,4])\n",
    "sol = Solution()\n",
    "sol.getMinimumDifference(root)"
   ]
  },
  {
   "cell_type": "markdown",
   "metadata": {},
   "source": [
    "### (98) Validate Binary Search Tree [Medium]\n",
    "\n",
    "Given the `root` of a binary tree, determine if it is a valid binary search tree (BST).\n",
    "\n",
    "A **valid BST** is defined as follows:\n",
    "\n",
    "* The left subtree of a node contains only nodes with keys *less than* the node's key.\n",
    "\n",
    "* The right subtree of a node contains only nodes with keys *greater than* the node's key.\n",
    "\n",
    "* Both the left and right subtrees must also be binary search trees."
   ]
  },
  {
   "cell_type": "code",
   "execution_count": 164,
   "metadata": {},
   "outputs": [],
   "source": [
    "# Beats 66.77% of submissions\n",
    "\n",
    "# DFS on BST done 'inorder' will return nodes, literally, in order. So, search nodes using 'inorder', see if final ordering is indeed in order.\n",
    "\n",
    "class Solution:\n",
    "    def isValidBST(self, root: Optional[TreeNode]) -> bool:\n",
    "\n",
    "        values = []\n",
    "        \n",
    "        def dfs(node):\n",
    "            if not node:\n",
    "                return None\n",
    "            \n",
    "            if node.left:\n",
    "                dfs(node.left)\n",
    "\n",
    "            values.append(node.val)\n",
    "\n",
    "            if node.right:\n",
    "                dfs(node.right)\n",
    "\n",
    "            return\n",
    "        \n",
    "        dfs(root)\n",
    "        return values == sorted(values) and len(set(values)) == len(values) # check sorted is same as original, and all unique values\n",
    "\n"
   ]
  },
  {
   "cell_type": "code",
   "execution_count": null,
   "metadata": {},
   "outputs": [],
   "source": [
    "# LeetCode solution, recursion\n",
    "class Solution:\n",
    "    def isValidBST(self, root: Optional[TreeNode]) -> bool:\n",
    "        def dfs(node, small, large):\n",
    "            if not node:\n",
    "                return True\n",
    "            \n",
    "            if not (small < node.val < large):\n",
    "                return False\n",
    "\n",
    "            left = dfs(node.left, small, node.val)\n",
    "            right = dfs(node.right, node.val, large)\n",
    "\n",
    "            # tree is a BST if left and right subtrees are also BSTs\n",
    "            return left and right\n",
    "\n",
    "        return dfs(root, float(\"-inf\"), float(\"inf\"))"
   ]
  },
  {
   "cell_type": "code",
   "execution_count": null,
   "metadata": {},
   "outputs": [],
   "source": [
    "# LeetCode solution, iterative\n",
    "class Solution:\n",
    "    def isValidBST(self, root: Optional[TreeNode]) -> bool:\n",
    "        stack = [(root, float(\"-inf\"), float(\"inf\"))]\n",
    "        while stack:\n",
    "            node, small, large = stack.pop()\n",
    "            if not (small < node.val < large):\n",
    "                return False\n",
    "            \n",
    "            if node.left:\n",
    "                stack.append((node.left, small, node.val))\n",
    "            if node.right:\n",
    "                stack.append((node.right, node.val, large))\n",
    "        \n",
    "        return True"
   ]
  },
  {
   "cell_type": "code",
   "execution_count": 165,
   "metadata": {},
   "outputs": [
    {
     "data": {
      "text/plain": [
       "True"
      ]
     },
     "execution_count": 165,
     "metadata": {},
     "output_type": "execute_result"
    }
   ],
   "source": [
    "root = build_tree([2,1,3])\n",
    "sol = Solution()\n",
    "sol.isValidBST(root)"
   ]
  },
  {
   "cell_type": "code",
   "execution_count": 167,
   "metadata": {},
   "outputs": [
    {
     "data": {
      "text/plain": [
       "True"
      ]
     },
     "execution_count": 167,
     "metadata": {},
     "output_type": "execute_result"
    }
   ],
   "source": [
    "\n",
    "root = build_tree([1,0,48,None,None,12,49])\n",
    "sol = Solution()\n",
    "sol.isValidBST(root)"
   ]
  },
  {
   "cell_type": "code",
   "execution_count": 168,
   "metadata": {},
   "outputs": [
    {
     "data": {
      "text/plain": [
       "False"
      ]
     },
     "execution_count": 168,
     "metadata": {},
     "output_type": "execute_result"
    }
   ],
   "source": [
    "root = build_tree([5,1,4,None,None,3,6])\n",
    "sol = Solution()\n",
    "sol.isValidBST(root)"
   ]
  },
  {
   "cell_type": "code",
   "execution_count": 169,
   "metadata": {},
   "outputs": [
    {
     "data": {
      "text/plain": [
       "False"
      ]
     },
     "execution_count": 169,
     "metadata": {},
     "output_type": "execute_result"
    }
   ],
   "source": [
    "root = build_tree([1,None,1])\n",
    "sol = Solution()\n",
    "sol.isValidBST(root)"
   ]
  },
  {
   "cell_type": "code",
   "execution_count": 170,
   "metadata": {},
   "outputs": [
    {
     "data": {
      "text/plain": [
       "False"
      ]
     },
     "execution_count": 170,
     "metadata": {},
     "output_type": "execute_result"
    }
   ],
   "source": [
    "root = build_tree([5,4,6,None,None,3,7])\n",
    "sol = Solution()\n",
    "sol.isValidBST(root)"
   ]
  },
  {
   "cell_type": "markdown",
   "metadata": {},
   "source": [
    "### (701) Insert into a Binary Search Tree [Medium]\n",
    "\n",
    "You are given the `root` node of a binary search tree (BST) and a `value` to insert into the tree. Return the `root` node of the BST after the insertion. It is guaranteed that the new value does not exist in the original BST.\n",
    "\n",
    "**Notice** that there may exist multiple valid ways for the insertion, as long as the tree remains a BST after insertion. You can return *any* of them."
   ]
  },
  {
   "cell_type": "code",
   "execution_count": 179,
   "metadata": {},
   "outputs": [],
   "source": [
    "# Beats 42.73% of submissions\n",
    "class Solution:\n",
    "    def insertIntoBST(self, root: Optional[TreeNode], val: int) -> Optional[TreeNode]:\n",
    "        if not root:\n",
    "            return TreeNode(5)\n",
    "        \n",
    "        def dfs(node, val):\n",
    "            if val < node.val:\n",
    "                if node.left:\n",
    "                    dfs(node.left, val)\n",
    "                else:\n",
    "                    node.left = TreeNode(val)\n",
    "\n",
    "            if val > node.val:\n",
    "                if node.right:\n",
    "                    dfs(node.right, val)\n",
    "                else:\n",
    "                    node.right = TreeNode(val)\n",
    "\n",
    "            return\n",
    "        \n",
    "        dfs(root, val)\n",
    "\n",
    "        return root"
   ]
  },
  {
   "cell_type": "code",
   "execution_count": 183,
   "metadata": {},
   "outputs": [],
   "source": [
    "# Beats 49.26% of submissions\n",
    "from collections import deque\n",
    "class Solution:\n",
    "    def insertIntoBST(self, root: Optional[TreeNode], val: int) -> Optional[TreeNode]:\n",
    "        if not root:\n",
    "            return TreeNode(val)\n",
    "        \n",
    "        queue = deque([root])\n",
    "        while queue:\n",
    "            node = queue.pop()\n",
    "            if val < node.val:\n",
    "                if node.left:\n",
    "                    queue.append(node.left)\n",
    "                else:\n",
    "                    node.left = TreeNode(val)\n",
    "            if val > node.val:\n",
    "                if node.right:\n",
    "                    queue.append(node.right)\n",
    "                else:\n",
    "                    node.right = TreeNode(val)\n",
    "\n",
    "        return root"
   ]
  },
  {
   "cell_type": "code",
   "execution_count": 182,
   "metadata": {},
   "outputs": [
    {
     "name": "stdout",
     "output_type": "stream",
     "text": [
      "5\n",
      "1 9\n",
      "null null 7\n",
      "\n"
     ]
    }
   ],
   "source": [
    "root = build_tree([5,1,9])\n",
    "sol = Solution()\n",
    "ans = sol.insertIntoBST(root, 7)\n",
    "print_tree(ans)"
   ]
  },
  {
   "cell_type": "code",
   "execution_count": 184,
   "metadata": {},
   "outputs": [
    {
     "name": "stdout",
     "output_type": "stream",
     "text": [
      "4\n",
      "2 7\n",
      "1 3 5\n",
      "\n"
     ]
    }
   ],
   "source": [
    "root = build_tree([4,2,7,1,3])\n",
    "sol = Solution()\n",
    "ans = sol.insertIntoBST(root, 5)\n",
    "print_tree(ans)"
   ]
  },
  {
   "cell_type": "code",
   "execution_count": 185,
   "metadata": {},
   "outputs": [
    {
     "name": "stdout",
     "output_type": "stream",
     "text": [
      "40\n",
      "20 60\n",
      "10 30 50 70\n",
      "null null 25\n",
      "\n"
     ]
    }
   ],
   "source": [
    "root = build_tree([40,20,60,10,30,50,70])\n",
    "sol = Solution()\n",
    "ans = sol.insertIntoBST(root, 25)\n",
    "print_tree(ans)"
   ]
  },
  {
   "cell_type": "code",
   "execution_count": 186,
   "metadata": {},
   "outputs": [
    {
     "name": "stdout",
     "output_type": "stream",
     "text": [
      "4\n",
      "2 7\n",
      "1 3 5\n",
      "\n"
     ]
    }
   ],
   "source": [
    "root = build_tree([4,2,7,1,3,None,None,None,None,None,None])\n",
    "sol = Solution()\n",
    "ans = sol.insertIntoBST(root, 5)\n",
    "print_tree(ans)"
   ]
  },
  {
   "cell_type": "code",
   "execution_count": 187,
   "metadata": {},
   "outputs": [
    {
     "name": "stdout",
     "output_type": "stream",
     "text": [
      "5\n",
      "\n"
     ]
    }
   ],
   "source": [
    "root = build_tree([])\n",
    "sol = Solution()\n",
    "ans = sol.insertIntoBST(root, 5)\n",
    "print_tree(ans)"
   ]
  },
  {
   "cell_type": "markdown",
   "metadata": {},
   "source": [
    "### (270) Closest Binary Search Tree Value [Easy]\n",
    "\n",
    "Given the `root` of a binary search tree and a `target` value, return the value in the BST that is closest to the `target`. If there are multiple answers, print the smallest."
   ]
  },
  {
   "cell_type": "code",
   "execution_count": 189,
   "metadata": {},
   "outputs": [],
   "source": [
    "# Beats 9.15% of submissions\n",
    "# Recursive\n",
    "class Solution:\n",
    "    def closestValue(self, root: Optional[TreeNode], target: float) -> int:\n",
    "\n",
    "        if not root:\n",
    "            return None\n",
    "\n",
    "        def dfs(node, target, closest_val):\n",
    "            if not node:\n",
    "                return None\n",
    "            \n",
    "            cur_diff = abs(node.val - target) \n",
    "            prev_diff = abs(closest_val - target)\n",
    "\n",
    "            if cur_diff < prev_diff:\n",
    "                closest_val = node.val\n",
    "            elif cur_diff == prev_diff:\n",
    "                closest_val = min(closest_val, node.val)\n",
    "\n",
    "            if target < node.val and node.left:\n",
    "                closest_val = dfs(node.left, target, closest_val)\n",
    "\n",
    "            if target > node.val and node.right:\n",
    "                closest_val = dfs(node.right, target, closest_val)\n",
    "\n",
    "            return closest_val\n",
    "            \n",
    "        return dfs(root, target, float('inf'))\n"
   ]
  },
  {
   "cell_type": "code",
   "execution_count": 199,
   "metadata": {},
   "outputs": [],
   "source": [
    "# Beats 42.65% of submissions\n",
    "# Iterative\n",
    "from collections import deque\n",
    "class Solution:\n",
    "    def closestValue(self, root: Optional[TreeNode], target: float) -> int:\n",
    "\n",
    "        if not root:\n",
    "            return None\n",
    "        \n",
    "        queue = deque([root])\n",
    "        closest_val = float('inf')\n",
    "\n",
    "        while queue:\n",
    "\n",
    "            node = queue.pop()\n",
    "            cur_diff = abs(node.val - target)\n",
    "            prev_diff = abs(closest_val - target)\n",
    "\n",
    "            if cur_diff < prev_diff:\n",
    "                closest_val = node.val\n",
    "            elif cur_diff == prev_diff:\n",
    "                closest_val = min(closest_val, node.val)\n",
    "\n",
    "            if target < node.val and node.left:\n",
    "                queue.append(node.left)\n",
    "\n",
    "            if target > node.val and node.right:\n",
    "                queue.append(node.right)\n",
    "\n",
    "        return closest_val\n"
   ]
  },
  {
   "cell_type": "code",
   "execution_count": 200,
   "metadata": {},
   "outputs": [
    {
     "data": {
      "text/plain": [
       "4"
      ]
     },
     "execution_count": 200,
     "metadata": {},
     "output_type": "execute_result"
    }
   ],
   "source": [
    "root = build_tree([4,2,5,1,3])\n",
    "sol = Solution()\n",
    "sol.closestValue(root, 3.714286)"
   ]
  },
  {
   "cell_type": "code",
   "execution_count": 201,
   "metadata": {},
   "outputs": [
    {
     "data": {
      "text/plain": [
       "1"
      ]
     },
     "execution_count": 201,
     "metadata": {},
     "output_type": "execute_result"
    }
   ],
   "source": [
    "root = build_tree([1])\n",
    "sol = Solution()\n",
    "sol.closestValue(root, 4.428571)"
   ]
  },
  {
   "cell_type": "code",
   "execution_count": 202,
   "metadata": {},
   "outputs": [],
   "source": [
    "root = build_tree([])\n",
    "sol = Solution()\n",
    "sol.closestValue(root, 4.428571)"
   ]
  },
  {
   "cell_type": "markdown",
   "metadata": {},
   "source": [
    "## Graphs\n",
    "\n",
    "Graph input formats:\n",
    "\n",
    "**(1) Array of directed (one way) edges**\n",
    "\n",
    "2D int array, each entry is a list that specifies an edge.\n",
    "\n",
    "`edges = [[0, 1], [1, 2], [2, 0], [2, 3]]`\n",
    "\n",
    "<br>\n",
    "\n",
    "**(2) Adjacency Lists**\n",
    "\n",
    "All nodes numbered `0` to `n-1`. 2d int array, each entry is a list of outgoing edges from `ith` node. So `array[i]` presents list of edges for entry `i`.\n",
    "\n",
    "`graph = [[1], [2], [0, 3], []]`\n",
    "\n",
    "So `graph[2]` is `[0, 3]` because vertice `2` an outgoing edge to both `0` and `3`.\n",
    "\n",
    "**(Ideally pre-process to put other graph formats into adjacency list format.)**\n",
    "\n",
    "<br>\n",
    "\n",
    "**(3) Adjacency Matrix**\n",
    "\n",
    "All nodes numbered `0` to `n-1`. 2d int array, size `n x n`, with `1` indicating a connection between `i` and `j`, and `0` if not.\n",
    "\n",
    "```\n",
    "graph = [\n",
    "    [0, 1, 0, 0],\n",
    "    [0, 0, 0, 1],\n",
    "    [1, 0, 0, 1],\n",
    "    [0, 0, 1, 1]\n",
    "        ]\n",
    "```\n",
    "\n",
    "So `graph[2][1]` is `1` because vertice `2` has an outgoing edge to `0`.\n",
    "\n",
    "<br>\n",
    "\n",
    "**(4) Open-ended Matrix**\n",
    "\n",
    "In story form, nodes/vertices usually given, and edged will be determined by the problem, e.g. villages in proximity to one another.\n",
    "\n",
    "<br>\n",
    "\n",
    "Time complexity is not *O(n)* as in binary trees, but rather *O(n + e)*, where *e* is the number of edges. Worst case is *e = n*, and search is $O(n^2)$.\n"
   ]
  },
  {
   "cell_type": "markdown",
   "metadata": {},
   "source": [
    "### Build a graph from an array of edges"
   ]
  },
  {
   "cell_type": "code",
   "execution_count": null,
   "metadata": {},
   "outputs": [],
   "source": [
    "from collections import defaultdict\n",
    "\n",
    "def build_graph(edges):\n",
    "    graph = defaultdict(list)\n",
    "    for x, y in edges:\n",
    "        graph[x].append(y)\n",
    "        # graph[y].append(x)\n",
    "        # uncomment the above line if the graph is undirected\n",
    "    \n",
    "    return graph"
   ]
  },
  {
   "cell_type": "markdown",
   "metadata": {},
   "source": [
    "### Ex 1 (547) Number of Provinces [Medium]\n",
    "\n",
    "There are `n` cities. Some of them are connected, while some are not. If city `a` is connected directly with city `b`, and city `b` is connected directly with city `c`, then city `a` is connected indirectly with city `c`.\n",
    "\n",
    "A **province** is a group of directly or indirectly connected cities and no other cities outside of the group.\n",
    "\n",
    "You are given an `n x n` matrix `isConnected` where `isConnected[i][j] = 1` if the `ith` city and the `jth` city are directly connected, and `isConnected[i][j] = 0` otherwise.\n",
    "\n",
    "Return the total number of **provinces**.\n",
    "\n"
   ]
  },
  {
   "cell_type": "code",
   "execution_count": 203,
   "metadata": {},
   "outputs": [],
   "source": [
    "# LeetCode Solution - recursive\n",
    "\n",
    "from collections import defaultdict\n",
    "\n",
    "class Solution:\n",
    "    def findCircleNum(self, isConnected: List[List[int]]) -> int:\n",
    "        def dfs(node):\n",
    "            for neighbor in graph[node]:\n",
    "                # the next 2 lines are needed to prevent cycles\n",
    "                if neighbor not in seen:\n",
    "                    seen.add(neighbor)\n",
    "                    dfs(neighbor)\n",
    "        \n",
    "        # build the graph\n",
    "        n = len(isConnected)\n",
    "        graph = defaultdict(list)\n",
    "        for i in range(n):\n",
    "            for j in range(i + 1, n):\n",
    "                if isConnected[i][j]:\n",
    "                    graph[i].append(j)\n",
    "                    graph[j].append(i)\n",
    "        \n",
    "        seen = set()\n",
    "        ans = 0\n",
    "        \n",
    "        for i in range(n):\n",
    "            if i not in seen:\n",
    "                # add all nodes of a connected component to the set\n",
    "                ans += 1\n",
    "                seen.add(i)\n",
    "                dfs(i)\n",
    "        \n",
    "        return ans"
   ]
  },
  {
   "cell_type": "code",
   "execution_count": 215,
   "metadata": {},
   "outputs": [],
   "source": [
    "# LeetCode Solution - iterative\n",
    "\n",
    "from collections import defaultdict\n",
    "\n",
    "class Solution:\n",
    "    def findCircleNum(self, isConnected: List[List[int]]) -> int:\n",
    "        def dfs(start):\n",
    "            stack = [start]\n",
    "            while stack:\n",
    "                node = stack.pop()\n",
    "                for neighbor in graph[node]:\n",
    "                    if neighbor not in seen:\n",
    "                        seen.add(neighbor)\n",
    "                        stack.append(neighbor)\n",
    "        \n",
    "        # build the graph\n",
    "        n = len(isConnected)\n",
    "        graph = defaultdict(list)\n",
    "        for i in range(n):\n",
    "            for j in range(i + 1, n):\n",
    "                if isConnected[i][j]:\n",
    "                    graph[i].append(j)\n",
    "                    graph[j].append(i)\n",
    "        \n",
    "        seen = set()\n",
    "        ans = 0\n",
    "        \n",
    "        for i in range(n):\n",
    "            if i not in seen:\n",
    "                # add all nodes of a connected component to the set\n",
    "                ans += 1\n",
    "                seen.add(i)\n",
    "                dfs(i)\n",
    "        \n",
    "        return ans"
   ]
  },
  {
   "cell_type": "code",
   "execution_count": 216,
   "metadata": {},
   "outputs": [
    {
     "data": {
      "text/plain": [
       "2"
      ]
     },
     "execution_count": 216,
     "metadata": {},
     "output_type": "execute_result"
    }
   ],
   "source": [
    "sol = Solution()\n",
    "sol.findCircleNum([[1,1,0],[1,1,0],[0,0,1]])"
   ]
  },
  {
   "cell_type": "markdown",
   "metadata": {},
   "source": [
    "### Ex 2 (200) Number of Islands [Medium]\n",
    "\n",
    "Given an `m x n` 2D binary grid `grid` which represents a map of `'1'`s (land) and `'0'`s (water), return the number of **islands**.\n",
    "\n",
    "An **island** is surrounded by water and is formed by connecting adjacent lands horizontally or vertically. You may assume all four edges of the grid are all surrounded by water."
   ]
  },
  {
   "cell_type": "code",
   "execution_count": 217,
   "metadata": {},
   "outputs": [],
   "source": [
    "# LeetCode solution - recursive\n",
    "\n",
    "class Solution:\n",
    "    def numIslands(self, grid: List[List[str]]) -> int:\n",
    "        def valid(row, col):\n",
    "            return 0 <= row < m and 0 <= col < n and grid[row][col] == \"1\"\n",
    "        \n",
    "        def dfs(row, col):\n",
    "            for dx, dy in directions:\n",
    "                next_row, next_col = row + dy, col + dx\n",
    "                if valid(next_row, next_col) and (next_row, next_col) not in seen:\n",
    "                    seen.add((next_row, next_col))\n",
    "                    dfs(next_row, next_col)\n",
    "        \n",
    "        directions = [(0, 1), (1, 0), (0, -1), (-1, 0)]\n",
    "        seen = set()\n",
    "        ans = 0\n",
    "        m = len(grid)\n",
    "        n = len(grid[0])\n",
    "        for row in range(m):\n",
    "            for col in range(n):\n",
    "                if grid[row][col] == \"1\" and (row, col) not in seen:\n",
    "                    ans += 1\n",
    "                    seen.add((row, col))\n",
    "                    dfs(row, col)\n",
    "        \n",
    "        return ans"
   ]
  },
  {
   "cell_type": "code",
   "execution_count": 219,
   "metadata": {},
   "outputs": [],
   "source": [
    "# LeetCode solution - iterative\n",
    "\n",
    "class Solution:\n",
    "    def numIslands(self, grid: List[List[str]]) -> int:\n",
    "        def valid(row, col):\n",
    "            return 0 <= row < m and 0 <= col < n and grid[row][col] == \"1\"\n",
    "        \n",
    "        def dfs(start_row, start_col):\n",
    "            stack = [(start_row, start_col)]\n",
    "            while stack:\n",
    "                row, col = stack.pop()\n",
    "                for dx, dy in directions:\n",
    "                    next_row, next_col = row + dy, col + dx\n",
    "                    if valid(next_row, next_col) and (next_row, next_col) not in seen:\n",
    "                        seen.add((next_row, next_col))\n",
    "                        stack.append((next_row, next_col))\n",
    "        \n",
    "        directions = [(0, 1), (1, 0), (0, -1), (-1, 0)]\n",
    "        seen = set()\n",
    "        ans = 0\n",
    "        m = len(grid)\n",
    "        n = len(grid[0])\n",
    "        for row in range(m):\n",
    "            for col in range(n):\n",
    "                if grid[row][col] == \"1\" and (row, col) not in seen:\n",
    "                    ans += 1\n",
    "                    seen.add((row, col))\n",
    "                    dfs(row, col)\n",
    "        \n",
    "        return ans"
   ]
  },
  {
   "cell_type": "code",
   "execution_count": 220,
   "metadata": {},
   "outputs": [
    {
     "data": {
      "text/plain": [
       "1"
      ]
     },
     "execution_count": 220,
     "metadata": {},
     "output_type": "execute_result"
    }
   ],
   "source": [
    "sol = Solution()\n",
    "grid = [\n",
    "  [\"1\",\"1\",\"1\",\"1\",\"0\"],\n",
    "  [\"1\",\"1\",\"0\",\"1\",\"0\"],\n",
    "  [\"1\",\"1\",\"0\",\"0\",\"0\"],\n",
    "  [\"0\",\"0\",\"0\",\"0\",\"0\"]\n",
    "]\n",
    "sol.numIslands(grid)"
   ]
  },
  {
   "cell_type": "code",
   "execution_count": 221,
   "metadata": {},
   "outputs": [
    {
     "data": {
      "text/plain": [
       "3"
      ]
     },
     "execution_count": 221,
     "metadata": {},
     "output_type": "execute_result"
    }
   ],
   "source": [
    "sol = Solution()\n",
    "grid = [\n",
    "  [\"1\",\"1\",\"0\",\"0\",\"0\"],\n",
    "  [\"1\",\"1\",\"0\",\"0\",\"0\"],\n",
    "  [\"0\",\"0\",\"1\",\"0\",\"0\"],\n",
    "  [\"0\",\"0\",\"0\",\"1\",\"1\"]\n",
    "]\n",
    "sol.numIslands(grid)"
   ]
  },
  {
   "cell_type": "markdown",
   "metadata": {},
   "source": [
    "### Ex 3 (1466) Reorder Routes to Make All Paths Lead to the City Zero [Medium]\n",
    "\n",
    "There are `n` cities numbered from `0` to `n - 1` and `n - 1` roads such that there is only one way to travel between two different cities (this network forms a tree). Last year, The ministry of transport decided to orient the roads in one direction because they are too narrow.\n",
    "\n",
    "Roads are represented by connections where `connections[i] = [ai, bi]` represents a road from city `ai` to city `bi`.\n",
    "\n",
    "This year, there will be a big event in the capital (city `0`), and many people want to travel to this city.\n",
    "\n",
    "Your task consists of reorienting some roads such that each city can visit city `0`. Return the minimum number of edges changed.\n",
    "\n",
    "It's guaranteed that each city can reach city `0` after reorder."
   ]
  },
  {
   "cell_type": "code",
   "execution_count": 222,
   "metadata": {},
   "outputs": [],
   "source": [
    "# LeetCode solution - recursive\n",
    "class Solution:\n",
    "    def minReorder(self, n: int, connections: List[List[int]]) -> int:\n",
    "        roads = set()\n",
    "        graph = defaultdict(list)\n",
    "        for x, y in connections:\n",
    "            graph[x].append(y)\n",
    "            graph[y].append(x)\n",
    "            roads.add((x, y))\n",
    "\n",
    "        def dfs(node):\n",
    "            ans = 0\n",
    "            for neighbor in graph[node]:\n",
    "                if neighbor not in seen:\n",
    "                    if (node, neighbor) in roads:\n",
    "                        ans += 1\n",
    "                    seen.add(neighbor)\n",
    "                    ans += dfs(neighbor)\n",
    "            \n",
    "            return ans\n",
    "\n",
    "        seen = {0}\n",
    "        return dfs(0)"
   ]
  },
  {
   "cell_type": "code",
   "execution_count": 223,
   "metadata": {},
   "outputs": [],
   "source": [
    "# LeetCode solution - iterative\n",
    "class Solution:\n",
    "    def minReorder(self, n: int, connections: List[List[int]]) -> int:\n",
    "        roads = set()\n",
    "        graph = defaultdict(list)\n",
    "        for x, y in connections:\n",
    "            graph[x].append(y)\n",
    "            graph[y].append(x)\n",
    "            roads.add((x, y))\n",
    "        \n",
    "        ans = 0\n",
    "        stack = [0]\n",
    "        seen = {0}\n",
    "        while stack:\n",
    "            node = stack.pop()\n",
    "            for neighbor in graph[node]:\n",
    "                if neighbor not in seen:\n",
    "                    if (node, neighbor) in roads:\n",
    "                        ans += 1\n",
    "                    seen.add(neighbor)\n",
    "                    stack.append(neighbor)\n",
    "            \n",
    "        return ans"
   ]
  },
  {
   "cell_type": "code",
   "execution_count": 224,
   "metadata": {},
   "outputs": [
    {
     "data": {
      "text/plain": [
       "3"
      ]
     },
     "execution_count": 224,
     "metadata": {},
     "output_type": "execute_result"
    }
   ],
   "source": [
    "sol = Solution()\n",
    "sol.minReorder(6, [[0,1],[1,3],[2,3],[4,0],[4,5]])"
   ]
  },
  {
   "cell_type": "code",
   "execution_count": 225,
   "metadata": {},
   "outputs": [
    {
     "data": {
      "text/plain": [
       "2"
      ]
     },
     "execution_count": 225,
     "metadata": {},
     "output_type": "execute_result"
    }
   ],
   "source": [
    "sol = Solution()\n",
    "sol.minReorder(5, [[1,0],[1,2],[3,2],[3,4]])"
   ]
  },
  {
   "cell_type": "markdown",
   "metadata": {},
   "source": [
    "### Ex 4 (841) Keys and Rooms [Medium]\n",
    "\n",
    "There are `n` rooms labeled from `0` to `n - 1` and all the rooms are locked except for room `0`. Your goal is to visit all the rooms. However, you cannot enter a locked room without having its key.\n",
    "\n",
    "When you visit a room, you may find a set of **distinct keys** in it. Each key has a number on it, denoting which room it unlocks, and you can take all of them with you to unlock the other rooms.\n",
    "\n",
    "Given an array `rooms` where `rooms[i]` is the set of keys that you can obtain if you visited room `i`, return `true` if you can visit all the rooms, or `false` otherwise."
   ]
  },
  {
   "cell_type": "code",
   "execution_count": 226,
   "metadata": {},
   "outputs": [],
   "source": [
    "class Solution:\n",
    "    def canVisitAllRooms(self, rooms: List[List[int]]) -> bool:\n",
    "        def dfs(node):\n",
    "            for neighbor in rooms[node]:\n",
    "                if neighbor not in seen:\n",
    "                    seen.add(neighbor)\n",
    "                    dfs(neighbor)\n",
    "            \n",
    "        seen = {0}\n",
    "        dfs(0)\n",
    "        return len(seen) == len(rooms)"
   ]
  },
  {
   "cell_type": "code",
   "execution_count": null,
   "metadata": {},
   "outputs": [],
   "source": [
    "class Solution:\n",
    "    def canVisitAllRooms(self, rooms: List[List[int]]) -> bool: \n",
    "        seen = {0}\n",
    "        stack = [0]\n",
    "        \n",
    "        while stack:\n",
    "            node = stack.pop()\n",
    "            for neighbor in rooms[node]:\n",
    "                if neighbor not in seen:\n",
    "                    seen.add(neighbor)\n",
    "                    stack.append(neighbor)\n",
    "\n",
    "        return len(seen) == len(rooms)"
   ]
  },
  {
   "cell_type": "code",
   "execution_count": 228,
   "metadata": {},
   "outputs": [
    {
     "data": {
      "text/plain": [
       "True"
      ]
     },
     "execution_count": 228,
     "metadata": {},
     "output_type": "execute_result"
    }
   ],
   "source": [
    "sol = Solution()\n",
    "sol.canVisitAllRooms([[1],[2],[3],[]])"
   ]
  },
  {
   "cell_type": "markdown",
   "metadata": {},
   "source": [
    "### Ex 5 (1557) Minimum Number of Vertices to Reach All Nodes [Medium]\n",
    "\n",
    "Given a **directed acyclic graph**, with n vertices numbered from `0` to `n-1`, and an array edges where `edges[i] = [from_i, to_i]` represents a directed edge from node `from_i` to node `to_i`.\n",
    "\n",
    "Find the smallest set of vertices from which all nodes in the graph are reachable. It's guaranteed that a unique solution exists.\n",
    "\n",
    "Notice that you can return the vertices in any order."
   ]
  },
  {
   "cell_type": "code",
   "execution_count": 234,
   "metadata": {},
   "outputs": [],
   "source": [
    "class Solution:\n",
    "    def findSmallestSetOfVertices(self, n: int, edges: List[List[int]]) -> List[int]:\n",
    "        indegree = [0] * n\n",
    "        for _, y in edges:\n",
    "            indegree[y] += 1\n",
    "        \n",
    "        return [node for node in range(n) if indegree[node] == 0]"
   ]
  },
  {
   "cell_type": "code",
   "execution_count": 236,
   "metadata": {},
   "outputs": [
    {
     "data": {
      "text/plain": [
       "[0, 3]"
      ]
     },
     "execution_count": 236,
     "metadata": {},
     "output_type": "execute_result"
    }
   ],
   "source": [
    "sol = Solution()\n",
    "sol.findSmallestSetOfVertices(6, [[0,1],[0,2],[2,5],[3,4],[4,2]])"
   ]
  },
  {
   "cell_type": "markdown",
   "metadata": {},
   "source": [
    "### (1971) Find if Path Exists in Graph\n",
    "\n",
    "There is a bi-directional graph with `n` vertices, where each vertex is labeled from `0` to `n - 1` (inclusive). The edges in the graph are represented as a 2D integer array edges, where each `edges[i] = [u_i, v_i]` denotes a bi-directional edge between vertex `u_i` and vertex `v_i`. Every vertex pair is connected by at most one edge, and no vertex has an edge to itself.\n",
    "\n",
    "You want to determine if there is a valid path that exists from vertex `source` to vertex `destination`.\n",
    "\n",
    "Given `edges` and the integers `n`, `source`, and `destination`, return `true` if there is a valid path from `source` to `destination`, or `false` otherwise."
   ]
  },
  {
   "cell_type": "code",
   "execution_count": 269,
   "metadata": {},
   "outputs": [],
   "source": [
    "# Beats 24.85% of submissions\n",
    "\n",
    "class Solution:\n",
    "    def validPath(self, n: int, edges: List[List[int]], source: int, destination: int) -> bool:\n",
    "        graph = defaultdict(list)\n",
    "        seen = {source}\n",
    "        for x, y in edges:\n",
    "            graph[x].append(y)\n",
    "            graph[y].append(x)\n",
    "\n",
    "        if source == destination:\n",
    "            return True\n",
    "\n",
    "        def dfs(node):\n",
    "            ans = 0\n",
    "            for neighbor in graph[node]: # Cycle through all neighbors; if any is destination, return True, else continue\n",
    "                if neighbor not in seen:\n",
    "                    if neighbor == destination:\n",
    "                        ans += 1\n",
    "                    seen.add(neighbor)\n",
    "                    ans += dfs(neighbor) # Only recurse into dfs if node has not been seen\n",
    "                            \n",
    "            return ans\n",
    "        \n",
    "        return dfs(source) == 1\n"
   ]
  },
  {
   "cell_type": "code",
   "execution_count": 265,
   "metadata": {},
   "outputs": [
    {
     "data": {
      "text/plain": [
       "True"
      ]
     },
     "execution_count": 265,
     "metadata": {},
     "output_type": "execute_result"
    }
   ],
   "source": [
    "sol = Solution()\n",
    "sol.validPath(3, [[0,1],[1,2],[2,0]], 0, 2)"
   ]
  },
  {
   "cell_type": "code",
   "execution_count": 266,
   "metadata": {},
   "outputs": [
    {
     "data": {
      "text/plain": [
       "False"
      ]
     },
     "execution_count": 266,
     "metadata": {},
     "output_type": "execute_result"
    }
   ],
   "source": [
    "sol = Solution()\n",
    "sol.validPath(6, [[0,1],[0,2],[3,5],[5,4],[4,3]], 0, 5)"
   ]
  },
  {
   "cell_type": "code",
   "execution_count": 270,
   "metadata": {},
   "outputs": [
    {
     "data": {
      "text/plain": [
       "True"
      ]
     },
     "execution_count": 270,
     "metadata": {},
     "output_type": "execute_result"
    }
   ],
   "source": [
    "sol = Solution()\n",
    "sol.validPath(1, [], 0, 0)"
   ]
  }
 ],
 "metadata": {
  "language_info": {
   "name": "python"
  }
 },
 "nbformat": 4,
 "nbformat_minor": 2
}
