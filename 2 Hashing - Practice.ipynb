{
 "cells": [
  {
   "cell_type": "markdown",
   "id": "228781cf",
   "metadata": {},
   "source": [
    "# Checking for Existence"
   ]
  },
  {
   "cell_type": "code",
   "execution_count": null,
   "id": "d789363a",
   "metadata": {},
   "outputs": [],
   "source": [
    "from typing import List"
   ]
  },
  {
   "cell_type": "markdown",
   "id": "12f2096e",
   "metadata": {},
   "source": [
    "## Example 1: 1. Two Sum [E]\n",
    "\n",
    "Given an array of integers `nums` and an integer `target`, return indices of the two numbers such that they add up to `target`.\n",
    "\n",
    "You may assume that each input would have exactly one solution, and you may not use the same element twice.\n",
    "\n",
    "You can return the answer in any order."
   ]
  },
  {
   "cell_type": "code",
   "execution_count": 6,
   "id": "1876f511",
   "metadata": {},
   "outputs": [],
   "source": [
    "class Solution:\n",
    "    def twoSum(self, nums: List[int], target: int) -> List[int]:\n",
    "        dic = {}\n",
    "        for i in range(0,len(nums)):\n",
    "            num = nums[i]\n",
    "            complement = target - num\n",
    "            if complement in dic:\n",
    "                print(dic)\n",
    "                return [i, dic[complement]]\n",
    "            \n",
    "            dic[num] = i\n",
    "\n",
    "\n",
    "        print(dic)\n",
    "        return[-1, -1]\n"
   ]
  },
  {
   "cell_type": "code",
   "execution_count": 7,
   "id": "93c977bf",
   "metadata": {},
   "outputs": [
    {
     "name": "stdout",
     "output_type": "stream",
     "text": [
      "{2: 0}\n"
     ]
    },
    {
     "data": {
      "text/plain": [
       "[1, 0]"
      ]
     },
     "execution_count": 7,
     "metadata": {},
     "output_type": "execute_result"
    }
   ],
   "source": [
    "sol = Solution()\n",
    "nums = [2,7,11,15]\n",
    "target = 9\n",
    "sol.twoSum(nums, target)"
   ]
  },
  {
   "cell_type": "markdown",
   "id": "b45965dd",
   "metadata": {},
   "source": [
    "## Example 2: 2351. First Letter to Appear Twice [E]\n",
    "\n",
    "Given a string `s` consisting of lowercase English letters, return the first letter to appear twice.\n",
    "\n",
    "Note:\n",
    "\n",
    "* A letter `a` appears twice before another letter `b` if the second occurrence of `a` is before the second occurrence of `b`.\n",
    "\n",
    "* `s` will contain at least one letter that appears twice."
   ]
  },
  {
   "cell_type": "code",
   "execution_count": null,
   "id": "109a6968",
   "metadata": {},
   "outputs": [],
   "source": [
    "class Solution:\n",
    "    def repeatedCharacter(self, s: str) -> str:\n",
    "        dic = {}\n",
    "        for ch in s:\n",
    "            if ch in dic:\n",
    "                return ch\n",
    "            else:\n",
    "                dic[ch] = 1\n"
   ]
  },
  {
   "cell_type": "code",
   "execution_count": 12,
   "id": "5f141448",
   "metadata": {},
   "outputs": [
    {
     "data": {
      "text/plain": [
       "'d'"
      ]
     },
     "execution_count": 12,
     "metadata": {},
     "output_type": "execute_result"
    }
   ],
   "source": [
    "sol = Solution()\n",
    "s = \"abccbaacz\"\n",
    "s = \"abcdd\"\n",
    "sol.repeatedCharacter(s)"
   ]
  },
  {
   "cell_type": "markdown",
   "id": "7f2276d0",
   "metadata": {},
   "source": [
    "## Example 3:\n",
    "\n",
    "Given an integer array `nums`, find all the numbers `x` in `nums` that satisfy the following: `x + 1 `is not in `nums`, and `x - 1` is not in `nums`.\n",
    "\n",
    "If a valid number `x` appears multiple times, you only need to include it in the answer once."
   ]
  },
  {
   "cell_type": "code",
   "execution_count": 23,
   "id": "23c2e414",
   "metadata": {},
   "outputs": [],
   "source": [
    "def find_numbers(nums):\n",
    "    nums_set = set(nums)\n",
    "    ans = []\n",
    "    for n in nums:\n",
    "        if (n+1 not in nums_set) and (n-1 not in nums_set):\n",
    "            ans.append(n)\n",
    "\n",
    "    return ans"
   ]
  },
  {
   "cell_type": "code",
   "execution_count": 24,
   "id": "af5905d3",
   "metadata": {},
   "outputs": [
    {
     "data": {
      "text/plain": [
       "[1, 3]"
      ]
     },
     "execution_count": 24,
     "metadata": {},
     "output_type": "execute_result"
    }
   ],
   "source": [
    "nums = [1, 3, 5, 6, 7]\n",
    "find_numbers(nums)"
   ]
  },
  {
   "cell_type": "markdown",
   "id": "71269c7e",
   "metadata": {},
   "source": [
    "## 1832. Check if the Sentence Is Pangram [E]\n",
    "\n",
    "A pangram is a sentence where every letter of the English alphabet appears at least once.\n",
    "\n",
    "Given a string `sentence` containing only lowercase English letters, return `true` if `sentence` is a pangram, or `false` otherwise.\n",
    "\n"
   ]
  },
  {
   "cell_type": "code",
   "execution_count": 27,
   "id": "6d130331",
   "metadata": {},
   "outputs": [],
   "source": [
    "class Solution:\n",
    "    def checkIfPangram(self, sentence: str) -> bool:\n",
    "        alpha_set = set('abcdefghijklmnopqrstuvwxyz')\n",
    "        sent_set = set(sentence)\n",
    "        if sent_set == alpha_set:\n",
    "            return True\n",
    "        else:\n",
    "            return False"
   ]
  },
  {
   "cell_type": "code",
   "execution_count": 28,
   "id": "5048b2e0",
   "metadata": {},
   "outputs": [
    {
     "data": {
      "text/plain": [
       "True"
      ]
     },
     "execution_count": 28,
     "metadata": {},
     "output_type": "execute_result"
    }
   ],
   "source": [
    "sol = Solution()\n",
    "sentence = \"thequickbrownfoxjumpsoverthelazydog\"\n",
    "sol.checkIfPangram(sentence)"
   ]
  },
  {
   "cell_type": "markdown",
   "id": "32ae28d4",
   "metadata": {},
   "source": [
    "## 268. Missing Number [E]\n",
    "\n",
    "Given an array `nums` containing `n` distinct numbers in the range `[0, n]`, return the only number in the range that is missing from the array."
   ]
  },
  {
   "cell_type": "code",
   "execution_count": 35,
   "id": "22f9c5eb",
   "metadata": {},
   "outputs": [],
   "source": [
    "class Solution:\n",
    "    def missingNumber(self, nums: List[int]) -> int:\n",
    "        nums_set = set(nums)\n",
    "        for i in range(0,len(nums)+1):\n",
    "            if i not in nums_set:\n",
    "                return i"
   ]
  },
  {
   "cell_type": "code",
   "execution_count": 37,
   "id": "b9132446",
   "metadata": {},
   "outputs": [
    {
     "data": {
      "text/plain": [
       "8"
      ]
     },
     "execution_count": 37,
     "metadata": {},
     "output_type": "execute_result"
    }
   ],
   "source": [
    "sol = Solution()\n",
    "nums = [3,0,1]\n",
    "nums = [0, 1]\n",
    "nums = [9,6,4,2,3,5,7,0,1]\n",
    "sol.missingNumber(nums)"
   ]
  },
  {
   "cell_type": "markdown",
   "id": "752c4a44",
   "metadata": {},
   "source": [
    "## 1426. Counting Elements [E]\n",
    "\n",
    "Given an integer array `arr`, count how many elements `x` there are, such that `x + 1` is also in `arr`. If there are duplicates in `arr`, count them separately."
   ]
  },
  {
   "cell_type": "code",
   "execution_count": 38,
   "id": "5860c55e",
   "metadata": {},
   "outputs": [],
   "source": [
    "class Solution:\n",
    "    def countElements(self, arr: List[int]) -> int:\n",
    "        arr_set = set(arr)\n",
    "        curr = 0\n",
    "        for item in arr:\n",
    "            if item+1 in arr_set:\n",
    "                curr += 1\n",
    "\n",
    "        return curr"
   ]
  },
  {
   "cell_type": "code",
   "execution_count": 39,
   "id": "bd2c1cf4",
   "metadata": {},
   "outputs": [
    {
     "data": {
      "text/plain": [
       "2"
      ]
     },
     "execution_count": 39,
     "metadata": {},
     "output_type": "execute_result"
    }
   ],
   "source": [
    "sol = Solution()\n",
    "arr = [1,2,3]\n",
    "sol.countElements(arr)"
   ]
  },
  {
   "cell_type": "markdown",
   "id": "deba01d0",
   "metadata": {},
   "source": [
    "# Counting"
   ]
  },
  {
   "cell_type": "markdown",
   "id": "9f2f0cae",
   "metadata": {},
   "source": [
    "## Example 1:\n",
    "\n",
    "You are given a string `s` and an integer `k`. Find the length of the longest substring that contains at most `k` distinct characters.\n",
    "\n",
    "For example, given `s = \"eceba\"` and `k = 2`, return `3`. The longest substring with at most `2` distinct characters is `\"ece\"`."
   ]
  },
  {
   "cell_type": "code",
   "execution_count": null,
   "id": "c05476bb",
   "metadata": {},
   "outputs": [],
   "source": [
    "from collections import defaultdict\n",
    "\n",
    "def find_longest_substring(s, k):\n",
    "    dic = defaultdict(int)\n",
    "    left = 0\n",
    "    max_len = 0\n",
    "    for right in range(0,len(s)):\n",
    "        dic[s[right]] += 1\n",
    "        while len(dic) > k: # Check for at most k distinct chars!\n",
    "            dic[s[left]] -= 1\n",
    "            if dic[s[left]] == 0: # Check for zero - missed this!\n",
    "                del dic[s[left]]\n",
    "\n",
    "            left += 1\n",
    "        \n",
    "        max_len = max(max_len, right - left + 1)\n",
    "\n",
    "    return max_len\n"
   ]
  },
  {
   "cell_type": "code",
   "execution_count": 53,
   "id": "0b710700",
   "metadata": {},
   "outputs": [
    {
     "data": {
      "text/plain": [
       "3"
      ]
     },
     "execution_count": 53,
     "metadata": {},
     "output_type": "execute_result"
    }
   ],
   "source": [
    "s = \"eceba\"\n",
    "# s = \"eceebba\"\n",
    "k = 2\n",
    "find_longest_substring(s, k)"
   ]
  },
  {
   "cell_type": "markdown",
   "id": "262a374b",
   "metadata": {},
   "source": [
    "## Example 2: 2248. Intersection of Multiple Arrays [E]\n",
    "\n",
    "Given a 2D integer array `nums` where `nums[i]` is a non-empty array of distinct positive integers, return the list of integers that are present in each array of `nums` sorted in ascending order.\n"
   ]
  },
  {
   "cell_type": "code",
   "execution_count": null,
   "id": "ea40fc68",
   "metadata": {},
   "outputs": [],
   "source": [
    "from collections import defaultdict\n",
    "\n",
    "# Integers present in each array will occur len(nums) times, once for each sub-array, since they are distinct within each sub-array\n",
    "\n",
    "class Solution:\n",
    "    def intersection(self, nums: List[List[int]]) -> List[int]:\n",
    "        counts = defaultdict(int)\n",
    "        for i in range(0,len(nums)):\n",
    "            for j in range(0,len(nums[i])):\n",
    "                counts[nums[i][j]] += 1\n",
    "\n",
    "        # print(counts)\n",
    "        ans = []\n",
    "        for key, value in counts.items():\n",
    "            if value == len(nums):\n",
    "                ans.append(key)\n",
    "\n",
    "        return sorted(ans)"
   ]
  },
  {
   "cell_type": "code",
   "execution_count": 63,
   "id": "50e4dd5f",
   "metadata": {},
   "outputs": [
    {
     "data": {
      "text/plain": [
       "[3, 4]"
      ]
     },
     "execution_count": 63,
     "metadata": {},
     "output_type": "execute_result"
    }
   ],
   "source": [
    "sol = Solution()\n",
    "nums = [[3,1,2,4,5],[1,2,3,4],[3,4,5,6]]\n",
    "sol.intersection(nums)"
   ]
  },
  {
   "cell_type": "markdown",
   "id": "da4cc0ac",
   "metadata": {},
   "source": [
    "## Example 3: 1941. Check if All Characters Have Equal Number of Occurrences [E]\n",
    "\n",
    "Given a string `s`, return `true` if `s` is a good string, or `false` otherwise.\n",
    "\n",
    "A string `s` is good if all the characters that appear in `s` have the same number of occurrences (i.e., the same frequency)."
   ]
  },
  {
   "cell_type": "code",
   "execution_count": 64,
   "id": "ae8b8ca6",
   "metadata": {},
   "outputs": [],
   "source": [
    "from collections import defaultdict\n",
    "\n",
    "class Solution:\n",
    "    def areOccurrencesEqual(self, s: str) -> bool:\n",
    "        counter = defaultdict(int)\n",
    "\n",
    "        for ch in s:\n",
    "            counter[ch] += 1\n",
    "\n",
    "        if len(set(counter.values()))==1:\n",
    "            return True\n",
    "        else:\n",
    "            return False"
   ]
  },
  {
   "cell_type": "code",
   "execution_count": 66,
   "id": "b732841a",
   "metadata": {},
   "outputs": [
    {
     "data": {
      "text/plain": [
       "False"
      ]
     },
     "execution_count": 66,
     "metadata": {},
     "output_type": "execute_result"
    }
   ],
   "source": [
    "s = \"abacbc\"\n",
    "s = \"aaabb\"\n",
    "sol = Solution()\n",
    "sol.areOccurrencesEqual(s)"
   ]
  },
  {
   "cell_type": "markdown",
   "id": "890c6e23",
   "metadata": {},
   "source": [
    "## Example 4: 560. Subarray Sum Equals K [M]\n",
    "\n",
    "Given an array of integers `nums` and an integer `k`, return the total number of subarrays whose sum equals to `k`.\n",
    "\n",
    "A subarray is a contiguous non-empty sequence of elements within an array."
   ]
  },
  {
   "cell_type": "code",
   "execution_count": null,
   "id": "a268b7fb",
   "metadata": {},
   "outputs": [],
   "source": [
    "from collections import defaultdict\n",
    "\n",
    "class Solution:\n",
    "    def subarraySum(self, nums: List[int], k: int) -> int:\n",
    "        counter = defaultdict(int)\n",
    "        counter[0] = 1 # Count instances of prefix sums\n",
    "        curr = 0\n",
    "        ans = 0 # Count of valid subarrays\n",
    "\n",
    "        for i in range(0,len(nums)):\n",
    "            curr += nums[i]\n",
    "\n",
    "            if (curr - k) in counter.keys(): # Redundant - if missing, will just add 0\n",
    "                ans += counter[curr - k]\n",
    "\n",
    "            counter[curr] += 1  # Edge case: order matters, don't count yourself if array is one element\n",
    "\n",
    "\n",
    "        return ans"
   ]
  },
  {
   "cell_type": "code",
   "execution_count": 84,
   "id": "c6485761",
   "metadata": {},
   "outputs": [
    {
     "data": {
      "text/plain": [
       "0"
      ]
     },
     "execution_count": 84,
     "metadata": {},
     "output_type": "execute_result"
    }
   ],
   "source": [
    "nums = [1,1,1]\n",
    "k = 2\n",
    "\n",
    "nums = [1, 2, 1, 2, 1]\n",
    "k = 3\n",
    "\n",
    "nums = [1]\n",
    "k = 0\n",
    "\n",
    "sol = Solution()\n",
    "sol.subarraySum(nums, k)"
   ]
  },
  {
   "cell_type": "markdown",
   "id": "21ff5935",
   "metadata": {},
   "source": [
    "## Example 5: 1248. Count Number of Nice Subarrays [M]\n",
    "\n",
    "Given an array of integers `nums` and an integer `k`. A continuous subarray is called nice if there are `k` odd numbers on it.\n",
    "\n",
    "Return the number of nice sub-arrays."
   ]
  },
  {
   "cell_type": "code",
   "execution_count": null,
   "id": "0d663d77",
   "metadata": {},
   "outputs": [],
   "source": [
    "from collections import defaultdict\n",
    "\n",
    "class Solution:\n",
    "    def numberOfSubarrays(self, nums: List[int], k: int) -> int:\n",
    "        counts = defaultdict(int) # Record counts of odds in each iteration (after each increment of i)\n",
    "        counts[0] = 1\n",
    "\n",
    "        curr = 0 # Current count of odds up to index i\n",
    "        ans = 0 # Number of substrings that satisfy constraint\n",
    "\n",
    "        for right in range(0,len(nums)):\n",
    "            if nums[right]%2 == 1: # Is odd\n",
    "                curr += 1\n",
    "\n",
    "            ans += counts[curr-k] # Add number of substrings that have curr-k as recorded as number of counts\n",
    "\n",
    "            counts[curr] += 1 # Update counter with current count of odds\n",
    "\n",
    "        return ans"
   ]
  },
  {
   "cell_type": "code",
   "execution_count": null,
   "id": "c2fa2e29",
   "metadata": {},
   "outputs": [
    {
     "data": {
      "text/plain": [
       "0"
      ]
     },
     "execution_count": 98,
     "metadata": {},
     "output_type": "execute_result"
    }
   ],
   "source": [
    "nums = [1,1,2,1,1]\n",
    "# odds  1 2 2 3 4\n",
    "k = 3\n",
    "\n",
    "nums = [2,4,6]\n",
    "k = 1\n",
    "\n",
    "nums = [2,2,2,1,2,2,1,2,2,2]\n",
    "k = 2\n",
    "\n",
    "sol = Solution()\n",
    "sol.numberOfSubarrays(nums, k)"
   ]
  },
  {
   "cell_type": "markdown",
   "id": "c599ca1b",
   "metadata": {},
   "source": [
    "## 2225. Find Players With Zero or One Losses [M]\n",
    "\n",
    "You are given an integer array `matches` where `matches[i] = [winneri, loseri]` indicates that the player `winneri` defeated player `loseri` in a match.\n",
    "\n",
    "Return a list `answer` of size 2 where:\n",
    "\n",
    "* `answer[0]` is a list of all players that have not lost any matches.\n",
    "\n",
    "* `answer[1]` is a list of all players that have lost exactly one match.\n",
    "\n",
    "The values in the two lists should be returned in increasing order.\n",
    "\n",
    "Note:\n",
    "\n",
    "* You should only consider the players that have played at least one match.\n",
    "\n",
    "* The testcases will be generated such that no two matches will have the same outcome."
   ]
  },
  {
   "cell_type": "code",
   "execution_count": null,
   "id": "6caa895a",
   "metadata": {},
   "outputs": [],
   "source": [
    "from collections import defaultdict\n",
    "\n",
    "class Solution:\n",
    "    def findWinners(self, matches: List[List[int]]) -> List[List[int]]:\n",
    "        count_losers = defaultdict(int) # player: counts of losses\n",
    "        count_winners = defaultdict(int)\n",
    "        answer0 = []\n",
    "        answer1 = []\n",
    "\n",
    "        for i in range(0,len(matches)):\n",
    "            count_losers[matches[i][1]] += 1 # loser for match i, add 1 tally\n",
    "            count_winners[matches[i][0]] += 1\n",
    "\n",
    "\n",
    "        for key in count_winners.keys():\n",
    "            if key not in count_losers.keys():\n",
    "                answer0.append(key)\n",
    "\n",
    "        for key, value in count_losers.items():\n",
    "            if value == 1:\n",
    "                answer1.append(key)\n",
    "\n",
    "        return [sorted(answer0), sorted(answer1)]\n",
    "        \n",
    "        "
   ]
  },
  {
   "cell_type": "code",
   "execution_count": 123,
   "id": "1c7b12e4",
   "metadata": {},
   "outputs": [],
   "source": [
    "from collections import defaultdict\n",
    "\n",
    "class Solution:\n",
    "    def findWinners(self, matches: List[List[int]]) -> List[List[int]]:\n",
    "        count_losers = defaultdict(int) # player: counts of losses\n",
    "        count_winners = defaultdict(int)\n",
    "        answer0 = set()\n",
    "        answer1 = set()\n",
    "\n",
    "        for i in range(0,len(matches)):\n",
    "            count_losers[matches[i][1]] += 1 # loser for match i, add 1 tally\n",
    "            count_winners[matches[i][0]] += 1\n",
    "\n",
    "\n",
    "        for winner, loser in matches:\n",
    "            if winner not in count_losers.keys():\n",
    "                answer0.add(winner)\n",
    "\n",
    "            if count_losers[loser] == 1:\n",
    "                answer1.add(loser)\n",
    "\n",
    "        return [sorted(list(answer0)), sorted(list(answer1))]\n",
    "        "
   ]
  },
  {
   "cell_type": "code",
   "execution_count": null,
   "id": "1bc6a1e2",
   "metadata": {},
   "outputs": [],
   "source": [
    "nums = [5,7,3,9,4,9,8,3,1]\n",
    "sol = Solution()\n",
    "sol.largestUniqueNumber(nums)"
   ]
  },
  {
   "cell_type": "code",
   "execution_count": 124,
   "id": "360efe62",
   "metadata": {},
   "outputs": [
    {
     "data": {
      "text/plain": [
       "[[1, 2, 10], [4, 5, 7, 8]]"
      ]
     },
     "execution_count": 124,
     "metadata": {},
     "output_type": "execute_result"
    }
   ],
   "source": [
    "matches = [[1,3],[2,3],[3,6],[5,6],[5,7],[4,5],[4,8],[4,9],[10,4],[10,9]]\n",
    "# matches = [[0,1]]\n",
    "\n",
    "sol = Solution()\n",
    "sol.findWinners(matches)"
   ]
  },
  {
   "cell_type": "markdown",
   "id": "52c9bf2e",
   "metadata": {},
   "source": [
    "## 1133. Largest Unique Number [E]\n",
    "\n",
    "Given an integer array `nums`, return the largest integer that only occurs once. If no integer occurs once, return -1."
   ]
  },
  {
   "cell_type": "code",
   "execution_count": 125,
   "id": "6a69e965",
   "metadata": {},
   "outputs": [],
   "source": [
    "from collections import defaultdict\n",
    "\n",
    "class Solution:\n",
    "    def largestUniqueNumber(self, nums: List[int]) -> int:\n",
    "        num_counts = defaultdict(int)\n",
    "        ans = []\n",
    "\n",
    "        for num in nums:\n",
    "            num_counts[num] += 1\n",
    "\n",
    "        for key, value in num_counts.items():\n",
    "            if value == 1:\n",
    "                ans.append(key)\n",
    "\n",
    "        if len(ans) == 0:\n",
    "            return -1\n",
    "        else:\n",
    "            return max(ans)\n",
    "        \n"
   ]
  },
  {
   "cell_type": "code",
   "execution_count": 128,
   "id": "0c4a0786",
   "metadata": {},
   "outputs": [
    {
     "data": {
      "text/plain": [
       "-1"
      ]
     },
     "execution_count": 128,
     "metadata": {},
     "output_type": "execute_result"
    }
   ],
   "source": [
    "nums = [5,7,3,9,4,9,8,3,1]\n",
    "nums = []\n",
    "nums = [9,9,8,8]\n",
    "sol = Solution()\n",
    "sol.largestUniqueNumber(nums)"
   ]
  },
  {
   "cell_type": "markdown",
   "id": "b75381be",
   "metadata": {},
   "source": [
    "## 1189. Maximum Number of Balloons [E]\n",
    "\n",
    "Given a string `text`, you want to use the characters of `text` to form as many instances of the word \"balloon\" as possible.\n",
    "\n",
    "You can use each character in `text` at most once. Return the maximum number of instances that can be formed."
   ]
  },
  {
   "cell_type": "code",
   "execution_count": 176,
   "id": "379ad79c",
   "metadata": {},
   "outputs": [],
   "source": [
    "from collections import defaultdict\n",
    "\n",
    "class Solution:\n",
    "    def maxNumberOfBalloons(self, text: str) -> int:\n",
    "        ball_counts = defaultdict(int)\n",
    "        ball_counts['b'] = 0\n",
    "        ball_counts['a'] = 0\n",
    "        ball_counts['l'] = 0\n",
    "        ball_counts['o'] = 0\n",
    "        ball_counts['n'] = 0\n",
    "\n",
    "        for c in text:\n",
    "            if c in \"balon\":\n",
    "                ball_counts[c] += 1\n",
    "\n",
    "        if ball_counts.get('l'):\n",
    "            ball_counts['l'] = ball_counts['l']/2\n",
    "\n",
    "        if ball_counts.get('o'):\n",
    "            ball_counts['o'] = ball_counts['o']/2     \n",
    "\n",
    "        ans = min(ball_counts.values())\n",
    "\n",
    "        if ans < 1:\n",
    "            return 0\n",
    "        else:\n",
    "            return int(ans)\n"
   ]
  },
  {
   "cell_type": "code",
   "execution_count": 177,
   "id": "bfc2cfc7",
   "metadata": {},
   "outputs": [
    {
     "data": {
      "text/plain": [
       "0"
      ]
     },
     "execution_count": 177,
     "metadata": {},
     "output_type": "execute_result"
    }
   ],
   "source": [
    "text = \"nlaebolko\"\n",
    "text = \"loonbalxballpoon\"\n",
    "text = \"a\"\n",
    "text = \"balon\"\n",
    "text = \"lloo\"\n",
    "\n",
    "sol = Solution()\n",
    "sol.maxNumberOfBalloons(text)"
   ]
  },
  {
   "cell_type": "markdown",
   "id": "dfe7b6ff",
   "metadata": {},
   "source": [
    "## 525. Contiguous Array [M]\n",
    "\n",
    "Given a binary array `nums`, return the maximum length of a contiguous subarray with an equal number of `0` and `1`."
   ]
  },
  {
   "cell_type": "code",
   "execution_count": null,
   "id": "413baad6",
   "metadata": {},
   "outputs": [],
   "source": [
    "# Via ChatGPT\n",
    "\n",
    "from collections import defaultdict\n",
    "\n",
    "class Solution:\n",
    "    def findMaxLength(self, nums: List[int]) -> int:\n",
    "        count = 0\n",
    "        max_length = 0\n",
    "        count_dic = {0: -1} # Record earliest index which saw count; initialize at -1\n",
    "\n",
    "        for i, num in enumerate(nums):\n",
    "            if num == 1:\n",
    "                count += 1\n",
    "            else:\n",
    "                count -= 1\n",
    "\n",
    "            if count in count_dic:\n",
    "                max_length = max(max_length, i - count_dic[count])\n",
    "            else:\n",
    "                count_dic[count] = i\n",
    "\n",
    "        return max_length\n"
   ]
  },
  {
   "cell_type": "code",
   "execution_count": null,
   "id": "c2e2ab27",
   "metadata": {},
   "outputs": [
    {
     "data": {
      "text/plain": [
       "6"
      ]
     },
     "execution_count": 202,
     "metadata": {},
     "output_type": "execute_result"
    }
   ],
   "source": [
    "nums = [0,1]\n",
    "nums = [0,1,0]\n",
    "\n",
    "nums = [0, 1, 1, 1, 1, 1, 0, 0, 0]\n",
    "#      -1  0  1  2  3  4  3  2  1\n",
    "\n",
    "sol = Solution()\n",
    "sol.findMaxLength(nums)"
   ]
  },
  {
   "cell_type": "markdown",
   "id": "4720eada",
   "metadata": {},
   "source": [
    "# Additional Cases"
   ]
  },
  {
   "cell_type": "markdown",
   "id": "9770e741",
   "metadata": {},
   "source": [
    "## Example 1: 49. Group Anagrams [M]\n",
    "\n",
    "Given an array of strings `strs`, group the anagrams together. You can return the answer in any order."
   ]
  },
  {
   "cell_type": "code",
   "execution_count": null,
   "id": "c837129d",
   "metadata": {},
   "outputs": [],
   "source": [
    "from collections import defaultdict\n",
    "\n",
    "class Solution:\n",
    "    def groupAnagrams(self, strs: List[str]) -> List[List[str]]:\n",
    "        ans = []\n",
    "        sorted_dict = defaultdict(list)\n",
    "\n",
    "        for st in strs:\n",
    "            sorted_dict[''.join(sorted(st))].append(st)\n",
    "\n",
    "        for key, value in sorted_dict.items():\n",
    "            ans.append(list(value))\n",
    "\n",
    "        return ans\n"
   ]
  },
  {
   "cell_type": "code",
   "execution_count": 225,
   "id": "b9c3f9e6",
   "metadata": {},
   "outputs": [
    {
     "data": {
      "text/plain": [
       "[['eat', 'tea', 'ate'], ['tan', 'nat'], ['bat']]"
      ]
     },
     "execution_count": 225,
     "metadata": {},
     "output_type": "execute_result"
    }
   ],
   "source": [
    "strs = [\"eat\",\"tea\",\"tan\",\"ate\",\"nat\",\"bat\"]\n",
    "sol = Solution()\n",
    "sol.groupAnagrams(strs)"
   ]
  },
  {
   "cell_type": "markdown",
   "id": "41a19900",
   "metadata": {},
   "source": [
    "## Example 2: 2260. Minimum Consecutive Cards to Pick Up [M]\n",
    "\n",
    "You are given an integer array `cards` where `cards[i]` represents the value of the `ith` card. A pair of cards are matching if the cards have the same value.\n",
    "\n",
    "Return the minimum number of consecutive cards you have to pick up to have a pair of matching cards among the picked cards. If it is impossible to have matching cards, return `-1`."
   ]
  },
  {
   "cell_type": "code",
   "execution_count": null,
   "id": "c5d07d93",
   "metadata": {},
   "outputs": [],
   "source": [
    "from collections import defaultdict\n",
    "\n",
    "class Solution:\n",
    "    def minimumCardPickup(self, cards: List[int]) -> int:\n",
    "        card_counts = defaultdict(int)\n",
    "        min_draws = 10e5\n",
    "\n",
    "        for i, card in enumerate(cards):\n",
    "            if card in card_counts:\n",
    "                min_draws = min(min_draws, i - card_counts[card] + 1)\n",
    "                card_counts[card] = i # Save it, as it could appear again, resulting in a shorter draw sequence\n",
    "            else:\n",
    "                card_counts[card] = i\n",
    "\n",
    "        if min_draws == 10e5:\n",
    "            return -1\n",
    "        else:\n",
    "            return min_draws"
   ]
  },
  {
   "cell_type": "code",
   "execution_count": 236,
   "id": "7b7094a3",
   "metadata": {},
   "outputs": [
    {
     "data": {
      "text/plain": [
       "-1"
      ]
     },
     "execution_count": 236,
     "metadata": {},
     "output_type": "execute_result"
    }
   ],
   "source": [
    "cards = [3,4,2,3,4,7]\n",
    "cards = [1,0,5,3]\n",
    "sol = Solution()\n",
    "sol.minimumCardPickup(cards)"
   ]
  },
  {
   "cell_type": "markdown",
   "id": "0be3af54",
   "metadata": {},
   "source": [
    "## Example 3: 2342. Max Sum of a Pair With Equal Sum of Digits [M]\n",
    "\n",
    "You are given a 0-indexed array `nums` consisting of positive integers. You can choose two indices `i` and `j`, such that `i != j`, and the sum of digits of the number `nums[i]` is equal to that of `nums[j].`\n",
    "\n",
    "Return the maximum value of `nums[i] + nums[j]` that you can obtain over all possible indices i and j that satisfy the conditions. If no such pair of indices exists, return -1."
   ]
  },
  {
   "cell_type": "code",
   "execution_count": null,
   "id": "157e8cfb",
   "metadata": {},
   "outputs": [],
   "source": [
    "from collections import defaultdict\n",
    "\n",
    "class Solution:\n",
    "    def maximumSum(self, nums: List[int]) -> int:\n",
    "        counts = defaultdict(list) # digit_sum: index1, index2, ...\n",
    "        max_sum = -1\n",
    "\n",
    "        for i, num in enumerate(nums):\n",
    "\n",
    "            dsum = 0\n",
    "            d = num\n",
    "            while d != 0:\n",
    "                dsum += d%10\n",
    "                d = d//10\n",
    "\n",
    "            counts[dsum].append(i)\n",
    "\n",
    "        for key in counts.keys():\n",
    "            arr_i = counts[key] # arr is a list of indices\n",
    "\n",
    "            arr_nums = []\n",
    "            for a in arr_i:\n",
    "                arr_nums.append(nums[a])\n",
    "\n",
    "            if len(arr_nums) > 1:\n",
    "                max_sum = max(max_sum, sum(sorted(arr_nums)[-2:]))\n",
    "                \n",
    "        return max_sum\n",
    "\n"
   ]
  },
  {
   "cell_type": "code",
   "execution_count": 268,
   "id": "f5e518f7",
   "metadata": {},
   "outputs": [
    {
     "data": {
      "text/plain": [
       "54"
      ]
     },
     "execution_count": 268,
     "metadata": {},
     "output_type": "execute_result"
    }
   ],
   "source": [
    "nums = [18,43,36,13,7]\n",
    "# nums = [10,12,19,14]\n",
    "sol = Solution()\n",
    "sol.maximumSum(nums)"
   ]
  },
  {
   "cell_type": "markdown",
   "id": "d6223cf3",
   "metadata": {},
   "source": [
    "## Example 4: 2352. Equal Row and Column Pairs [M]\n",
    "\n",
    "Given a 0-indexed `n x n` integer matrix `grid`, return the number of pairs `(ri, cj)` such that row `ri` and column `cj` are equal.\n",
    "\n",
    "A row and column pair is considered equal if they contain the same elements in the same order (i.e., an equal array)."
   ]
  },
  {
   "cell_type": "code",
   "execution_count": null,
   "id": "3f66201c",
   "metadata": {},
   "outputs": [],
   "source": [
    "from collections import defaultdict\n",
    "\n",
    "class Solution:\n",
    "    def equalPairs(self, grid: List[List[int]]) -> int:\n",
    "        matches = defaultdict(list) # list_of_ints: [#rows, #cols]\n",
    "        n = len(grid)\n",
    "        ans = 0\n",
    "\n",
    "        for row in grid:\n",
    "            r = tuple(row)\n",
    "            if r in matches:\n",
    "                matches[r][0] += 1 # first index is rows\n",
    "            else:\n",
    "                matches[r].append(1) # initialize with [1,0]\n",
    "                matches[r].append(0)\n",
    "\n",
    "        for j in range(0,n): # columns\n",
    "\n",
    "            col = []\n",
    "            for i in range(0,n): # rows\n",
    "                col.append(grid[i][j])\n",
    "\n",
    "            c = tuple(col)\n",
    "            if c in matches:\n",
    "                matches[c][1] += 1 # second index is columns\n",
    "            else:\n",
    "                matches[c].append(0) # initialize with [0,1]\n",
    "                matches[c].append(1)\n",
    "\n",
    "        for value in matches.values():\n",
    "            ans += value[0]*value[1]\n",
    "\n",
    "        return ans\n",
    "\n"
   ]
  },
  {
   "cell_type": "code",
   "execution_count": 280,
   "id": "7c12a86a",
   "metadata": {},
   "outputs": [
    {
     "data": {
      "text/plain": [
       "0"
      ]
     },
     "execution_count": 280,
     "metadata": {},
     "output_type": "execute_result"
    }
   ],
   "source": [
    "grid = [[3,2,1],[1,7,6],[2,7,7]]\n",
    "grid = [[3,1,2,2],[1,4,4,5],[2,4,2,2],[2,4,2,2]]\n",
    "grid = [[1,2],[3,4]]\n",
    "\n",
    "sol = Solution()\n",
    "sol.equalPairs(grid)"
   ]
  },
  {
   "cell_type": "markdown",
   "id": "4a28a52f",
   "metadata": {},
   "source": [
    "## 383. Ransom Note [E]\n",
    "\n",
    "Given two strings `ransomNote` and `magazine`, return `true` if `ransomNote` can be constructed by using the letters from `magazine` and `false` otherwise.\n",
    "\n",
    "Each letter in `magazine` can only be used once in `ransomNote`."
   ]
  },
  {
   "cell_type": "code",
   "execution_count": 284,
   "id": "74e74826",
   "metadata": {},
   "outputs": [],
   "source": [
    "from collections import defaultdict\n",
    "\n",
    "class Solution:\n",
    "    def canConstruct(self, ransomNote: str, magazine: str) -> bool:\n",
    "        counts = defaultdict(int)\n",
    "\n",
    "        for m in magazine:\n",
    "            counts[m] += 1\n",
    "\n",
    "        for r in ransomNote:\n",
    "            if r in counts:\n",
    "                counts[r] -= 1\n",
    "                if counts[r] == 0:\n",
    "                    del counts[r]\n",
    "            else:\n",
    "                return False\n",
    "\n",
    "        return True\n"
   ]
  },
  {
   "cell_type": "code",
   "execution_count": 287,
   "id": "59672d11",
   "metadata": {},
   "outputs": [
    {
     "data": {
      "text/plain": [
       "True"
      ]
     },
     "execution_count": 287,
     "metadata": {},
     "output_type": "execute_result"
    }
   ],
   "source": [
    "ransomNote = \"a\"\n",
    "magazine = \"b\"\n",
    "\n",
    "ransomNote = \"aa\"\n",
    "magazine = \"ab\"\n",
    "\n",
    "ransomNote = \"aa\"\n",
    "magazine = \"aab\"\n",
    "\n",
    "sol = Solution()\n",
    "sol.canConstruct(ransomNote, magazine)"
   ]
  },
  {
   "cell_type": "markdown",
   "id": "62c2d8a8",
   "metadata": {},
   "source": [
    "## 771. Jewels and Stones [E]\n",
    "\n",
    "You're given strings `jewels` representing the types of stones that are jewels, and `stones` representing the stones you have. Each character in stones is a type of stone you have. You want to know how many of the stones you have are also jewels.\n",
    "\n",
    "Letters are case sensitive, so \"a\" is considered a different type of stone from \"A\"."
   ]
  },
  {
   "cell_type": "code",
   "execution_count": 291,
   "id": "002d16ca",
   "metadata": {},
   "outputs": [],
   "source": [
    "class Solution:\n",
    "    def numJewelsInStones(self, jewels: str, stones: str) -> int:\n",
    "        ans = 0\n",
    "        jewels_set = set(jewels)\n",
    "\n",
    "        for stone in stones:\n",
    "            if stone in jewels_set:\n",
    "                ans += 1\n",
    "\n",
    "        return ans"
   ]
  },
  {
   "cell_type": "code",
   "execution_count": 292,
   "id": "c829a7b2",
   "metadata": {},
   "outputs": [
    {
     "data": {
      "text/plain": [
       "3"
      ]
     },
     "execution_count": 292,
     "metadata": {},
     "output_type": "execute_result"
    }
   ],
   "source": [
    "jewels = \"aA\"\n",
    "stones = \"aAAbbbb\"\n",
    "\n",
    "sol = Solution()\n",
    "sol.numJewelsInStones(jewels, stones)"
   ]
  },
  {
   "cell_type": "markdown",
   "id": "991c3f5a",
   "metadata": {},
   "source": [
    "## 3. Longest Substring Without Repeating Characters [M]\n",
    "\n",
    "Given a string `s`, find the length of the longest substring without duplicate characters."
   ]
  },
  {
   "cell_type": "code",
   "execution_count": 293,
   "id": "30082cf3",
   "metadata": {},
   "outputs": [],
   "source": [
    "from collections import defaultdict\n",
    "class Solution:\n",
    "    def lengthOfLongestSubstring(self, s: str) -> int:\n",
    "        counts = defaultdict(int)\n",
    "        max_length = 0\n",
    "        left = 0\n",
    "\n",
    "        for right in range(0,len(s)):\n",
    "\n",
    "            while s[right] in counts and left < right: # If duplicate characters\n",
    "                counts[s[left]] -= 1\n",
    "                if counts[s[left]] == 0:\n",
    "                    del counts[s[left]]\n",
    "                \n",
    "                left += 1\n",
    "\n",
    "            max_length = max(max_length, right - left + 1)\n",
    "\n",
    "            counts[s[right]] += 1 # Seen\n",
    "\n",
    "        return max_length\n"
   ]
  },
  {
   "cell_type": "code",
   "execution_count": 297,
   "id": "0fa6eb59",
   "metadata": {},
   "outputs": [
    {
     "data": {
      "text/plain": [
       "0"
      ]
     },
     "execution_count": 297,
     "metadata": {},
     "output_type": "execute_result"
    }
   ],
   "source": [
    "s = \"abcabcbb\"\n",
    "s = \"bbbbb\"\n",
    "s = \"pwwkew\"\n",
    "s = \"\"\n",
    "\n",
    "sol = Solution()\n",
    "sol.lengthOfLongestSubstring(s)"
   ]
  },
  {
   "cell_type": "markdown",
   "id": "6a030adc",
   "metadata": {},
   "source": [
    "# Bonus: Checking for Existence"
   ]
  },
  {
   "cell_type": "markdown",
   "id": "c628eb64",
   "metadata": {},
   "source": [
    "## 217. Contains Duplicate [E]\n",
    "\n",
    "Given an integer array `nums`, return `true` if any value appears at least twice in the array, and return `false` if every element is distinct."
   ]
  },
  {
   "cell_type": "code",
   "execution_count": 298,
   "id": "592a9a5f",
   "metadata": {},
   "outputs": [],
   "source": [
    "from collections import defaultdict\n",
    "\n",
    "class Solution:\n",
    "    def containsDuplicate(self, nums: List[int]) -> bool:\n",
    "        nums_set = set(nums)\n",
    "\n",
    "        if len(nums_set) == len(nums):\n",
    "            return False\n",
    "        else:\n",
    "            return True"
   ]
  },
  {
   "cell_type": "code",
   "execution_count": null,
   "id": "301f10c7",
   "metadata": {},
   "outputs": [
    {
     "data": {
      "text/plain": [
       "False"
      ]
     },
     "execution_count": 300,
     "metadata": {},
     "output_type": "execute_result"
    }
   ],
   "source": [
    "nums = [1,2,3,1]\n",
    "nums = [1,2,3,4]\n",
    "nums = [1,1,1,3,3,4,3,2,4,2]\n",
    "\n",
    "sol = Solution()\n",
    "sol.containsDuplicate(nums)"
   ]
  },
  {
   "cell_type": "markdown",
   "id": "beb36d73",
   "metadata": {},
   "source": [
    "## 1436. Destination City [E]\n",
    "\n",
    "You are given the array `paths`, where `paths[i] = [cityAi, cityBi]` means there exists a direct path going from `cityAi` to `cityBi`. Return the destination city, that is, the city without any path outgoing to another city.\n",
    "\n",
    "It is guaranteed that the graph of paths forms a line without any loop, therefore, there will be exactly one destination city."
   ]
  },
  {
   "cell_type": "code",
   "execution_count": null,
   "id": "201bd3f8",
   "metadata": {},
   "outputs": [],
   "source": [
    "class Solution:\n",
    "    def destCity(self, paths: List[List[str]]) -> str:\n",
    "        origins = set()\n",
    "        destinations = set()\n",
    "\n",
    "        for origin, destination in paths:\n",
    "            origins.add(origin)\n",
    "            destinations.add(destination)\n",
    "\n",
    "        for dest in destinations:\n",
    "            if dest not in origins:\n",
    "                return dest\n",
    "            \n",
    "        return"
   ]
  },
  {
   "cell_type": "code",
   "execution_count": 303,
   "id": "b77af43c",
   "metadata": {},
   "outputs": [
    {
     "data": {
      "text/plain": [
       "'A'"
      ]
     },
     "execution_count": 303,
     "metadata": {},
     "output_type": "execute_result"
    }
   ],
   "source": [
    "paths = [[\"London\",\"New York\"],[\"New York\",\"Lima\"],[\"Lima\",\"Sao Paulo\"]]\n",
    "paths = [[\"B\",\"C\"],[\"D\",\"B\"],[\"C\",\"A\"]]\n",
    "\n",
    "sol = Solution()\n",
    "sol.destCity(paths)"
   ]
  },
  {
   "cell_type": "markdown",
   "id": "7ec2cf2b",
   "metadata": {},
   "source": [
    "## 1496. Path Crossing [E]\n",
    "\n",
    "Given a string `path`, where `path[i] = 'N'`, `'S'`, `'E'` or `'W'`, each representing moving one unit north, south, east, or west, respectively. You start at the origin (0, 0) on a 2D plane and walk on the path specified by path.\n",
    "\n",
    "Return `true` if the path crosses itself at any point, that is, if at any time you are on a location you have previously visited. Return `false` otherwise."
   ]
  },
  {
   "cell_type": "code",
   "execution_count": 318,
   "id": "1f0a0c61",
   "metadata": {},
   "outputs": [],
   "source": [
    "\n",
    "class Solution:\n",
    "    def isPathCrossing(self, path: str) -> bool:\n",
    "        seen = set()\n",
    "        seen.add((0,0))\n",
    "        x = y = 0\n",
    "\n",
    "        for d in path:\n",
    "\n",
    "            if d == 'N':\n",
    "                y += 1\n",
    "            elif d == 'S':\n",
    "                y -= 1\n",
    "            elif d == 'E':\n",
    "                x += 1\n",
    "            elif d == 'W':\n",
    "                x -= 1\n",
    "\n",
    "            if (x,y) in seen:\n",
    "                return True\n",
    "            else:\n",
    "                seen.add((x,y))\n",
    "\n",
    "        return False\n"
   ]
  },
  {
   "cell_type": "code",
   "execution_count": 319,
   "id": "5bd67094",
   "metadata": {},
   "outputs": [
    {
     "data": {
      "text/plain": [
       "True"
      ]
     },
     "execution_count": 319,
     "metadata": {},
     "output_type": "execute_result"
    }
   ],
   "source": [
    "path = \"NES\"\n",
    "path = \"NESWW\"\n",
    "\n",
    "sol = Solution()\n",
    "sol.isPathCrossing(path)"
   ]
  },
  {
   "cell_type": "markdown",
   "id": "9279bef5",
   "metadata": {},
   "source": [
    "# Bonus: Counting"
   ]
  },
  {
   "cell_type": "markdown",
   "id": "b8967d06",
   "metadata": {},
   "source": [
    "## 1748. Sum of Unique Elements [E]\n",
    "\n",
    "You are given an integer array `nums`. The unique elements of an array are the elements that appear exactly once in the array.\n",
    "\n",
    "Return the sum of all the unique elements of `nums`."
   ]
  },
  {
   "cell_type": "code",
   "execution_count": 323,
   "id": "37f6305c",
   "metadata": {},
   "outputs": [],
   "source": [
    "from collections import Counter\n",
    "\n",
    "class Solution:\n",
    "    def sumOfUnique(self, nums: List[int]) -> int:\n",
    "        counts = Counter(nums)\n",
    "        ans = 0\n",
    "\n",
    "        for key, value in counts.items():\n",
    "            if value == 1:\n",
    "                ans += key\n",
    "\n",
    "        return ans"
   ]
  },
  {
   "cell_type": "code",
   "execution_count": 326,
   "id": "c5188326",
   "metadata": {},
   "outputs": [
    {
     "data": {
      "text/plain": [
       "15"
      ]
     },
     "execution_count": 326,
     "metadata": {},
     "output_type": "execute_result"
    }
   ],
   "source": [
    "nums = [1,2,3,2]\n",
    "nums = [1,1,1,1,1]\n",
    "nums = [1,2,3,4,5]\n",
    "\n",
    "sol = Solution()\n",
    "sol.sumOfUnique(nums)"
   ]
  },
  {
   "cell_type": "markdown",
   "id": "3bdbf937",
   "metadata": {},
   "source": [
    "## 3005. Count Elements With Maximum Frequency [E]\n",
    "\n",
    "You are given an array `nums` consisting of positive integers.\n",
    "\n",
    "Return the total frequencies of elements in `nums` such that those elements all have the maximum frequency.\n",
    "\n",
    "The frequency of an element is the number of occurrences of that element in the array."
   ]
  },
  {
   "cell_type": "code",
   "execution_count": 328,
   "id": "694e02e4",
   "metadata": {},
   "outputs": [],
   "source": [
    "from collections import Counter\n",
    "\n",
    "class Solution:\n",
    "    def maxFrequencyElements(self, nums: List[int]) -> int:\n",
    "        counts = Counter(nums)\n",
    "\n",
    "        max_freq = max(counts.values())\n",
    "\n",
    "        uni_elems = 0\n",
    "\n",
    "        for key, value in counts.items():\n",
    "            if value == max_freq:\n",
    "                uni_elems += 1\n",
    "\n",
    "        return uni_elems * max_freq\n"
   ]
  },
  {
   "cell_type": "code",
   "execution_count": null,
   "id": "70dbe688",
   "metadata": {},
   "outputs": [
    {
     "data": {
      "text/plain": [
       "5"
      ]
     },
     "execution_count": 330,
     "metadata": {},
     "output_type": "execute_result"
    }
   ],
   "source": [
    "nums = [1,2,2,3,1,4]\n",
    "nums = [1,2,3,4,5]\n",
    "\n",
    "sol = Solution()\n",
    "sol.maxFrequencyElements(nums)"
   ]
  },
  {
   "cell_type": "markdown",
   "id": "b3fc3cf5",
   "metadata": {},
   "source": [
    "## 1394. Find Lucky Integer in an Array [E]\n",
    "\n",
    "Given an array of integers `arr`, a lucky integer is an integer that has a frequency in the array equal to its value.\n",
    "\n",
    "Return the largest lucky integer in the array. If there is no lucky integer return `-1`."
   ]
  },
  {
   "cell_type": "code",
   "execution_count": 331,
   "id": "696e4c58",
   "metadata": {},
   "outputs": [],
   "source": [
    "from collections import Counter\n",
    "\n",
    "class Solution:\n",
    "    def findLucky(self, arr: List[int]) -> int:\n",
    "        counts = Counter(arr)\n",
    "        max_lucky = -1\n",
    "\n",
    "        for key, value in counts.items():\n",
    "            if key == value:\n",
    "                max_lucky = max(max_lucky, key)\n",
    "\n",
    "        return max_lucky"
   ]
  },
  {
   "cell_type": "code",
   "execution_count": 334,
   "id": "bbe8d098",
   "metadata": {},
   "outputs": [
    {
     "data": {
      "text/plain": [
       "-1"
      ]
     },
     "execution_count": 334,
     "metadata": {},
     "output_type": "execute_result"
    }
   ],
   "source": [
    "arr = [2,2,3,4]\n",
    "arr = [1,2,2,3,3,3]\n",
    "arr = [2,2,2,3,3]\n",
    "\n",
    "sol = Solution()\n",
    "sol.findLucky(arr)"
   ]
  },
  {
   "cell_type": "markdown",
   "id": "6c43d982",
   "metadata": {},
   "source": [
    "## 1207. Unique Number of Occurrences [E]\n",
    "\n",
    "Given an array of integers `arr`, return `true` if the number of occurrences of each value in the array is unique or `false` otherwise."
   ]
  },
  {
   "cell_type": "code",
   "execution_count": 337,
   "id": "88ddf4d1",
   "metadata": {},
   "outputs": [],
   "source": [
    "from collections import Counter\n",
    "\n",
    "class Solution:\n",
    "    def uniqueOccurrences(self, arr: List[int]) -> bool:\n",
    "        counts = Counter(arr)\n",
    "        occurr = list(counts.values())\n",
    "\n",
    "        if len(occurr) == len(set(occurr)):\n",
    "            return True\n",
    "        else:\n",
    "            return False\n"
   ]
  },
  {
   "cell_type": "code",
   "execution_count": null,
   "id": "066d4000",
   "metadata": {},
   "outputs": [
    {
     "data": {
      "text/plain": [
       "True"
      ]
     },
     "execution_count": 340,
     "metadata": {},
     "output_type": "execute_result"
    }
   ],
   "source": [
    "arr = [1,2,2,1,1,3]\n",
    "arr = [1,2]\n",
    "arr = [-3,0,1,-3,1,1,1,-3,10,0]\n",
    "\n",
    "sol = Solution()\n",
    "sol.uniqueOccurrences(arr)"
   ]
  },
  {
   "cell_type": "markdown",
   "id": "a5e112b3",
   "metadata": {},
   "source": [
    "## 451. Sort Characters By Frequency [M]\n",
    "\n",
    "Given a string `s`, sort it in decreasing order based on the frequency of the characters. The frequency of a character is the number of times it appears in the string.\n",
    "\n",
    "Return the sorted string. If there are multiple answers, return any of them."
   ]
  },
  {
   "cell_type": "code",
   "execution_count": 359,
   "id": "2385eafe",
   "metadata": {},
   "outputs": [],
   "source": [
    "from collections import Counter\n",
    "\n",
    "class Solution:\n",
    "    def frequencySort(self, s: str) -> str:\n",
    "        counts = Counter(s)\n",
    "        ans = []\n",
    "\n",
    "        values_sort = sorted(list( set( counts.values() ) ), reverse=True)\n",
    "\n",
    "        for value in values_sort:\n",
    "\n",
    "            for k, v in counts.items():\n",
    "                if v == value:\n",
    "                    for _ in range(v): # add it v times\n",
    "                        ans.append(k)\n",
    "\n",
    "        return ''.join(ans)"
   ]
  },
  {
   "cell_type": "code",
   "execution_count": 361,
   "id": "4222dbab",
   "metadata": {},
   "outputs": [
    {
     "data": {
      "text/plain": [
       "'bbAa'"
      ]
     },
     "execution_count": 361,
     "metadata": {},
     "output_type": "execute_result"
    }
   ],
   "source": [
    "s = \"tree\"\n",
    "s = \"cccaaa\"\n",
    "s = \"Aabb\"\n",
    "\n",
    "sol = Solution()\n",
    "sol.frequencySort(s)"
   ]
  },
  {
   "cell_type": "code",
   "execution_count": null,
   "id": "1d4b014f",
   "metadata": {},
   "outputs": [
    {
     "data": {
      "text/plain": [
       "[('b', 2), ('A', 1), ('a', 1)]"
      ]
     },
     "execution_count": 364,
     "metadata": {},
     "output_type": "execute_result"
    }
   ],
   "source": [
    "Counter(s).most_common() # SHORTCUT!!!"
   ]
  },
  {
   "cell_type": "markdown",
   "id": "de3ad6e5",
   "metadata": {},
   "source": [
    "## 2958. Length of Longest Subarray With at Most K Frequency [M]\n",
    "\n",
    "You are given an integer array `nums` and an integer `k`.\n",
    "\n",
    "The frequency of an element `x` is the number of times it occurs in an array.\n",
    "\n",
    "An array is called good if the frequency of each element in this array is less than or equal to `k`.\n",
    "\n",
    "Return the length of the longest good subarray of `nums`.\n",
    "\n",
    "A subarray is a contiguous non-empty sequence of elements within an array."
   ]
  },
  {
   "cell_type": "code",
   "execution_count": null,
   "id": "79712593",
   "metadata": {},
   "outputs": [],
   "source": [
    "from collections import defaultdict\n",
    "\n",
    "class Solution:\n",
    "    def maxSubarrayLength(self, nums: List[int], k: int) -> int:\n",
    "        counts = defaultdict(int) # num:freq\n",
    "        left = 0\n",
    "        max_length = 0\n",
    "\n",
    "        for right in range(0,len(nums)):\n",
    "            counts[nums[right]] += 1\n",
    "\n",
    "            while max(counts.values()) > k:\n",
    "                counts[nums[left]] -= 1\n",
    "                if counts[nums[left]] == 0:\n",
    "                    del counts[nums[left]]\n",
    "\n",
    "                left += 1\n",
    "\n",
    "            max_length = max(max_length, right - left + 1)\n",
    "\n",
    "        return max_length\n"
   ]
  },
  {
   "cell_type": "code",
   "execution_count": null,
   "id": "6b66f408",
   "metadata": {},
   "outputs": [],
   "source": [
    "from collections import defaultdict\n",
    "\n",
    "class Solution:\n",
    "    def maxSubarrayLength(self, nums: List[int], k: int) -> int:\n",
    "        counts = defaultdict(int) # num:freq\n",
    "        left = 0\n",
    "        max_length = 0\n",
    "\n",
    "        for right in range(0,len(nums)):\n",
    "            counts[nums[right]] += 1\n",
    "\n",
    "            while counts[nums[right]] > k: # shorten: no need to check all values, only value of most recently added\n",
    "                counts[nums[left]] -= 1\n",
    "                if counts[nums[left]] == 0:\n",
    "                    del counts[nums[left]]\n",
    "\n",
    "                left += 1\n",
    "\n",
    "            max_length = max(max_length, right - left + 1)\n",
    "\n",
    "        return max_length"
   ]
  },
  {
   "cell_type": "code",
   "execution_count": 375,
   "id": "3152dec9",
   "metadata": {},
   "outputs": [
    {
     "data": {
      "text/plain": [
       "4"
      ]
     },
     "execution_count": 375,
     "metadata": {},
     "output_type": "execute_result"
    }
   ],
   "source": [
    "nums = [1,2,3,1,2,3,1,2]\n",
    "k = 2\n",
    "\n",
    "nums = [1,2,1,2,1,2,1,2]\n",
    "k = 1\n",
    "\n",
    "nums = [5,5,5,5,5,5,5]\n",
    "k = 4\n",
    "\n",
    "sol = Solution()\n",
    "sol.maxSubarrayLength(nums, k)"
   ]
  },
  {
   "cell_type": "markdown",
   "id": "a0d4edb3",
   "metadata": {},
   "source": [
    "## 1512. Number of Good Pairs [E]\n",
    "\n",
    "Given an array of integers `nums`, return the number of good pairs.\n",
    "\n",
    "A pair `(i, j)` is called good if `nums[i] == nums[j]` and `i < j`."
   ]
  },
  {
   "cell_type": "code",
   "execution_count": null,
   "id": "b76727d6",
   "metadata": {},
   "outputs": [],
   "source": [
    "from collections import Counter\n",
    "import math\n",
    "\n",
    "class Solution:\n",
    "    def numIdenticalPairs(self, nums: List[int]) -> int:\n",
    "        counts = Counter(nums)\n",
    "        ans = 0\n",
    "\n",
    "        for key, value in counts.items():\n",
    "            if value >= 2:\n",
    "                ans += math.comb(value, 2)\n",
    "\n",
    "        return ans\n"
   ]
  },
  {
   "cell_type": "code",
   "execution_count": null,
   "id": "9899db65",
   "metadata": {},
   "outputs": [
    {
     "data": {
      "text/plain": [
       "0"
      ]
     },
     "execution_count": 382,
     "metadata": {},
     "output_type": "execute_result"
    }
   ],
   "source": [
    "# Shortcut: the number of counts existing prior = the number of new pairs that can be made\n",
    "# e.g. the next element is x=6, if we have 2 6s before (6:2), then 2 new pairs can be made with the newly discovered 6\n",
    "\n",
    "nums = [1,2,3,1,1,3]\n",
    "nums = [1,1,1,1]\n",
    "nums = [1,2,3]\n",
    "\n",
    "sol = Solution()\n",
    "sol.numIdenticalPairs(nums)"
   ]
  },
  {
   "cell_type": "markdown",
   "id": "e9cb73cb",
   "metadata": {},
   "source": [
    "## 930. Binary Subarrays With Sum [M]\n",
    "\n",
    "Given a binary array `nums` and an integer `goal`, return the number of non-empty subarrays with a sum `goal`.\n",
    "\n",
    "A subarray is a contiguous part of the array."
   ]
  },
  {
   "cell_type": "code",
   "execution_count": 385,
   "id": "1d5ee874",
   "metadata": {},
   "outputs": [],
   "source": [
    "from collections import defaultdict\n",
    "\n",
    "class Solution:\n",
    "    def numSubarraysWithSum(self, nums: List[int], goal: int) -> int:\n",
    "        counts = defaultdict(int) # prefix sum : freq of instances of this prefix sum\n",
    "        counts[0] = 1\n",
    "        curr = 0\n",
    "        ans = 0\n",
    "\n",
    "        for i in range(0,len(nums)):\n",
    "            curr += nums[i]\n",
    "            ans += counts[curr-goal] # if curr=1 and goal=1, then yes we have seen it because 0 has been seen 1 times (by default)\n",
    "\n",
    "            counts[curr] += 1 # We saw prefix sum curr at index i\n",
    "\n",
    "        return ans\n",
    "\n"
   ]
  },
  {
   "cell_type": "markdown",
   "id": "1aacd3c5",
   "metadata": {},
   "source": [
    "Number of subarrays equal to a specific value: must use a dictionary with prefix sums"
   ]
  },
  {
   "cell_type": "code",
   "execution_count": 387,
   "id": "5b36e18d",
   "metadata": {},
   "outputs": [
    {
     "data": {
      "text/plain": [
       "15"
      ]
     },
     "execution_count": 387,
     "metadata": {},
     "output_type": "execute_result"
    }
   ],
   "source": [
    "nums = [1,0,1,0,1]\n",
    "goal = 2\n",
    "\n",
    "nums = [0,0,0,0,0]\n",
    "goal = 0\n",
    "\n",
    "sol = Solution()\n",
    "sol.numSubarraysWithSum(nums, goal)"
   ]
  },
  {
   "cell_type": "markdown",
   "id": "63074e14",
   "metadata": {},
   "source": [
    "## 1695. Maximum Erasure Value [M]\n",
    "\n",
    "You are given an array of positive integers `nums` and want to erase a subarray containing unique elements. The score you get by erasing the subarray is equal to the sum of its elements.\n",
    "\n",
    "Return the maximum score you can get by erasing exactly one subarray.\n",
    "\n",
    "An array `b` is called to be a subarray of a if it forms a contiguous subsequence of `a`, that is, if it is equal to `a[l],a[l+1],...,a[r]` for some `(l,r)`.\n",
    "\n"
   ]
  },
  {
   "cell_type": "code",
   "execution_count": 412,
   "id": "70d24774",
   "metadata": {},
   "outputs": [],
   "source": [
    "from collections import defaultdict\n",
    "\n",
    "class Solution:\n",
    "    def maximumUniqueSubarray(self, nums: List[int]) -> int:\n",
    "        counts = defaultdict(int)\n",
    "        left = 0\n",
    "        max_score = 0\n",
    "\n",
    "        prefix = [0] * len(nums)\n",
    "        prefix[0] = nums[0]\n",
    "        for i in range(1,len(nums)):\n",
    "            prefix[i] = prefix[i-1] + nums[i]\n",
    "\n",
    "        for right in range(0,len(nums)):\n",
    "            counts[nums[right]] += 1\n",
    "\n",
    "            while counts[nums[right]] > 1: # If freq of new entry > 1, trim from left until satisfied\n",
    "                counts[nums[left]] -= 1\n",
    "                left += 1\n",
    "\n",
    "            max_score = max(max_score, prefix[right]-prefix[left]+nums[left])\n",
    "        \n",
    "        return max_score\n",
    "            "
   ]
  },
  {
   "cell_type": "code",
   "execution_count": null,
   "id": "b329666c",
   "metadata": {},
   "outputs": [
    {
     "data": {
      "text/plain": [
       "8"
      ]
     },
     "execution_count": 413,
     "metadata": {},
     "output_type": "execute_result"
    }
   ],
   "source": [
    "nums = [4,2,4,5,6]\n",
    "nums = [5,2,1,2,5,2,1,2,5]\n",
    "\n",
    "sol = Solution()\n",
    "sol.maximumUniqueSubarray(nums)"
   ]
  },
  {
   "cell_type": "markdown",
   "id": "0bd81845",
   "metadata": {},
   "source": [
    "## 567. Permutation in String [M]\n",
    "\n",
    "Given two strings `s1` and `s2`, return `true` if `s2` contains a permutation of `s1`, or `false` otherwise.\n",
    "\n",
    "In other words, return `true` if one of `s1`'s permutations is the substring of `s2`."
   ]
  },
  {
   "cell_type": "code",
   "execution_count": 432,
   "id": "8e2edafa",
   "metadata": {},
   "outputs": [],
   "source": [
    "from collections import Counter\n",
    "\n",
    "class Solution:\n",
    "    def checkInclusion(self, s1: str, s2: str) -> bool:\n",
    "        c1 = Counter(s1)\n",
    "        n1 = len(s1)\n",
    "        c = 0\n",
    "\n",
    "        while c < len(s2):\n",
    "            if s2[c] in c1:\n",
    "                c2 = Counter(s2[c:c+n1]) # Select length equal to s1 starting at c\n",
    "                if c1 == c2:\n",
    "                    return True\n",
    "\n",
    "            c += 1\n",
    "\n",
    "        return False\n",
    "\n"
   ]
  },
  {
   "cell_type": "code",
   "execution_count": null,
   "id": "c326863d",
   "metadata": {},
   "outputs": [],
   "source": [
    "from collections import Counter\n",
    "\n",
    "class Solution:\n",
    "    def checkInclusion(self, s1: str, s2: str) -> bool:\n",
    "        c1 = Counter(s1)\n",
    "        n1 = len(s1)\n",
    "        c = 0\n",
    "\n",
    "        for c in range(0,len(s2)):\n",
    "            if s2[c] in c1:\n",
    "                c2 = Counter(s2[c:c+n1])\n",
    "                if c1 == c2:\n",
    "                    return True\n",
    "\n",
    "        return False"
   ]
  },
  {
   "cell_type": "code",
   "execution_count": null,
   "id": "9cc11d45",
   "metadata": {},
   "outputs": [],
   "source": [
    "# Faster - Beats 40.5%\n",
    "\n",
    "from collections import Counter\n",
    "\n",
    "class Solution:\n",
    "    def checkInclusion(self, s1: str, s2: str) -> bool:\n",
    "        c1 = Counter(s1)\n",
    "        n1 = len(s1) # =1\n",
    "\n",
    "        c2 = Counter(s2[0:n1]) # initialize with first n1 characters\n",
    "        if c1 == c2:\n",
    "            return True\n",
    "\n",
    "        for right in range(n1,len(s2)):\n",
    "            c2[s2[right]] += 1\n",
    "            c2[s2[right-n1]] -= 1\n",
    "\n",
    "            if c1 == c2:\n",
    "                return True\n",
    "\n",
    "        return False"
   ]
  },
  {
   "cell_type": "code",
   "execution_count": 465,
   "id": "38b2eab2",
   "metadata": {},
   "outputs": [
    {
     "data": {
      "text/plain": [
       "True"
      ]
     },
     "execution_count": 465,
     "metadata": {},
     "output_type": "execute_result"
    }
   ],
   "source": [
    "s1 = \"ab\"\n",
    "s2 = \"eidbaooo\"\n",
    "\n",
    "s1 = \"ab\"\n",
    "s2 = \"eidboaoo\"\n",
    "\n",
    "s1 = \"adc\"\n",
    "s2 = \"dcda\"\n",
    "\n",
    "s1 = \"a\"\n",
    "s2 = \"ab\"\n",
    "\n",
    "sol = Solution()\n",
    "sol.checkInclusion(s1, s2)"
   ]
  },
  {
   "cell_type": "markdown",
   "id": "42df1511",
   "metadata": {},
   "source": [
    "# Bonus: General"
   ]
  },
  {
   "cell_type": "markdown",
   "id": "5bf91319",
   "metadata": {},
   "source": [
    "## 205. Isomorphic Strings [E]\n",
    "\n",
    "Given two strings `s` and `t`, determine if they are isomorphic.\n",
    "\n",
    "Two strings `s` and `t` are isomorphic if the characters in `s` can be replaced to get `t`.\n",
    "\n",
    "All occurrences of a character must be replaced with another character while preserving the order of characters. No two characters may map to the same character, but a character may map to itself."
   ]
  },
  {
   "cell_type": "code",
   "execution_count": null,
   "id": "0ac26d14",
   "metadata": {},
   "outputs": [],
   "source": [
    "# Close but fails if different characters have same frequency\n",
    "\n",
    "from collections import Counter\n",
    "\n",
    "class Solution:\n",
    "    def isIsomorphic(self, s: str, t: str) -> bool:\n",
    "        s_counter = Counter(s)\n",
    "        t_counter = Counter(t)\n",
    "        n = len(s)\n",
    "        if len(t) != n:\n",
    "            return False\n",
    "\n",
    "        s_freq = [''] * n\n",
    "        t_freq = [''] * n\n",
    "        for i in range(0,n):\n",
    "            s_freq[i] = s_counter[s[i]]\n",
    "            t_freq[i] = t_counter[t[i]]\n",
    "\n",
    "        print(s_freq)\n",
    "        print(t_freq)\n",
    "        if s_freq == t_freq:\n",
    "            return True\n",
    "        else:\n",
    "            return False\n"
   ]
  },
  {
   "cell_type": "code",
   "execution_count": null,
   "id": "addef488",
   "metadata": {},
   "outputs": [],
   "source": [
    "# LeetCode user solution\n",
    "\n",
    "class Solution:\n",
    "    def isIsomorphic(self, s: str, t: str) -> bool:\n",
    "        if len(s) != len(t):\n",
    "            return False\n",
    "\n",
    "        mapS2T = {}\n",
    "        mapT2S = {}\n",
    "\n",
    "        for charS, charT in zip(s, t):\n",
    "            # If the character in s already has a mapping, check if it maps to the correct character in t\n",
    "            if charS in mapS2T:\n",
    "                if mapS2T[charS] != charT:\n",
    "                    return False\n",
    "            else:\n",
    "                # If the character in t is already mapped to a different character in s, return false\n",
    "                if charT in mapT2S:\n",
    "                    return False\n",
    "\n",
    "                # Map the characters in s to t and vice versa\n",
    "                mapS2T[charS] = charT\n",
    "                mapT2S[charT] = charS\n",
    "\n",
    "        return True"
   ]
  },
  {
   "cell_type": "code",
   "execution_count": 481,
   "id": "201a72ca",
   "metadata": {},
   "outputs": [
    {
     "name": "stdout",
     "output_type": "stream",
     "text": [
      "[4, 4, 4, 4, 4, 4, 4, 4]\n",
      "[4, 4, 4, 4, 4, 4, 4, 4]\n"
     ]
    },
    {
     "data": {
      "text/plain": [
       "True"
      ]
     },
     "execution_count": 481,
     "metadata": {},
     "output_type": "execute_result"
    }
   ],
   "source": [
    "s = \"egg\"\n",
    "t = \"add\"\n",
    "\n",
    "s = \"foo\"\n",
    "t = \"bar\"\n",
    "\n",
    "s = \"paper\"\n",
    "t = \"title\"\n",
    "\n",
    "s = \"bbbaaaba\"\n",
    "t = \"aaabbbba\"\n",
    "\n",
    "sol = Solution()\n",
    "sol.isIsomorphic(s, t)"
   ]
  },
  {
   "cell_type": "markdown",
   "id": "362f725e",
   "metadata": {},
   "source": [
    "## 290. Word Pattern [E]\n",
    "\n",
    "Given a `pattern` and a string `s`, find if `s` follows the same pattern.\n",
    "\n",
    "Here follow means a full match, such that there is a bijection between a letter in `pattern` and a non-empty word in `s`. Specifically:\n",
    "\n",
    "* Each letter in `pattern` maps to exactly one unique word in `s`.\n",
    "\n",
    "* Each unique word in `s` maps to exactly one letter in `pattern`.\n",
    "\n",
    "* No two letters map to the same word, and no two words map to the same letter."
   ]
  },
  {
   "cell_type": "code",
   "execution_count": null,
   "id": "1af08998",
   "metadata": {},
   "outputs": [],
   "source": [
    "# Gracas a deaus! That was not \"easy\"\n",
    "\n",
    "from collections import defaultdict\n",
    "\n",
    "class Solution:\n",
    "    def wordPattern(self, pattern: str, s: str) -> bool:\n",
    "        s_arr = []\n",
    "        n = len(pattern)\n",
    "\n",
    "        # Convert string to a list of words\n",
    "        last_start = 0\n",
    "        for i, c in enumerate(s): # Reach a space\n",
    "            if c == \" \":\n",
    "                s_arr.append(s[last_start:i])\n",
    "                last_start = i+1\n",
    "            if i == len(s)-1: # Reac last char\n",
    "                s_arr.append(s[last_start:i+1])\n",
    "\n",
    "        # Check for same length\n",
    "        if len(s_arr) != n:\n",
    "            return False\n",
    "\n",
    "        dict_p2s = defaultdict(str)\n",
    "        dict_s2p = defaultdict(str)\n",
    "\n",
    "        for p1, s1 in zip(pattern,s_arr):\n",
    "\n",
    "            if p1 in dict_p2s:\n",
    "                if dict_p2s[p1] != s1: # If maps to different value that previously assigned\n",
    "                    return False\n",
    "                \n",
    "            if s1 in dict_s2p:\n",
    "                if dict_s2p[s1] != p1: # Redundant, but makes it clear\n",
    "                    return False\n",
    "\n",
    "            dict_p2s[p1] = s1\n",
    "            dict_s2p[s1] = p1\n",
    "\n",
    "        return True\n"
   ]
  },
  {
   "cell_type": "code",
   "execution_count": null,
   "id": "d6f09d94",
   "metadata": {},
   "outputs": [
    {
     "data": {
      "text/plain": [
       "False"
      ]
     },
     "execution_count": 496,
     "metadata": {},
     "output_type": "execute_result"
    }
   ],
   "source": [
    "pattern = \"abba\"\n",
    "s = \"dog cat cat dog\"\n",
    "\n",
    "pattern = \"abba\"\n",
    "s = \"dog cat cat fish\"\n",
    "\n",
    "pattern = \"aaaa\"\n",
    "s = \"dog cat cat dog\"\n",
    "\n",
    "sol = Solution()\n",
    "sol.wordPattern(pattern, s)"
   ]
  },
  {
   "cell_type": "markdown",
   "id": "70e282f9",
   "metadata": {},
   "source": [
    "## 791. Custom Sort String [M]\n",
    "\n",
    "You are given two strings `order` and `s`. All the characters of `order` are unique and were sorted in some custom order previously.\n",
    "\n",
    "Permute the characters of `s` so that they match the order that order was sorted. More specifically, if a character `x` occurs before a character `y` in `order`, then `x` should occur before `y` in the permuted string.\n",
    "\n",
    "Return any permutation of `s` that satisfies this property."
   ]
  },
  {
   "cell_type": "code",
   "execution_count": null,
   "id": "0c7c0c75",
   "metadata": {},
   "outputs": [],
   "source": [
    "from collections import defaultdict, Counter\n",
    "\n",
    "class Solution:\n",
    "    def customSortString(self, order: str, s: str) -> str:\n",
    "        dict_s = Counter(s)\n",
    "        ans = []\n",
    "\n",
    "        # Add chars from s present in order\n",
    "        for c in order:\n",
    "            if c in dict_s:\n",
    "                ans.append(c * dict_s[c]) # c * frequency\n",
    "                del dict_s[c]\n",
    "\n",
    "        # Add chars from s not present in order\n",
    "        for key, value in dict_s.items():\n",
    "            ans.append(key * value)\n",
    "\n",
    "        return ''.join(ans)\n"
   ]
  },
  {
   "cell_type": "code",
   "execution_count": 505,
   "id": "555d5d9d",
   "metadata": {},
   "outputs": [
    {
     "data": {
      "text/plain": [
       "'bcad'"
      ]
     },
     "execution_count": 505,
     "metadata": {},
     "output_type": "execute_result"
    }
   ],
   "source": [
    "order = \"cba\"\n",
    "s = \"abcd\"\n",
    "\n",
    "order = \"bcafg\"\n",
    "s = \"abcd\"\n",
    "\n",
    "sol = Solution()\n",
    "sol.customSortString(order, s)"
   ]
  },
  {
   "cell_type": "markdown",
   "id": "a21e11f4",
   "metadata": {},
   "source": [
    "## 1657. Determine if Two Strings Are Close [M]\n",
    "\n",
    "Two strings are considered close if you can attain one from the other using the following operations:\n",
    "\n",
    "* Operation 1: Swap any two existing characters.\n",
    "\n",
    " * For example, `abcde -> aecdb`\n",
    "\n",
    "* Operation 2: Transform every occurrence of one existing character into another existing character, and do the same with the other character.\n",
    "\n",
    " * For example, `aacabb -> bbcbaa` (all `a`'s turn into `b`'s, and all `b`'s turn into `a`'s)\n",
    "\n",
    "You can use the operations on either string as many times as necessary.\n",
    "\n",
    "Given two strings, `word1` and `word2`, return `true` if `word1` and `word2` are close, and `false` otherwise."
   ]
  },
  {
   "cell_type": "code",
   "execution_count": 14,
   "id": "2ef795f4",
   "metadata": {},
   "outputs": [],
   "source": [
    "from collections import Counter\n",
    "\n",
    "class Solution:\n",
    "    def closeStrings(self, word1: str, word2: str) -> bool:\n",
    "        counts1 = Counter(word1)\n",
    "        counts2 = Counter(word2)\n",
    "\n",
    "        freq1 = sorted(list(counts1.values()))\n",
    "        freq2 = sorted(list(counts2.values()))\n",
    "\n",
    "        char1 = sorted(list(counts1.keys()))\n",
    "        char2 = sorted(list(counts2.keys()))\n",
    "\n",
    "        if freq1 == freq2 and char1 == char2:\n",
    "            return True\n",
    "        else:\n",
    "            return False\n",
    "\n"
   ]
  },
  {
   "cell_type": "code",
   "execution_count": null,
   "id": "2860a889",
   "metadata": {},
   "outputs": [
    {
     "data": {
      "text/plain": [
       "True"
      ]
     },
     "execution_count": 17,
     "metadata": {},
     "output_type": "execute_result"
    }
   ],
   "source": [
    "word1 = \"abc\"\n",
    "word2 = \"bca\"\n",
    "\n",
    "word1 = \"a\"\n",
    "word2 = \"aa\"\n",
    "\n",
    "word1 = \"cabbba\"\n",
    "word2 = \"abbccc\"\n",
    "\n",
    "word1 = \"uau\" # uua could be done if u->s and s->u, so list of unique characters in each string must be same\n",
    "word2 = \"ssx\" # ssx\n",
    "\n",
    "sol = Solution()\n",
    "sol.closeStrings(word1, word2)\n"
   ]
  },
  {
   "cell_type": "markdown",
   "id": "53688998",
   "metadata": {},
   "source": [
    "# Extra"
   ]
  },
  {
   "cell_type": "markdown",
   "id": "94624c2e",
   "metadata": {},
   "source": [
    "## 767. Reorganize String [M]\n",
    "\n",
    "Given a string `s`, rearrange the characters of `s` so that any two adjacent characters are not the same.\n",
    "\n",
    "Return any possible rearrangement of `s` or return `\"\"` if not possible.\n"
   ]
  },
  {
   "cell_type": "code",
   "execution_count": 18,
   "id": "d7248f61",
   "metadata": {},
   "outputs": [],
   "source": [
    "from collections import Counter\n",
    "\n",
    "class Solution:\n",
    "    def reorganizeString(self, s: str) -> str:\n",
    "        counts = Counter(s)\n",
    "\n",
    "        # For the highest frequency character with frequency f there must be at minimum f-1 other charcters in the string \n",
    "\n",
    "        max_freq = max(counts.values())\n",
    "        max_freq_counter = 0\n",
    "\n",
    "        for key, value in counts.items():\n",
    "            if value == max_freq:\n",
    "                max_freq_counter += 1\n",
    "                if max_freq_counter == 2:\n",
    "                    return True\n",
    "\n",
    "        # Else max_freq_counter == 1\n",
    "        non_max_freq_sum = len(s) - max_freq\n",
    "        if max_freq <= non_max_freq_sum + 1:\n",
    "            return True\n",
    "        else:\n",
    "            return False\n",
    "\n"
   ]
  },
  {
   "cell_type": "code",
   "execution_count": null,
   "id": "a129741a",
   "metadata": {},
   "outputs": [],
   "source": [
    "from collections import Counter\n",
    "\n",
    "class Solution:\n",
    "    def reorganizeString(self, s: str) -> str:\n",
    "        counts = Counter(s)\n",
    "\n",
    "        last_char = \"\"\n",
    "        ans = []\n",
    "\n",
    "        ordered_freq = sorted(list(counts.values()))\n",
    "\n",
    "        # for key, value in counts.items():\n",
    "\n",
    "\n",
    "\n",
    "        return ''.join(ans)"
   ]
  },
  {
   "cell_type": "code",
   "execution_count": 20,
   "id": "9ead3acc",
   "metadata": {},
   "outputs": [
    {
     "data": {
      "text/plain": [
       "False"
      ]
     },
     "execution_count": 20,
     "metadata": {},
     "output_type": "execute_result"
    }
   ],
   "source": [
    "s = \"aab\"\n",
    "s = \"aaab\"\n",
    "\n",
    "sol = Solution()\n",
    "sol.reorganizeString(s)"
   ]
  }
 ],
 "metadata": {
  "kernelspec": {
   "display_name": "LeetCode",
   "language": "python",
   "name": "python3"
  },
  "language_info": {
   "codemirror_mode": {
    "name": "ipython",
    "version": 3
   },
   "file_extension": ".py",
   "mimetype": "text/x-python",
   "name": "python",
   "nbconvert_exporter": "python",
   "pygments_lexer": "ipython3",
   "version": "3.11.9"
  }
 },
 "nbformat": 4,
 "nbformat_minor": 5
}
